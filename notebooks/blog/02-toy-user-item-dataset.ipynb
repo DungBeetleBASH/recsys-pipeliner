{
 "cells": [
  {
   "cell_type": "code",
   "execution_count": 53,
   "metadata": {},
   "outputs": [
    {
     "name": "stdout",
     "output_type": "stream",
     "text": [
      "The autoreload extension is already loaded. To reload it, use:\n",
      "  %reload_ext autoreload\n"
     ]
    }
   ],
   "source": [
    "%load_ext autoreload\n",
    "%autoreload 2"
   ]
  },
  {
   "cell_type": "code",
   "execution_count": 54,
   "metadata": {},
   "outputs": [],
   "source": [
    "import pandas as pd\n",
    "import numpy as np\n",
    "from sklearn.preprocessing import LabelEncoder\n",
    "from matspy import spy\n",
    "import json\n",
    "from pipeliner.recommendations.transformer import (\n",
    "    UserItemMatrixTransformer,\n",
    "    SimilarityTransformer,\n",
    ")\n",
    "from pipeliner.recommendations.recommender import SimilarityRecommender, UserBasedRecommender\n"
   ]
  },
  {
   "cell_type": "code",
   "execution_count": 55,
   "metadata": {},
   "outputs": [],
   "source": [
    "with open(\"../../tests/test_data/recommendations_toy.json\", \"r\") as f:\n",
    "    recommendations_toy = json.load(f)\n",
    "\n",
    "recommendations_toy_probs = np.load(\"../../tests/test_data/recommendations_toy_probs.npy\").astype(np.float32).round(6)"
   ]
  },
  {
   "cell_type": "code",
   "execution_count": 56,
   "metadata": {},
   "outputs": [
    {
     "name": "stdout",
     "output_type": "stream",
     "text": [
      "(18, 3)\n"
     ]
    },
    {
     "data": {
      "text/html": [
       "<div>\n",
       "<style scoped>\n",
       "    .dataframe tbody tr th:only-of-type {\n",
       "        vertical-align: middle;\n",
       "    }\n",
       "\n",
       "    .dataframe tbody tr th {\n",
       "        vertical-align: top;\n",
       "    }\n",
       "\n",
       "    .dataframe thead th {\n",
       "        text-align: right;\n",
       "    }\n",
       "</style>\n",
       "<table border=\"1\" class=\"dataframe\">\n",
       "  <thead>\n",
       "    <tr style=\"text-align: right;\">\n",
       "      <th></th>\n",
       "      <th>user_id</th>\n",
       "      <th>item_id</th>\n",
       "      <th>rating</th>\n",
       "    </tr>\n",
       "  </thead>\n",
       "  <tbody>\n",
       "    <tr>\n",
       "      <th>0</th>\n",
       "      <td>U00001</td>\n",
       "      <td>I00001</td>\n",
       "      <td>1.0</td>\n",
       "    </tr>\n",
       "    <tr>\n",
       "      <th>1</th>\n",
       "      <td>U00001</td>\n",
       "      <td>I00002</td>\n",
       "      <td>0.5</td>\n",
       "    </tr>\n",
       "    <tr>\n",
       "      <th>2</th>\n",
       "      <td>U00001</td>\n",
       "      <td>I00003</td>\n",
       "      <td>0.5</td>\n",
       "    </tr>\n",
       "  </tbody>\n",
       "</table>\n",
       "</div>"
      ],
      "text/plain": [
       "  user_id item_id  rating\n",
       "0  U00001  I00001     1.0\n",
       "1  U00001  I00002     0.5\n",
       "2  U00001  I00003     0.5"
      ]
     },
     "execution_count": 56,
     "metadata": {},
     "output_type": "execute_result"
    }
   ],
   "source": [
    "user_item_ratings_df = pd.read_csv(\n",
    "        \"../../tests/test_data/user_item_ratings_toy.csv\",\n",
    "        dtype={\"user_id\": str, \"item_id\": str, \"rating\": np.float32},\n",
    "        header=0,\n",
    "    )\n",
    "print(user_item_ratings_df.shape)\n",
    "user_item_ratings_df.head(3)"
   ]
  },
  {
   "cell_type": "code",
   "execution_count": 57,
   "metadata": {},
   "outputs": [
    {
     "name": "stdout",
     "output_type": "stream",
     "text": [
      "6 6\n"
     ]
    },
    {
     "data": {
      "text/html": [
       "<div>\n",
       "<style scoped>\n",
       "    .dataframe tbody tr th:only-of-type {\n",
       "        vertical-align: middle;\n",
       "    }\n",
       "\n",
       "    .dataframe tbody tr th {\n",
       "        vertical-align: top;\n",
       "    }\n",
       "\n",
       "    .dataframe thead th {\n",
       "        text-align: right;\n",
       "    }\n",
       "</style>\n",
       "<table border=\"1\" class=\"dataframe\">\n",
       "  <thead>\n",
       "    <tr style=\"text-align: right;\">\n",
       "      <th></th>\n",
       "      <th>user_id</th>\n",
       "      <th>item_id</th>\n",
       "      <th>rating</th>\n",
       "    </tr>\n",
       "  </thead>\n",
       "  <tbody>\n",
       "    <tr>\n",
       "      <th>0</th>\n",
       "      <td>0</td>\n",
       "      <td>0</td>\n",
       "      <td>1.0</td>\n",
       "    </tr>\n",
       "    <tr>\n",
       "      <th>1</th>\n",
       "      <td>0</td>\n",
       "      <td>1</td>\n",
       "      <td>0.5</td>\n",
       "    </tr>\n",
       "    <tr>\n",
       "      <th>2</th>\n",
       "      <td>0</td>\n",
       "      <td>2</td>\n",
       "      <td>0.5</td>\n",
       "    </tr>\n",
       "  </tbody>\n",
       "</table>\n",
       "</div>"
      ],
      "text/plain": [
       "   user_id  item_id  rating\n",
       "0        0        0     1.0\n",
       "1        0        1     0.5\n",
       "2        0        2     0.5"
      ]
     },
     "execution_count": 57,
     "metadata": {},
     "output_type": "execute_result"
    }
   ],
   "source": [
    "# encode the user and item ids\n",
    "user_encoder = LabelEncoder()\n",
    "item_encoder = LabelEncoder()\n",
    "\n",
    "user_item_ratings_encoded = user_item_ratings_df.copy() \n",
    "\n",
    "user_item_ratings_encoded[\"user_id\"] = user_encoder.fit_transform(user_item_ratings_encoded[\"user_id\"])\n",
    "user_item_ratings_encoded[\"item_id\"] = item_encoder.fit_transform(user_item_ratings_encoded[\"item_id\"])\n",
    "\n",
    "user_item_ratings = user_item_ratings_encoded.to_numpy().astype(np.float32)\n",
    "\n",
    "unique_users = pd.Series(user_encoder.classes_)\n",
    "unique_items = pd.Series(item_encoder.classes_)\n",
    "\n",
    "print(unique_users.shape[0], unique_items.shape[0])\n",
    "user_item_ratings_encoded.head(3)"
   ]
  },
  {
   "cell_type": "code",
   "execution_count": 58,
   "metadata": {},
   "outputs": [
    {
     "data": {
      "text/html": [
       "<div>\n",
       "<style scoped>\n",
       "    .dataframe tbody tr th:only-of-type {\n",
       "        vertical-align: middle;\n",
       "    }\n",
       "\n",
       "    .dataframe tbody tr th {\n",
       "        vertical-align: top;\n",
       "    }\n",
       "\n",
       "    .dataframe thead th {\n",
       "        text-align: right;\n",
       "    }\n",
       "</style>\n",
       "<table border=\"1\" class=\"dataframe\">\n",
       "  <thead>\n",
       "    <tr style=\"text-align: right;\">\n",
       "      <th></th>\n",
       "      <th>I00001</th>\n",
       "      <th>I00002</th>\n",
       "      <th>I00003</th>\n",
       "      <th>I00004</th>\n",
       "      <th>I00005</th>\n",
       "      <th>I00006</th>\n",
       "    </tr>\n",
       "    <tr>\n",
       "      <th>user_id</th>\n",
       "      <th></th>\n",
       "      <th></th>\n",
       "      <th></th>\n",
       "      <th></th>\n",
       "      <th></th>\n",
       "      <th></th>\n",
       "    </tr>\n",
       "  </thead>\n",
       "  <tbody>\n",
       "    <tr>\n",
       "      <th>U00001</th>\n",
       "      <td>1.0</td>\n",
       "      <td>0.5</td>\n",
       "      <td>0.5</td>\n",
       "      <td>0.0</td>\n",
       "      <td>0.0</td>\n",
       "      <td>0.0</td>\n",
       "    </tr>\n",
       "    <tr>\n",
       "      <th>U00002</th>\n",
       "      <td>0.0</td>\n",
       "      <td>1.0</td>\n",
       "      <td>0.5</td>\n",
       "      <td>0.5</td>\n",
       "      <td>0.0</td>\n",
       "      <td>0.0</td>\n",
       "    </tr>\n",
       "    <tr>\n",
       "      <th>U00003</th>\n",
       "      <td>0.0</td>\n",
       "      <td>0.0</td>\n",
       "      <td>1.0</td>\n",
       "      <td>0.5</td>\n",
       "      <td>0.5</td>\n",
       "      <td>0.0</td>\n",
       "    </tr>\n",
       "    <tr>\n",
       "      <th>U00004</th>\n",
       "      <td>0.0</td>\n",
       "      <td>0.0</td>\n",
       "      <td>0.0</td>\n",
       "      <td>1.0</td>\n",
       "      <td>0.5</td>\n",
       "      <td>0.5</td>\n",
       "    </tr>\n",
       "    <tr>\n",
       "      <th>U00005</th>\n",
       "      <td>0.5</td>\n",
       "      <td>0.0</td>\n",
       "      <td>0.0</td>\n",
       "      <td>0.0</td>\n",
       "      <td>1.0</td>\n",
       "      <td>0.5</td>\n",
       "    </tr>\n",
       "    <tr>\n",
       "      <th>U00006</th>\n",
       "      <td>0.5</td>\n",
       "      <td>0.5</td>\n",
       "      <td>0.0</td>\n",
       "      <td>0.0</td>\n",
       "      <td>0.0</td>\n",
       "      <td>1.0</td>\n",
       "    </tr>\n",
       "  </tbody>\n",
       "</table>\n",
       "</div>"
      ],
      "text/plain": [
       "         I00001  I00002  I00003  I00004  I00005  I00006\n",
       "user_id                                                \n",
       "U00001      1.0     0.5     0.5     0.0     0.0     0.0\n",
       "U00002      0.0     1.0     0.5     0.5     0.0     0.0\n",
       "U00003      0.0     0.0     1.0     0.5     0.5     0.0\n",
       "U00004      0.0     0.0     0.0     1.0     0.5     0.5\n",
       "U00005      0.5     0.0     0.0     0.0     1.0     0.5\n",
       "U00006      0.5     0.5     0.0     0.0     0.0     1.0"
      ]
     },
     "execution_count": 58,
     "metadata": {},
     "output_type": "execute_result"
    }
   ],
   "source": [
    "# fixed datasets with known values for validation\n",
    "\n",
    "user_item_matrix_toy = pd.read_csv(\n",
    "        \"../../tests/test_data/user_item_matrix_toy.csv\",\n",
    "        header=0,\n",
    "        index_col=['user_id'],\n",
    "    ).astype(np.float32)\n",
    "\n",
    "item_similarity_matrix_toy = pd.read_csv(\n",
    "    \"../../tests/test_data/item_similarity_matrix_toy.csv\",\n",
    "    header=0,\n",
    "    index_col=[\"item_id\"],\n",
    ").astype(np.float32)\n",
    "\n",
    "user_similarity_matrix_toy = pd.read_csv(\n",
    "    \"../../tests/test_data/user_similarity_matrix_toy.csv\",\n",
    "    header=0,\n",
    "    index_col=[\"user_id\"],\n",
    ").astype(np.float32)\n",
    "\n",
    "user_item_matrix_toy"
   ]
  },
  {
   "cell_type": "code",
   "execution_count": 59,
   "metadata": {},
   "outputs": [],
   "source": [
    "user_item_matrix_transformer = UserItemMatrixTransformer()\n",
    "user_item_matrix = user_item_matrix_transformer.transform(user_item_ratings)\n",
    "\n",
    "assert user_item_matrix.shape == user_item_matrix_toy.shape\n",
    "np.testing.assert_array_equal(\n",
    "    user_item_matrix.toarray(), \n",
    "    user_item_matrix_toy.to_numpy(),\n",
    ")"
   ]
  },
  {
   "cell_type": "code",
   "execution_count": 60,
   "metadata": {},
   "outputs": [
    {
     "data": {
      "image/png": "[encoded data removed]",
      "text/plain": [
       "<Figure size 70.8526x90.6122 with 1 Axes>"
      ]
     },
     "metadata": {},
     "output_type": "display_data"
    }
   ],
   "source": [
    "item_similarity_matrix_transformer =  SimilarityTransformer()\n",
    "item_similarity_matrix = item_similarity_matrix_transformer.transform(user_item_matrix.T)\n",
    "\n",
    "assert item_similarity_matrix.shape == item_similarity_matrix_toy.shape\n",
    "np.testing.assert_array_equal(\n",
    "    item_similarity_matrix.toarray().astype(np.float32).round(6),\n",
    "    item_similarity_matrix_toy.to_numpy().astype(np.float32).round(6),\n",
    ")\n",
    "\n",
    "spy(item_similarity_matrix)"
   ]
  },
  {
   "cell_type": "code",
   "execution_count": 61,
   "metadata": {},
   "outputs": [],
   "source": [
    "user_similarity_matrix_transformer =  SimilarityTransformer()\n",
    "user_similarity_matrix = user_similarity_matrix_transformer.transform(user_item_matrix)\n",
    "\n",
    "assert user_similarity_matrix.shape == user_similarity_matrix_toy.shape\n",
    "np.testing.assert_array_equal(\n",
    "    user_similarity_matrix.toarray().astype(np.float32).round(6),\n",
    "    user_similarity_matrix_toy.to_numpy().astype(np.float32).round(6),\n",
    ")"
   ]
  },
  {
   "cell_type": "code",
   "execution_count": 62,
   "metadata": {},
   "outputs": [
    {
     "data": {
      "text/plain": [
       "([['I00002', 'I00006', 'I00003', 'I00005'],\n",
       "  ['I00001', 'I00003', 'I00004', 'I00006'],\n",
       "  ['I00002', 'I00004', 'I00001', 'I00005'],\n",
       "  ['I00003', 'I00005', 'I00002', 'I00006'],\n",
       "  ['I00004', 'I00006', 'I00001', 'I00003'],\n",
       "  ['I00001', 'I00005', 'I00002', 'I00004']],\n",
       " array([[1.      , 0.5     , 0.333333, 0.      , 0.333333, 0.5     ],\n",
       "        [0.5     , 1.      , 0.5     , 0.333333, 0.      , 0.333333],\n",
       "        [0.333333, 0.5     , 1.      , 0.5     , 0.333333, 0.      ],\n",
       "        [0.      , 0.333333, 0.5     , 1.      , 0.5     , 0.333333],\n",
       "        [0.333333, 0.      , 0.333333, 0.5     , 1.      , 0.5     ],\n",
       "        [0.5     , 0.333333, 0.      , 0.333333, 0.5     , 1.      ]],\n",
       "       dtype=float32))"
      ]
     },
     "execution_count": 62,
     "metadata": {},
     "output_type": "execute_result"
    }
   ],
   "source": [
    "item_ids = ['I00001', 'I00002', 'I00003', 'I00004', 'I00005', 'I00006']\n",
    "item_ids_encoded = item_encoder.transform(item_ids)\n",
    "\n",
    "item_similarity_matrix_dense = item_similarity_matrix.toarray()\n",
    "\n",
    "rec = SimilarityRecommender(10)\n",
    "rec.fit(item_similarity_matrix)\n",
    "item_recs = rec.predict(item_ids_encoded)\n",
    "\n",
    "results = [item_encoder.inverse_transform(item).tolist() for item in item_recs]\n",
    "\n",
    "for item_id, item_id_encoded, result in zip(item_ids, item_ids_encoded, results):\n",
    "    np.testing.assert_array_equal(recommendations_toy[item_id], result)\n",
    "\n",
    "item_probs = rec.predict_proba(item_ids_encoded).toarray().astype(np.float32).round(6)\n",
    "np.testing.assert_array_equal(item_probs, recommendations_toy_probs)\n",
    "\n",
    "results, item_probs"
   ]
  },
  {
   "cell_type": "code",
   "execution_count": 63,
   "metadata": {},
   "outputs": [
    {
     "data": {
      "text/plain": [
       "((6, 6), (6, 6))"
      ]
     },
     "execution_count": 63,
     "metadata": {},
     "output_type": "execute_result"
    }
   ],
   "source": [
    "user_rec = UserBasedRecommender(n=5, n_users=10)\n",
    "user_rec.fit(user_item_matrix)\n",
    "\n",
    "item_similarity_matrix_transformer = SimilarityTransformer()\n",
    "item_similarity_matrix = item_similarity_matrix_transformer.transform(\n",
    "    user_item_matrix.T\n",
    ")\n",
    "\n",
    "user_similarity_matrix.shape, item_similarity_matrix.shape"
   ]
  },
  {
   "cell_type": "code",
   "execution_count": 77,
   "metadata": {},
   "outputs": [
    {
     "name": "stdout",
     "output_type": "stream",
     "text": [
      "U00001 0\n"
     ]
    },
    {
     "data": {
      "text/plain": [
       "(array([[False,  True,  True, False,  True,  True]]),\n",
       " array([[0, 1, 5, 2, 4, 3]]),\n",
       " array([[False,  True,  True,  True,  True, False]]),\n",
       " array([1, 5, 2, 4]),\n",
       " array([[1],\n",
       "        [2],\n",
       "        [4],\n",
       "        [5]]))"
      ]
     },
     "execution_count": 77,
     "metadata": {},
     "output_type": "execute_result"
    }
   ],
   "source": [
    "# get similar users numpy implementation\n",
    "user_id = \"U00001\"\n",
    "user_id_encoded = user_encoder.transform([user_id])[0]\n",
    "\n",
    "print(user_id, user_id_encoded)\n",
    "\n",
    "users_items = user_similarity_matrix[user_id_encoded].toarray() # can't seem to avoid this\n",
    "\n",
    "user_mask = (users_items > 0) * (np.arange(users_items.size) != user_id_encoded)\n",
    "sorter = np.argsort(1 - users_items, kind=\"stable\")\n",
    "sorted_mask = user_mask[0, sorter]\n",
    "similar_users = sorter[sorted_mask][: 10]\n",
    "\n",
    "user_mask, sorter, sorted_mask, similar_users, np.argwhere(user_mask[0])"
   ]
  },
  {
   "cell_type": "code",
   "execution_count": 65,
   "metadata": {},
   "outputs": [
    {
     "name": "stdout",
     "output_type": "stream",
     "text": [
      "(4, 6)\n"
     ]
    },
    {
     "data": {
      "text/plain": [
       "array([[0.5, 1. , 0. , 0. , 0. , 0.5],\n",
       "       [0. , 0. , 0. , 0.5, 0.5, 1. ],\n",
       "       [0.5, 0.5, 1. , 0. , 0. , 0. ],\n",
       "       [0. , 0. , 0.5, 0.5, 1. , 0. ]], dtype=float32)"
      ]
     },
     "execution_count": 65,
     "metadata": {},
     "output_type": "execute_result"
    }
   ],
   "source": [
    "# get recommendations for similar users\n",
    "similar_users_user_item_matrix = user_item_matrix.T[similar_users]\n",
    "\n",
    "print(similar_users_user_item_matrix.shape)\n",
    "\n",
    "similar_users_user_item_matrix.toarray()"
   ]
  },
  {
   "cell_type": "code",
   "execution_count": 66,
   "metadata": {},
   "outputs": [
    {
     "data": {
      "text/plain": [
       "array([[ True,  True,  True, False, False, False]])"
      ]
     },
     "execution_count": 66,
     "metadata": {},
     "output_type": "execute_result"
    }
   ],
   "source": [
    "# get a list of items to exclude (the user has rated these)\n",
    "exclusions = user_item_matrix[user_id_encoded] > 0\n",
    "exclusions.toarray()"
   ]
  }
 ],
 "metadata": {
  "kernelspec": {
   "display_name": "pipeliner",
   "language": "python",
   "name": "python3"
  },
  "language_info": {
   "codemirror_mode": {
    "name": "ipython",
    "version": 3
   },
   "file_extension": ".py",
   "mimetype": "text/x-python",
   "name": "python",
   "nbconvert_exporter": "python",
   "pygments_lexer": "ipython3",
   "version": "3.11.9"
  }
 },
 "nbformat": 4,
 "nbformat_minor": 2
}
