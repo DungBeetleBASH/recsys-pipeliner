{
 "cells": [
  {
   "cell_type": "code",
   "execution_count": 39,
   "id": "d571dcaf",
   "metadata": {},
   "outputs": [
    {
     "name": "stdout",
     "output_type": "stream",
     "text": [
      "Evaluating RMSE, MSE, MAE of algorithm SVD on 3 split(s).\n",
      "\n",
      "                  Fold 1  Fold 2  Fold 3  Mean    Std     \n",
      "RMSE (testset)    0.9428  0.9454  0.9438  0.9440  0.0011  \n",
      "MSE (testset)     0.8888  0.8939  0.8907  0.8911  0.0021  \n",
      "MAE (testset)     0.7439  0.7455  0.7453  0.7449  0.0007  \n",
      "Fit time          0.50    0.49    0.47    0.48    0.01    \n",
      "Test time         0.12    0.12    0.12    0.12    0.00    \n"
     ]
    },
    {
     "data": {
      "text/plain": [
       "{'test_rmse': array([0.94278482, 0.94544952, 0.94377048]),\n",
       " 'test_mse': array([0.88884321, 0.8938748 , 0.89070272]),\n",
       " 'test_mae': array([0.74385613, 0.74548957, 0.74525875]),\n",
       " 'fit_time': (0.5007278919219971, 0.48601698875427246, 0.4671149253845215),\n",
       " 'test_time': (0.11835694313049316, 0.11984610557556152, 0.12009882926940918)}"
      ]
     },
     "execution_count": 39,
     "metadata": {},
     "output_type": "execute_result"
    }
   ],
   "source": [
    "from surprise import SVD\n",
    "from surprise import Dataset, NormalPredictor, Reader\n",
    "from surprise.model_selection import cross_validate\n",
    "import pandas as pd\n",
    "import numpy as np\n",
    "from IPython.display import display\n",
    "pd.options.display.float_format = \"{:.4f}\".format\n",
    "\n",
    "# Load the movielens-100k dataset (download it if needed).\n",
    "data = Dataset.load_builtin(\"ml-100k\")\n",
    "\n",
    "# Run 5-fold cross-validation and print results.\n",
    "cross_validate(SVD(), data, measures=[\"RMSE\", \"MSE\", \"MAE\"], cv=3, verbose=True)\n"
   ]
  },
  {
   "cell_type": "code",
   "execution_count": 40,
   "id": "9759c7a0",
   "metadata": {},
   "outputs": [
    {
     "name": "stdout",
     "output_type": "stream",
     "text": [
      "(1522154, 3)\n"
     ]
    },
    {
     "data": {
      "text/html": [
       "<div>\n",
       "<style scoped>\n",
       "    .dataframe tbody tr th:only-of-type {\n",
       "        vertical-align: middle;\n",
       "    }\n",
       "\n",
       "    .dataframe tbody tr th {\n",
       "        vertical-align: top;\n",
       "    }\n",
       "\n",
       "    .dataframe thead th {\n",
       "        text-align: right;\n",
       "    }\n",
       "</style>\n",
       "<table border=\"1\" class=\"dataframe\">\n",
       "  <thead>\n",
       "    <tr style=\"text-align: right;\">\n",
       "      <th></th>\n",
       "      <th>user_id</th>\n",
       "      <th>item_id</th>\n",
       "      <th>rating</th>\n",
       "    </tr>\n",
       "  </thead>\n",
       "  <tbody>\n",
       "    <tr>\n",
       "      <th>0</th>\n",
       "      <td>U000003</td>\n",
       "      <td>I00037925</td>\n",
       "      <td>0.6100</td>\n",
       "    </tr>\n",
       "    <tr>\n",
       "      <th>1</th>\n",
       "      <td>U000003</td>\n",
       "      <td>I00189384</td>\n",
       "      <td>0.6100</td>\n",
       "    </tr>\n",
       "    <tr>\n",
       "      <th>2</th>\n",
       "      <td>U000003</td>\n",
       "      <td>I00256366</td>\n",
       "      <td>0.6100</td>\n",
       "    </tr>\n",
       "  </tbody>\n",
       "</table>\n",
       "</div>"
      ],
      "text/plain": [
       "   user_id    item_id  rating\n",
       "0  U000003  I00037925  0.6100\n",
       "1  U000003  I00189384  0.6100\n",
       "2  U000003  I00256366  0.6100"
      ]
     },
     "metadata": {},
     "output_type": "display_data"
    }
   ],
   "source": [
    "data_types = {\"user_id\": str, \"item_id\": str, \"rating\": np.float64}\n",
    "user_item_ratings_df = pd.read_csv(\n",
    "    \"./data/usable_user_item_ratings_prepared.csv.gz\",\n",
    "    compression=\"gzip\",\n",
    "    dtype=data_types,\n",
    ")\n",
    "print(user_item_ratings_df.shape)\n",
    "max_rating = user_item_ratings_df.rating.max()\n",
    "min_rating = user_item_ratings_df.rating.min()\n",
    "display(user_item_ratings_df.head(3))"
   ]
  },
  {
   "cell_type": "code",
   "execution_count": 41,
   "id": "823077fd",
   "metadata": {},
   "outputs": [
    {
     "name": "stdout",
     "output_type": "stream",
     "text": [
      "Evaluating RMSE, MSE, MAE of algorithm SVD on 3 split(s).\n",
      "\n",
      "                  Fold 1  Fold 2  Fold 3  Mean    Std     \n",
      "RMSE (testset)    0.0974  0.0973  0.0976  0.0974  0.0001  \n",
      "MSE (testset)     0.0095  0.0095  0.0095  0.0095  0.0000  \n",
      "MAE (testset)     0.0685  0.0684  0.0686  0.0685  0.0001  \n",
      "Fit time          18.47   18.16   18.66   18.43   0.20    \n",
      "Test time         3.67    3.11    3.51    3.43    0.24    \n"
     ]
    },
    {
     "data": {
      "text/plain": [
       "{'test_rmse': array([0.09740225, 0.09729641, 0.09757146]),\n",
       " 'test_mse': array([0.0094872 , 0.00946659, 0.00952019]),\n",
       " 'test_mae': array([0.06846195, 0.06843257, 0.0686222 ]),\n",
       " 'fit_time': (18.469423055648804, 18.16381001472473, 18.66159415245056),\n",
       " 'test_time': (3.6705398559570312, 3.1078100204467773, 3.513416051864624)}"
      ]
     },
     "execution_count": 41,
     "metadata": {},
     "output_type": "execute_result"
    }
   ],
   "source": [
    "# A reader is still needed but only the rating_scale param is required.\n",
    "reader = Reader(rating_scale=(min_rating, max_rating))\n",
    "\n",
    "# The columns must correspond to user id, item id and ratings (in that order).\n",
    "data = Dataset.load_from_df(\n",
    "    user_item_ratings_df[[\"user_id\", \"item_id\", \"rating\"]], reader\n",
    ")\n",
    "\n",
    "# We can now use this dataset as we please, e.g. calling cross_validate\n",
    "cross_validate(SVD(), data, measures=[\"RMSE\", \"MSE\", \"MAE\"], cv=3, verbose=True)\n"
   ]
  }
 ],
 "metadata": {
  "kernelspec": {
   "display_name": "pipeliner",
   "language": "python",
   "name": "python3"
  },
  "language_info": {
   "codemirror_mode": {
    "name": "ipython",
    "version": 3
   },
   "file_extension": ".py",
   "mimetype": "text/x-python",
   "name": "python",
   "nbconvert_exporter": "python",
   "pygments_lexer": "ipython3",
   "version": "3.11.9"
  }
 },
 "nbformat": 4,
 "nbformat_minor": 5
}
