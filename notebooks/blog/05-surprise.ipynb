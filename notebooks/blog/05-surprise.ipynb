{
 "cells": [
  {
   "cell_type": "code",
   "execution_count": 45,
   "id": "d571dcaf",
   "metadata": {},
   "outputs": [],
   "source": [
    "from surprise import SVD\n",
    "from surprise import Dataset, NormalPredictor, Reader\n",
    "from surprise.model_selection import cross_validate\n",
    "import pandas as pd\n",
    "import numpy as np\n",
    "from IPython.display import display\n",
    "pd.options.display.float_format = \"{:.4f}\".format"
   ]
  },
  {
   "cell_type": "code",
   "execution_count": 46,
   "id": "9759c7a0",
   "metadata": {},
   "outputs": [
    {
     "name": "stdout",
     "output_type": "stream",
     "text": [
      "(1522154, 3)\n"
     ]
    },
    {
     "data": {
      "text/html": [
       "<div>\n",
       "<style scoped>\n",
       "    .dataframe tbody tr th:only-of-type {\n",
       "        vertical-align: middle;\n",
       "    }\n",
       "\n",
       "    .dataframe tbody tr th {\n",
       "        vertical-align: top;\n",
       "    }\n",
       "\n",
       "    .dataframe thead th {\n",
       "        text-align: right;\n",
       "    }\n",
       "</style>\n",
       "<table border=\"1\" class=\"dataframe\">\n",
       "  <thead>\n",
       "    <tr style=\"text-align: right;\">\n",
       "      <th></th>\n",
       "      <th>user_id</th>\n",
       "      <th>item_id</th>\n",
       "      <th>rating</th>\n",
       "    </tr>\n",
       "  </thead>\n",
       "  <tbody>\n",
       "    <tr>\n",
       "      <th>0</th>\n",
       "      <td>U000003</td>\n",
       "      <td>I00037925</td>\n",
       "      <td>0.6100</td>\n",
       "    </tr>\n",
       "    <tr>\n",
       "      <th>1</th>\n",
       "      <td>U000003</td>\n",
       "      <td>I00189384</td>\n",
       "      <td>0.6100</td>\n",
       "    </tr>\n",
       "    <tr>\n",
       "      <th>2</th>\n",
       "      <td>U000003</td>\n",
       "      <td>I00256366</td>\n",
       "      <td>0.6100</td>\n",
       "    </tr>\n",
       "  </tbody>\n",
       "</table>\n",
       "</div>"
      ],
      "text/plain": [
       "   user_id    item_id  rating\n",
       "0  U000003  I00037925  0.6100\n",
       "1  U000003  I00189384  0.6100\n",
       "2  U000003  I00256366  0.6100"
      ]
     },
     "execution_count": 46,
     "metadata": {},
     "output_type": "execute_result"
    }
   ],
   "source": [
    "data_types = {\"user_id\": str, \"item_id\": str, \"rating\": np.float64}\n",
    "user_item_ratings = pd.read_csv(\n",
    "    \"./data/usable_user_item_ratings_prepared.csv.gz\",\n",
    "    compression=\"gzip\",\n",
    "    dtype=data_types,\n",
    ")\n",
    "print(user_item_ratings.shape)\n",
    "max_rating = user_item_ratings.rating.max()\n",
    "min_rating = user_item_ratings.rating.min()\n",
    "user_item_ratings.head(3)"
   ]
  },
  {
   "cell_type": "code",
   "execution_count": 47,
   "id": "2ad648ed",
   "metadata": {},
   "outputs": [],
   "source": [
    "MAX_INTERACTIONS_PER_USER = 500\n",
    "SAMPLE_SIZE = 50000\n",
    "\n",
    "user_item_ratings_sample = (\n",
    "    (\n",
    "        user_item_ratings.groupby(\"user_id\")\n",
    "        .head(MAX_INTERACTIONS_PER_USER)\n",
    "        .reset_index(drop=True)\n",
    "    )\n",
    "    .head(SAMPLE_SIZE)\n",
    "    .reset_index(drop=True)\n",
    ")\n"
   ]
  },
  {
   "cell_type": "code",
   "execution_count": 49,
   "id": "823077fd",
   "metadata": {},
   "outputs": [
    {
     "name": "stdout",
     "output_type": "stream",
     "text": [
      "Evaluating RMSE, MSE, MAE of algorithm SVD on 3 split(s).\n",
      "\n",
      "                  Fold 1  Fold 2  Fold 3  Mean    Std     \n",
      "RMSE (testset)    0.0988  0.0999  0.1001  0.0996  0.0006  \n",
      "MSE (testset)     0.0098  0.0100  0.0100  0.0099  0.0001  \n",
      "MAE (testset)     0.0762  0.0763  0.0761  0.0762  0.0001  \n",
      "Fit time          0.45    0.47    0.47    0.46    0.01    \n",
      "Test time         0.04    0.05    0.05    0.05    0.00    \n"
     ]
    }
   ],
   "source": [
    "# A reader is still needed but only the rating_scale param is required.\n",
    "reader = Reader(rating_scale=(min_rating, max_rating))\n",
    "\n",
    "# The columns must correspond to user id, item id and ratings (in that order).\n",
    "data = Dataset.load_from_df(\n",
    "    user_item_ratings_sample[[\"user_id\", \"item_id\", \"rating\"]], reader\n",
    ")\n",
    "\n",
    "# We can now use this dataset as we please, e.g. calling cross_validate\n",
    "svd_results = cross_validate(SVD(), data, measures=[\"RMSE\", \"MSE\", \"MAE\"], cv=3, verbose=True)\n"
   ]
  },
  {
   "cell_type": "code",
   "execution_count": null,
   "id": "f19c29ea",
   "metadata": {},
   "outputs": [],
   "source": [
    "from surprise import AlgoBase\n",
    "from pipeliner.recommendations.transformer import (\n",
    "    UserItemMatrixTransformerNP,\n",
    "    SimilarityTransformerNP,\n",
    ")\n",
    "from pipeliner.recommendations.recommender import (\n",
    "    SimilarityRecommenderNP,\n",
    ")\n",
    "\n",
    "class SurpriseSimilarityRecommender(AlgoBase):\n",
    "    def __init__(self):\n",
    "        # Always call base method before doing anything.\n",
    "        AlgoBase.__init__(self)\n",
    "\n",
    "    def fit(self, trainset):\n",
    "        # Here again: call base method before doing anything.\n",
    "        AlgoBase.fit(self, trainset)\n",
    "\n",
    "        # Compute the average rating. We might as well use the\n",
    "        # trainset.global_mean attribute ;)\n",
    "        self.the_mean = np.mean([r for (_, _, r) in self.trainset.all_ratings()])\n",
    "\n",
    "        return self\n",
    "\n",
    "    def estimate(self, u, i):\n",
    "        return self.the_mean"
   ]
  }
 ],
 "metadata": {
  "kernelspec": {
   "display_name": "pipeliner",
   "language": "python",
   "name": "python3"
  },
  "language_info": {
   "codemirror_mode": {
    "name": "ipython",
    "version": 3
   },
   "file_extension": ".py",
   "mimetype": "text/x-python",
   "name": "python",
   "nbconvert_exporter": "python",
   "pygments_lexer": "ipython3",
   "version": "3.11.9"
  }
 },
 "nbformat": 4,
 "nbformat_minor": 5
}
