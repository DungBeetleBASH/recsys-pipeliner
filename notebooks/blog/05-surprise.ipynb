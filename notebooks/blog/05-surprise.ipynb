{
 "cells": [
  {
   "cell_type": "code",
   "execution_count": 36,
   "id": "d571dcaf",
   "metadata": {},
   "outputs": [
    {
     "name": "stdout",
     "output_type": "stream",
     "text": [
      "Evaluating RMSE, MSE, MAE of algorithm SVD on 3 split(s).\n",
      "\n",
      "                  Fold 1  Fold 2  Fold 3  Mean    Std     \n",
      "RMSE (testset)    0.9471  0.9494  0.9415  0.9460  0.0033  \n",
      "MSE (testset)     0.8970  0.9013  0.8865  0.8949  0.0062  \n",
      "MAE (testset)     0.7502  0.7480  0.7433  0.7472  0.0029  \n",
      "Fit time          0.55    0.55    0.55    0.55    0.00    \n",
      "Test time         0.12    0.18    0.17    0.16    0.02    \n"
     ]
    },
    {
     "data": {
      "text/plain": [
       "{'test_rmse': array([0.94710856, 0.94936938, 0.94152899]),\n",
       " 'test_mse': array([0.89701463, 0.90130222, 0.88647683]),\n",
       " 'test_mae': array([0.75023223, 0.7480054 , 0.7432546 ]),\n",
       " 'fit_time': (0.5517251491546631, 0.5546228885650635, 0.5545761585235596),\n",
       " 'test_time': (0.12381267547607422, 0.1782059669494629, 0.16785907745361328)}"
      ]
     },
     "execution_count": 36,
     "metadata": {},
     "output_type": "execute_result"
    }
   ],
   "source": [
    "from surprise import SVD\n",
    "from surprise import Dataset, NormalPredictor, Reader\n",
    "from surprise.model_selection import cross_validate\n",
    "import pandas as pd\n",
    "import numpy as np\n",
    "from IPython.display import display\n",
    "pd.options.display.float_format = \"{:.4f}\".format\n",
    "\n",
    "# Load the movielens-100k dataset (download it if needed).\n",
    "data = Dataset.load_builtin(\"ml-100k\")\n",
    "\n",
    "# Use the famous SVD algorithm.\n",
    "algo = SVD()\n",
    "\n",
    "# Run 5-fold cross-validation and print results.\n",
    "cross_validate(algo, data, measures=[\"RMSE\", \"MSE\", \"MAE\"], cv=3, verbose=True)\n"
   ]
  },
  {
   "cell_type": "code",
   "execution_count": 37,
   "id": "9759c7a0",
   "metadata": {},
   "outputs": [
    {
     "name": "stdout",
     "output_type": "stream",
     "text": [
      "(1522154, 3)\n"
     ]
    },
    {
     "data": {
      "text/html": [
       "<div>\n",
       "<style scoped>\n",
       "    .dataframe tbody tr th:only-of-type {\n",
       "        vertical-align: middle;\n",
       "    }\n",
       "\n",
       "    .dataframe tbody tr th {\n",
       "        vertical-align: top;\n",
       "    }\n",
       "\n",
       "    .dataframe thead th {\n",
       "        text-align: right;\n",
       "    }\n",
       "</style>\n",
       "<table border=\"1\" class=\"dataframe\">\n",
       "  <thead>\n",
       "    <tr style=\"text-align: right;\">\n",
       "      <th></th>\n",
       "      <th>user_id</th>\n",
       "      <th>item_id</th>\n",
       "      <th>rating</th>\n",
       "    </tr>\n",
       "  </thead>\n",
       "  <tbody>\n",
       "    <tr>\n",
       "      <th>0</th>\n",
       "      <td>U000003</td>\n",
       "      <td>I00037925</td>\n",
       "      <td>0.6100</td>\n",
       "    </tr>\n",
       "    <tr>\n",
       "      <th>1</th>\n",
       "      <td>U000003</td>\n",
       "      <td>I00189384</td>\n",
       "      <td>0.6100</td>\n",
       "    </tr>\n",
       "    <tr>\n",
       "      <th>2</th>\n",
       "      <td>U000003</td>\n",
       "      <td>I00256366</td>\n",
       "      <td>0.6100</td>\n",
       "    </tr>\n",
       "  </tbody>\n",
       "</table>\n",
       "</div>"
      ],
      "text/plain": [
       "   user_id    item_id  rating\n",
       "0  U000003  I00037925  0.6100\n",
       "1  U000003  I00189384  0.6100\n",
       "2  U000003  I00256366  0.6100"
      ]
     },
     "metadata": {},
     "output_type": "display_data"
    }
   ],
   "source": [
    "data_types = {\"user_id\": str, \"item_id\": str, \"rating\": np.float64}\n",
    "user_item_ratings_df = pd.read_csv(\n",
    "    \"./data/usable_user_item_ratings_prepared.csv.gz\",\n",
    "    compression=\"gzip\",\n",
    "    dtype=data_types,\n",
    ")\n",
    "print(user_item_ratings_df.shape)\n",
    "max_rating = user_item_ratings_df.rating.max()\n",
    "min_rating = user_item_ratings_df.rating.min()\n",
    "display(user_item_ratings_df.head(3))"
   ]
  },
  {
   "cell_type": "code",
   "execution_count": 38,
   "id": "823077fd",
   "metadata": {},
   "outputs": [
    {
     "name": "stdout",
     "output_type": "stream",
     "text": [
      "Evaluating RMSE, MSE, MAE of algorithm SVD on 3 split(s).\n",
      "\n",
      "                  Fold 1  Fold 2  Fold 3  Mean    Std     \n",
      "RMSE (testset)    0.0974  0.0974  0.0976  0.0974  0.0001  \n",
      "MSE (testset)     0.0095  0.0095  0.0095  0.0095  0.0000  \n",
      "MAE (testset)     0.0685  0.0684  0.0686  0.0685  0.0001  \n",
      "Fit time          19.24   19.39   19.58   19.40   0.14    \n",
      "Test time         3.35    2.76    3.25    3.12    0.26    \n"
     ]
    },
    {
     "data": {
      "text/plain": [
       "{'test_rmse': array([0.09741097, 0.09735497, 0.09756615]),\n",
       " 'test_mse': array([0.0094889 , 0.00947799, 0.00951915]),\n",
       " 'test_mae': array([0.06846661, 0.06842848, 0.06862416]),\n",
       " 'fit_time': (19.236568927764893, 19.39401602745056, 19.579569101333618),\n",
       " 'test_time': (3.345428943634033, 2.762321710586548, 3.2537903785705566)}"
      ]
     },
     "execution_count": 38,
     "metadata": {},
     "output_type": "execute_result"
    }
   ],
   "source": [
    "# A reader is still needed but only the rating_scale param is required.\n",
    "reader = Reader(rating_scale=(min_rating, max_rating))\n",
    "\n",
    "# The columns must correspond to user id, item id and ratings (in that order).\n",
    "data = Dataset.load_from_df(\n",
    "    user_item_ratings_df[[\"user_id\", \"item_id\", \"rating\"]], reader\n",
    ")\n",
    "\n",
    "# We can now use this dataset as we please, e.g. calling cross_validate\n",
    "cross_validate(algo, data, measures=[\"RMSE\", \"MSE\", \"MAE\"], cv=3, verbose=True)\n"
   ]
  }
 ],
 "metadata": {
  "kernelspec": {
   "display_name": "pipeliner",
   "language": "python",
   "name": "python3"
  },
  "language_info": {
   "codemirror_mode": {
    "name": "ipython",
    "version": 3
   },
   "file_extension": ".py",
   "mimetype": "text/x-python",
   "name": "python",
   "nbconvert_exporter": "python",
   "pygments_lexer": "ipython3",
   "version": "3.11.9"
  }
 },
 "nbformat": 4,
 "nbformat_minor": 5
}
