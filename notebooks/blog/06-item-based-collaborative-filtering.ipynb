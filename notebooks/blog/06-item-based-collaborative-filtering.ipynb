{
 "cells": [
  {
   "cell_type": "code",
   "execution_count": 24,
   "id": "96396887-ac6a-45a1-8017-589c37f9e34b",
   "metadata": {},
   "outputs": [],
   "source": [
    "%%capture\n",
    "%load_ext autoreload\n",
    "%autoreload 1"
   ]
  },
  {
   "cell_type": "code",
   "execution_count": null,
   "id": "ba1ba79c-4ebb-4338-9c98-583b120d4e35",
   "metadata": {},
   "outputs": [],
   "source": [
    "import pandas as pd\n",
    "import numpy as np\n",
    "from pipeliner.recommendations.transformer import (\n",
    "    SimilarityTransformerPandas,\n",
    ")\n",
    "from pipeliner.recommendations.recommender import ItemBasedRecommenderPandas"
   ]
  },
  {
   "cell_type": "code",
   "execution_count": null,
   "id": "be63daed-c28f-49a6-8fe5-8f29782187cf",
   "metadata": {},
   "outputs": [
    {
     "data": {
      "text/html": [
       "<div>\n",
       "<style scoped>\n",
       "    .dataframe tbody tr th:only-of-type {\n",
       "        vertical-align: middle;\n",
       "    }\n",
       "\n",
       "    .dataframe tbody tr th {\n",
       "        vertical-align: top;\n",
       "    }\n",
       "\n",
       "    .dataframe thead th {\n",
       "        text-align: right;\n",
       "    }\n",
       "</style>\n",
       "<table border=\"1\" class=\"dataframe\">\n",
       "  <thead>\n",
       "    <tr style=\"text-align: right;\">\n",
       "      <th></th>\n",
       "      <th>user_id</th>\n",
       "      <th>item_id</th>\n",
       "      <th>rating</th>\n",
       "    </tr>\n",
       "  </thead>\n",
       "  <tbody>\n",
       "    <tr>\n",
       "      <th>0</th>\n",
       "      <td>U00001</td>\n",
       "      <td>I00001</td>\n",
       "      <td>1.0</td>\n",
       "    </tr>\n",
       "    <tr>\n",
       "      <th>1</th>\n",
       "      <td>U00001</td>\n",
       "      <td>I00002</td>\n",
       "      <td>0.5</td>\n",
       "    </tr>\n",
       "    <tr>\n",
       "      <th>2</th>\n",
       "      <td>U00001</td>\n",
       "      <td>I00003</td>\n",
       "      <td>0.5</td>\n",
       "    </tr>\n",
       "    <tr>\n",
       "      <th>3</th>\n",
       "      <td>U00002</td>\n",
       "      <td>I00002</td>\n",
       "      <td>1.0</td>\n",
       "    </tr>\n",
       "    <tr>\n",
       "      <th>4</th>\n",
       "      <td>U00002</td>\n",
       "      <td>I00003</td>\n",
       "      <td>0.5</td>\n",
       "    </tr>\n",
       "  </tbody>\n",
       "</table>\n",
       "</div>"
      ],
      "text/plain": [
       "  user_id item_id  rating\n",
       "0  U00001  I00001     1.0\n",
       "1  U00001  I00002     0.5\n",
       "2  U00001  I00003     0.5\n",
       "3  U00002  I00002     1.0\n",
       "4  U00002  I00003     0.5"
      ]
     },
     "execution_count": 26,
     "metadata": {},
     "output_type": "execute_result"
    }
   ],
   "source": [
    "data_types = {\"user_id\": str, \"item_id\": str, \"rating\": np.float64}\n",
    "user_item_ratings = pd.read_csv(\"../../tests/test_data/user_item_ratings_toy.csv\", dtype=data_types)\n",
    "user_item_ratings.head(5)"
   ]
  },
  {
   "cell_type": "code",
   "execution_count": null,
   "id": "1c45f610",
   "metadata": {},
   "outputs": [
    {
     "data": {
      "text/html": [
       "<div>\n",
       "<style scoped>\n",
       "    .dataframe tbody tr th:only-of-type {\n",
       "        vertical-align: middle;\n",
       "    }\n",
       "\n",
       "    .dataframe tbody tr th {\n",
       "        vertical-align: top;\n",
       "    }\n",
       "\n",
       "    .dataframe thead th {\n",
       "        text-align: right;\n",
       "    }\n",
       "</style>\n",
       "<table border=\"1\" class=\"dataframe\">\n",
       "  <thead>\n",
       "    <tr style=\"text-align: right;\">\n",
       "      <th>item_id</th>\n",
       "      <th>I00001</th>\n",
       "      <th>I00002</th>\n",
       "      <th>I00003</th>\n",
       "      <th>I00004</th>\n",
       "      <th>I00005</th>\n",
       "      <th>I00006</th>\n",
       "    </tr>\n",
       "    <tr>\n",
       "      <th>user_id</th>\n",
       "      <th></th>\n",
       "      <th></th>\n",
       "      <th></th>\n",
       "      <th></th>\n",
       "      <th></th>\n",
       "      <th></th>\n",
       "    </tr>\n",
       "  </thead>\n",
       "  <tbody>\n",
       "    <tr>\n",
       "      <th>U00001</th>\n",
       "      <td>1.0</td>\n",
       "      <td>0.5</td>\n",
       "      <td>0.5</td>\n",
       "      <td>0.0</td>\n",
       "      <td>0.0</td>\n",
       "      <td>0.0</td>\n",
       "    </tr>\n",
       "    <tr>\n",
       "      <th>U00002</th>\n",
       "      <td>0.0</td>\n",
       "      <td>1.0</td>\n",
       "      <td>0.5</td>\n",
       "      <td>0.5</td>\n",
       "      <td>0.0</td>\n",
       "      <td>0.0</td>\n",
       "    </tr>\n",
       "    <tr>\n",
       "      <th>U00003</th>\n",
       "      <td>0.0</td>\n",
       "      <td>0.0</td>\n",
       "      <td>1.0</td>\n",
       "      <td>0.5</td>\n",
       "      <td>0.5</td>\n",
       "      <td>0.0</td>\n",
       "    </tr>\n",
       "    <tr>\n",
       "      <th>U00004</th>\n",
       "      <td>0.0</td>\n",
       "      <td>0.0</td>\n",
       "      <td>0.0</td>\n",
       "      <td>1.0</td>\n",
       "      <td>0.5</td>\n",
       "      <td>0.5</td>\n",
       "    </tr>\n",
       "    <tr>\n",
       "      <th>U00005</th>\n",
       "      <td>0.5</td>\n",
       "      <td>0.0</td>\n",
       "      <td>0.0</td>\n",
       "      <td>0.0</td>\n",
       "      <td>1.0</td>\n",
       "      <td>0.5</td>\n",
       "    </tr>\n",
       "  </tbody>\n",
       "</table>\n",
       "</div>"
      ],
      "text/plain": [
       "item_id  I00001  I00002  I00003  I00004  I00005  I00006\n",
       "user_id                                                \n",
       "U00001      1.0     0.5     0.5     0.0     0.0     0.0\n",
       "U00002      0.0     1.0     0.5     0.5     0.0     0.0\n",
       "U00003      0.0     0.0     1.0     0.5     0.5     0.0\n",
       "U00004      0.0     0.0     0.0     1.0     0.5     0.5\n",
       "U00005      0.5     0.0     0.0     0.0     1.0     0.5"
      ]
     },
     "execution_count": 27,
     "metadata": {},
     "output_type": "execute_result"
    }
   ],
   "source": [
    "user_item_matrix = (\n",
    "    user_item_ratings.groupby([\"user_id\", \"item_id\"])[\"rating\"]\n",
    "    .agg(\"sum\")\n",
    "    .unstack()\n",
    "    .fillna(0.0)\n",
    ")\n",
    "user_item_matrix.head(5)"
   ]
  },
  {
   "cell_type": "code",
   "execution_count": 28,
   "id": "0c35ca8b",
   "metadata": {},
   "outputs": [
    {
     "data": {
      "text/html": [
       "<div>\n",
       "<style scoped>\n",
       "    .dataframe tbody tr th:only-of-type {\n",
       "        vertical-align: middle;\n",
       "    }\n",
       "\n",
       "    .dataframe tbody tr th {\n",
       "        vertical-align: top;\n",
       "    }\n",
       "\n",
       "    .dataframe thead th {\n",
       "        text-align: right;\n",
       "    }\n",
       "</style>\n",
       "<table border=\"1\" class=\"dataframe\">\n",
       "  <thead>\n",
       "    <tr style=\"text-align: right;\">\n",
       "      <th>item_id</th>\n",
       "      <th>I00001</th>\n",
       "      <th>I00002</th>\n",
       "      <th>I00003</th>\n",
       "      <th>I00004</th>\n",
       "      <th>I00005</th>\n",
       "      <th>I00006</th>\n",
       "    </tr>\n",
       "    <tr>\n",
       "      <th>item_id</th>\n",
       "      <th></th>\n",
       "      <th></th>\n",
       "      <th></th>\n",
       "      <th></th>\n",
       "      <th></th>\n",
       "      <th></th>\n",
       "    </tr>\n",
       "  </thead>\n",
       "  <tbody>\n",
       "    <tr>\n",
       "      <th>I00001</th>\n",
       "      <td>1.000000</td>\n",
       "      <td>0.500000</td>\n",
       "      <td>0.333333</td>\n",
       "      <td>0.000000</td>\n",
       "      <td>0.333333</td>\n",
       "      <td>0.500000</td>\n",
       "    </tr>\n",
       "    <tr>\n",
       "      <th>I00002</th>\n",
       "      <td>0.500000</td>\n",
       "      <td>1.000000</td>\n",
       "      <td>0.500000</td>\n",
       "      <td>0.333333</td>\n",
       "      <td>0.000000</td>\n",
       "      <td>0.333333</td>\n",
       "    </tr>\n",
       "    <tr>\n",
       "      <th>I00003</th>\n",
       "      <td>0.333333</td>\n",
       "      <td>0.500000</td>\n",
       "      <td>1.000000</td>\n",
       "      <td>0.500000</td>\n",
       "      <td>0.333333</td>\n",
       "      <td>0.000000</td>\n",
       "    </tr>\n",
       "    <tr>\n",
       "      <th>I00004</th>\n",
       "      <td>0.000000</td>\n",
       "      <td>0.333333</td>\n",
       "      <td>0.500000</td>\n",
       "      <td>1.000000</td>\n",
       "      <td>0.500000</td>\n",
       "      <td>0.333333</td>\n",
       "    </tr>\n",
       "    <tr>\n",
       "      <th>I00005</th>\n",
       "      <td>0.333333</td>\n",
       "      <td>0.000000</td>\n",
       "      <td>0.333333</td>\n",
       "      <td>0.500000</td>\n",
       "      <td>1.000000</td>\n",
       "      <td>0.500000</td>\n",
       "    </tr>\n",
       "  </tbody>\n",
       "</table>\n",
       "</div>"
      ],
      "text/plain": [
       "item_id    I00001    I00002    I00003    I00004    I00005    I00006\n",
       "item_id                                                            \n",
       "I00001   1.000000  0.500000  0.333333  0.000000  0.333333  0.500000\n",
       "I00002   0.500000  1.000000  0.500000  0.333333  0.000000  0.333333\n",
       "I00003   0.333333  0.500000  1.000000  0.500000  0.333333  0.000000\n",
       "I00004   0.000000  0.333333  0.500000  1.000000  0.500000  0.333333\n",
       "I00005   0.333333  0.000000  0.333333  0.500000  1.000000  0.500000"
      ]
     },
     "execution_count": 28,
     "metadata": {},
     "output_type": "execute_result"
    }
   ],
   "source": [
    "similarity_matrix_transformer =  SimilarityTransformerPandas(kind=\"item\", metric=\"cosine\", normalise=True)\n",
    "similarity_matrix = similarity_matrix_transformer.transform(user_item_matrix)\n",
    "similarity_matrix.head(5)"
   ]
  },
  {
   "cell_type": "markdown",
   "id": "a84f5108",
   "metadata": {},
   "source": [
    "Generate recommendations based on item similarity"
   ]
  },
  {
   "cell_type": "code",
   "execution_count": 29,
   "id": "0ad24707-e6bd-4882-8125-b7504575835b",
   "metadata": {},
   "outputs": [
    {
     "data": {
      "text/plain": [
       "['I00002', 'I00004', 'I00001', 'I00005', 'I00006']"
      ]
     },
     "execution_count": 29,
     "metadata": {},
     "output_type": "execute_result"
    }
   ],
   "source": [
    "item_id = \"I00003\"\n",
    "\n",
    "item_recommendations = (\n",
    "    similarity_matrix[item_id]\n",
    "    .drop(item_id, errors=\"ignore\")\n",
    "    .sort_values(ascending=False)\n",
    ")\n",
    "# double check the item isn't in the recommendations\n",
    "# this should be an empty series\n",
    "assert item_id not in item_recommendations.index\n",
    "\n",
    "item_recs_1 = item_recommendations.head(5).index.to_list()\n",
    "item_recs_1"
   ]
  },
  {
   "cell_type": "markdown",
   "id": "9db18f3c",
   "metadata": {},
   "source": [
    "results should be the same with the library"
   ]
  },
  {
   "cell_type": "code",
   "execution_count": 30,
   "id": "29725717",
   "metadata": {},
   "outputs": [
    {
     "name": "stdout",
     "output_type": "stream",
     "text": [
      "['I00002', 'I00004', 'I00001', 'I00005', 'I00006']\n"
     ]
    }
   ],
   "source": [
    "rec = ItemBasedRecommenderPandas(5)\n",
    "\n",
    "rec.fit(similarity_matrix)\n",
    "item_recs_2 = rec.predict([item_id]).tolist()[0]\n",
    "print(item_recs_2)\n",
    "\n",
    "assert set(item_recs_1) == set(item_recs_2)"
   ]
  },
  {
   "cell_type": "markdown",
   "id": "13d04218",
   "metadata": {},
   "source": [
    "Generate recommendations based on item similarity, excluding user's past items"
   ]
  },
  {
   "cell_type": "code",
   "execution_count": 31,
   "id": "129f8021",
   "metadata": {},
   "outputs": [
    {
     "name": "stdout",
     "output_type": "stream",
     "text": [
      "user_rated_items ['I00003', 'I00004', 'I00005']\n"
     ]
    },
    {
     "data": {
      "text/plain": [
       "['I00002', 'I00001', 'I00006']"
      ]
     },
     "execution_count": 31,
     "metadata": {},
     "output_type": "execute_result"
    }
   ],
   "source": [
    "user_id = \"U00003\"\n",
    "\n",
    "single_user_matrix = user_item_matrix.loc[user_id]\n",
    "user_rated_items = single_user_matrix[single_user_matrix > 0].sort_values(\n",
    "    ascending=False\n",
    ")\n",
    "print(\"user_rated_items\", user_rated_items.index.to_list())\n",
    "\n",
    "user_item_recommendations = (\n",
    "    similarity_matrix[item_id]\n",
    "    .drop([item_id] + user_rated_items.index.to_list(), errors=\"ignore\")\n",
    "    .sort_values(ascending=False)\n",
    ")\n",
    "\n",
    "# double check the user hasn't rated the items\n",
    "# this should be an empty series\n",
    "assert (\n",
    "    set(user_rated_items.index.to_list()).intersection(\n",
    "        set(user_item_recommendations.index.to_list())\n",
    "    )\n",
    "    == set()\n",
    ")\n",
    "\n",
    "user_item_recs_1 = user_item_recommendations.head(5).index.to_list()\n",
    "user_item_recs_1"
   ]
  },
  {
   "cell_type": "code",
   "execution_count": 32,
   "id": "e2957ca4",
   "metadata": {},
   "outputs": [
    {
     "data": {
      "text/plain": [
       "['I00002', 'I00001', 'I00006']"
      ]
     },
     "execution_count": 32,
     "metadata": {},
     "output_type": "execute_result"
    }
   ],
   "source": [
    "rec2 = ItemBasedRecommenderPandas(5)\n",
    "\n",
    "rec2.fit((similarity_matrix, user_item_matrix))\n",
    "user_item_recs_2 = rec2.predict([(item_id, user_id)]).tolist()[0]\n",
    "\n",
    "assert set(user_item_recs_1) == set(user_item_recs_2)\n",
    "\n",
    "user_item_recs_2"
   ]
  }
 ],
 "metadata": {
  "kernelspec": {
   "display_name": "pipeliner",
   "language": "python",
   "name": "python3"
  },
  "language_info": {
   "codemirror_mode": {
    "name": "ipython",
    "version": 3
   },
   "file_extension": ".py",
   "mimetype": "text/x-python",
   "name": "python",
   "nbconvert_exporter": "python",
   "pygments_lexer": "ipython3",
   "version": "3.11.11"
  }
 },
 "nbformat": 4,
 "nbformat_minor": 5
}
