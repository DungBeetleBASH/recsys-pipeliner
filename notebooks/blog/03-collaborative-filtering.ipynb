{
 "cells": [
  {
   "cell_type": "markdown",
   "metadata": {},
   "source": [
    "# Item-based collaborative filtering\n",
    "\n",
    "Here, I'm going to compute item similarities using only user interactions.\n",
    "\n",
    "In effect, similarity is based on unknown, latent features of each user and item. These features represent qualities of users and items that make users likely or unlikely to interact with items.\n",
    "\n",
    "## Memory-based approach\n",
    "\n",
    "This method does not generate a model or reduce dimensions, so it does not scale well to large datasets. Similarity is computed using the Scikit Learn `cosine_similarity` function."
   ]
  },
  {
   "cell_type": "code",
   "execution_count": 23,
   "metadata": {},
   "outputs": [
    {
     "name": "stdout",
     "output_type": "stream",
     "text": [
      "The autoreload extension is already loaded. To reload it, use:\n",
      "  %reload_ext autoreload\n"
     ]
    }
   ],
   "source": [
    "%load_ext autoreload\n",
    "%autoreload 2"
   ]
  },
  {
   "cell_type": "code",
   "execution_count": 24,
   "metadata": {},
   "outputs": [],
   "source": [
    "USE_SAVED_DATA = True\n",
    "USE_FULL_DATA = False"
   ]
  },
  {
   "cell_type": "code",
   "execution_count": 25,
   "metadata": {},
   "outputs": [],
   "source": [
    "import pandas as pd\n",
    "import numpy as np\n",
    "import scipy as sp\n",
    "from sklearn.preprocessing import LabelEncoder\n",
    "from matspy import spy\n",
    "\n",
    "from pipeliner.recommendations.transformer import (\n",
    "    SimilarityTransformer,\n",
    "    UserItemMatrixTransformer,\n",
    ")\n",
    "from pipeliner.recommendations.recommender import SimilarityRecommender\n",
    "\n",
    "pd.options.display.float_format = \"{:,.2f}\".format"
   ]
  },
  {
   "cell_type": "code",
   "execution_count": 26,
   "metadata": {},
   "outputs": [
    {
     "name": "stdout",
     "output_type": "stream",
     "text": [
      "(1522154, 3)\n"
     ]
    },
    {
     "data": {
      "text/html": [
       "<div>\n",
       "<style scoped>\n",
       "    .dataframe tbody tr th:only-of-type {\n",
       "        vertical-align: middle;\n",
       "    }\n",
       "\n",
       "    .dataframe tbody tr th {\n",
       "        vertical-align: top;\n",
       "    }\n",
       "\n",
       "    .dataframe thead th {\n",
       "        text-align: right;\n",
       "    }\n",
       "</style>\n",
       "<table border=\"1\" class=\"dataframe\">\n",
       "  <thead>\n",
       "    <tr style=\"text-align: right;\">\n",
       "      <th></th>\n",
       "      <th>user_id</th>\n",
       "      <th>item_id</th>\n",
       "      <th>rating</th>\n",
       "    </tr>\n",
       "  </thead>\n",
       "  <tbody>\n",
       "    <tr>\n",
       "      <th>0</th>\n",
       "      <td>U000003</td>\n",
       "      <td>I00037925</td>\n",
       "      <td>0.61</td>\n",
       "    </tr>\n",
       "    <tr>\n",
       "      <th>1</th>\n",
       "      <td>U000003</td>\n",
       "      <td>I00189384</td>\n",
       "      <td>0.61</td>\n",
       "    </tr>\n",
       "    <tr>\n",
       "      <th>2</th>\n",
       "      <td>U000003</td>\n",
       "      <td>I00256366</td>\n",
       "      <td>0.61</td>\n",
       "    </tr>\n",
       "  </tbody>\n",
       "</table>\n",
       "</div>"
      ],
      "text/plain": [
       "   user_id    item_id  rating\n",
       "0  U000003  I00037925    0.61\n",
       "1  U000003  I00189384    0.61\n",
       "2  U000003  I00256366    0.61"
      ]
     },
     "execution_count": 26,
     "metadata": {},
     "output_type": "execute_result"
    }
   ],
   "source": [
    "data_types = {\"user_id\": str, \"item_id\": str, \"rating\": np.float64}\n",
    "user_item_ratings = pd.read_csv(\n",
    "    \"./data/usable_user_item_ratings_prepared.csv.gz\",\n",
    "    compression=\"gzip\",\n",
    "    dtype=data_types,\n",
    ")\n",
    "\n",
    "# confirm that each user/item pair is unique\n",
    "assert user_item_ratings.groupby([\"user_id\", \"item_id\"]).size().max() == 1\n",
    "\n",
    "print(user_item_ratings.shape)\n",
    "user_item_ratings.head(3)"
   ]
  },
  {
   "cell_type": "code",
   "execution_count": 27,
   "metadata": {},
   "outputs": [
    {
     "name": "stdout",
     "output_type": "stream",
     "text": [
      "(50000, 3)\n"
     ]
    },
    {
     "data": {
      "text/html": [
       "<div>\n",
       "<style scoped>\n",
       "    .dataframe tbody tr th:only-of-type {\n",
       "        vertical-align: middle;\n",
       "    }\n",
       "\n",
       "    .dataframe tbody tr th {\n",
       "        vertical-align: top;\n",
       "    }\n",
       "\n",
       "    .dataframe thead th {\n",
       "        text-align: right;\n",
       "    }\n",
       "</style>\n",
       "<table border=\"1\" class=\"dataframe\">\n",
       "  <thead>\n",
       "    <tr style=\"text-align: right;\">\n",
       "      <th></th>\n",
       "      <th>user_id</th>\n",
       "      <th>item_id</th>\n",
       "      <th>rating</th>\n",
       "    </tr>\n",
       "  </thead>\n",
       "  <tbody>\n",
       "    <tr>\n",
       "      <th>0</th>\n",
       "      <td>U000003</td>\n",
       "      <td>I00037925</td>\n",
       "      <td>0.61</td>\n",
       "    </tr>\n",
       "    <tr>\n",
       "      <th>1</th>\n",
       "      <td>U000003</td>\n",
       "      <td>I00189384</td>\n",
       "      <td>0.61</td>\n",
       "    </tr>\n",
       "    <tr>\n",
       "      <th>2</th>\n",
       "      <td>U000003</td>\n",
       "      <td>I00256366</td>\n",
       "      <td>0.61</td>\n",
       "    </tr>\n",
       "  </tbody>\n",
       "</table>\n",
       "</div>"
      ],
      "text/plain": [
       "   user_id    item_id  rating\n",
       "0  U000003  I00037925    0.61\n",
       "1  U000003  I00189384    0.61\n",
       "2  U000003  I00256366    0.61"
      ]
     },
     "execution_count": 27,
     "metadata": {},
     "output_type": "execute_result"
    }
   ],
   "source": [
    "# create a smaller dataset for the memory-based recommender\n",
    "MAX_INTERACTIONS_PER_USER = 500\n",
    "SAMPLE_SIZE = 50000\n",
    "\n",
    "user_item_ratings_sample = (\n",
    "    (\n",
    "        user_item_ratings.groupby(\"user_id\")\n",
    "        .head(MAX_INTERACTIONS_PER_USER)\n",
    "        .reset_index(drop=True)\n",
    "    )\n",
    "    .head(SAMPLE_SIZE)\n",
    "    .reset_index(drop=True)\n",
    ")\n",
    "\n",
    "print(user_item_ratings_sample.shape)\n",
    "user_item_ratings_sample.head(3)"
   ]
  },
  {
   "cell_type": "code",
   "execution_count": 28,
   "metadata": {},
   "outputs": [
    {
     "name": "stdout",
     "output_type": "stream",
     "text": [
      "1334 45021\n"
     ]
    },
    {
     "data": {
      "text/html": [
       "<div>\n",
       "<style scoped>\n",
       "    .dataframe tbody tr th:only-of-type {\n",
       "        vertical-align: middle;\n",
       "    }\n",
       "\n",
       "    .dataframe tbody tr th {\n",
       "        vertical-align: top;\n",
       "    }\n",
       "\n",
       "    .dataframe thead th {\n",
       "        text-align: right;\n",
       "    }\n",
       "</style>\n",
       "<table border=\"1\" class=\"dataframe\">\n",
       "  <thead>\n",
       "    <tr style=\"text-align: right;\">\n",
       "      <th></th>\n",
       "      <th>user_id</th>\n",
       "      <th>item_id</th>\n",
       "      <th>rating</th>\n",
       "    </tr>\n",
       "  </thead>\n",
       "  <tbody>\n",
       "    <tr>\n",
       "      <th>0</th>\n",
       "      <td>0</td>\n",
       "      <td>2546</td>\n",
       "      <td>0.61</td>\n",
       "    </tr>\n",
       "    <tr>\n",
       "      <th>1</th>\n",
       "      <td>0</td>\n",
       "      <td>10854</td>\n",
       "      <td>0.61</td>\n",
       "    </tr>\n",
       "    <tr>\n",
       "      <th>2</th>\n",
       "      <td>0</td>\n",
       "      <td>13742</td>\n",
       "      <td>0.61</td>\n",
       "    </tr>\n",
       "  </tbody>\n",
       "</table>\n",
       "</div>"
      ],
      "text/plain": [
       "   user_id  item_id  rating\n",
       "0        0     2546    0.61\n",
       "1        0    10854    0.61\n",
       "2        0    13742    0.61"
      ]
     },
     "execution_count": 28,
     "metadata": {},
     "output_type": "execute_result"
    }
   ],
   "source": [
    "# encode the user and item ids\n",
    "user_sample_encoder = LabelEncoder()\n",
    "item_sample_encoder = LabelEncoder()\n",
    "\n",
    "user_item_ratings_sample[\"user_id\"] = user_sample_encoder.fit_transform(user_item_ratings_sample[\"user_id\"])\n",
    "user_item_ratings_sample[\"item_id\"] = item_sample_encoder.fit_transform(user_item_ratings_sample[\"item_id\"])\n",
    "\n",
    "unique_sample_users = pd.Series(user_sample_encoder.classes_)\n",
    "unique_sample_items = pd.Series(item_sample_encoder.classes_)\n",
    "\n",
    "print(unique_sample_users.shape[0], unique_sample_items.shape[0])\n",
    "user_item_ratings_sample.head(3)"
   ]
  },
  {
   "cell_type": "code",
   "execution_count": 29,
   "metadata": {},
   "outputs": [
    {
     "name": "stdout",
     "output_type": "stream",
     "text": [
      "(1334, 45021)\n"
     ]
    }
   ],
   "source": [
    "\n",
    "user_item_matrix_transformer = UserItemMatrixTransformer()\n",
    "\n",
    "if USE_SAVED_DATA is False:\n",
    "    # create the user/item matrix\n",
    "    user_item_matrix_sample = user_item_matrix_transformer.transform(\n",
    "        user_item_ratings_sample.to_numpy(),\n",
    "    )\n",
    "else:\n",
    "    user_item_matrix_sample = sp.sparse.load_npz(\"data/03-collaborative-filtering/user_item_matrix_sample.npz\")\n",
    "\n",
    "# check ratings from matrix are correct\n",
    "users = user_item_ratings_sample[\"user_id\"].to_numpy().astype(int)\n",
    "items = user_item_ratings_sample[\"item_id\"].to_numpy().astype(int)\n",
    "ratings = user_item_ratings_sample[\"rating\"].to_numpy().astype(np.float32)\n",
    "for user, item, rating in zip(users, items, ratings):\n",
    "    assert user_item_matrix_sample[user, item] == rating\n",
    "\n",
    "print(user_item_matrix_sample.shape)"
   ]
  },
  {
   "cell_type": "code",
   "execution_count": 30,
   "metadata": {},
   "outputs": [
    {
     "data": {
      "text/plain": [
       "((1334, 1334), (45021, 45021))"
      ]
     },
     "execution_count": 30,
     "metadata": {},
     "output_type": "execute_result"
    }
   ],
   "source": [
    "similarity_matrix_transformer = SimilarityTransformer()\n",
    "if USE_SAVED_DATA is False:\n",
    "    user_similarity_matrix_sample = similarity_matrix_transformer.transform(\n",
    "        user_item_matrix_sample\n",
    "    )\n",
    "    item_similarity_matrix_sample = similarity_matrix_transformer.transform(\n",
    "        user_item_matrix_sample.T\n",
    "    )\n",
    "else:\n",
    "    user_similarity_matrix_sample = sp.sparse.load_npz(\"data/03-collaborative-filtering/user_similarity_matrix_sample.npz\")\n",
    "    item_similarity_matrix_sample = sp.sparse.load_npz(\"data/03-collaborative-filtering/item_similarity_matrix_sample.npz\")\n",
    "    \n",
    "user_similarity_matrix_sample.shape, item_similarity_matrix_sample.shape"
   ]
  },
  {
   "cell_type": "code",
   "execution_count": 31,
   "metadata": {},
   "outputs": [],
   "source": [
    "if USE_SAVED_DATA is False:\n",
    "    sp.sparse.save_npz(\n",
    "        \"data/03-collaborative-filtering/user_item_matrix_sample.npz\",\n",
    "        user_item_matrix_sample,\n",
    "        compressed=True,\n",
    "    )\n",
    "    sp.sparse.save_npz(\n",
    "        \"data/03-collaborative-filtering/user_similarity_matrix_sample.npz\", \n",
    "        user_similarity_matrix_sample, \n",
    "        compressed=True\n",
    "    )\n",
    "    sp.sparse.save_npz(\n",
    "        \"data/03-collaborative-filtering/item_similarity_matrix_sample.npz\", \n",
    "        item_similarity_matrix_sample, \n",
    "        compressed=True\n",
    "    )"
   ]
  },
  {
   "cell_type": "markdown",
   "metadata": {},
   "source": [
    "Generate item recomendation using sample dataset"
   ]
  },
  {
   "cell_type": "code",
   "execution_count": 32,
   "metadata": {},
   "outputs": [
    {
     "data": {
      "text/plain": [
       "(['I00189384',\n",
       "  'I00267268',\n",
       "  'I00298191',\n",
       "  'I00316072',\n",
       "  'I00318138',\n",
       "  'I00590125',\n",
       "  'I00758300',\n",
       "  'I00846427',\n",
       "  'I00891970',\n",
       "  'I00944931'],\n",
       " array([0., 0., 0., ..., 0., 0., 0.]))"
      ]
     },
     "execution_count": 32,
     "metadata": {},
     "output_type": "execute_result"
    }
   ],
   "source": [
    "item_idx = item_sample_encoder.transform([\"I00037925\"])\n",
    "\n",
    "similarity_recommender = SimilarityRecommender(10)\n",
    "similarity_recommender.fit(item_similarity_matrix_sample)\n",
    "recommendatons = similarity_recommender.predict(item_idx)\n",
    "\n",
    "results = [\n",
    "    item_sample_encoder.inverse_transform(item).tolist() for item in recommendatons\n",
    "][0]\n",
    "\n",
    "probabilities = similarity_recommender.predict_proba(item_idx).toarray()[0]\n",
    "\n",
    "results, probabilities"
   ]
  },
  {
   "cell_type": "markdown",
   "metadata": {},
   "source": [
    "Now try with the full dataset"
   ]
  },
  {
   "cell_type": "code",
   "execution_count": 33,
   "metadata": {},
   "outputs": [],
   "source": [
    "if USE_FULL_DATA:\n",
    "    # encode the user and item ids\n",
    "    user_full_encoder = LabelEncoder()\n",
    "    item_full_encoder = LabelEncoder()\n",
    "\n",
    "    user_item_ratings_full = user_item_ratings.copy()\n",
    "\n",
    "    user_item_ratings_full[\"user_id\"] = user_full_encoder.fit_transform(\n",
    "        user_item_ratings_full[\"user_id\"]\n",
    "    )\n",
    "    user_item_ratings_full[\"item_id\"] = item_full_encoder.fit_transform(\n",
    "        user_item_ratings_full[\"item_id\"]\n",
    "    )\n",
    "\n",
    "    unique_full_users = pd.Series(user_full_encoder.classes_)\n",
    "    unique_full_items = pd.Series(item_full_encoder.classes_)\n",
    "\n",
    "    print(unique_full_users.shape[0], unique_full_items.shape[0])\n",
    "    display(user_item_ratings_full.head(3))"
   ]
  },
  {
   "cell_type": "code",
   "execution_count": 34,
   "metadata": {},
   "outputs": [],
   "source": [
    "if USE_FULL_DATA:\n",
    "    user_item_matrix_full = user_item_matrix_transformer.transform(\n",
    "        user_item_ratings_full.to_numpy(),\n",
    "    )\n",
    "\n",
    "    spy(sp.sparse.csr_matrix(user_item_matrix_full))"
   ]
  },
  {
   "cell_type": "code",
   "execution_count": 35,
   "metadata": {},
   "outputs": [],
   "source": [
    "if USE_FULL_DATA:\n",
    "    item_similarity_matrix_full = similarity_matrix_transformer.transform(\n",
    "        user_item_matrix_full.T\n",
    "    )\n",
    "\n",
    "    spy(sp.sparse.csr_matrix(item_similarity_matrix_full))"
   ]
  },
  {
   "cell_type": "code",
   "execution_count": 36,
   "metadata": {},
   "outputs": [],
   "source": [
    "if USE_FULL_DATA:\n",
    "    similarity_recommender_full = SimilarityRecommender(10)\n",
    "    similarity_recommender_full.fit(item_similarity_matrix_full)\n",
    "    recommendatons = similarity_recommender_full.predict(item_idx)\n",
    "\n",
    "    results = [\n",
    "        item_full_encoder.inverse_transform(item).tolist() for item in recommendatons\n",
    "    ][0]\n",
    "\n",
    "    print(results)"
   ]
  }
 ],
 "metadata": {
  "kernelspec": {
   "display_name": "pipeliner",
   "language": "python",
   "name": "python3"
  },
  "language_info": {
   "codemirror_mode": {
    "name": "ipython",
    "version": 3
   },
   "file_extension": ".py",
   "mimetype": "text/x-python",
   "name": "python",
   "nbconvert_exporter": "python",
   "pygments_lexer": "ipython3",
   "version": "3.11.9"
  }
 },
 "nbformat": 4,
 "nbformat_minor": 2
}
