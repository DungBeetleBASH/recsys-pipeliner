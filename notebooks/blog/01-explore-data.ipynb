{
 "cells": [
  {
   "cell_type": "code",
   "execution_count": 281,
   "metadata": {},
   "outputs": [],
   "source": [
    "import pandas as pd\n",
    "import numpy as np\n",
    "import matplotlib.pyplot as plt\n",
    "from matplotlib.ticker import ScalarFormatter, FuncFormatter\n",
    "from IPython.display import display\n",
    "pd.options.display.float_format = \"{:,.2f}\".format"
   ]
  },
  {
   "cell_type": "code",
   "execution_count": 282,
   "metadata": {},
   "outputs": [
    {
     "data": {
      "text/plain": [
       "(1827358, 4)"
      ]
     },
     "execution_count": 282,
     "metadata": {},
     "output_type": "execute_result"
    }
   ],
   "source": [
    "user_item_interactions = pd.read_csv(\n",
    "    \"../../tests/test_data/user_item_interactions_30_days.csv\", parse_dates=[\"date\"]\n",
    ")\n",
    "user_item_interactions.shape"
   ]
  },
  {
   "cell_type": "markdown",
   "metadata": {},
   "source": [
    "The dataset consists of interactions between users and items, \n",
    "with a count of interactions each day. The total number of interactions\n",
    "between each user/item pair will be used to create a rating feature\n",
    "for collaborative filtering."
   ]
  },
  {
   "cell_type": "code",
   "execution_count": 283,
   "metadata": {},
   "outputs": [
    {
     "data": {
      "text/html": [
       "<div>\n",
       "<style scoped>\n",
       "    .dataframe tbody tr th:only-of-type {\n",
       "        vertical-align: middle;\n",
       "    }\n",
       "\n",
       "    .dataframe tbody tr th {\n",
       "        vertical-align: top;\n",
       "    }\n",
       "\n",
       "    .dataframe thead th {\n",
       "        text-align: right;\n",
       "    }\n",
       "</style>\n",
       "<table border=\"1\" class=\"dataframe\">\n",
       "  <thead>\n",
       "    <tr style=\"text-align: right;\">\n",
       "      <th></th>\n",
       "      <th>user_id</th>\n",
       "      <th>item_id</th>\n",
       "      <th>date</th>\n",
       "      <th>interactions</th>\n",
       "    </tr>\n",
       "  </thead>\n",
       "  <tbody>\n",
       "    <tr>\n",
       "      <th>0</th>\n",
       "      <td>U007714</td>\n",
       "      <td>I00372373</td>\n",
       "      <td>2024-09-08</td>\n",
       "      <td>1.00</td>\n",
       "    </tr>\n",
       "    <tr>\n",
       "      <th>1</th>\n",
       "      <td>U007714</td>\n",
       "      <td>I00605528</td>\n",
       "      <td>2024-09-08</td>\n",
       "      <td>1.00</td>\n",
       "    </tr>\n",
       "    <tr>\n",
       "      <th>2</th>\n",
       "      <td>U013522</td>\n",
       "      <td>I01182960</td>\n",
       "      <td>2024-09-08</td>\n",
       "      <td>2.00</td>\n",
       "    </tr>\n",
       "  </tbody>\n",
       "</table>\n",
       "</div>"
      ],
      "text/plain": [
       "   user_id    item_id       date  interactions\n",
       "0  U007714  I00372373 2024-09-08          1.00\n",
       "1  U007714  I00605528 2024-09-08          1.00\n",
       "2  U013522  I01182960 2024-09-08          2.00"
      ]
     },
     "metadata": {},
     "output_type": "display_data"
    },
    {
     "data": {
      "text/html": [
       "<div>\n",
       "<style scoped>\n",
       "    .dataframe tbody tr th:only-of-type {\n",
       "        vertical-align: middle;\n",
       "    }\n",
       "\n",
       "    .dataframe tbody tr th {\n",
       "        vertical-align: top;\n",
       "    }\n",
       "\n",
       "    .dataframe thead th {\n",
       "        text-align: right;\n",
       "    }\n",
       "</style>\n",
       "<table border=\"1\" class=\"dataframe\">\n",
       "  <thead>\n",
       "    <tr style=\"text-align: right;\">\n",
       "      <th></th>\n",
       "      <th>date</th>\n",
       "      <th>interactions</th>\n",
       "    </tr>\n",
       "  </thead>\n",
       "  <tbody>\n",
       "    <tr>\n",
       "      <th>count</th>\n",
       "      <td>1827358</td>\n",
       "      <td>1,827,358.00</td>\n",
       "    </tr>\n",
       "    <tr>\n",
       "      <th>mean</th>\n",
       "      <td>2024-09-15 07:17:38.988549888</td>\n",
       "      <td>1.29</td>\n",
       "    </tr>\n",
       "    <tr>\n",
       "      <th>min</th>\n",
       "      <td>2024-09-01 00:00:00</td>\n",
       "      <td>1.00</td>\n",
       "    </tr>\n",
       "    <tr>\n",
       "      <th>25%</th>\n",
       "      <td>2024-09-09 00:00:00</td>\n",
       "      <td>1.00</td>\n",
       "    </tr>\n",
       "    <tr>\n",
       "      <th>50%</th>\n",
       "      <td>2024-09-16 00:00:00</td>\n",
       "      <td>1.00</td>\n",
       "    </tr>\n",
       "    <tr>\n",
       "      <th>75%</th>\n",
       "      <td>2024-09-23 00:00:00</td>\n",
       "      <td>1.00</td>\n",
       "    </tr>\n",
       "    <tr>\n",
       "      <th>max</th>\n",
       "      <td>2024-09-30 00:00:00</td>\n",
       "      <td>60.00</td>\n",
       "    </tr>\n",
       "    <tr>\n",
       "      <th>std</th>\n",
       "      <td>NaN</td>\n",
       "      <td>0.72</td>\n",
       "    </tr>\n",
       "  </tbody>\n",
       "</table>\n",
       "</div>"
      ],
      "text/plain": [
       "                                date  interactions\n",
       "count                        1827358  1,827,358.00\n",
       "mean   2024-09-15 07:17:38.988549888          1.29\n",
       "min              2024-09-01 00:00:00          1.00\n",
       "25%              2024-09-09 00:00:00          1.00\n",
       "50%              2024-09-16 00:00:00          1.00\n",
       "75%              2024-09-23 00:00:00          1.00\n",
       "max              2024-09-30 00:00:00         60.00\n",
       "std                              NaN          0.72"
      ]
     },
     "metadata": {},
     "output_type": "display_data"
    }
   ],
   "source": [
    "display(user_item_interactions.head(3))\n",
    "display(user_item_interactions.describe())"
   ]
  },
  {
   "cell_type": "code",
   "execution_count": 284,
   "metadata": {},
   "outputs": [
    {
     "data": {
      "text/html": [
       "<div>\n",
       "<style scoped>\n",
       "    .dataframe tbody tr th:only-of-type {\n",
       "        vertical-align: middle;\n",
       "    }\n",
       "\n",
       "    .dataframe tbody tr th {\n",
       "        vertical-align: top;\n",
       "    }\n",
       "\n",
       "    .dataframe thead th {\n",
       "        text-align: right;\n",
       "    }\n",
       "</style>\n",
       "<table border=\"1\" class=\"dataframe\">\n",
       "  <thead>\n",
       "    <tr style=\"text-align: right;\">\n",
       "      <th></th>\n",
       "      <th>user_id</th>\n",
       "      <th>item_id</th>\n",
       "      <th>interactions</th>\n",
       "    </tr>\n",
       "  </thead>\n",
       "  <tbody>\n",
       "    <tr>\n",
       "      <th>0</th>\n",
       "      <td>U000003</td>\n",
       "      <td>I00037925</td>\n",
       "      <td>1.00</td>\n",
       "    </tr>\n",
       "    <tr>\n",
       "      <th>1</th>\n",
       "      <td>U000003</td>\n",
       "      <td>I00189384</td>\n",
       "      <td>1.00</td>\n",
       "    </tr>\n",
       "    <tr>\n",
       "      <th>2</th>\n",
       "      <td>U000003</td>\n",
       "      <td>I00256366</td>\n",
       "      <td>1.00</td>\n",
       "    </tr>\n",
       "  </tbody>\n",
       "</table>\n",
       "</div>"
      ],
      "text/plain": [
       "   user_id    item_id  interactions\n",
       "0  U000003  I00037925          1.00\n",
       "1  U000003  I00189384          1.00\n",
       "2  U000003  I00256366          1.00"
      ]
     },
     "execution_count": 284,
     "metadata": {},
     "output_type": "execute_result"
    }
   ],
   "source": [
    "# group by user_id and item_id and \n",
    "# sum the number of interactions\n",
    "\n",
    "user_item_interactions_grouped = user_item_interactions.drop(columns=[\"date\"]).groupby(\n",
    "    [\"user_id\", \"item_id\"]\n",
    ").sum().reset_index()\n",
    "user_item_interactions_grouped.head(3)"
   ]
  },
  {
   "cell_type": "markdown",
   "metadata": {},
   "source": [
    "What's the range of total interactions by user/item?"
   ]
  },
  {
   "cell_type": "code",
   "execution_count": 285,
   "metadata": {},
   "outputs": [],
   "source": [
    "total_interactions_by_user = user_item_interactions_grouped[[\"user_id\", \"interactions\"]].groupby(\"user_id\").sum().reset_index()\n",
    "total_interactions_by_item = user_item_interactions_grouped[[\"item_id\", \"interactions\"]].groupby(\"item_id\").sum().reset_index()"
   ]
  },
  {
   "cell_type": "code",
   "execution_count": 296,
   "metadata": {},
   "outputs": [
    {
     "data": {
      "image/png": "[encoded data removed]",
      "text/plain": [
       "<Figure size 1000x400 with 2 Axes>"
      ]
     },
     "metadata": {},
     "output_type": "display_data"
    }
   ],
   "source": [
    "fig, (ax1, ax2) = plt.subplots(1,2, figsize=(10, 4))\n",
    "ax1.hist(total_interactions_by_user.interactions, log=True, bins=100)\n",
    "ax2.hist(total_interactions_by_item.interactions, log=True, bins=100)\n",
    "\n",
    "for ax in (ax1, ax2):\n",
    "    formatter = ScalarFormatter()\n",
    "    formatter.set_scientific(False)\n",
    "    ax.yaxis.set_major_formatter(formatter)\n",
    "\n",
    "    ax.set_xlabel(\"Number of interactions\")\n",
    "\n",
    "ax1.set_title(\"Count of users by count of interaction/user\")\n",
    "ax2.set_title(\"Count of items by count of interaction/item\")\n",
    "    \n",
    "ax1.set_ylabel(\"Number of users\")\n",
    "ax2.set_ylabel(\"Number of items\")\n",
    "plt.tight_layout()\n",
    "\n",
    "plt.show()"
   ]
  },
  {
   "cell_type": "markdown",
   "metadata": {},
   "source": [
    "As expected, the distributions are heavily skewed towards low numbers of interactions."
   ]
  },
  {
   "cell_type": "code",
   "execution_count": 287,
   "metadata": {},
   "outputs": [
    {
     "data": {
      "text/plain": [
       "interactions_capped\n",
       "1.00    1163526\n",
       "2.00     253237\n",
       "3.00      68800\n",
       "4.00      55743\n",
       "5.00      33575\n",
       "Name: count, dtype: int64"
      ]
     },
     "execution_count": 287,
     "metadata": {},
     "output_type": "execute_result"
    }
   ],
   "source": [
    "# cap the number of interactions to produce \n",
    "# a better range of values for ratings\n",
    "INTERACTION_CAP = 5\n",
    "user_item_interactions_grouped[\"interactions_capped\"] = np.minimum(\n",
    "    user_item_interactions_grouped.interactions, INTERACTION_CAP\n",
    ")\n",
    "user_item_interactions_grouped[\"interactions_capped\"].value_counts().sort_index()"
   ]
  },
  {
   "cell_type": "code",
   "execution_count": null,
   "metadata": {},
   "outputs": [
    {
     "data": {
      "text/html": [
       "<div>\n",
       "<style scoped>\n",
       "    .dataframe tbody tr th:only-of-type {\n",
       "        vertical-align: middle;\n",
       "    }\n",
       "\n",
       "    .dataframe tbody tr th {\n",
       "        vertical-align: top;\n",
       "    }\n",
       "\n",
       "    .dataframe thead th {\n",
       "        text-align: right;\n",
       "    }\n",
       "</style>\n",
       "<table border=\"1\" class=\"dataframe\">\n",
       "  <thead>\n",
       "    <tr style=\"text-align: right;\">\n",
       "      <th></th>\n",
       "      <th>user_id</th>\n",
       "      <th>item_id</th>\n",
       "      <th>rating</th>\n",
       "    </tr>\n",
       "  </thead>\n",
       "  <tbody>\n",
       "    <tr>\n",
       "      <th>0</th>\n",
       "      <td>U000003</td>\n",
       "      <td>I00037925</td>\n",
       "      <td>0.61</td>\n",
       "    </tr>\n",
       "    <tr>\n",
       "      <th>1</th>\n",
       "      <td>U000003</td>\n",
       "      <td>I00189384</td>\n",
       "      <td>0.61</td>\n",
       "    </tr>\n",
       "    <tr>\n",
       "      <th>2</th>\n",
       "      <td>U000003</td>\n",
       "      <td>I00256366</td>\n",
       "      <td>0.61</td>\n",
       "    </tr>\n",
       "    <tr>\n",
       "      <th>3</th>\n",
       "      <td>U000003</td>\n",
       "      <td>I00267268</td>\n",
       "      <td>0.85</td>\n",
       "    </tr>\n",
       "    <tr>\n",
       "      <th>4</th>\n",
       "      <td>U000003</td>\n",
       "      <td>I00298191</td>\n",
       "      <td>0.61</td>\n",
       "    </tr>\n",
       "  </tbody>\n",
       "</table>\n",
       "</div>"
      ],
      "text/plain": [
       "   user_id    item_id  rating\n",
       "0  U000003  I00037925    0.61\n",
       "1  U000003  I00189384    0.61\n",
       "2  U000003  I00256366    0.61\n",
       "3  U000003  I00267268    0.85\n",
       "4  U000003  I00298191    0.61"
      ]
     },
     "execution_count": 288,
     "metadata": {},
     "output_type": "execute_result"
    }
   ],
   "source": [
    "# scale the capped interactions to form a rating\n",
    "user_item_ratings = user_item_interactions_grouped[[\"user_id\", \"item_id\"]].copy()\n",
    "\n",
    "user_item_ratings[\"rating\"] = 1 + np.log1p(\n",
    "    user_item_interactions_grouped[\"interactions_capped\"]\n",
    ")\n",
    "user_item_ratings[\"rating\"] = (\n",
    "    user_item_ratings[\"rating\"] / user_item_ratings[\"rating\"].max()\n",
    ").round(2)\n",
    "user_item_ratings.head()"
   ]
  },
  {
   "cell_type": "code",
   "execution_count": 289,
   "metadata": {},
   "outputs": [
    {
     "name": "stdout",
     "output_type": "stream",
     "text": [
      "unique users: 62719\n",
      "unique items: 792547\n"
     ]
    }
   ],
   "source": [
    "# store ratings mean & count for later use\n",
    "user_rating_stats = user_item_ratings.groupby(\"user_id\")[\"rating\"].agg(mean='mean', n_ratings='count').reset_index()\n",
    "item_rating_stats = (\n",
    "    user_item_ratings.groupby(\"item_id\")[\"rating\"]\n",
    "    .agg(mean=\"mean\", n_ratings=\"count\")\n",
    "    .reset_index()\n",
    ")\n",
    "\n",
    "print(\"unique users:\", user_rating_stats.shape[0])\n",
    "print(\"unique items:\", item_rating_stats.shape[0])"
   ]
  },
  {
   "cell_type": "code",
   "execution_count": 320,
   "metadata": {},
   "outputs": [
    {
     "name": "stdout",
     "output_type": "stream",
     "text": [
      "Users with 1 rating: 15.84%\n",
      "Items with 1 rating: 67.16%\n"
     ]
    }
   ],
   "source": [
    "user_rating_counts = (\n",
    "    user_rating_stats.n_ratings.value_counts().sort_index().to_frame(\"n_users\").reset_index()\n",
    ")\n",
    "item_rating_counts = (\n",
    "    item_rating_stats.n_ratings.value_counts()\n",
    "    .sort_index()\n",
    "    .to_frame(\"n_items\")\n",
    "    .reset_index()\n",
    ")\n",
    "\n",
    "assert user_rating_counts.n_users.sum() == user_rating_stats.shape[0]\n",
    "assert item_rating_counts.n_items.sum() == item_rating_stats.shape[0]\n",
    "\n",
    "print(\n",
    "    f\"Users with 1 rating: {user_rating_counts[user_rating_counts['n_ratings'] == 1]['n_users'].values[0] / user_rating_counts['n_users'].sum() * 100:.2f}%\"\n",
    ")\n",
    "print(\n",
    "    f\"Items with 1 rating: {item_rating_counts[item_rating_counts['n_ratings'] == 1]['n_items'].values[0] / item_rating_counts['n_items'].sum() * 100:.2f}%\"\n",
    ")"
   ]
  }
 ],
 "metadata": {
  "kernelspec": {
   "display_name": "Python 3",
   "language": "python",
   "name": "python3"
  },
  "language_info": {
   "codemirror_mode": {
    "name": "ipython",
    "version": 3
   },
   "file_extension": ".py",
   "mimetype": "text/x-python",
   "name": "python",
   "nbconvert_exporter": "python",
   "pygments_lexer": "ipython3",
   "version": "3.11.9"
  }
 },
 "nbformat": 4,
 "nbformat_minor": 2
}
