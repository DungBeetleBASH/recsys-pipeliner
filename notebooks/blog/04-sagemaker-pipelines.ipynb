{
 "cells": [
  {
   "cell_type": "markdown",
   "metadata": {},
   "source": [
    "Create/update a `.env` file in the project root including the following environment variables.\n",
    "\n",
    "AWS_DEFAULT_SAGEMAKER_BUCKET\n",
    "\n",
    "AWS_PROFILE"
   ]
  },
  {
   "cell_type": "code",
   "execution_count": 1,
   "metadata": {},
   "outputs": [],
   "source": [
    "%load_ext autoreload\n",
    "%autoreload 1"
   ]
  },
  {
   "cell_type": "code",
   "execution_count": 3,
   "metadata": {},
   "outputs": [],
   "source": [
    "!mkdir -p ../../build\n",
    "!rm -rf ../../build/*\n",
    "!cp ../pipelines/recommendations_np/code/* ../../build/\n",
    "!cp -r ../../src/pipeliner ../../build/"
   ]
  },
  {
   "cell_type": "code",
   "execution_count": 4,
   "metadata": {},
   "outputs": [],
   "source": [
    "build_path = \"../../build\""
   ]
  },
  {
   "cell_type": "code",
   "execution_count": 5,
   "metadata": {},
   "outputs": [],
   "source": [
    "import os\n",
    "AWS_DEFAULT_SAGEMAKER_BUCKET = os.environ.get(\"AWS_DEFAULT_SAGEMAKER_BUCKET\", None)\n",
    "DEFAULT_BUCKET_PREFIX = \"pipelines\"\n",
    "if AWS_DEFAULT_SAGEMAKER_BUCKET is None:\n",
    "    raise ValueError(\"AWS_DEFAULT_SAGEMAKER_BUCKET is not set\")"
   ]
  },
  {
   "cell_type": "markdown",
   "metadata": {},
   "source": [
    "Log into Docker registry with ECR credentials"
   ]
  },
  {
   "cell_type": "code",
   "execution_count": null,
   "metadata": {},
   "outputs": [],
   "source": [
    "!aws ecr get-login-password --region eu-west-1 | docker login --username AWS --password-stdin 141502667606.dkr.ecr.eu-west-1.amazonaws.com"
   ]
  },
  {
   "cell_type": "code",
   "execution_count": 9,
   "metadata": {},
   "outputs": [],
   "source": [
    "import os\n",
    "import sys\n",
    "\n",
    "module_path = os.path.abspath(os.path.join(\"../../\"))\n",
    "if module_path not in sys.path:\n",
    "    sys.path.append(module_path)"
   ]
  },
  {
   "cell_type": "code",
   "execution_count": 10,
   "metadata": {},
   "outputs": [
    {
     "name": "stdout",
     "output_type": "stream",
     "text": [
      "sagemaker.config INFO - Not applying SDK defaults from location: /etc/xdg/xdg-ubuntu/sagemaker/config.yaml\n",
      "sagemaker.config INFO - Not applying SDK defaults from location: /home/pappa/.config/sagemaker/config.yaml\n"
     ]
    },
    {
     "name": "stderr",
     "output_type": "stream",
     "text": [
      "Couldn't call 'get_role' to get Role ARN from role name pappa to get Role path.\n"
     ]
    },
    {
     "data": {
      "text/plain": [
       "'arn:aws:iam::477807511636:role/pipeliner'"
      ]
     },
     "execution_count": 10,
     "metadata": {},
     "output_type": "execute_result"
    }
   ],
   "source": [
    "import sagemaker\n",
    "import boto3\n",
    "\n",
    "try:\n",
    "    role = sagemaker.get_execution_role()\n",
    "except ValueError:\n",
    "    iam = boto3.client(\"iam\")\n",
    "    role = iam.get_role(RoleName=\"pipeliner\")[\"Role\"][\"Arn\"]\n",
    "\n",
    "role"
   ]
  },
  {
   "cell_type": "code",
   "execution_count": 12,
   "metadata": {},
   "outputs": [
    {
     "data": {
      "text/plain": [
       "'sagemaker-eu-west-1-477807511636'"
      ]
     },
     "execution_count": 12,
     "metadata": {},
     "output_type": "execute_result"
    }
   ],
   "source": [
    "from sagemaker.workflow.pipeline_context import LocalPipelineSession\n",
    "\n",
    "session = LocalPipelineSession(\n",
    "    default_bucket=AWS_DEFAULT_SAGEMAKER_BUCKET,\n",
    "    default_bucket_prefix=DEFAULT_BUCKET_PREFIX,\n",
    ")\n",
    "session.config = {\"local\": {\"local_code\": True}}\n",
    "\n",
    "region = session.boto_region_name\n",
    "default_bucket = session.default_bucket()"
   ]
  },
  {
   "cell_type": "code",
   "execution_count": 16,
   "metadata": {},
   "outputs": [
    {
     "data": {
      "text/html": [
       "<div>\n",
       "<style scoped>\n",
       "    .dataframe tbody tr th:only-of-type {\n",
       "        vertical-align: middle;\n",
       "    }\n",
       "\n",
       "    .dataframe tbody tr th {\n",
       "        vertical-align: top;\n",
       "    }\n",
       "\n",
       "    .dataframe thead th {\n",
       "        text-align: right;\n",
       "    }\n",
       "</style>\n",
       "<table border=\"1\" class=\"dataframe\">\n",
       "  <thead>\n",
       "    <tr style=\"text-align: right;\">\n",
       "      <th></th>\n",
       "      <th>user_id</th>\n",
       "      <th>item_id</th>\n",
       "      <th>date</th>\n",
       "      <th>interactions</th>\n",
       "    </tr>\n",
       "  </thead>\n",
       "  <tbody>\n",
       "    <tr>\n",
       "      <th>0</th>\n",
       "      <td>U007714</td>\n",
       "      <td>I00372373</td>\n",
       "      <td>2024-09-08</td>\n",
       "      <td>1.0</td>\n",
       "    </tr>\n",
       "    <tr>\n",
       "      <th>1</th>\n",
       "      <td>U007714</td>\n",
       "      <td>I00605528</td>\n",
       "      <td>2024-09-08</td>\n",
       "      <td>1.0</td>\n",
       "    </tr>\n",
       "    <tr>\n",
       "      <th>2</th>\n",
       "      <td>U013522</td>\n",
       "      <td>I01182960</td>\n",
       "      <td>2024-09-08</td>\n",
       "      <td>2.0</td>\n",
       "    </tr>\n",
       "  </tbody>\n",
       "</table>\n",
       "</div>"
      ],
      "text/plain": [
       "   user_id    item_id        date  interactions\n",
       "0  U007714  I00372373  2024-09-08           1.0\n",
       "1  U007714  I00605528  2024-09-08           1.0\n",
       "2  U013522  I01182960  2024-09-08           2.0"
      ]
     },
     "execution_count": 16,
     "metadata": {},
     "output_type": "execute_result"
    }
   ],
   "source": [
    "import pandas as pd\n",
    "import numpy as np\n",
    "\n",
    "data_types = {\"user_id\": str, \"item_id\": str, \"rating\": np.float32}\n",
    "\n",
    "user_item_interactions = pd.read_csv(\n",
    "    \"../../tests/test_data/user_item_interactions_30_days.csv\", dtype=data_types, engine=\"python\"\n",
    ")\n",
    "user_item_interactions.head(3)"
   ]
  },
  {
   "cell_type": "code",
   "execution_count": null,
   "metadata": {},
   "outputs": [],
   "source": [
    "# save the data for later use\n",
    "!mkdir -p ../pipelines/recommendations_np/data\n",
    "\n",
    "ratings_data_path = \"../pipelines/recommendations_np/data/user_item_interactions.csv.gz\"\n",
    "\n",
    "user_item_interactions.to_csv(\n",
    "    \"../pipelines/recommendations_np/data/user_item_interactions.csv.gz\", compression=\"gzip\", index=False\n",
    ")"
   ]
  },
  {
   "cell_type": "code",
   "execution_count": 38,
   "metadata": {},
   "outputs": [
    {
     "data": {
      "text/html": [
       "<div>\n",
       "<style scoped>\n",
       "    .dataframe tbody tr th:only-of-type {\n",
       "        vertical-align: middle;\n",
       "    }\n",
       "\n",
       "    .dataframe tbody tr th {\n",
       "        vertical-align: top;\n",
       "    }\n",
       "\n",
       "    .dataframe thead th {\n",
       "        text-align: right;\n",
       "    }\n",
       "</style>\n",
       "<table border=\"1\" class=\"dataframe\">\n",
       "  <thead>\n",
       "    <tr style=\"text-align: right;\">\n",
       "      <th></th>\n",
       "      <th>user_id</th>\n",
       "      <th>item_id</th>\n",
       "      <th>date</th>\n",
       "      <th>interactions</th>\n",
       "    </tr>\n",
       "  </thead>\n",
       "  <tbody>\n",
       "    <tr>\n",
       "      <th>13</th>\n",
       "      <td>U020471</td>\n",
       "      <td>I00004763</td>\n",
       "      <td>2024-09-08</td>\n",
       "      <td>1.0</td>\n",
       "    </tr>\n",
       "    <tr>\n",
       "      <th>14</th>\n",
       "      <td>U006722</td>\n",
       "      <td>I00544482</td>\n",
       "      <td>2024-09-08</td>\n",
       "      <td>1.0</td>\n",
       "    </tr>\n",
       "    <tr>\n",
       "      <th>16</th>\n",
       "      <td>U068565</td>\n",
       "      <td>I01127785</td>\n",
       "      <td>2024-09-08</td>\n",
       "      <td>1.0</td>\n",
       "    </tr>\n",
       "  </tbody>\n",
       "</table>\n",
       "</div>"
      ],
      "text/plain": [
       "    user_id    item_id        date  interactions\n",
       "13  U020471  I00004763  2024-09-08           1.0\n",
       "14  U006722  I00544482  2024-09-08           1.0\n",
       "16  U068565  I01127785  2024-09-08           1.0"
      ]
     },
     "metadata": {},
     "output_type": "display_data"
    },
    {
     "data": {
      "text/html": [
       "<div>\n",
       "<style scoped>\n",
       "    .dataframe tbody tr th:only-of-type {\n",
       "        vertical-align: middle;\n",
       "    }\n",
       "\n",
       "    .dataframe tbody tr th {\n",
       "        vertical-align: top;\n",
       "    }\n",
       "\n",
       "    .dataframe thead th {\n",
       "        text-align: right;\n",
       "    }\n",
       "</style>\n",
       "<table border=\"1\" class=\"dataframe\">\n",
       "  <thead>\n",
       "    <tr style=\"text-align: right;\">\n",
       "      <th></th>\n",
       "      <th>user_id</th>\n",
       "      <th>item_id</th>\n",
       "      <th>date</th>\n",
       "      <th>interactions</th>\n",
       "    </tr>\n",
       "  </thead>\n",
       "  <tbody>\n",
       "    <tr>\n",
       "      <th>274092</th>\n",
       "      <td>U000029</td>\n",
       "      <td>I00343676</td>\n",
       "      <td>2024-09-01</td>\n",
       "      <td>1.0</td>\n",
       "    </tr>\n",
       "    <tr>\n",
       "      <th>11548</th>\n",
       "      <td>U000048</td>\n",
       "      <td>I00647513</td>\n",
       "      <td>2024-09-01</td>\n",
       "      <td>1.0</td>\n",
       "    </tr>\n",
       "    <tr>\n",
       "      <th>22449</th>\n",
       "      <td>U000086</td>\n",
       "      <td>I00139088</td>\n",
       "      <td>2024-09-01</td>\n",
       "      <td>1.0</td>\n",
       "    </tr>\n",
       "  </tbody>\n",
       "</table>\n",
       "</div>"
      ],
      "text/plain": [
       "        user_id    item_id        date  interactions\n",
       "274092  U000029  I00343676  2024-09-01           1.0\n",
       "11548   U000048  I00647513  2024-09-01           1.0\n",
       "22449   U000086  I00139088  2024-09-01           1.0"
      ]
     },
     "metadata": {},
     "output_type": "display_data"
    },
    {
     "data": {
      "text/html": [
       "<div>\n",
       "<style scoped>\n",
       "    .dataframe tbody tr th:only-of-type {\n",
       "        vertical-align: middle;\n",
       "    }\n",
       "\n",
       "    .dataframe tbody tr th {\n",
       "        vertical-align: top;\n",
       "    }\n",
       "\n",
       "    .dataframe thead th {\n",
       "        text-align: right;\n",
       "    }\n",
       "</style>\n",
       "<table border=\"1\" class=\"dataframe\">\n",
       "  <thead>\n",
       "    <tr style=\"text-align: right;\">\n",
       "      <th></th>\n",
       "      <th>user_id</th>\n",
       "      <th>item_id</th>\n",
       "    </tr>\n",
       "  </thead>\n",
       "  <tbody>\n",
       "    <tr>\n",
       "      <th>1504178</th>\n",
       "      <td>U000003</td>\n",
       "      <td>I01111027</td>\n",
       "    </tr>\n",
       "    <tr>\n",
       "      <th>1111144</th>\n",
       "      <td>U000004</td>\n",
       "      <td>I00440954</td>\n",
       "    </tr>\n",
       "    <tr>\n",
       "      <th>1810652</th>\n",
       "      <td>U000005</td>\n",
       "      <td>I00209959</td>\n",
       "    </tr>\n",
       "  </tbody>\n",
       "</table>\n",
       "</div>"
      ],
      "text/plain": [
       "         user_id    item_id\n",
       "1504178  U000003  I01111027\n",
       "1111144  U000004  I00440954\n",
       "1810652  U000005  I00209959"
      ]
     },
     "metadata": {},
     "output_type": "display_data"
    },
    {
     "data": {
      "text/html": [
       "<div>\n",
       "<style scoped>\n",
       "    .dataframe tbody tr th:only-of-type {\n",
       "        vertical-align: middle;\n",
       "    }\n",
       "\n",
       "    .dataframe tbody tr th {\n",
       "        vertical-align: top;\n",
       "    }\n",
       "\n",
       "    .dataframe thead th {\n",
       "        text-align: right;\n",
       "    }\n",
       "</style>\n",
       "<table border=\"1\" class=\"dataframe\">\n",
       "  <thead>\n",
       "    <tr style=\"text-align: right;\">\n",
       "      <th></th>\n",
       "      <th>user_id</th>\n",
       "      <th>item_id</th>\n",
       "      <th>rating</th>\n",
       "    </tr>\n",
       "  </thead>\n",
       "  <tbody>\n",
       "    <tr>\n",
       "      <th>0</th>\n",
       "      <td>U000003</td>\n",
       "      <td>I00037925</td>\n",
       "      <td>0.60648</td>\n",
       "    </tr>\n",
       "    <tr>\n",
       "      <th>1</th>\n",
       "      <td>U000003</td>\n",
       "      <td>I00189384</td>\n",
       "      <td>0.60648</td>\n",
       "    </tr>\n",
       "    <tr>\n",
       "      <th>2</th>\n",
       "      <td>U000003</td>\n",
       "      <td>I00256366</td>\n",
       "      <td>0.60648</td>\n",
       "    </tr>\n",
       "  </tbody>\n",
       "</table>\n",
       "</div>"
      ],
      "text/plain": [
       "   user_id    item_id   rating\n",
       "0  U000003  I00037925  0.60648\n",
       "1  U000003  I00189384  0.60648\n",
       "2  U000003  I00256366  0.60648"
      ]
     },
     "metadata": {},
     "output_type": "display_data"
    },
    {
     "data": {
      "text/plain": [
       "((49952, 4), (1777406, 4))"
      ]
     },
     "execution_count": 38,
     "metadata": {},
     "output_type": "execute_result"
    }
   ],
   "source": [
    "# temporarily recreate the code in preprocessor.py\n",
    "\n",
    "df = user_item_interactions\n",
    "\n",
    "\n",
    "MIN_USER_RATINGS = 5\n",
    "INTERACTION_CAP = 5\n",
    "\n",
    "user_id_value_counts = df.user_id.value_counts()\n",
    "\n",
    "excluded_users = (\n",
    "    user_id_value_counts[user_id_value_counts < MIN_USER_RATINGS]\n",
    "    .index.to_series()\n",
    "    .reset_index(drop=True)\n",
    ")\n",
    "\n",
    "excluded_data_df = df[\n",
    "    df.user_id.isin(excluded_users)\n",
    "]\n",
    "\n",
    "test_train_data_df = df[\n",
    "    ~df.user_id.isin(excluded_users)\n",
    "].sort_values(by=[\"date\", \"user_id\"], ascending=True)\n",
    "\n",
    "test_data_df = (\n",
    "    test_train_data_df\n",
    "    .reset_index()\n",
    "    .groupby([\"user_id\"], as_index=False)\n",
    "    .last()\n",
    "    .set_index(\"index\")\n",
    ")[[\"user_id\", \"item_id\"]]\n",
    "test_data_df.index.names = [None]\n",
    "\n",
    "train_data_df = (\n",
    "    test_train_data_df[~test_train_data_df.index.isin(test_data_df.index)]\n",
    "    .groupby([\"user_id\", \"item_id\"])\n",
    "    .agg({\"interactions\": \"sum\"})\n",
    "    .reset_index()\n",
    ")\n",
    "\n",
    "\n",
    "train_data_df[\"interactions_capped\"] = np.minimum(\n",
    "    train_data_df.interactions, INTERACTION_CAP\n",
    ")\n",
    "train_data_df[\"rating\"] = 1 + np.log1p(\n",
    "    train_data_df[\"interactions_capped\"]\n",
    ")\n",
    "train_data_df[\"rating\"] = (\n",
    "    train_data_df[\"rating\"] / train_data_df[\"rating\"].max()\n",
    ").round(5)\n",
    "\n",
    "train_data_df = train_data_df[[\"user_id\", \"item_id\", \"rating\"]]\n",
    "\n",
    "display(excluded_data_df.head(3))\n",
    "display(test_train_data_df.head(3))\n",
    "\n",
    "\n",
    "display(test_data_df.head(3))\n",
    "display(train_data_df.head(3))\n",
    "\n",
    "excluded_data_df.shape, test_train_data_df.shape\n"
   ]
  },
  {
   "cell_type": "code",
   "execution_count": 17,
   "metadata": {},
   "outputs": [
    {
     "data": {
      "text/plain": [
       "'s3://sagemaker-eu-west-1-477807511636/pipelines/recommender/data/user_item_interactions_30_days.csv'"
      ]
     },
     "execution_count": 17,
     "metadata": {},
     "output_type": "execute_result"
    }
   ],
   "source": [
    "input_data_uri = sagemaker.s3.S3Uploader.upload(\n",
    "    local_path=ratings_data_path,\n",
    "    desired_s3_uri=f\"s3://{default_bucket}/{DEFAULT_BUCKET_PREFIX}/recommender/data\",\n",
    ")\n",
    "input_data_uri"
   ]
  },
  {
   "cell_type": "code",
   "execution_count": null,
   "metadata": {},
   "outputs": [],
   "source": [
    "import sagemaker\n",
    "from sagemaker.inputs import TrainingInput\n",
    "from sagemaker.processing import ProcessingInput, ProcessingOutput\n",
    "from sagemaker.sklearn.estimator import SKLearn\n",
    "from sagemaker.sklearn.processing import SKLearnProcessor\n",
    "from sagemaker.workflow.parameters import ParameterString\n",
    "from sagemaker.workflow.pipeline import Pipeline\n",
    "from sagemaker.workflow.pipeline_context import LocalPipelineSession\n",
    "from sagemaker.workflow.steps import CacheConfig, ProcessingStep, TrainingStep\n",
    "from sagemaker.workflow.properties import PropertyFile\n",
    "\n",
    "\n",
    "class RecommenderPipeline:\n",
    "    def create(\n",
    "        self,\n",
    "        role: str,\n",
    "        name: str,\n",
    "        session: sagemaker.Session,\n",
    "        framework_version=\"1.2-1\",\n",
    "    ) -> Pipeline:\n",
    "        self.local = isinstance(session, LocalPipelineSession)\n",
    "        self.framework_version = framework_version\n",
    "\n",
    "        instance_type = ParameterString(\n",
    "            name=\"InstanceType\",\n",
    "            default_value=\"local\" if self.local else \"ml.m5.large\",\n",
    "        )\n",
    "\n",
    "        input_data = ParameterString(\n",
    "            name=\"user_item_interactions\",\n",
    "            default_value=input_data_uri,\n",
    "        )\n",
    "\n",
    "        image_uri = sagemaker.image_uris.retrieve(\n",
    "            framework=\"sklearn\",\n",
    "            region=session.boto_region_name,\n",
    "            version=\"1.2-1\",\n",
    "        )\n",
    "\n",
    "        cache_config = CacheConfig(\n",
    "            enable_caching=True,\n",
    "            expire_after=\"P30d\",  # 30 days\n",
    "        )\n",
    "\n",
    "        processor = SKLearnProcessor(\n",
    "            framework_version=framework_version,\n",
    "            instance_type=instance_type,\n",
    "            instance_count=1,\n",
    "            base_job_name=\"sklearn-processor\",\n",
    "            role=role,\n",
    "            sagemaker_session=session,\n",
    "        )\n",
    "\n",
    "        user_item_interactions_input = ProcessingInput(\n",
    "            source=input_data,\n",
    "            input_name=\"user_item_interactions\",\n",
    "            destination=\"/opt/ml/processing/input/data\",\n",
    "        )\n",
    "\n",
    "        pipeliner_input = ProcessingInput(\n",
    "            source=build_path + \"/pipeliner\",\n",
    "            input_name=\"pipeliner\",\n",
    "            destination=\"/opt/ml/processing/input/code/pipeliner\",\n",
    "        )\n",
    "\n",
    "        preprocessor_step = ProcessingStep(\n",
    "            name=\"preprocessor\",\n",
    "            step_args=processor.run(\n",
    "                inputs=[\n",
    "                    user_item_interactions_input,\n",
    "                    pipeliner_input,\n",
    "                ],\n",
    "                outputs=[\n",
    "                    ProcessingOutput(\n",
    "                        output_name=\"user_item_matrix\",\n",
    "                        source=\"/opt/ml/processing/output/user_item_matrix\",\n",
    "                    ),\n",
    "                    ProcessingOutput(\n",
    "                        output_name=\"user_similarity_matrix\",\n",
    "                        source=\"/opt/ml/processing/output/user_similarity_matrix\",\n",
    "                    ),\n",
    "                    ProcessingOutput(\n",
    "                        output_name=\"item_similarity_matrix\",\n",
    "                        source=\"/opt/ml/processing/output/item_similarity_matrix\",\n",
    "                    ),\n",
    "                    ProcessingOutput(\n",
    "                        output_name=\"test\",\n",
    "                        source=\"/opt/ml/processing/output/test\",\n",
    "                    ),\n",
    "                ],\n",
    "                code=build_path + \"/preprocessor.py\",\n",
    "            ),\n",
    "        )\n",
    "\n",
    "        sklearn_estimator = SKLearn(\n",
    "            entry_point=\"item_based_recommender.py\",\n",
    "            source_dir=build_path,\n",
    "            role=role,\n",
    "            image_uri=image_uri,\n",
    "            instance_type=instance_type,\n",
    "            sagemaker_session=session,\n",
    "            base_job_name=\"training_job\",\n",
    "            # hyperparameters=hyperparameters,\n",
    "            enable_sagemaker_metrics=True,\n",
    "        )\n",
    "\n",
    "        item_training_step = TrainingStep(\n",
    "            name=\"item_based_recommender\",\n",
    "            estimator=sklearn_estimator,\n",
    "            cache_config=cache_config,\n",
    "            inputs={\n",
    "                \"user_item_matrix\": TrainingInput(\n",
    "                    s3_data=preprocessor_step.properties.ProcessingOutputConfig.Outputs[\n",
    "                        \"user_item_matrix\"\n",
    "                    ].S3Output.S3Uri,\n",
    "                    content_type=\"text/csv\",\n",
    "                ),\n",
    "                \"item_similarity_matrix\": TrainingInput(\n",
    "                    s3_data=preprocessor_step.properties.ProcessingOutputConfig.Outputs[\n",
    "                        \"item_similarity_matrix\"\n",
    "                    ].S3Output.S3Uri,\n",
    "                    content_type=\"text/csv\",\n",
    "                ),\n",
    "            },\n",
    "        )\n",
    "\n",
    "        evaluation_processor = SKLearnProcessor(\n",
    "            framework_version=framework_version,\n",
    "            instance_type=instance_type,\n",
    "            instance_count=1,\n",
    "            base_job_name=\"sklearn-evaluation\",\n",
    "            role=role,\n",
    "            sagemaker_session=session,\n",
    "        )\n",
    "\n",
    "        evaluation_report = PropertyFile(\n",
    "            name=\"item_based_evaluation\",\n",
    "            output_name=\"evaluation\",\n",
    "            path=\"evaluation.json\",\n",
    "        )\n",
    "\n",
    "        evaluation_step = ProcessingStep(\n",
    "            name=\"item_based_evaluation\",\n",
    "            step_args=evaluation_processor.run(\n",
    "                inputs=[\n",
    "                    ProcessingInput(\n",
    "                        source=item_training_step.properties.ModelArtifacts.S3ModelArtifacts,\n",
    "                        destination=\"/opt/ml/processing/model\",\n",
    "                        input_name=\"model\",\n",
    "                    ),\n",
    "                    ProcessingInput(\n",
    "                        source=preprocessor_step.properties.ProcessingOutputConfig.Outputs[\n",
    "                            \"test\"\n",
    "                        ].S3Output.S3Uri,\n",
    "                        destination=\"/opt/ml/processing/test\",\n",
    "                    ),\n",
    "                    pipeliner_input,\n",
    "                ],\n",
    "                outputs=[\n",
    "                    ProcessingOutput(\n",
    "                        output_name=\"evaluation\", source=\"/opt/ml/processing/evaluation\"\n",
    "                    ),\n",
    "                ],\n",
    "                code=\"pipelines/recommendations/code/item_based_evaluation.py\",\n",
    "            ),\n",
    "            property_files=[evaluation_report],\n",
    "        )\n",
    "\n",
    "        return Pipeline(\n",
    "            name=name,\n",
    "            steps=[\n",
    "                preprocessor_step,\n",
    "                item_training_step,\n",
    "                evaluation_step,\n",
    "            ],\n",
    "            sagemaker_session=session,\n",
    "            parameters=[input_data, instance_type],\n",
    "        )"
   ]
  },
  {
   "cell_type": "code",
   "execution_count": null,
   "metadata": {},
   "outputs": [],
   "source": [
    "pipeline = RecommenderPipeline().create(role=role, name=\"recommender\", session=session)"
   ]
  },
  {
   "cell_type": "code",
   "execution_count": null,
   "metadata": {},
   "outputs": [],
   "source": [
    "import json\n",
    "\n",
    "definition = json.loads(pipeline.definition())\n",
    "[\n",
    "    {\"Name\": step.get(\"Name\"), \"Type\": step.get(\"Type\")}\n",
    "    for step in definition.get(\"Steps\")\n",
    "]"
   ]
  },
  {
   "cell_type": "code",
   "execution_count": null,
   "metadata": {},
   "outputs": [],
   "source": [
    "pipeline.upsert(role_arn=role)"
   ]
  },
  {
   "cell_type": "code",
   "execution_count": null,
   "metadata": {},
   "outputs": [],
   "source": [
    "execution = pipeline.start()"
   ]
  },
  {
   "cell_type": "code",
   "execution_count": null,
   "metadata": {},
   "outputs": [],
   "source": [
    "steps = execution.list_steps()\n",
    "steps"
   ]
  }
 ],
 "metadata": {
  "kernelspec": {
   "display_name": "pipeliner",
   "language": "python",
   "name": "python3"
  },
  "language_info": {
   "codemirror_mode": {
    "name": "ipython",
    "version": 3
   },
   "file_extension": ".py",
   "mimetype": "text/x-python",
   "name": "python",
   "nbconvert_exporter": "python",
   "pygments_lexer": "ipython3",
   "version": "3.11.11"
  }
 },
 "nbformat": 4,
 "nbformat_minor": 4
}
