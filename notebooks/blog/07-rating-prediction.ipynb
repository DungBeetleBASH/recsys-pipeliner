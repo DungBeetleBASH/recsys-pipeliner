{
 "cells": [
  {
   "cell_type": "code",
   "execution_count": 1,
   "id": "96396887-ac6a-45a1-8017-589c37f9e34b",
   "metadata": {},
   "outputs": [],
   "source": [
    "%%capture\n",
    "%load_ext autoreload\n",
    "%autoreload 2"
   ]
  },
  {
   "cell_type": "code",
   "execution_count": 2,
   "id": "ba1ba79c-4ebb-4338-9c98-583b120d4e35",
   "metadata": {},
   "outputs": [],
   "source": [
    "import pandas as pd\n",
    "import numpy as np\n",
    "import scipy as sp\n",
    "from sklearn.preprocessing import LabelEncoder\n",
    "from pipeliner.recommendations.transformer import (\n",
    "    SimilarityTransformer,\n",
    "    UserItemMatrixTransformer,\n",
    ")\n",
    "from pipeliner.recommendations.recommender import (\n",
    "    SimilarityRecommender,\n",
    "    ItemBasedRecommender,\n",
    "    UserBasedRecommender,\n",
    ")"
   ]
  },
  {
   "cell_type": "code",
   "execution_count": 3,
   "id": "be63daed-c28f-49a6-8fe5-8f29782187cf",
   "metadata": {},
   "outputs": [
    {
     "data": {
      "text/html": [
       "<div>\n",
       "<style scoped>\n",
       "    .dataframe tbody tr th:only-of-type {\n",
       "        vertical-align: middle;\n",
       "    }\n",
       "\n",
       "    .dataframe tbody tr th {\n",
       "        vertical-align: top;\n",
       "    }\n",
       "\n",
       "    .dataframe thead th {\n",
       "        text-align: right;\n",
       "    }\n",
       "</style>\n",
       "<table border=\"1\" class=\"dataframe\">\n",
       "  <thead>\n",
       "    <tr style=\"text-align: right;\">\n",
       "      <th></th>\n",
       "      <th>user_id</th>\n",
       "      <th>item_id</th>\n",
       "      <th>rating</th>\n",
       "    </tr>\n",
       "  </thead>\n",
       "  <tbody>\n",
       "    <tr>\n",
       "      <th>0</th>\n",
       "      <td>U00001</td>\n",
       "      <td>I00001</td>\n",
       "      <td>0.8</td>\n",
       "    </tr>\n",
       "    <tr>\n",
       "      <th>1</th>\n",
       "      <td>U00001</td>\n",
       "      <td>I00002</td>\n",
       "      <td>0.4</td>\n",
       "    </tr>\n",
       "    <tr>\n",
       "      <th>2</th>\n",
       "      <td>U00001</td>\n",
       "      <td>I00003</td>\n",
       "      <td>0.6</td>\n",
       "    </tr>\n",
       "  </tbody>\n",
       "</table>\n",
       "</div>"
      ],
      "text/plain": [
       "  user_id item_id  rating\n",
       "0  U00001  I00001     0.8\n",
       "1  U00001  I00002     0.4\n",
       "2  U00001  I00003     0.6"
      ]
     },
     "execution_count": 3,
     "metadata": {},
     "output_type": "execute_result"
    }
   ],
   "source": [
    "data_types = {\"user_id\": str, \"item_id\": str, \"rating\": np.float64}\n",
    "user_item_ratings = pd.read_csv(\"../../tests/test_data/user_item_ratings_toy.csv\", dtype=data_types)\n",
    "user_item_ratings.head(3)"
   ]
  },
  {
   "cell_type": "code",
   "execution_count": 4,
   "id": "e39a65fd",
   "metadata": {},
   "outputs": [
    {
     "name": "stdout",
     "output_type": "stream",
     "text": [
      "(12,) (24,)\n"
     ]
    },
    {
     "data": {
      "text/html": [
       "<div>\n",
       "<style scoped>\n",
       "    .dataframe tbody tr th:only-of-type {\n",
       "        vertical-align: middle;\n",
       "    }\n",
       "\n",
       "    .dataframe tbody tr th {\n",
       "        vertical-align: top;\n",
       "    }\n",
       "\n",
       "    .dataframe thead th {\n",
       "        text-align: right;\n",
       "    }\n",
       "</style>\n",
       "<table border=\"1\" class=\"dataframe\">\n",
       "  <thead>\n",
       "    <tr style=\"text-align: right;\">\n",
       "      <th></th>\n",
       "      <th>user_id</th>\n",
       "      <th>item_id</th>\n",
       "      <th>rating</th>\n",
       "    </tr>\n",
       "  </thead>\n",
       "  <tbody>\n",
       "    <tr>\n",
       "      <th>0</th>\n",
       "      <td>0</td>\n",
       "      <td>0</td>\n",
       "      <td>0.8</td>\n",
       "    </tr>\n",
       "    <tr>\n",
       "      <th>1</th>\n",
       "      <td>0</td>\n",
       "      <td>1</td>\n",
       "      <td>0.4</td>\n",
       "    </tr>\n",
       "    <tr>\n",
       "      <th>2</th>\n",
       "      <td>0</td>\n",
       "      <td>2</td>\n",
       "      <td>0.6</td>\n",
       "    </tr>\n",
       "  </tbody>\n",
       "</table>\n",
       "</div>"
      ],
      "text/plain": [
       "   user_id  item_id  rating\n",
       "0        0        0     0.8\n",
       "1        0        1     0.4\n",
       "2        0        2     0.6"
      ]
     },
     "execution_count": 4,
     "metadata": {},
     "output_type": "execute_result"
    }
   ],
   "source": [
    "# encode the item ids\n",
    "item_encoder = LabelEncoder()\n",
    "user_encoder = LabelEncoder()\n",
    "\n",
    "user_item_ratings[\"item_id\"] = item_encoder.fit_transform(\n",
    "    user_item_ratings[\"item_id\"]\n",
    ")\n",
    "user_item_ratings[\"user_id\"] = user_encoder.fit_transform(\n",
    "    user_item_ratings[\"user_id\"]\n",
    ")\n",
    "\n",
    "unique_users = pd.Series(user_encoder.classes_)\n",
    "unique_items = pd.Series(item_encoder.classes_)\n",
    "\n",
    "print(unique_users.shape, unique_items.shape)\n",
    "\n",
    "user_item_ratings.head(3)\n"
   ]
  },
  {
   "cell_type": "code",
   "execution_count": 5,
   "id": "9b8aa7c2",
   "metadata": {},
   "outputs": [
    {
     "data": {
      "text/plain": [
       "(12, 24)"
      ]
     },
     "execution_count": 5,
     "metadata": {},
     "output_type": "execute_result"
    }
   ],
   "source": [
    "user_item_matrix_transformer = UserItemMatrixTransformer()\n",
    "\n",
    "user_item_matrix = user_item_matrix_transformer.transform(\n",
    "    user_item_ratings.to_numpy(),\n",
    ")\n",
    "\n",
    "# check ratings from matrix are correct\n",
    "users = user_item_ratings[\"user_id\"].to_numpy().astype(int)\n",
    "items = user_item_ratings[\"item_id\"].to_numpy().astype(int)\n",
    "ratings = user_item_ratings[\"rating\"].to_numpy().astype(np.float32)\n",
    "for user, item, rating in zip(users, items, ratings):\n",
    "    assert user_item_matrix[user, item] == rating\n",
    "\n",
    "user_item_matrix.shape"
   ]
  },
  {
   "cell_type": "code",
   "execution_count": 6,
   "id": "ab9217ef",
   "metadata": {},
   "outputs": [
    {
     "data": {
      "text/plain": [
       "((24, 24), (12, 12))"
      ]
     },
     "execution_count": 6,
     "metadata": {},
     "output_type": "execute_result"
    }
   ],
   "source": [
    "item_similarity_matrix_transformer = SimilarityTransformer()\n",
    "item_similarity_matrix = item_similarity_matrix_transformer.transform(\n",
    "    user_item_matrix.T\n",
    ")\n",
    "\n",
    "user_similarity_matrix_transformer = SimilarityTransformer()\n",
    "user_similarity_matrix = user_similarity_matrix_transformer.transform(\n",
    "    user_item_matrix\n",
    ")\n",
    "\n",
    "item_similarity_matrix.shape, user_similarity_matrix.shape"
   ]
  },
  {
   "cell_type": "markdown",
   "id": "cd7c194a",
   "metadata": {},
   "source": [
    "Get generic recommendations for a user:\n",
    "1. Get their top k rated items\n",
    "2. Find similar items to those they rated highly\n",
    "3. Generate recommendations based on item similarity and rating"
   ]
  },
  {
   "cell_type": "code",
   "execution_count": 7,
   "id": "c2d5e500",
   "metadata": {},
   "outputs": [
    {
     "name": "stdout",
     "output_type": "stream",
     "text": [
      "rated [4 0 5 2 1 3]\n",
      "unrated [ 6  7  8  9 10 11 12 13 14 15 16 17 18 19 20 21 22 23]\n",
      "mean_similarity [0.26188383 0.27269283 0.1179595  0.14631233 0.         0.\n",
      " 0.         0.         0.         0.         0.         0.\n",
      " 0.         0.         0.15422617 0.12304533 0.35654083 0.26228583]\n"
     ]
    },
    {
     "data": {
      "text/plain": [
       "array(['I00023', 'I00008', 'I00024', 'I00007', 'I00021'], dtype=object)"
      ]
     },
     "execution_count": 7,
     "metadata": {},
     "output_type": "execute_result"
    }
   ],
   "source": [
    "user_id = \"U00003\"\n",
    "user_idx = user_encoder.transform([user_id])[0]\n",
    "n=5\n",
    "k=10\n",
    "\n",
    "_, users_rated_items, users_ratings = sp.sparse.find(user_item_matrix[user_idx, :])\n",
    "\n",
    "# get the top k rated items\n",
    "top_k_users_rated_items = np.argsort(1 - users_ratings)[:k]\n",
    "# and all items not rated by the user\n",
    "users_unrated_items = np.setdiff1d(np.arange(item_similarity_matrix.shape[0]), top_k_users_rated_items)\n",
    "\n",
    "print(\"rated\", top_k_users_rated_items)\n",
    "print(\"unrated\", users_unrated_items)\n",
    "\n",
    "# filter the similarity matrix (rows=rated, cols=unrated)\n",
    "single_user_item_similarity_matrix = item_similarity_matrix[top_k_users_rated_items[:, None], users_unrated_items]\n",
    "\n",
    "# calculate the mena similarity of all the user's unrated items\n",
    "mean_similarity = single_user_item_similarity_matrix.mean(axis=0)\n",
    "print(\"mean_similarity\", mean_similarity)\n",
    "\n",
    "# sort get the top n most similar items\n",
    "similarity_selector = np.argsort(1 - mean_similarity)[:n]\n",
    "sorted_similarity = mean_similarity[similarity_selector]\n",
    "items = users_unrated_items[similarity_selector]\n",
    "recommendations = item_encoder.inverse_transform(items)\n",
    "\n",
    "recommendations"
   ]
  },
  {
   "cell_type": "markdown",
   "id": "17bdc354",
   "metadata": {},
   "source": [
    "## Item-based prediction\n",
    "\n",
    "Given a user_id and an item_id:\n",
    "\n",
    "1. Get all items the user has rated\n",
    "2. Sort by similarity to item_id\n",
    "3. Get top k\n",
    "4. Calculate weighted average rating\n",
    "5. Return estimated score"
   ]
  },
  {
   "cell_type": "code",
   "execution_count": 8,
   "id": "3db3001d",
   "metadata": {},
   "outputs": [
    {
     "name": "stdout",
     "output_type": "stream",
     "text": [
      "user_idx 2\n",
      "item_idx 9\n",
      "users_rated_items [4 5 6 7 8 9]\n",
      "users_ratings [0.82 0.42 0.62 0.22 1.   0.82]\n",
      "item_similarities [0.490569 0.387305 0.506639 0.30895  0.9601   1.      ]\n",
      "top_k_mask [4 2 0 1 3]\n",
      "top_k_users_rated_items [8 6 4 5 7]\n",
      "top_k_user_ratings [1.   0.62 0.82 0.42 0.22]\n",
      "top_k_rated_item_similarities [0.9601   0.506639 0.490569 0.387305 0.30895 ]\n",
      "predicted_score 0.718702\n"
     ]
    }
   ],
   "source": [
    "item_id = \"I00010\"\n",
    "item_idx = item_encoder.transform([item_id])[0]\n",
    "k=5\n",
    "\n",
    "print(\"user_idx\", user_idx)\n",
    "print(\"item_idx\", item_idx)\n",
    "\n",
    "_, users_rated_items, users_ratings = sp.sparse.find(user_item_matrix[user_idx, :])\n",
    "\n",
    "print(\"users_rated_items\", users_rated_items)\n",
    "print(\"users_ratings\", users_ratings)\n",
    "\n",
    "# get the similarities to item_id\n",
    "item_similarities = item_similarity_matrix[:, users_rated_items][item_idx].toarray().astype(np.float32).round(6)\n",
    "print(\"item_similarities\", item_similarities)\n",
    "\n",
    "# sort by similarity (desc) and get top k\n",
    "top_k_mask = np.argsort(1 - item_similarities)[1:k+1]\n",
    "print(\"top_k_mask\", top_k_mask)\n",
    "\n",
    "top_k_users_rated_items = users_rated_items[top_k_mask]\n",
    "top_k_user_ratings = users_ratings[top_k_mask]\n",
    "top_k_rated_item_similarities = item_similarities[top_k_mask]\n",
    "\n",
    "print(\"top_k_users_rated_items\", top_k_users_rated_items)\n",
    "print(\"top_k_user_ratings\", top_k_user_ratings)\n",
    "print(\"top_k_rated_item_similarities\", top_k_rated_item_similarities)\n",
    "\n",
    "# weighted average rating\n",
    "predicted_score = np.average(top_k_user_ratings, axis=0, weights=top_k_rated_item_similarities).astype(np.float32).round(6)\n",
    "print(\"predicted_score\", predicted_score)"
   ]
  },
  {
   "cell_type": "code",
   "execution_count": 9,
   "id": "ac69e143",
   "metadata": {},
   "outputs": [
    {
     "name": "stdout",
     "output_type": "stream",
     "text": [
      "I00007 0.607503\n",
      "I00008 0.718121\n",
      "I00009 0.64528\n",
      "I00010 0.718702\n",
      "I00011 0.5717\n",
      "I00012 0.543242\n",
      "I00013 0.819996\n",
      "I00014 0.819997\n",
      "I00015 0.616\n",
      "I00016 0.616\n"
     ]
    }
   ],
   "source": [
    "item_based_recommender = ItemBasedRecommender(k=5)\n",
    "item_based_recommender.fit(user_item_matrix)\n",
    "\n",
    "for id in users_unrated_items[:10]:\n",
    "    prediction = item_based_recommender.predict(user_idx, id)\n",
    "    item_id = item_encoder.inverse_transform([id])[0]\n",
    "    print(item_id, prediction)"
   ]
  },
  {
   "cell_type": "markdown",
   "id": "c65610c1",
   "metadata": {},
   "source": [
    "## User-based prediction\n",
    "\n",
    "1. Get users who have rated item_id\n",
    "2. Sort by similarity to user_id\n",
    "3. Get top k\n",
    "4. Get those users' rating of item_id\n",
    "5. Calculate weighted average rating\n",
    "6. Return estimated score"
   ]
  },
  {
   "cell_type": "code",
   "execution_count": 10,
   "id": "8ddd149c",
   "metadata": {},
   "outputs": [
    {
     "name": "stdout",
     "output_type": "stream",
     "text": [
      "user_idx 2\n",
      "item_idx 9\n",
      "users [2 3 4]\n",
      "users_ratings [0.82 0.23 0.44]\n",
      "similar_users [0 1 2]\n",
      "user_similarities [1.       0.478629 0.398616]\n",
      "top_k_mask [1 2]\n",
      "top_k_users [3 4]\n",
      "top_k_users_ratings [0.23 0.44]\n",
      "top_k_users_similarities [0.478629 0.398616]\n",
      "predicted_score 0.325423\n"
     ]
    }
   ],
   "source": [
    "user_id = \"U00003\"\n",
    "user_idx = user_encoder.transform([user_id])[0]\n",
    "n=5\n",
    "k=10\n",
    "\n",
    "print(\"user_idx\", user_idx)\n",
    "print(\"item_idx\", item_idx)\n",
    "\n",
    "_, users, users_ratings = sp.sparse.find(user_item_matrix[:, item_idx])\n",
    "\n",
    "print(\"users\", users)\n",
    "print(\"users_ratings\", users_ratings)\n",
    "\n",
    "# get the similarities to user_id\n",
    "_, similar_users, user_similarities = sp.sparse.find(user_similarity_matrix[user_idx, users])\n",
    "\n",
    "print(\"similar_users\", similar_users)\n",
    "print(\"user_similarities\", user_similarities)\n",
    "\n",
    "# sort by similarity (desc) and get top k\n",
    "top_k_mask = np.argsort(1 - user_similarities)[1:k+1]\n",
    "print(\"top_k_mask\", top_k_mask)\n",
    "\n",
    "top_k_users = users[top_k_mask]\n",
    "top_k_users_ratings = users_ratings[top_k_mask]\n",
    "top_k_users_similarities = user_similarities[top_k_mask]\n",
    "\n",
    "print(\"top_k_users\", top_k_users)\n",
    "print(\"top_k_users_ratings\", top_k_users_ratings)\n",
    "print(\"top_k_users_similarities\", top_k_users_similarities)\n",
    "\n",
    "# weighted average rating\n",
    "predicted_score = np.average(top_k_users_ratings, axis=0, weights=top_k_users_similarities).astype(np.float32).round(6)\n",
    "print(\"predicted_score\", predicted_score)"
   ]
  },
  {
   "cell_type": "code",
   "execution_count": 11,
   "id": "cc671b9e",
   "metadata": {},
   "outputs": [
    {
     "name": "stdout",
     "output_type": "stream",
     "text": [
      "2 6\n",
      "users [1 2 3]\n",
      "users_ratings [1.   0.62 0.83]\n",
      "similar_users [0 1 2]\n",
      "user_similarities [0.474034 1.       0.478629]\n",
      "top_k_mask [2 0]\n",
      "top_k_users [3 1]\n",
      "top_k_users_ratings [0.83 1.  ]\n",
      "top_k_users_similarities [0.478629 0.474034]\n",
      "predicted_score 0.91459\n",
      "I00007 0.91459\n",
      "2 7\n",
      "users [1 2 3]\n",
      "users_ratings [0.81 0.22 0.43]\n",
      "similar_users [0 1 2]\n",
      "user_similarities [0.474034 1.       0.478629]\n",
      "top_k_mask [2 0]\n",
      "top_k_users [3 1]\n",
      "top_k_users_ratings [0.43 0.81]\n",
      "top_k_users_similarities [0.478629 0.474034]\n",
      "predicted_score 0.619084\n",
      "I00008 0.619084\n",
      "2 8\n",
      "users [2 3 4]\n",
      "users_ratings [1.   0.63 0.84]\n",
      "similar_users [0 1 2]\n",
      "user_similarities [1.       0.478629 0.398616]\n",
      "top_k_mask [1 2]\n",
      "top_k_users [3 4]\n",
      "top_k_users_ratings [0.63 0.84]\n",
      "top_k_users_similarities [0.478629 0.398616]\n",
      "predicted_score 0.725423\n",
      "I00009 0.725423\n",
      "2 9\n",
      "users [2 3 4]\n",
      "users_ratings [0.82 0.23 0.44]\n",
      "similar_users [0 1 2]\n",
      "user_similarities [1.       0.478629 0.398616]\n",
      "top_k_mask [1 2]\n",
      "top_k_users [3 4]\n",
      "top_k_users_ratings [0.23 0.44]\n",
      "top_k_users_similarities [0.478629 0.398616]\n",
      "predicted_score 0.325423\n",
      "I00010 0.325423\n",
      "2 10\n",
      "users [3 4 5]\n",
      "users_ratings [1.   0.64 0.85]\n",
      "similar_users [0 1]\n",
      "user_similarities [0.478629 0.398616]\n",
      "top_k_mask [1]\n",
      "top_k_users [4]\n",
      "top_k_users_ratings [0.64]\n",
      "top_k_users_similarities [0.398616]\n",
      "predicted_score 0.64\n",
      "I00011 0.64\n",
      "2 11\n",
      "users [3 4 5]\n",
      "users_ratings [0.83 0.24 0.45]\n",
      "similar_users [0 1]\n",
      "user_similarities [0.478629 0.398616]\n",
      "top_k_mask [1]\n",
      "top_k_users [4]\n",
      "top_k_users_ratings [0.24]\n",
      "top_k_users_similarities [0.398616]\n",
      "predicted_score 0.24\n",
      "I00012 0.24\n",
      "2 12\n",
      "users [4 5 6]\n",
      "users_ratings [1.   0.65 0.86]\n",
      "similar_users [0]\n",
      "user_similarities [0.398616]\n",
      "top_k_mask []\n",
      "top_k_users []\n",
      "top_k_users_ratings []\n",
      "top_k_users_similarities []\n"
     ]
    },
    {
     "ename": "ZeroDivisionError",
     "evalue": "Weights sum to zero, can't be normalized",
     "output_type": "error",
     "traceback": [
      "\u001b[31m---------------------------------------------------------------------------\u001b[39m",
      "\u001b[31mZeroDivisionError\u001b[39m                         Traceback (most recent call last)",
      "\u001b[36mCell\u001b[39m\u001b[36m \u001b[39m\u001b[32mIn[11]\u001b[39m\u001b[32m, line 5\u001b[39m\n\u001b[32m      2\u001b[39m user_based_recommender.fit(user_item_matrix)\n\u001b[32m      4\u001b[39m \u001b[38;5;28;01mfor\u001b[39;00m \u001b[38;5;28mid\u001b[39m \u001b[38;5;129;01min\u001b[39;00m users_unrated_items[:\u001b[32m10\u001b[39m]:\n\u001b[32m----> \u001b[39m\u001b[32m5\u001b[39m     prediction = \u001b[43muser_based_recommender\u001b[49m\u001b[43m.\u001b[49m\u001b[43mpredict\u001b[49m\u001b[43m(\u001b[49m\u001b[43muser_idx\u001b[49m\u001b[43m,\u001b[49m\u001b[43m \u001b[49m\u001b[38;5;28;43mid\u001b[39;49m\u001b[43m)\u001b[49m\n\u001b[32m      6\u001b[39m     item_id = item_encoder.inverse_transform([\u001b[38;5;28mid\u001b[39m])[\u001b[32m0\u001b[39m]\n\u001b[32m      7\u001b[39m     \u001b[38;5;28mprint\u001b[39m(item_id, prediction)\n",
      "\u001b[36mFile \u001b[39m\u001b[32m~/Projects/Pappa/pipeliner/src/pipeliner/recommendations/recommender.py:175\u001b[39m, in \u001b[36mUserBasedRecommender.predict\u001b[39m\u001b[34m(self, user_id, item_id)\u001b[39m\n\u001b[32m    172\u001b[39m \u001b[38;5;28mprint\u001b[39m(\u001b[33m\"\u001b[39m\u001b[33mtop_k_users_similarities\u001b[39m\u001b[33m\"\u001b[39m, top_k_users_similarities)\n\u001b[32m    174\u001b[39m \u001b[38;5;66;03m# weighted average rating\u001b[39;00m\n\u001b[32m--> \u001b[39m\u001b[32m175\u001b[39m predicted_score = \u001b[43mnp\u001b[49m\u001b[43m.\u001b[49m\u001b[43maverage\u001b[49m\u001b[43m(\u001b[49m\u001b[43mtop_k_users_ratings\u001b[49m\u001b[43m,\u001b[49m\u001b[43m \u001b[49m\u001b[43maxis\u001b[49m\u001b[43m=\u001b[49m\u001b[32;43m0\u001b[39;49m\u001b[43m,\u001b[49m\u001b[43m \u001b[49m\u001b[43mweights\u001b[49m\u001b[43m=\u001b[49m\u001b[43mtop_k_users_similarities\u001b[49m\u001b[43m)\u001b[49m.astype(np.float32).round(\u001b[32m6\u001b[39m)\n\u001b[32m    176\u001b[39m \u001b[38;5;28mprint\u001b[39m(\u001b[33m\"\u001b[39m\u001b[33mpredicted_score\u001b[39m\u001b[33m\"\u001b[39m, predicted_score)\n\u001b[32m    177\u001b[39m \u001b[38;5;28;01mreturn\u001b[39;00m predicted_score\n",
      "\u001b[36mFile \u001b[39m\u001b[32m~/Projects/Pappa/pipeliner/.venv/lib/python3.11/site-packages/numpy/lib/function_base.py:550\u001b[39m, in \u001b[36maverage\u001b[39m\u001b[34m(a, axis, weights, returned, keepdims)\u001b[39m\n\u001b[32m    548\u001b[39m     scl = wgt.sum(axis=axis, dtype=result_dtype, **keepdims_kw)\n\u001b[32m    549\u001b[39m     \u001b[38;5;28;01mif\u001b[39;00m np.any(scl == \u001b[32m0.0\u001b[39m):\n\u001b[32m--> \u001b[39m\u001b[32m550\u001b[39m         \u001b[38;5;28;01mraise\u001b[39;00m \u001b[38;5;167;01mZeroDivisionError\u001b[39;00m(\n\u001b[32m    551\u001b[39m             \u001b[33m\"\u001b[39m\u001b[33mWeights sum to zero, can\u001b[39m\u001b[33m'\u001b[39m\u001b[33mt be normalized\u001b[39m\u001b[33m\"\u001b[39m)\n\u001b[32m    553\u001b[39m     avg = avg_as_array = np.multiply(a, wgt,\n\u001b[32m    554\u001b[39m                       dtype=result_dtype).sum(axis, **keepdims_kw) / scl\n\u001b[32m    556\u001b[39m \u001b[38;5;28;01mif\u001b[39;00m returned:\n",
      "\u001b[31mZeroDivisionError\u001b[39m: Weights sum to zero, can't be normalized"
     ]
    }
   ],
   "source": [
    "user_based_recommender = UserBasedRecommender(k=5)\n",
    "user_based_recommender.fit(user_item_matrix)\n",
    "\n",
    "for id in users_unrated_items[:10]:\n",
    "    prediction = user_based_recommender.predict(user_idx, id)\n",
    "    item_id = item_encoder.inverse_transform([id])[0]\n",
    "    print(item_id, prediction)"
   ]
  }
 ],
 "metadata": {
  "kernelspec": {
   "display_name": ".venv",
   "language": "python",
   "name": "python3"
  },
  "language_info": {
   "codemirror_mode": {
    "name": "ipython",
    "version": 3
   },
   "file_extension": ".py",
   "mimetype": "text/x-python",
   "name": "python",
   "nbconvert_exporter": "python",
   "pygments_lexer": "ipython3",
   "version": "3.11.12"
  }
 },
 "nbformat": 4,
 "nbformat_minor": 5
}
