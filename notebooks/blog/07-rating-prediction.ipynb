{
 "cells": [
  {
   "cell_type": "code",
   "execution_count": 15,
   "id": "96396887-ac6a-45a1-8017-589c37f9e34b",
   "metadata": {},
   "outputs": [],
   "source": [
    "%%capture\n",
    "%load_ext autoreload\n",
    "%autoreload 1"
   ]
  },
  {
   "cell_type": "code",
   "execution_count": 16,
   "id": "ba1ba79c-4ebb-4338-9c98-583b120d4e35",
   "metadata": {},
   "outputs": [],
   "source": [
    "import pandas as pd\n",
    "import numpy as np\n",
    "import scipy as sp\n",
    "from sklearn.preprocessing import LabelEncoder\n",
    "from pipeliner.recommendations.transformer import (\n",
    "    SimilarityTransformer,\n",
    "    UserItemMatrixTransformer,\n",
    ")\n",
    "from pipeliner.recommendations.recommender import SimilarityRecommender"
   ]
  },
  {
   "cell_type": "code",
   "execution_count": 17,
   "id": "be63daed-c28f-49a6-8fe5-8f29782187cf",
   "metadata": {},
   "outputs": [
    {
     "data": {
      "text/html": [
       "<div>\n",
       "<style scoped>\n",
       "    .dataframe tbody tr th:only-of-type {\n",
       "        vertical-align: middle;\n",
       "    }\n",
       "\n",
       "    .dataframe tbody tr th {\n",
       "        vertical-align: top;\n",
       "    }\n",
       "\n",
       "    .dataframe thead th {\n",
       "        text-align: right;\n",
       "    }\n",
       "</style>\n",
       "<table border=\"1\" class=\"dataframe\">\n",
       "  <thead>\n",
       "    <tr style=\"text-align: right;\">\n",
       "      <th></th>\n",
       "      <th>user_id</th>\n",
       "      <th>item_id</th>\n",
       "      <th>rating</th>\n",
       "    </tr>\n",
       "  </thead>\n",
       "  <tbody>\n",
       "    <tr>\n",
       "      <th>0</th>\n",
       "      <td>U00001</td>\n",
       "      <td>I00001</td>\n",
       "      <td>1.0</td>\n",
       "    </tr>\n",
       "    <tr>\n",
       "      <th>1</th>\n",
       "      <td>U00001</td>\n",
       "      <td>I00002</td>\n",
       "      <td>0.5</td>\n",
       "    </tr>\n",
       "    <tr>\n",
       "      <th>2</th>\n",
       "      <td>U00001</td>\n",
       "      <td>I00003</td>\n",
       "      <td>0.5</td>\n",
       "    </tr>\n",
       "  </tbody>\n",
       "</table>\n",
       "</div>"
      ],
      "text/plain": [
       "  user_id item_id  rating\n",
       "0  U00001  I00001     1.0\n",
       "1  U00001  I00002     0.5\n",
       "2  U00001  I00003     0.5"
      ]
     },
     "execution_count": 17,
     "metadata": {},
     "output_type": "execute_result"
    }
   ],
   "source": [
    "data_types = {\"user_id\": str, \"item_id\": str, \"rating\": np.float64}\n",
    "user_item_ratings = pd.read_csv(\"../../tests/test_data/user_item_ratings_toy.csv\", dtype=data_types)\n",
    "user_item_ratings.head(3)"
   ]
  },
  {
   "cell_type": "code",
   "execution_count": 18,
   "id": "e39a65fd",
   "metadata": {},
   "outputs": [
    {
     "data": {
      "text/html": [
       "<div>\n",
       "<style scoped>\n",
       "    .dataframe tbody tr th:only-of-type {\n",
       "        vertical-align: middle;\n",
       "    }\n",
       "\n",
       "    .dataframe tbody tr th {\n",
       "        vertical-align: top;\n",
       "    }\n",
       "\n",
       "    .dataframe thead th {\n",
       "        text-align: right;\n",
       "    }\n",
       "</style>\n",
       "<table border=\"1\" class=\"dataframe\">\n",
       "  <thead>\n",
       "    <tr style=\"text-align: right;\">\n",
       "      <th></th>\n",
       "      <th>user_id</th>\n",
       "      <th>item_id</th>\n",
       "      <th>rating</th>\n",
       "    </tr>\n",
       "  </thead>\n",
       "  <tbody>\n",
       "    <tr>\n",
       "      <th>0</th>\n",
       "      <td>0</td>\n",
       "      <td>0</td>\n",
       "      <td>1.0</td>\n",
       "    </tr>\n",
       "    <tr>\n",
       "      <th>1</th>\n",
       "      <td>0</td>\n",
       "      <td>1</td>\n",
       "      <td>0.5</td>\n",
       "    </tr>\n",
       "    <tr>\n",
       "      <th>2</th>\n",
       "      <td>0</td>\n",
       "      <td>2</td>\n",
       "      <td>0.5</td>\n",
       "    </tr>\n",
       "  </tbody>\n",
       "</table>\n",
       "</div>"
      ],
      "text/plain": [
       "   user_id  item_id  rating\n",
       "0        0        0     1.0\n",
       "1        0        1     0.5\n",
       "2        0        2     0.5"
      ]
     },
     "execution_count": 18,
     "metadata": {},
     "output_type": "execute_result"
    }
   ],
   "source": [
    "# encode the item ids\n",
    "item_encoder = LabelEncoder()\n",
    "user_encoder = LabelEncoder()\n",
    "\n",
    "user_item_ratings[\"item_id\"] = item_encoder.fit_transform(\n",
    "    user_item_ratings[\"item_id\"]\n",
    ")\n",
    "user_item_ratings[\"user_id\"] = user_encoder.fit_transform(\n",
    "    user_item_ratings[\"user_id\"]\n",
    ")\n",
    "\n",
    "unique_users = pd.Series(user_encoder.classes_)\n",
    "unique_items = pd.Series(item_encoder.classes_)\n",
    "\n",
    "user_item_ratings.head(3)\n"
   ]
  },
  {
   "cell_type": "code",
   "execution_count": 19,
   "id": "9b8aa7c2",
   "metadata": {},
   "outputs": [
    {
     "data": {
      "text/plain": [
       "(12, 12)"
      ]
     },
     "execution_count": 19,
     "metadata": {},
     "output_type": "execute_result"
    }
   ],
   "source": [
    "user_item_matrix_transformer = UserItemMatrixTransformer()\n",
    "\n",
    "user_item_matrix = user_item_matrix_transformer.transform(\n",
    "    user_item_ratings.to_numpy(),\n",
    ")\n",
    "\n",
    "\n",
    "# check ratings from matrix are correct\n",
    "users = user_item_ratings[\"user_id\"].to_numpy().astype(int)\n",
    "items = user_item_ratings[\"item_id\"].to_numpy().astype(int)\n",
    "ratings = user_item_ratings[\"rating\"].to_numpy().astype(np.float32)\n",
    "for user, item, rating in zip(users, items, ratings):\n",
    "    assert user_item_matrix[user, item] == rating\n",
    "\n",
    "user_item_matrix.shape"
   ]
  }
 ],
 "metadata": {
  "kernelspec": {
   "display_name": ".venv",
   "language": "python",
   "name": "python3"
  },
  "language_info": {
   "codemirror_mode": {
    "name": "ipython",
    "version": 3
   },
   "file_extension": ".py",
   "mimetype": "text/x-python",
   "name": "python",
   "nbconvert_exporter": "python",
   "pygments_lexer": "ipython3",
   "version": "3.11.12"
  }
 },
 "nbformat": 4,
 "nbformat_minor": 5
}
