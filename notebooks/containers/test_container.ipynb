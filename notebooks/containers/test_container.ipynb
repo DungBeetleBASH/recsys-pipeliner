{
  "cells": [
    {
      "cell_type": "code",
      "execution_count": null,
      "metadata": {},
      "outputs": [],
      "source": [
        "%pip install python-dotenv\n",
        "from dotenv import load_dotenv\n",
        "load_dotenv(\".env\")"
      ]
    },
    {
      "cell_type": "code",
      "execution_count": null,
      "metadata": {},
      "outputs": [],
      "source": [
        "import pandas as pd\n",
        "import numpy as np\n",
        "\n",
        "ratings_data_path = \"../pipelines/recommendations/data/user_item_interactions.csv.gz\"\n",
        "input_data_path = \"./data/user_item_interactions.csv.gz\"\n",
        "\n",
        "data_types = {\"user_id\": str, \"item_id\": str, \"rating\": np.float32}\n",
        "\n",
        "user_item_interactions = pd.read_csv(\n",
        "    ratings_data_path,\n",
        "    compression=\"gzip\",\n",
        "    dtype=data_types,\n",
        "    parse_dates=[\"date\"],\n",
        ").sample(n=10000, axis=0)\n",
        "\n",
        "user_item_interactions.to_csv(input_data_path, compression=\"gzip\", index=False)\n",
        "\n",
        "user_item_interactions.head(3)"
      ]
    },
    {
      "cell_type": "code",
      "execution_count": 10,
      "metadata": {},
      "outputs": [],
      "source": [
        "import subprocess\n",
        "\n",
        "BUILD = False\n",
        "CLEAR_CASH = False\n",
        "\n",
        "build_cmd = \"docker build -t sklearn:latest -f docker/sklearn/Dockerfile .\"\n",
        "\n",
        "if CLEAR_CASH:\n",
        "    build_cmd += \" --no-cache\"\n",
        "\n",
        "if BUILD:\n",
        "    p = subprocess.Popen(build_cmd.split(' '), cwd='../../')\n",
        "    p.wait()"
      ]
    },
    {
      "cell_type": "code",
      "execution_count": null,
      "metadata": {},
      "outputs": [],
      "source": [
        "import numpy as np\n",
        "import os\n",
        "from sagemaker.local import LocalSession\n",
        "from sagemaker.estimator import Estimator\n",
        "\n",
        "sagemaker_session = LocalSession()\n",
        "sagemaker_session.config = {'local': {'local_code': True}}\n",
        "\n",
        "role = os.environ.get(\"AWS_ROLE_ARN\")"
      ]
    },
    {
      "cell_type": "code",
      "execution_count": null,
      "metadata": {},
      "outputs": [],
      "source": [
        "from sagemaker.processing import ScriptProcessor\n",
        "from sagemaker.processing import ProcessingInput\n",
        "from sagemaker.processing import ProcessingOutput\n",
        "\n",
        "processor = ScriptProcessor(\n",
        "    image_uri='sklearn:latest',\n",
        "    role=role,\n",
        "    instance_count=1,\n",
        "    instance_type=\"local\",\n",
        "    sagemaker_session=sagemaker_session,\n",
        "    command=['python3'],\n",
        ")\n",
        "\n",
        "user_item_interactions_input = ProcessingInput(\n",
        "    source=input_data_path,\n",
        "    input_name=\"user_item_interactions\",\n",
        "    destination=\"/opt/ml/processing/input/data\",\n",
        ")\n",
        "\n",
        "processor.run(\n",
        "    code=\"./preprocess.py\",\n",
        "    inputs=[\n",
        "        user_item_interactions_input\n",
        "    ],\n",
        "    outputs=[\n",
        "        ProcessingOutput(\n",
        "            output_name=\"user_item_matrix\",\n",
        "            source=\"/opt/ml/processing/output/user_item_matrix\",\n",
        "        ),\n",
        "        ProcessingOutput(\n",
        "            output_name=\"item_similarity_matrix\",\n",
        "            source=\"/opt/ml/processing/output/item_similarity_matrix\",\n",
        "        ),\n",
        "        ProcessingOutput(\n",
        "            output_name=\"test_data\",\n",
        "            source=\"/opt/ml/processing/output/test_data\",\n",
        "        ),\n",
        "        ProcessingOutput(\n",
        "            output_name=\"user_encoder\",\n",
        "            source=\"/opt/ml/processing/output/user_encoder\",\n",
        "        ),\n",
        "        ProcessingOutput(\n",
        "            output_name=\"item_encoder\",\n",
        "            source=\"/opt/ml/processing/output/item_encoder\",\n",
        "        ),\n",
        "    ],\n",
        "    wait=True,\n",
        "    logs=True,\n",
        ")"
      ]
    },
    {
      "cell_type": "code",
      "execution_count": null,
      "metadata": {},
      "outputs": [],
      "source": [
        "estimator = Estimator(\n",
        "    image_uri='sklearn:latest',\n",
        "    role=role,\n",
        "    instance_count=1,\n",
        "    instance_type='local',\n",
        "    entry_point='./train.py',\n",
        "    sagemaker_session=sagemaker_session,\n",
        ")\n",
        "\n",
        "estimator.fit()"
      ]
    },
    {
      "cell_type": "code",
      "execution_count": null,
      "metadata": {},
      "outputs": [],
      "source": [
        "from sagemaker.base_serializers import NumpySerializer\n",
        "from sagemaker.base_deserializers import NumpyDeserializer\n",
        "\n",
        "serializer = NumpySerializer(dtype=np.int32, content_type='application/x-npy')\n",
        "deserializer = NumpyDeserializer(dtype=np.int32, allow_pickle=True, accept=\"application/x-npy\")\n",
        "\n",
        "model = estimator.create_model(entry_point=\"inference.py\", source_dir=\"./\")\n",
        "\n",
        "predictor = model.deploy(\n",
        "    initial_instance_count=1,\n",
        "    instance_type='local',\n",
        "    serializer=serializer,\n",
        "    deserializer=deserializer,\n",
        "    endpoint_name=\"test-endpoint\"\n",
        ")"
      ]
    },
    {
      "cell_type": "code",
      "execution_count": null,
      "metadata": {},
      "outputs": [],
      "source": [
        "result = predictor.predict(np.array([1, 2]))\n",
        "result"
      ]
    },
    {
      "cell_type": "code",
      "execution_count": null,
      "metadata": {},
      "outputs": [],
      "source": [
        "predictor.delete_endpoint()"
      ]
    }
  ],
  "metadata": {
    "kernelspec": {
      "display_name": "pipeliner",
      "language": "python",
      "name": "python3"
    },
    "language_info": {
      "codemirror_mode": {
        "name": "ipython",
        "version": 3
      },
      "file_extension": ".py",
      "mimetype": "text/x-python",
      "name": "python",
      "nbconvert_exporter": "python",
      "pygments_lexer": "ipython3",
      "version": "3.11.9"
    }
  },
  "nbformat": 4,
  "nbformat_minor": 2
}
