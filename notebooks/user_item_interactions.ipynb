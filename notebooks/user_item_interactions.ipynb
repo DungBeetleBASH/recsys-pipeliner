{
 "cells": [
  {
   "cell_type": "code",
   "execution_count": 157,
   "id": "2a23cff0",
   "metadata": {},
   "outputs": [],
   "source": [
    "%%capture\n",
    "%load_ext autoreload\n",
    "%autoreload 1"
   ]
  },
  {
   "cell_type": "code",
   "execution_count": 158,
   "id": "48d2cae9-5f9d-4cc7-b8d5-a7995d75c765",
   "metadata": {},
   "outputs": [],
   "source": [
    "import pandas as pd\n",
    "import numpy as np\n",
    "import matplotlib\n",
    "\n",
    "%matplotlib inline"
   ]
  },
  {
   "cell_type": "code",
   "execution_count": 159,
   "id": "506fc4ca-9537-46bb-8a32-07a3bea85943",
   "metadata": {},
   "outputs": [
    {
     "data": {
      "text/html": [
       "<div>\n",
       "<style scoped>\n",
       "    .dataframe tbody tr th:only-of-type {\n",
       "        vertical-align: middle;\n",
       "    }\n",
       "\n",
       "    .dataframe tbody tr th {\n",
       "        vertical-align: top;\n",
       "    }\n",
       "\n",
       "    .dataframe thead th {\n",
       "        text-align: right;\n",
       "    }\n",
       "</style>\n",
       "<table border=\"1\" class=\"dataframe\">\n",
       "  <thead>\n",
       "    <tr style=\"text-align: right;\">\n",
       "      <th></th>\n",
       "      <th>user_id</th>\n",
       "      <th>item_id</th>\n",
       "      <th>count</th>\n",
       "    </tr>\n",
       "  </thead>\n",
       "  <tbody>\n",
       "    <tr>\n",
       "      <th>0</th>\n",
       "      <td>U000662</td>\n",
       "      <td>I00005060</td>\n",
       "      <td>11</td>\n",
       "    </tr>\n",
       "    <tr>\n",
       "      <th>1</th>\n",
       "      <td>U001462</td>\n",
       "      <td>I00009604</td>\n",
       "      <td>10</td>\n",
       "    </tr>\n",
       "    <tr>\n",
       "      <th>2</th>\n",
       "      <td>U003780</td>\n",
       "      <td>I00009683</td>\n",
       "      <td>9</td>\n",
       "    </tr>\n",
       "  </tbody>\n",
       "</table>\n",
       "</div>"
      ],
      "text/plain": [
       "   user_id    item_id  count\n",
       "0  U000662  I00005060     11\n",
       "1  U001462  I00009604     10\n",
       "2  U003780  I00009683      9"
      ]
     },
     "execution_count": 159,
     "metadata": {},
     "output_type": "execute_result"
    }
   ],
   "source": [
    "user_item_interactions_path = \"../tests/test_data/user_item_interactions.csv\"\n",
    "data_types = {\"user_id\": str, \"item_id\": str, \"count\": np.int64}\n",
    "\n",
    "user_item_interactions_daily_df = pd.read_csv(\n",
    "    user_item_interactions_path, dtype=data_types, parse_dates=[\"date\"], engine=\"python\"\n",
    ")\n",
    "\n",
    "user_item_interactions_df = (\n",
    "    user_item_interactions_daily_df[[\"user_id\", \"item_id\", \"count\"]]\n",
    "    .groupby([\"user_id\", \"item_id\"])\n",
    "    .sum()\n",
    "    .sort_values(by=\"count\", ascending=False)\n",
    "    .reset_index()\n",
    ")\n",
    "user_item_interactions_df.head(3)"
   ]
  },
  {
   "cell_type": "code",
   "execution_count": 160,
   "id": "173407ea",
   "metadata": {},
   "outputs": [
    {
     "data": {
      "text/html": [
       "<div>\n",
       "<style scoped>\n",
       "    .dataframe tbody tr th:only-of-type {\n",
       "        vertical-align: middle;\n",
       "    }\n",
       "\n",
       "    .dataframe tbody tr th {\n",
       "        vertical-align: top;\n",
       "    }\n",
       "\n",
       "    .dataframe thead th {\n",
       "        text-align: right;\n",
       "    }\n",
       "</style>\n",
       "<table border=\"1\" class=\"dataframe\">\n",
       "  <thead>\n",
       "    <tr style=\"text-align: right;\">\n",
       "      <th></th>\n",
       "      <th>user_id</th>\n",
       "      <th>count</th>\n",
       "    </tr>\n",
       "  </thead>\n",
       "  <tbody>\n",
       "    <tr>\n",
       "      <th>0</th>\n",
       "      <td>U004863</td>\n",
       "      <td>146</td>\n",
       "    </tr>\n",
       "    <tr>\n",
       "      <th>1</th>\n",
       "      <td>U001804</td>\n",
       "      <td>110</td>\n",
       "    </tr>\n",
       "    <tr>\n",
       "      <th>2</th>\n",
       "      <td>U003638</td>\n",
       "      <td>74</td>\n",
       "    </tr>\n",
       "  </tbody>\n",
       "</table>\n",
       "</div>"
      ],
      "text/plain": [
       "   user_id  count\n",
       "0  U004863    146\n",
       "1  U001804    110\n",
       "2  U003638     74"
      ]
     },
     "execution_count": 160,
     "metadata": {},
     "output_type": "execute_result"
    }
   ],
   "source": [
    "user_interactions_df = (\n",
    "    user_item_interactions_df[[\"user_id\", \"count\"]]\n",
    "    .groupby([\"user_id\"])\n",
    "    .sum()\n",
    "    .sort_values(by=\"count\", ascending=False)\n",
    "    .reset_index()\n",
    ")\n",
    "user_interactions_df.head(3)"
   ]
  },
  {
   "cell_type": "code",
   "execution_count": 161,
   "id": "30f60286",
   "metadata": {},
   "outputs": [
    {
     "data": {
      "text/html": [
       "<div>\n",
       "<style scoped>\n",
       "    .dataframe tbody tr th:only-of-type {\n",
       "        vertical-align: middle;\n",
       "    }\n",
       "\n",
       "    .dataframe tbody tr th {\n",
       "        vertical-align: top;\n",
       "    }\n",
       "\n",
       "    .dataframe thead th {\n",
       "        text-align: right;\n",
       "    }\n",
       "</style>\n",
       "<table border=\"1\" class=\"dataframe\">\n",
       "  <thead>\n",
       "    <tr style=\"text-align: right;\">\n",
       "      <th></th>\n",
       "      <th>item_id</th>\n",
       "      <th>count</th>\n",
       "    </tr>\n",
       "  </thead>\n",
       "  <tbody>\n",
       "    <tr>\n",
       "      <th>0</th>\n",
       "      <td>I00005060</td>\n",
       "      <td>12</td>\n",
       "    </tr>\n",
       "    <tr>\n",
       "      <th>1</th>\n",
       "      <td>I00009604</td>\n",
       "      <td>10</td>\n",
       "    </tr>\n",
       "    <tr>\n",
       "      <th>2</th>\n",
       "      <td>I00008211</td>\n",
       "      <td>9</td>\n",
       "    </tr>\n",
       "  </tbody>\n",
       "</table>\n",
       "</div>"
      ],
      "text/plain": [
       "     item_id  count\n",
       "0  I00005060     12\n",
       "1  I00009604     10\n",
       "2  I00008211      9"
      ]
     },
     "execution_count": 161,
     "metadata": {},
     "output_type": "execute_result"
    }
   ],
   "source": [
    "item_interactions_df = (\n",
    "    user_item_interactions_df[[\"item_id\", \"count\"]]\n",
    "    .groupby([\"item_id\"])\n",
    "    .sum()\n",
    "    .sort_values(by=\"count\", ascending=False)\n",
    "    .reset_index()\n",
    ")\n",
    "item_interactions_df.head(3)"
   ]
  },
  {
   "cell_type": "code",
   "execution_count": 162,
   "id": "5023c099",
   "metadata": {},
   "outputs": [
    {
     "data": {
      "text/html": [
       "<div>\n",
       "<style scoped>\n",
       "    .dataframe tbody tr th:only-of-type {\n",
       "        vertical-align: middle;\n",
       "    }\n",
       "\n",
       "    .dataframe tbody tr th {\n",
       "        vertical-align: top;\n",
       "    }\n",
       "\n",
       "    .dataframe thead th {\n",
       "        text-align: right;\n",
       "    }\n",
       "</style>\n",
       "<table border=\"1\" class=\"dataframe\">\n",
       "  <thead>\n",
       "    <tr style=\"text-align: right;\">\n",
       "      <th></th>\n",
       "      <th>user_item</th>\n",
       "      <th>user</th>\n",
       "      <th>item</th>\n",
       "    </tr>\n",
       "    <tr>\n",
       "      <th>count</th>\n",
       "      <th></th>\n",
       "      <th></th>\n",
       "      <th></th>\n",
       "    </tr>\n",
       "  </thead>\n",
       "  <tbody>\n",
       "    <tr>\n",
       "      <th>1</th>\n",
       "      <td>8700</td>\n",
       "      <td>3162</td>\n",
       "      <td>8345</td>\n",
       "    </tr>\n",
       "    <tr>\n",
       "      <th>2</th>\n",
       "      <td>975</td>\n",
       "      <td>955</td>\n",
       "      <td>1058</td>\n",
       "    </tr>\n",
       "    <tr>\n",
       "      <th>3</th>\n",
       "      <td>215</td>\n",
       "      <td>413</td>\n",
       "      <td>242</td>\n",
       "    </tr>\n",
       "    <tr>\n",
       "      <th>4</th>\n",
       "      <td>65</td>\n",
       "      <td>202</td>\n",
       "      <td>78</td>\n",
       "    </tr>\n",
       "    <tr>\n",
       "      <th>5</th>\n",
       "      <td>22</td>\n",
       "      <td>105</td>\n",
       "      <td>27</td>\n",
       "    </tr>\n",
       "    <tr>\n",
       "      <th>6</th>\n",
       "      <td>12</td>\n",
       "      <td>60</td>\n",
       "      <td>12</td>\n",
       "    </tr>\n",
       "    <tr>\n",
       "      <th>7</th>\n",
       "      <td>2</td>\n",
       "      <td>39</td>\n",
       "      <td>4</td>\n",
       "    </tr>\n",
       "    <tr>\n",
       "      <th>8</th>\n",
       "      <td>5</td>\n",
       "      <td>47</td>\n",
       "      <td>7</td>\n",
       "    </tr>\n",
       "    <tr>\n",
       "      <th>9</th>\n",
       "      <td>2</td>\n",
       "      <td>29</td>\n",
       "      <td>2</td>\n",
       "    </tr>\n",
       "    <tr>\n",
       "      <th>10</th>\n",
       "      <td>1</td>\n",
       "      <td>13</td>\n",
       "      <td>1</td>\n",
       "    </tr>\n",
       "  </tbody>\n",
       "</table>\n",
       "</div>"
      ],
      "text/plain": [
       "       user_item  user  item\n",
       "count                       \n",
       "1           8700  3162  8345\n",
       "2            975   955  1058\n",
       "3            215   413   242\n",
       "4             65   202    78\n",
       "5             22   105    27\n",
       "6             12    60    12\n",
       "7              2    39     4\n",
       "8              5    47     7\n",
       "9              2    29     2\n",
       "10             1    13     1"
      ]
     },
     "execution_count": 162,
     "metadata": {},
     "output_type": "execute_result"
    }
   ],
   "source": [
    "user_item_interaction_counts = (\n",
    "    user_item_interactions_df[\"count\"].value_counts().to_frame(\"user_item\")\n",
    ")\n",
    "user_interaction_counts = user_interactions_df[\"count\"].value_counts().to_frame(\"user\")\n",
    "item_interaction_counts = item_interactions_df[\"count\"].value_counts().to_frame(\"item\")\n",
    "\n",
    "all_counts = pd.concat(\n",
    "    [user_item_interaction_counts, user_interaction_counts, item_interaction_counts], axis=1\n",
    ").fillna(0).astype(np.int64).sort_index()\n",
    "\n",
    "all_counts.head(10)"
   ]
  },
  {
   "cell_type": "code",
   "execution_count": 163,
   "id": "f02a007b",
   "metadata": {},
   "outputs": [
    {
     "name": "stdout",
     "output_type": "stream",
     "text": [
      "num_users: 5148\n"
     ]
    }
   ],
   "source": [
    "unique_users = (\n",
    "    user_item_interactions_df[[\"user_id\"]]\n",
    "    .drop_duplicates()\n",
    "    .sort_values(\"user_id\")\n",
    "    .reset_index(drop=True)\n",
    ")\n",
    "num_users = unique_users.shape[0]\n",
    "print(f\"num_users: {num_users}\")"
   ]
  },
  {
   "cell_type": "code",
   "execution_count": 164,
   "id": "3626386b-24fc-4bf9-9ed2-ef9365224669",
   "metadata": {},
   "outputs": [
    {
     "name": "stdout",
     "output_type": "stream",
     "text": [
      "% of users with the lowest number of interactions.\n"
     ]
    },
    {
     "data": {
      "text/html": [
       "<div>\n",
       "<style scoped>\n",
       "    .dataframe tbody tr th:only-of-type {\n",
       "        vertical-align: middle;\n",
       "    }\n",
       "\n",
       "    .dataframe tbody tr th {\n",
       "        vertical-align: top;\n",
       "    }\n",
       "\n",
       "    .dataframe thead th {\n",
       "        text-align: right;\n",
       "    }\n",
       "</style>\n",
       "<table border=\"1\" class=\"dataframe\">\n",
       "  <thead>\n",
       "    <tr style=\"text-align: right;\">\n",
       "      <th></th>\n",
       "      <th>percent</th>\n",
       "    </tr>\n",
       "    <tr>\n",
       "      <th>count</th>\n",
       "      <th></th>\n",
       "    </tr>\n",
       "  </thead>\n",
       "  <tbody>\n",
       "    <tr>\n",
       "      <th>1</th>\n",
       "      <td>71.1</td>\n",
       "    </tr>\n",
       "    <tr>\n",
       "      <th>2</th>\n",
       "      <td>15.8</td>\n",
       "    </tr>\n",
       "    <tr>\n",
       "      <th>3</th>\n",
       "      <td>5.3</td>\n",
       "    </tr>\n",
       "    <tr>\n",
       "      <th>4</th>\n",
       "      <td>2.4</td>\n",
       "    </tr>\n",
       "    <tr>\n",
       "      <th>5</th>\n",
       "      <td>1.0</td>\n",
       "    </tr>\n",
       "  </tbody>\n",
       "</table>\n",
       "</div>"
      ],
      "text/plain": [
       "       percent\n",
       "count         \n",
       "1         71.1\n",
       "2         15.8\n",
       "3          5.3\n",
       "4          2.4\n",
       "5          1.0"
      ]
     },
     "execution_count": 164,
     "metadata": {},
     "output_type": "execute_result"
    }
   ],
   "source": [
    "user_id_value_counts = user_item_interactions_df.user_id.value_counts()\n",
    "user_id_low_counts_percent = (\n",
    "    (user_id_value_counts.value_counts() / num_users * 100)\n",
    "    .round(1)\n",
    "    .to_frame(name=\"percent\")\n",
    ")\n",
    "print(\"% of users with the lowest number of interactions.\")\n",
    "user_id_low_counts_percent.head(5)"
   ]
  },
  {
   "cell_type": "code",
   "execution_count": 165,
   "id": "693b0686-2fce-4c8d-961f-63c896f609b3",
   "metadata": {},
   "outputs": [
    {
     "data": {
      "text/plain": [
       "0    U004863\n",
       "1    U001804\n",
       "2    U003638\n",
       "3    U004663\n",
       "4    U005008\n",
       "Name: user_id, dtype: object"
      ]
     },
     "execution_count": 165,
     "metadata": {},
     "output_type": "execute_result"
    }
   ],
   "source": [
    "user_id_multiple_interaction = user_id_value_counts[user_id_value_counts >= 2].index.to_series().reset_index(drop=True)\n",
    "train_test_users = set(user_id_multiple_interaction)\n",
    "user_id_multiple_interaction.head(5)"
   ]
  },
  {
   "cell_type": "code",
   "execution_count": 166,
   "id": "d35f9f9d-c8f8-4c4a-82b1-c98bdee8bd6c",
   "metadata": {},
   "outputs": [
    {
     "name": "stdout",
     "output_type": "stream",
     "text": [
      "(6339, 4)\n"
     ]
    },
    {
     "data": {
      "text/html": [
       "<div>\n",
       "<style scoped>\n",
       "    .dataframe tbody tr th:only-of-type {\n",
       "        vertical-align: middle;\n",
       "    }\n",
       "\n",
       "    .dataframe tbody tr th {\n",
       "        vertical-align: top;\n",
       "    }\n",
       "\n",
       "    .dataframe thead th {\n",
       "        text-align: right;\n",
       "    }\n",
       "</style>\n",
       "<table border=\"1\" class=\"dataframe\">\n",
       "  <thead>\n",
       "    <tr style=\"text-align: right;\">\n",
       "      <th></th>\n",
       "      <th>user_id</th>\n",
       "      <th>item_id</th>\n",
       "      <th>date</th>\n",
       "      <th>count</th>\n",
       "    </tr>\n",
       "  </thead>\n",
       "  <tbody>\n",
       "    <tr>\n",
       "      <th>4186</th>\n",
       "      <td>U000001</td>\n",
       "      <td>I00001622</td>\n",
       "      <td>2024-07-02</td>\n",
       "      <td>1</td>\n",
       "    </tr>\n",
       "    <tr>\n",
       "      <th>8503</th>\n",
       "      <td>U000001</td>\n",
       "      <td>I00001645</td>\n",
       "      <td>2024-07-02</td>\n",
       "      <td>1</td>\n",
       "    </tr>\n",
       "    <tr>\n",
       "      <th>9170</th>\n",
       "      <td>U000001</td>\n",
       "      <td>I00003796</td>\n",
       "      <td>2024-07-02</td>\n",
       "      <td>1</td>\n",
       "    </tr>\n",
       "    <tr>\n",
       "      <th>831</th>\n",
       "      <td>U000004</td>\n",
       "      <td>I00008609</td>\n",
       "      <td>2024-07-02</td>\n",
       "      <td>2</td>\n",
       "    </tr>\n",
       "    <tr>\n",
       "      <th>5443</th>\n",
       "      <td>U000004</td>\n",
       "      <td>I00002186</td>\n",
       "      <td>2024-07-02</td>\n",
       "      <td>1</td>\n",
       "    </tr>\n",
       "  </tbody>\n",
       "</table>\n",
       "</div>"
      ],
      "text/plain": [
       "      user_id    item_id       date  count\n",
       "4186  U000001  I00001622 2024-07-02      1\n",
       "8503  U000001  I00001645 2024-07-02      1\n",
       "9170  U000001  I00003796 2024-07-02      1\n",
       "831   U000004  I00008609 2024-07-02      2\n",
       "5443  U000004  I00002186 2024-07-02      1"
      ]
     },
     "execution_count": 166,
     "metadata": {},
     "output_type": "execute_result"
    }
   ],
   "source": [
    "train_test_interactions_df = user_item_interactions_daily_df[user_item_interactions_daily_df.user_id.isin(train_test_users)].sort_values(by=[\"user_id\", \"date\"])\n",
    "print(train_test_interactions_df.shape)\n",
    "train_test_interactions_df.head(5)"
   ]
  },
  {
   "cell_type": "code",
   "execution_count": 167,
   "id": "10208b45-c792-46ad-b5b9-425df8f5f5fb",
   "metadata": {},
   "outputs": [
    {
     "name": "stdout",
     "output_type": "stream",
     "text": [
      "(1487, 2)\n"
     ]
    },
    {
     "data": {
      "text/html": [
       "<div>\n",
       "<style scoped>\n",
       "    .dataframe tbody tr th:only-of-type {\n",
       "        vertical-align: middle;\n",
       "    }\n",
       "\n",
       "    .dataframe tbody tr th {\n",
       "        vertical-align: top;\n",
       "    }\n",
       "\n",
       "    .dataframe thead th {\n",
       "        text-align: right;\n",
       "    }\n",
       "</style>\n",
       "<table border=\"1\" class=\"dataframe\">\n",
       "  <thead>\n",
       "    <tr style=\"text-align: right;\">\n",
       "      <th></th>\n",
       "      <th>user_id</th>\n",
       "      <th>item_id</th>\n",
       "    </tr>\n",
       "  </thead>\n",
       "  <tbody>\n",
       "    <tr>\n",
       "      <th>9170</th>\n",
       "      <td>U000001</td>\n",
       "      <td>I00003796</td>\n",
       "    </tr>\n",
       "    <tr>\n",
       "      <th>9741</th>\n",
       "      <td>U000004</td>\n",
       "      <td>I00006770</td>\n",
       "    </tr>\n",
       "    <tr>\n",
       "      <th>9624</th>\n",
       "      <td>U000005</td>\n",
       "      <td>I00003179</td>\n",
       "    </tr>\n",
       "    <tr>\n",
       "      <th>7350</th>\n",
       "      <td>U000013</td>\n",
       "      <td>I00008490</td>\n",
       "    </tr>\n",
       "    <tr>\n",
       "      <th>7234</th>\n",
       "      <td>U000014</td>\n",
       "      <td>I00002663</td>\n",
       "    </tr>\n",
       "  </tbody>\n",
       "</table>\n",
       "</div>"
      ],
      "text/plain": [
       "      user_id    item_id\n",
       "9170  U000001  I00003796\n",
       "9741  U000004  I00006770\n",
       "9624  U000005  I00003179\n",
       "7350  U000013  I00008490\n",
       "7234  U000014  I00002663"
      ]
     },
     "execution_count": 167,
     "metadata": {},
     "output_type": "execute_result"
    }
   ],
   "source": [
    "test_data_df = (\n",
    "    train_test_interactions_df\n",
    "    .reset_index()\n",
    "    .groupby([\"user_id\"], as_index=False)\n",
    "    .last()\n",
    "    .set_index(\"index\"))[[\"user_id\", \"item_id\"]]\n",
    "test_data_df.index.names = [None]\n",
    "    \n",
    "print(test_data_df.shape)\n",
    "test_data_df.head(5)"
   ]
  },
  {
   "cell_type": "code",
   "execution_count": 168,
   "id": "cc471579-d48a-45fe-8dfb-ebd325648ea5",
   "metadata": {},
   "outputs": [
    {
     "name": "stdout",
     "output_type": "stream",
     "text": [
      "(4852, 4)\n"
     ]
    },
    {
     "data": {
      "text/html": [
       "<div>\n",
       "<style scoped>\n",
       "    .dataframe tbody tr th:only-of-type {\n",
       "        vertical-align: middle;\n",
       "    }\n",
       "\n",
       "    .dataframe tbody tr th {\n",
       "        vertical-align: top;\n",
       "    }\n",
       "\n",
       "    .dataframe thead th {\n",
       "        text-align: right;\n",
       "    }\n",
       "</style>\n",
       "<table border=\"1\" class=\"dataframe\">\n",
       "  <thead>\n",
       "    <tr style=\"text-align: right;\">\n",
       "      <th></th>\n",
       "      <th>user_id</th>\n",
       "      <th>item_id</th>\n",
       "      <th>date</th>\n",
       "      <th>count</th>\n",
       "    </tr>\n",
       "  </thead>\n",
       "  <tbody>\n",
       "    <tr>\n",
       "      <th>4186</th>\n",
       "      <td>U000001</td>\n",
       "      <td>I00001622</td>\n",
       "      <td>2024-07-02</td>\n",
       "      <td>1</td>\n",
       "    </tr>\n",
       "    <tr>\n",
       "      <th>8503</th>\n",
       "      <td>U000001</td>\n",
       "      <td>I00001645</td>\n",
       "      <td>2024-07-02</td>\n",
       "      <td>1</td>\n",
       "    </tr>\n",
       "    <tr>\n",
       "      <th>831</th>\n",
       "      <td>U000004</td>\n",
       "      <td>I00008609</td>\n",
       "      <td>2024-07-02</td>\n",
       "      <td>2</td>\n",
       "    </tr>\n",
       "    <tr>\n",
       "      <th>5443</th>\n",
       "      <td>U000004</td>\n",
       "      <td>I00002186</td>\n",
       "      <td>2024-07-02</td>\n",
       "      <td>1</td>\n",
       "    </tr>\n",
       "    <tr>\n",
       "      <th>7004</th>\n",
       "      <td>U000004</td>\n",
       "      <td>I00005251</td>\n",
       "      <td>2024-07-02</td>\n",
       "      <td>1</td>\n",
       "    </tr>\n",
       "  </tbody>\n",
       "</table>\n",
       "</div>"
      ],
      "text/plain": [
       "      user_id    item_id       date  count\n",
       "4186  U000001  I00001622 2024-07-02      1\n",
       "8503  U000001  I00001645 2024-07-02      1\n",
       "831   U000004  I00008609 2024-07-02      2\n",
       "5443  U000004  I00002186 2024-07-02      1\n",
       "7004  U000004  I00005251 2024-07-02      1"
      ]
     },
     "execution_count": 168,
     "metadata": {},
     "output_type": "execute_result"
    }
   ],
   "source": [
    "train_data_df = train_test_interactions_df[\n",
    "    (\n",
    "        train_test_interactions_df[[\"user_id\", \"item_id\"]]\n",
    "        .merge(\n",
    "            test_data_df.drop_duplicates(),\n",
    "            on=[\"user_id\", \"item_id\"],\n",
    "            how=\"left\",\n",
    "            indicator=True,\n",
    "        )\n",
    "        ._merge\n",
    "        == \"left_only\"\n",
    "    ).values\n",
    "]\n",
    "\n",
    "print(train_data_df.shape)\n",
    "train_data_df.head(5)"
   ]
  },
  {
   "cell_type": "code",
   "execution_count": 169,
   "id": "eacacbe0-4c21-4a53-ac63-033b788d8efc",
   "metadata": {},
   "outputs": [
    {
     "name": "stdout",
     "output_type": "stream",
     "text": [
      "(3661, 4)\n"
     ]
    },
    {
     "data": {
      "text/html": [
       "<div>\n",
       "<style scoped>\n",
       "    .dataframe tbody tr th:only-of-type {\n",
       "        vertical-align: middle;\n",
       "    }\n",
       "\n",
       "    .dataframe tbody tr th {\n",
       "        vertical-align: top;\n",
       "    }\n",
       "\n",
       "    .dataframe thead th {\n",
       "        text-align: right;\n",
       "    }\n",
       "</style>\n",
       "<table border=\"1\" class=\"dataframe\">\n",
       "  <thead>\n",
       "    <tr style=\"text-align: right;\">\n",
       "      <th></th>\n",
       "      <th>user_id</th>\n",
       "      <th>item_id</th>\n",
       "      <th>date</th>\n",
       "      <th>count</th>\n",
       "    </tr>\n",
       "  </thead>\n",
       "  <tbody>\n",
       "    <tr>\n",
       "      <th>0</th>\n",
       "      <td>U002120</td>\n",
       "      <td>I00006767</td>\n",
       "      <td>2024-07-02</td>\n",
       "      <td>1</td>\n",
       "    </tr>\n",
       "    <tr>\n",
       "      <th>3</th>\n",
       "      <td>U002062</td>\n",
       "      <td>I00000098</td>\n",
       "      <td>2024-07-02</td>\n",
       "      <td>1</td>\n",
       "    </tr>\n",
       "    <tr>\n",
       "      <th>4</th>\n",
       "      <td>U001214</td>\n",
       "      <td>I00009416</td>\n",
       "      <td>2024-07-02</td>\n",
       "      <td>1</td>\n",
       "    </tr>\n",
       "    <tr>\n",
       "      <th>6</th>\n",
       "      <td>U000356</td>\n",
       "      <td>I00006347</td>\n",
       "      <td>2024-07-02</td>\n",
       "      <td>1</td>\n",
       "    </tr>\n",
       "    <tr>\n",
       "      <th>11</th>\n",
       "      <td>U004656</td>\n",
       "      <td>I00008241</td>\n",
       "      <td>2024-07-02</td>\n",
       "      <td>3</td>\n",
       "    </tr>\n",
       "  </tbody>\n",
       "</table>\n",
       "</div>"
      ],
      "text/plain": [
       "    user_id    item_id       date  count\n",
       "0   U002120  I00006767 2024-07-02      1\n",
       "3   U002062  I00000098 2024-07-02      1\n",
       "4   U001214  I00009416 2024-07-02      1\n",
       "6   U000356  I00006347 2024-07-02      1\n",
       "11  U004656  I00008241 2024-07-02      3"
      ]
     },
     "execution_count": 169,
     "metadata": {},
     "output_type": "execute_result"
    }
   ],
   "source": [
    "indices = test_data_df.index.union(train_data_df.index)\n",
    "excluded_data_df = user_item_interactions_daily_df.loc[\n",
    "    ~user_item_interactions_daily_df.index.isin(indices)\n",
    "]\n",
    "\n",
    "print(excluded_data_df.shape)\n",
    "excluded_data_df.head(5)"
   ]
  },
  {
   "cell_type": "code",
   "execution_count": 170,
   "id": "b6473a2d-00a1-494d-a782-25f262cb0efd",
   "metadata": {},
   "outputs": [],
   "source": [
    "# sense check\n",
    "assert test_data_df.index.intersection(train_data_df.index).shape[0] == 0\n",
    "assert test_data_df.index.intersection(excluded_data_df.index).shape[0] == 0\n",
    "assert train_data_df.index.intersection(excluded_data_df.index).shape[0] == 0\n",
    "assert (\n",
    "    test_data_df.index.union(train_data_df.index.union(excluded_data_df.index)).shape[0]\n",
    "    == user_item_interactions_daily_df.index.shape[0]\n",
    ")"
   ]
  },
  {
   "cell_type": "code",
   "execution_count": 171,
   "id": "51c048f0",
   "metadata": {},
   "outputs": [
    {
     "name": "stdout",
     "output_type": "stream",
     "text": [
      "(4852, 3)\n"
     ]
    },
    {
     "data": {
      "text/html": [
       "<div>\n",
       "<style scoped>\n",
       "    .dataframe tbody tr th:only-of-type {\n",
       "        vertical-align: middle;\n",
       "    }\n",
       "\n",
       "    .dataframe tbody tr th {\n",
       "        vertical-align: top;\n",
       "    }\n",
       "\n",
       "    .dataframe thead th {\n",
       "        text-align: right;\n",
       "    }\n",
       "</style>\n",
       "<table border=\"1\" class=\"dataframe\">\n",
       "  <thead>\n",
       "    <tr style=\"text-align: right;\">\n",
       "      <th></th>\n",
       "      <th>user_id</th>\n",
       "      <th>item_id</th>\n",
       "      <th>rating</th>\n",
       "    </tr>\n",
       "  </thead>\n",
       "  <tbody>\n",
       "    <tr>\n",
       "      <th>0</th>\n",
       "      <td>U000001</td>\n",
       "      <td>I00001622</td>\n",
       "      <td>0.12</td>\n",
       "    </tr>\n",
       "    <tr>\n",
       "      <th>1</th>\n",
       "      <td>U000001</td>\n",
       "      <td>I00001645</td>\n",
       "      <td>0.12</td>\n",
       "    </tr>\n",
       "    <tr>\n",
       "      <th>2</th>\n",
       "      <td>U000004</td>\n",
       "      <td>I00001053</td>\n",
       "      <td>0.12</td>\n",
       "    </tr>\n",
       "    <tr>\n",
       "      <th>3</th>\n",
       "      <td>U000004</td>\n",
       "      <td>I00002186</td>\n",
       "      <td>0.12</td>\n",
       "    </tr>\n",
       "    <tr>\n",
       "      <th>4</th>\n",
       "      <td>U000004</td>\n",
       "      <td>I00005251</td>\n",
       "      <td>0.12</td>\n",
       "    </tr>\n",
       "  </tbody>\n",
       "</table>\n",
       "</div>"
      ],
      "text/plain": [
       "   user_id    item_id  rating\n",
       "0  U000001  I00001622    0.12\n",
       "1  U000001  I00001645    0.12\n",
       "2  U000004  I00001053    0.12\n",
       "3  U000004  I00002186    0.12\n",
       "4  U000004  I00005251    0.12"
      ]
     },
     "execution_count": 171,
     "metadata": {},
     "output_type": "execute_result"
    }
   ],
   "source": [
    "# sum counts of user/item interactions to form rating\n",
    "\n",
    "train_data_ratings_df = (\n",
    "    train_data_df[[\"user_id\", \"item_id\", \"count\"]]\n",
    "    .groupby([\"user_id\", \"item_id\"])\n",
    "    .sum()\n",
    "    .reset_index()\n",
    "    .rename(columns={\"count\": \"rating\"})\n",
    ")\n",
    "# train_data_ratings_df[\"rating\"] = 1 + np.log10(train_data_ratings_df[\"rating\"])\n",
    "train_data_ratings_df[\"rating\"] = (\n",
    "    train_data_ratings_df[\"rating\"] / train_data_ratings_df[\"rating\"].max()\n",
    ").round(2)\n",
    "\n",
    "print(train_data_ratings_df.shape)\n",
    "train_data_ratings_df.head(5)"
   ]
  },
  {
   "cell_type": "code",
   "execution_count": 172,
   "id": "72956971",
   "metadata": {},
   "outputs": [
    {
     "data": {
      "text/plain": [
       "rating\n",
       "0.12    4269\n",
       "0.25     448\n",
       "0.38      85\n",
       "0.50      29\n",
       "0.62      11\n",
       "0.75       7\n",
       "1.00       2\n",
       "0.88       1\n",
       "Name: count, dtype: int64"
      ]
     },
     "execution_count": 172,
     "metadata": {},
     "output_type": "execute_result"
    }
   ],
   "source": [
    "train_data_ratings_df.rating.value_counts()"
   ]
  },
  {
   "cell_type": "code",
   "execution_count": 173,
   "id": "19abd400",
   "metadata": {},
   "outputs": [
    {
     "name": "stdout",
     "output_type": "stream",
     "text": [
      "num_train_users: 1487\n",
      "num_train_items: 4811\n"
     ]
    }
   ],
   "source": [
    "unique_train_users = (\n",
    "    train_data_ratings_df[[\"user_id\"]]\n",
    "    .drop_duplicates()\n",
    "    .sort_values(\"user_id\")\n",
    "    .reset_index(drop=True)\n",
    ")\n",
    "unique_train_items = (\n",
    "    train_data_ratings_df[[\"item_id\"]]\n",
    "    .drop_duplicates()\n",
    "    .sort_values(\"item_id\")\n",
    "    .reset_index(drop=True)\n",
    ")\n",
    "num_train_users = unique_train_users.shape[0]\n",
    "num_train_items = unique_train_items.shape[0]\n",
    "print(f\"num_train_users: {num_train_users}\")\n",
    "print(f\"num_train_items: {num_train_items}\")"
   ]
  },
  {
   "cell_type": "code",
   "execution_count": 174,
   "id": "912669f2",
   "metadata": {},
   "outputs": [],
   "source": [
    "from pipeliner.recommendations.transformer import (\n",
    "    UserItemMatrixTransformerPandas,\n",
    "    SimilarityTransformerPandas,\n",
    ")\n",
    "from pipeliner.recommendations.recommender import UserBasedRecommenderPandas"
   ]
  },
  {
   "cell_type": "code",
   "execution_count": 175,
   "id": "dc379b65",
   "metadata": {},
   "outputs": [
    {
     "data": {
      "text/html": [
       "<div>\n",
       "<style scoped>\n",
       "    .dataframe tbody tr th:only-of-type {\n",
       "        vertical-align: middle;\n",
       "    }\n",
       "\n",
       "    .dataframe tbody tr th {\n",
       "        vertical-align: top;\n",
       "    }\n",
       "\n",
       "    .dataframe thead th {\n",
       "        text-align: right;\n",
       "    }\n",
       "</style>\n",
       "<table border=\"1\" class=\"dataframe\">\n",
       "  <thead>\n",
       "    <tr style=\"text-align: right;\">\n",
       "      <th>item_id</th>\n",
       "      <th>I00000001</th>\n",
       "      <th>I00000002</th>\n",
       "      <th>I00000005</th>\n",
       "      <th>I00000007</th>\n",
       "      <th>I00000008</th>\n",
       "    </tr>\n",
       "    <tr>\n",
       "      <th>user_id</th>\n",
       "      <th></th>\n",
       "      <th></th>\n",
       "      <th></th>\n",
       "      <th></th>\n",
       "      <th></th>\n",
       "    </tr>\n",
       "  </thead>\n",
       "  <tbody>\n",
       "    <tr>\n",
       "      <th>U000001</th>\n",
       "      <td>0.0</td>\n",
       "      <td>0.0</td>\n",
       "      <td>0.0</td>\n",
       "      <td>0.0</td>\n",
       "      <td>0.0</td>\n",
       "    </tr>\n",
       "    <tr>\n",
       "      <th>U000004</th>\n",
       "      <td>0.0</td>\n",
       "      <td>0.0</td>\n",
       "      <td>0.0</td>\n",
       "      <td>0.0</td>\n",
       "      <td>0.0</td>\n",
       "    </tr>\n",
       "    <tr>\n",
       "      <th>U000005</th>\n",
       "      <td>0.0</td>\n",
       "      <td>0.0</td>\n",
       "      <td>0.0</td>\n",
       "      <td>0.0</td>\n",
       "      <td>0.0</td>\n",
       "    </tr>\n",
       "    <tr>\n",
       "      <th>U000013</th>\n",
       "      <td>0.0</td>\n",
       "      <td>0.0</td>\n",
       "      <td>0.0</td>\n",
       "      <td>0.0</td>\n",
       "      <td>0.0</td>\n",
       "    </tr>\n",
       "    <tr>\n",
       "      <th>U000014</th>\n",
       "      <td>0.0</td>\n",
       "      <td>0.0</td>\n",
       "      <td>0.0</td>\n",
       "      <td>0.0</td>\n",
       "      <td>0.0</td>\n",
       "    </tr>\n",
       "  </tbody>\n",
       "</table>\n",
       "</div>"
      ],
      "text/plain": [
       "item_id  I00000001  I00000002  I00000005  I00000007  I00000008\n",
       "user_id                                                       \n",
       "U000001        0.0        0.0        0.0        0.0        0.0\n",
       "U000004        0.0        0.0        0.0        0.0        0.0\n",
       "U000005        0.0        0.0        0.0        0.0        0.0\n",
       "U000013        0.0        0.0        0.0        0.0        0.0\n",
       "U000014        0.0        0.0        0.0        0.0        0.0"
      ]
     },
     "execution_count": 175,
     "metadata": {},
     "output_type": "execute_result"
    }
   ],
   "source": [
    "user_item_matrix_transformer = UserItemMatrixTransformerPandas()\n",
    "user_item_matrix = user_item_matrix_transformer.transform(train_data_ratings_df)\n",
    "user_item_matrix.iloc[:5, :5]"
   ]
  },
  {
   "cell_type": "code",
   "execution_count": 176,
   "id": "e4c26474",
   "metadata": {},
   "outputs": [
    {
     "name": "stdout",
     "output_type": "stream",
     "text": [
      "(1487, 1487)\n"
     ]
    },
    {
     "data": {
      "text/html": [
       "<div>\n",
       "<style scoped>\n",
       "    .dataframe tbody tr th:only-of-type {\n",
       "        vertical-align: middle;\n",
       "    }\n",
       "\n",
       "    .dataframe tbody tr th {\n",
       "        vertical-align: top;\n",
       "    }\n",
       "\n",
       "    .dataframe thead th {\n",
       "        text-align: right;\n",
       "    }\n",
       "</style>\n",
       "<table border=\"1\" class=\"dataframe\">\n",
       "  <thead>\n",
       "    <tr style=\"text-align: right;\">\n",
       "      <th>user_id</th>\n",
       "      <th>U000001</th>\n",
       "      <th>U000004</th>\n",
       "      <th>U000005</th>\n",
       "      <th>U000013</th>\n",
       "      <th>U000014</th>\n",
       "    </tr>\n",
       "    <tr>\n",
       "      <th>user_id</th>\n",
       "      <th></th>\n",
       "      <th></th>\n",
       "      <th></th>\n",
       "      <th></th>\n",
       "      <th></th>\n",
       "    </tr>\n",
       "  </thead>\n",
       "  <tbody>\n",
       "    <tr>\n",
       "      <th>U000001</th>\n",
       "      <td>1.0</td>\n",
       "      <td>0.0</td>\n",
       "      <td>0.0</td>\n",
       "      <td>0.0</td>\n",
       "      <td>0.0</td>\n",
       "    </tr>\n",
       "    <tr>\n",
       "      <th>U000004</th>\n",
       "      <td>0.0</td>\n",
       "      <td>1.0</td>\n",
       "      <td>0.0</td>\n",
       "      <td>0.0</td>\n",
       "      <td>0.0</td>\n",
       "    </tr>\n",
       "    <tr>\n",
       "      <th>U000005</th>\n",
       "      <td>0.0</td>\n",
       "      <td>0.0</td>\n",
       "      <td>1.0</td>\n",
       "      <td>0.0</td>\n",
       "      <td>0.0</td>\n",
       "    </tr>\n",
       "    <tr>\n",
       "      <th>U000013</th>\n",
       "      <td>0.0</td>\n",
       "      <td>0.0</td>\n",
       "      <td>0.0</td>\n",
       "      <td>1.0</td>\n",
       "      <td>0.0</td>\n",
       "    </tr>\n",
       "    <tr>\n",
       "      <th>U000014</th>\n",
       "      <td>0.0</td>\n",
       "      <td>0.0</td>\n",
       "      <td>0.0</td>\n",
       "      <td>0.0</td>\n",
       "      <td>1.0</td>\n",
       "    </tr>\n",
       "  </tbody>\n",
       "</table>\n",
       "</div>"
      ],
      "text/plain": [
       "user_id  U000001  U000004  U000005  U000013  U000014\n",
       "user_id                                             \n",
       "U000001      1.0      0.0      0.0      0.0      0.0\n",
       "U000004      0.0      1.0      0.0      0.0      0.0\n",
       "U000005      0.0      0.0      1.0      0.0      0.0\n",
       "U000013      0.0      0.0      0.0      1.0      0.0\n",
       "U000014      0.0      0.0      0.0      0.0      1.0"
      ]
     },
     "execution_count": 176,
     "metadata": {},
     "output_type": "execute_result"
    }
   ],
   "source": [
    "user_similarity_transformer = SimilarityTransformerPandas(\n",
    "    kind=\"user\", metric=\"cosine\", round=1, normalise=True\n",
    ")\n",
    "user_similarity_matrix = user_similarity_transformer.transform(user_item_matrix)\n",
    "print(user_similarity_matrix.shape)\n",
    "user_similarity_matrix.iloc[:5, :5]"
   ]
  },
  {
   "cell_type": "code",
   "execution_count": 177,
   "id": "500a894c",
   "metadata": {},
   "outputs": [
    {
     "data": {
      "text/plain": [
       "0.0    2209608\n",
       "1.0       1495\n",
       "0.1         28\n",
       "0.2         20\n",
       "0.3          8\n",
       "0.6          4\n",
       "0.5          2\n",
       "0.4          2\n",
       "0.7          2\n",
       "Name: count, dtype: int64"
      ]
     },
     "execution_count": 177,
     "metadata": {},
     "output_type": "execute_result"
    }
   ],
   "source": [
    "# the vast majority of similarity scores are 0.0\n",
    "# and almost all the scores of 1.0 are for users\n",
    "# compared with themselves in the matrix\n",
    "# making it difficult to generate any recommendations at all\n",
    "user_similarity_rating_counts = user_similarity_matrix.stack().value_counts()\n",
    "\n",
    "assert user_similarity_rating_counts[1.0] >= num_train_users\n",
    "\n",
    "user_similarity_rating_counts"
   ]
  },
  {
   "cell_type": "code",
   "execution_count": 183,
   "id": "3a18ada5",
   "metadata": {},
   "outputs": [
    {
     "name": "stdout",
     "output_type": "stream",
     "text": [
      "useful_user_similarities: 4.44\n"
     ]
    },
    {
     "data": {
      "text/plain": [
       "count\n",
       "0        1424\n",
       "1          60\n",
       "2           3\n",
       "Name: count, dtype: int64"
      ]
     },
     "execution_count": 183,
     "metadata": {},
     "output_type": "execute_result"
    }
   ],
   "source": [
    "useful_user_similarities = pd.DataFrame(\n",
    "    np.count_nonzero(\n",
    "        (user_similarity_matrix > 0.0) & (user_similarity_matrix < 1.0), axis=1\n",
    "    ),\n",
    "    index=user_similarity_matrix.index,\n",
    "    columns=[\"count\"],\n",
    ")\n",
    "useful_user_similarities.value_counts()\n",
    "\n",
    "\n",
    "useful_user_similarity_counts = useful_user_similarities.value_counts()\n",
    "\n",
    "print(\n",
    "    f\"useful_user_similarities: {(useful_user_similarities[\"count\"].sum() / num_train_users * 100).round(2)}%\"\n",
    ")\n",
    "useful_user_similarity_counts"
   ]
  },
  {
   "cell_type": "code",
   "execution_count": 179,
   "id": "bf44817c",
   "metadata": {},
   "outputs": [
    {
     "name": "stdout",
     "output_type": "stream",
     "text": [
      "(4811, 4811)\n"
     ]
    },
    {
     "data": {
      "text/html": [
       "<div>\n",
       "<style scoped>\n",
       "    .dataframe tbody tr th:only-of-type {\n",
       "        vertical-align: middle;\n",
       "    }\n",
       "\n",
       "    .dataframe tbody tr th {\n",
       "        vertical-align: top;\n",
       "    }\n",
       "\n",
       "    .dataframe thead th {\n",
       "        text-align: right;\n",
       "    }\n",
       "</style>\n",
       "<table border=\"1\" class=\"dataframe\">\n",
       "  <thead>\n",
       "    <tr style=\"text-align: right;\">\n",
       "      <th>item_id</th>\n",
       "      <th>I00000001</th>\n",
       "      <th>I00000002</th>\n",
       "      <th>I00000005</th>\n",
       "      <th>I00000007</th>\n",
       "      <th>I00000008</th>\n",
       "    </tr>\n",
       "    <tr>\n",
       "      <th>item_id</th>\n",
       "      <th></th>\n",
       "      <th></th>\n",
       "      <th></th>\n",
       "      <th></th>\n",
       "      <th></th>\n",
       "    </tr>\n",
       "  </thead>\n",
       "  <tbody>\n",
       "    <tr>\n",
       "      <th>I00000001</th>\n",
       "      <td>1.0</td>\n",
       "      <td>0.0</td>\n",
       "      <td>0.0</td>\n",
       "      <td>0.0</td>\n",
       "      <td>0.0</td>\n",
       "    </tr>\n",
       "    <tr>\n",
       "      <th>I00000002</th>\n",
       "      <td>0.0</td>\n",
       "      <td>1.0</td>\n",
       "      <td>0.0</td>\n",
       "      <td>0.0</td>\n",
       "      <td>0.0</td>\n",
       "    </tr>\n",
       "    <tr>\n",
       "      <th>I00000005</th>\n",
       "      <td>0.0</td>\n",
       "      <td>0.0</td>\n",
       "      <td>1.0</td>\n",
       "      <td>0.0</td>\n",
       "      <td>0.0</td>\n",
       "    </tr>\n",
       "    <tr>\n",
       "      <th>I00000007</th>\n",
       "      <td>0.0</td>\n",
       "      <td>0.0</td>\n",
       "      <td>0.0</td>\n",
       "      <td>1.0</td>\n",
       "      <td>0.0</td>\n",
       "    </tr>\n",
       "    <tr>\n",
       "      <th>I00000008</th>\n",
       "      <td>0.0</td>\n",
       "      <td>0.0</td>\n",
       "      <td>0.0</td>\n",
       "      <td>0.0</td>\n",
       "      <td>1.0</td>\n",
       "    </tr>\n",
       "  </tbody>\n",
       "</table>\n",
       "</div>"
      ],
      "text/plain": [
       "item_id    I00000001  I00000002  I00000005  I00000007  I00000008\n",
       "item_id                                                         \n",
       "I00000001        1.0        0.0        0.0        0.0        0.0\n",
       "I00000002        0.0        1.0        0.0        0.0        0.0\n",
       "I00000005        0.0        0.0        1.0        0.0        0.0\n",
       "I00000007        0.0        0.0        0.0        1.0        0.0\n",
       "I00000008        0.0        0.0        0.0        0.0        1.0"
      ]
     },
     "execution_count": 179,
     "metadata": {},
     "output_type": "execute_result"
    }
   ],
   "source": [
    "item_similarity_transformer = SimilarityTransformerPandas(\n",
    "    kind=\"item\", metric=\"cosine\", round=1, normalise=True\n",
    ")\n",
    "item_similarity_matrix = item_similarity_transformer.transform(user_item_matrix)\n",
    "print(item_similarity_matrix.shape)\n",
    "item_similarity_matrix.iloc[:5, :5]"
   ]
  },
  {
   "cell_type": "code",
   "execution_count": 180,
   "id": "da9162bc",
   "metadata": {},
   "outputs": [
    {
     "data": {
      "text/plain": [
       "0.0    23057232\n",
       "1.0       87025\n",
       "0.7         988\n",
       "0.4         352\n",
       "0.9         114\n",
       "0.3           6\n",
       "0.5           4\n",
       "Name: count, dtype: int64"
      ]
     },
     "execution_count": 180,
     "metadata": {},
     "output_type": "execute_result"
    }
   ],
   "source": [
    "item_similarity_rating_counts = item_similarity_matrix.stack().value_counts()\n",
    "\n",
    "assert item_similarity_rating_counts[1.0] >= num_train_items\n",
    "\n",
    "item_similarity_rating_counts"
   ]
  },
  {
   "cell_type": "code",
   "execution_count": 184,
   "id": "40b39af9",
   "metadata": {},
   "outputs": [
    {
     "name": "stdout",
     "output_type": "stream",
     "text": [
      "useful_item_similarities: 30.43%\n"
     ]
    },
    {
     "data": {
      "text/plain": [
       "count\n",
       "0        4122\n",
       "1         579\n",
       "2          77\n",
       "11          4\n",
       "12          3\n",
       "21          3\n",
       "7           2\n",
       "4           2\n",
       "17          2\n",
       "19          2\n",
       "9           2\n",
       "44          1\n",
       "23          1\n",
       "43          1\n",
       "57          1\n",
       "70          1\n",
       "30          1\n",
       "13          1\n",
       "14          1\n",
       "10          1\n",
       "6           1\n",
       "5           1\n",
       "3           1\n",
       "158         1\n",
       "Name: count, dtype: int64"
      ]
     },
     "execution_count": 184,
     "metadata": {},
     "output_type": "execute_result"
    }
   ],
   "source": [
    "useful_item_similarities = pd.DataFrame(\n",
    "    np.count_nonzero(\n",
    "        (item_similarity_matrix > 0.0) & (item_similarity_matrix < 1.0), axis=1\n",
    "    ),\n",
    "    index=item_similarity_matrix.index,\n",
    "    columns=[\"count\"],\n",
    ")\n",
    "useful_item_similarity_counts = useful_item_similarities.value_counts()\n",
    "\n",
    "print(\n",
    "    f\"useful_item_similarities: {(useful_item_similarities[\"count\"].sum() / num_train_items * 100).round(2)}%\"\n",
    ")\n",
    "useful_item_similarity_counts"
   ]
  }
 ],
 "metadata": {
  "kernelspec": {
   "display_name": "Python 3 (ipykernel)",
   "language": "python",
   "name": "python3"
  },
  "language_info": {
   "codemirror_mode": {
    "name": "ipython",
    "version": 3
   },
   "file_extension": ".py",
   "mimetype": "text/x-python",
   "name": "python",
   "nbconvert_exporter": "python",
   "pygments_lexer": "ipython3",
   "version": "3.12.4"
  }
 },
 "nbformat": 4,
 "nbformat_minor": 5
}
