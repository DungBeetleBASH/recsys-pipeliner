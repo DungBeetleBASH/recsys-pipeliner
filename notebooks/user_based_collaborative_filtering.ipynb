{
 "cells": [
  {
   "cell_type": "code",
   "execution_count": 1,
   "id": "96396887-ac6a-45a1-8017-589c37f9e34b",
   "metadata": {},
   "outputs": [],
   "source": [
    "%%capture\n",
    "%load_ext autoreload\n",
    "%autoreload 1"
   ]
  },
  {
   "cell_type": "code",
   "execution_count": 2,
   "id": "ba1ba79c-4ebb-4338-9c98-583b120d4e35",
   "metadata": {},
   "outputs": [],
   "source": [
    "import pandas as pd\n",
    "import numpy as np"
   ]
  },
  {
   "cell_type": "code",
   "execution_count": 3,
   "id": "be63daed-c28f-49a6-8fe5-8f29782187cf",
   "metadata": {},
   "outputs": [
    {
     "data": {
      "text/html": [
       "<div>\n",
       "<style scoped>\n",
       "    .dataframe tbody tr th:only-of-type {\n",
       "        vertical-align: middle;\n",
       "    }\n",
       "\n",
       "    .dataframe tbody tr th {\n",
       "        vertical-align: top;\n",
       "    }\n",
       "\n",
       "    .dataframe thead th {\n",
       "        text-align: right;\n",
       "    }\n",
       "</style>\n",
       "<table border=\"1\" class=\"dataframe\">\n",
       "  <thead>\n",
       "    <tr style=\"text-align: right;\">\n",
       "      <th></th>\n",
       "      <th>user_id</th>\n",
       "      <th>item_id</th>\n",
       "      <th>rating</th>\n",
       "    </tr>\n",
       "  </thead>\n",
       "  <tbody>\n",
       "    <tr>\n",
       "      <th>0</th>\n",
       "      <td>U1000</td>\n",
       "      <td>I1063</td>\n",
       "      <td>0.36</td>\n",
       "    </tr>\n",
       "    <tr>\n",
       "      <th>1</th>\n",
       "      <td>U1001</td>\n",
       "      <td>I1062</td>\n",
       "      <td>0.79</td>\n",
       "    </tr>\n",
       "    <tr>\n",
       "      <th>2</th>\n",
       "      <td>U1001</td>\n",
       "      <td>I1099</td>\n",
       "      <td>0.43</td>\n",
       "    </tr>\n",
       "    <tr>\n",
       "      <th>3</th>\n",
       "      <td>U1002</td>\n",
       "      <td>I1043</td>\n",
       "      <td>0.64</td>\n",
       "    </tr>\n",
       "    <tr>\n",
       "      <th>4</th>\n",
       "      <td>U1002</td>\n",
       "      <td>I1013</td>\n",
       "      <td>0.43</td>\n",
       "    </tr>\n",
       "  </tbody>\n",
       "</table>\n",
       "</div>"
      ],
      "text/plain": [
       "  user_id item_id  rating\n",
       "0   U1000   I1063    0.36\n",
       "1   U1001   I1062    0.79\n",
       "2   U1001   I1099    0.43\n",
       "3   U1002   I1043    0.64\n",
       "4   U1002   I1013    0.43"
      ]
     },
     "execution_count": 3,
     "metadata": {},
     "output_type": "execute_result"
    }
   ],
   "source": [
    "data_types = {\"user_id\": str, \"item_id\": str, \"rating\": np.float64}\n",
    "user_item_ratings = pd.read_csv(f\"../tests/test_data/test_user_item_ratings.csv\", dtype=data_types)\n",
    "user_item_ratings.head(5)"
   ]
  },
  {
   "cell_type": "code",
   "execution_count": 4,
   "id": "1449fa9a-0175-4130-b79b-cddf19161c41",
   "metadata": {},
   "outputs": [
    {
     "data": {
      "text/html": [
       "<div>\n",
       "<style scoped>\n",
       "    .dataframe tbody tr th:only-of-type {\n",
       "        vertical-align: middle;\n",
       "    }\n",
       "\n",
       "    .dataframe tbody tr th {\n",
       "        vertical-align: top;\n",
       "    }\n",
       "\n",
       "    .dataframe thead th {\n",
       "        text-align: right;\n",
       "    }\n",
       "</style>\n",
       "<table border=\"1\" class=\"dataframe\">\n",
       "  <thead>\n",
       "    <tr style=\"text-align: right;\">\n",
       "      <th>user_id</th>\n",
       "      <th>U1000</th>\n",
       "      <th>U1001</th>\n",
       "      <th>U1002</th>\n",
       "      <th>U1003</th>\n",
       "      <th>U1004</th>\n",
       "      <th>U1005</th>\n",
       "      <th>U1006</th>\n",
       "      <th>U1007</th>\n",
       "      <th>U1008</th>\n",
       "      <th>U1009</th>\n",
       "    </tr>\n",
       "    <tr>\n",
       "      <th>user_id</th>\n",
       "      <th></th>\n",
       "      <th></th>\n",
       "      <th></th>\n",
       "      <th></th>\n",
       "      <th></th>\n",
       "      <th></th>\n",
       "      <th></th>\n",
       "      <th></th>\n",
       "      <th></th>\n",
       "      <th></th>\n",
       "    </tr>\n",
       "  </thead>\n",
       "  <tbody>\n",
       "    <tr>\n",
       "      <th>U1000</th>\n",
       "      <td>1.0</td>\n",
       "      <td>0.0</td>\n",
       "      <td>0.0</td>\n",
       "      <td>0.0</td>\n",
       "      <td>0.0</td>\n",
       "      <td>0.000000</td>\n",
       "      <td>0.0</td>\n",
       "      <td>0.0</td>\n",
       "      <td>0.000000</td>\n",
       "      <td>0.000000</td>\n",
       "    </tr>\n",
       "    <tr>\n",
       "      <th>U1001</th>\n",
       "      <td>0.0</td>\n",
       "      <td>1.0</td>\n",
       "      <td>0.0</td>\n",
       "      <td>0.0</td>\n",
       "      <td>0.0</td>\n",
       "      <td>0.000000</td>\n",
       "      <td>0.0</td>\n",
       "      <td>0.0</td>\n",
       "      <td>0.000000</td>\n",
       "      <td>0.000000</td>\n",
       "    </tr>\n",
       "    <tr>\n",
       "      <th>U1002</th>\n",
       "      <td>0.0</td>\n",
       "      <td>0.0</td>\n",
       "      <td>1.0</td>\n",
       "      <td>0.0</td>\n",
       "      <td>0.0</td>\n",
       "      <td>0.144030</td>\n",
       "      <td>0.0</td>\n",
       "      <td>0.0</td>\n",
       "      <td>0.000000</td>\n",
       "      <td>0.204233</td>\n",
       "    </tr>\n",
       "    <tr>\n",
       "      <th>U1003</th>\n",
       "      <td>0.0</td>\n",
       "      <td>0.0</td>\n",
       "      <td>0.0</td>\n",
       "      <td>1.0</td>\n",
       "      <td>0.0</td>\n",
       "      <td>0.100523</td>\n",
       "      <td>0.0</td>\n",
       "      <td>0.0</td>\n",
       "      <td>0.000000</td>\n",
       "      <td>0.000000</td>\n",
       "    </tr>\n",
       "    <tr>\n",
       "      <th>U1004</th>\n",
       "      <td>0.0</td>\n",
       "      <td>0.0</td>\n",
       "      <td>0.0</td>\n",
       "      <td>0.0</td>\n",
       "      <td>1.0</td>\n",
       "      <td>0.000000</td>\n",
       "      <td>0.0</td>\n",
       "      <td>0.0</td>\n",
       "      <td>0.292944</td>\n",
       "      <td>0.000000</td>\n",
       "    </tr>\n",
       "  </tbody>\n",
       "</table>\n",
       "</div>"
      ],
      "text/plain": [
       "user_id  U1000  U1001  U1002  U1003  U1004     U1005  U1006  U1007     U1008  \\\n",
       "user_id                                                                        \n",
       "U1000      1.0    0.0    0.0    0.0    0.0  0.000000    0.0    0.0  0.000000   \n",
       "U1001      0.0    1.0    0.0    0.0    0.0  0.000000    0.0    0.0  0.000000   \n",
       "U1002      0.0    0.0    1.0    0.0    0.0  0.144030    0.0    0.0  0.000000   \n",
       "U1003      0.0    0.0    0.0    1.0    0.0  0.100523    0.0    0.0  0.000000   \n",
       "U1004      0.0    0.0    0.0    0.0    1.0  0.000000    0.0    0.0  0.292944   \n",
       "\n",
       "user_id     U1009  \n",
       "user_id            \n",
       "U1000    0.000000  \n",
       "U1001    0.000000  \n",
       "U1002    0.204233  \n",
       "U1003    0.000000  \n",
       "U1004    0.000000  "
      ]
     },
     "execution_count": 4,
     "metadata": {},
     "output_type": "execute_result"
    }
   ],
   "source": [
    "from sklearn.pipeline import Pipeline\n",
    "\n",
    "from pipeliner.recommendations.transformer import (\n",
    "    UserItemMatrixTransformer,\n",
    "    SimilarityTransformer,\n",
    ")\n",
    "\n",
    "transformer = Pipeline(\n",
    "    [\n",
    "        (\"user_item\", UserItemMatrixTransformer()),\n",
    "        (\"similarity\", SimilarityTransformer(kind=\"user\", metric=\"cosine\", normalise=True)),\n",
    "    ]\n",
    ")\n",
    "\n",
    "similarity_matrix = transformer.transform(user_item_ratings)\n",
    "similarity_matrix.head(5)"
   ]
  },
  {
   "cell_type": "code",
   "execution_count": 5,
   "id": "1017bda3-cf3e-4e16-b3d1-8cfe27dddaea",
   "metadata": {},
   "outputs": [
    {
     "data": {
      "text/plain": [
       "user_id\n",
       "U1009    0.204233\n",
       "U1005    0.144030\n",
       "Name: U1002, dtype: float64"
      ]
     },
     "execution_count": 5,
     "metadata": {},
     "output_type": "execute_result"
    }
   ],
   "source": [
    "user_id = \"U1002\"\n",
    "user_similarity_threshold = 0.1\n",
    "\n",
    "similar_users = (similarity_matrix[similarity_matrix[user_id]>user_similarity_threshold][user_id]\n",
    "                 .drop(user_id, errors=\"ignore\")\n",
    "                 .sort_values(ascending=False))\n",
    "similar_users.head(5)"
   ]
  },
  {
   "cell_type": "code",
   "execution_count": 6,
   "id": "515eb910-312e-4b62-a76d-574cca8436af",
   "metadata": {},
   "outputs": [
    {
     "data": {
      "text/plain": [
       "3    I1043\n",
       "4    I1013\n",
       "5    I1051\n",
       "Name: item_id, dtype: object"
      ]
     },
     "execution_count": 6,
     "metadata": {},
     "output_type": "execute_result"
    }
   ],
   "source": [
    "user_items = user_item_ratings[user_item_ratings[\"user_id\"] == user_id][\"item_id\"].drop_duplicates()\n",
    "user_items.head(5)"
   ]
  },
  {
   "cell_type": "code",
   "execution_count": 7,
   "id": "fa1db76b-93d1-44c0-b361-b266c9efe017",
   "metadata": {},
   "outputs": [
    {
     "data": {
      "text/html": [
       "<div>\n",
       "<style scoped>\n",
       "    .dataframe tbody tr th:only-of-type {\n",
       "        vertical-align: middle;\n",
       "    }\n",
       "\n",
       "    .dataframe tbody tr th {\n",
       "        vertical-align: top;\n",
       "    }\n",
       "\n",
       "    .dataframe thead th {\n",
       "        text-align: right;\n",
       "    }\n",
       "</style>\n",
       "<table border=\"1\" class=\"dataframe\">\n",
       "  <thead>\n",
       "    <tr style=\"text-align: right;\">\n",
       "      <th></th>\n",
       "      <th>item_id</th>\n",
       "      <th>rating</th>\n",
       "    </tr>\n",
       "  </thead>\n",
       "  <tbody>\n",
       "    <tr>\n",
       "      <th>45</th>\n",
       "      <td>I1072</td>\n",
       "      <td>1.00</td>\n",
       "    </tr>\n",
       "    <tr>\n",
       "      <th>16</th>\n",
       "      <td>I1029</td>\n",
       "      <td>0.93</td>\n",
       "    </tr>\n",
       "    <tr>\n",
       "      <th>53</th>\n",
       "      <td>I1075</td>\n",
       "      <td>0.79</td>\n",
       "    </tr>\n",
       "    <tr>\n",
       "      <th>54</th>\n",
       "      <td>I1017</td>\n",
       "      <td>0.79</td>\n",
       "    </tr>\n",
       "    <tr>\n",
       "      <th>19</th>\n",
       "      <td>I1057</td>\n",
       "      <td>0.64</td>\n",
       "    </tr>\n",
       "    <tr>\n",
       "      <th>46</th>\n",
       "      <td>I1071</td>\n",
       "      <td>0.64</td>\n",
       "    </tr>\n",
       "    <tr>\n",
       "      <th>52</th>\n",
       "      <td>I1076</td>\n",
       "      <td>0.64</td>\n",
       "    </tr>\n",
       "    <tr>\n",
       "      <th>17</th>\n",
       "      <td>I1077</td>\n",
       "      <td>0.57</td>\n",
       "    </tr>\n",
       "    <tr>\n",
       "      <th>50</th>\n",
       "      <td>I1037</td>\n",
       "      <td>0.50</td>\n",
       "    </tr>\n",
       "    <tr>\n",
       "      <th>15</th>\n",
       "      <td>I1069</td>\n",
       "      <td>0.43</td>\n",
       "    </tr>\n",
       "    <tr>\n",
       "      <th>20</th>\n",
       "      <td>I1048</td>\n",
       "      <td>0.43</td>\n",
       "    </tr>\n",
       "    <tr>\n",
       "      <th>47</th>\n",
       "      <td>I1066</td>\n",
       "      <td>0.36</td>\n",
       "    </tr>\n",
       "    <tr>\n",
       "      <th>49</th>\n",
       "      <td>I1054</td>\n",
       "      <td>0.36</td>\n",
       "    </tr>\n",
       "    <tr>\n",
       "      <th>51</th>\n",
       "      <td>I1074</td>\n",
       "      <td>0.14</td>\n",
       "    </tr>\n",
       "  </tbody>\n",
       "</table>\n",
       "</div>"
      ],
      "text/plain": [
       "   item_id  rating\n",
       "45   I1072    1.00\n",
       "16   I1029    0.93\n",
       "53   I1075    0.79\n",
       "54   I1017    0.79\n",
       "19   I1057    0.64\n",
       "46   I1071    0.64\n",
       "52   I1076    0.64\n",
       "17   I1077    0.57\n",
       "50   I1037    0.50\n",
       "15   I1069    0.43\n",
       "20   I1048    0.43\n",
       "47   I1066    0.36\n",
       "49   I1054    0.36\n",
       "51   I1074    0.14"
      ]
     },
     "execution_count": 7,
     "metadata": {},
     "output_type": "execute_result"
    }
   ],
   "source": [
    "similar_users_items = (user_item_ratings[user_item_ratings[\"user_id\"].isin(similar_users.index) & (~user_item_ratings[\"item_id\"].isin(user_items))]\n",
    "    .sort_values(by=\"rating\", ascending=False).drop_duplicates(subset=\"item_id\", keep=\"first\")[[\"item_id\", \"rating\"]])\n",
    "similar_users_items"
   ]
  },
  {
   "cell_type": "code",
   "execution_count": 8,
   "id": "aca14682-0d59-440a-9746-ec110b47551c",
   "metadata": {},
   "outputs": [
    {
     "data": {
      "text/html": [
       "<div>\n",
       "<style scoped>\n",
       "    .dataframe tbody tr th:only-of-type {\n",
       "        vertical-align: middle;\n",
       "    }\n",
       "\n",
       "    .dataframe tbody tr th {\n",
       "        vertical-align: top;\n",
       "    }\n",
       "\n",
       "    .dataframe thead th {\n",
       "        text-align: right;\n",
       "    }\n",
       "</style>\n",
       "<table border=\"1\" class=\"dataframe\">\n",
       "  <thead>\n",
       "    <tr style=\"text-align: right;\">\n",
       "      <th></th>\n",
       "      <th>item_id</th>\n",
       "      <th>rating</th>\n",
       "    </tr>\n",
       "  </thead>\n",
       "  <tbody>\n",
       "  </tbody>\n",
       "</table>\n",
       "</div>"
      ],
      "text/plain": [
       "Empty DataFrame\n",
       "Columns: [item_id, rating]\n",
       "Index: []"
      ]
     },
     "execution_count": 8,
     "metadata": {},
     "output_type": "execute_result"
    }
   ],
   "source": [
    "# double check the user hasn't rated the items\n",
    "# this should be an empty series\n",
    "similar_users_items[similar_users_items[\"item_id\"].isin(user_items)]"
   ]
  },
  {
   "cell_type": "code",
   "execution_count": 9,
   "id": "4003ee4a-baf7-4521-a349-0bb3f9f1de8e",
   "metadata": {},
   "outputs": [
    {
     "data": {
      "text/plain": [
       "array(['I1072', 'I1029', 'I1075', 'I1017', 'I1057'], dtype=object)"
      ]
     },
     "execution_count": 9,
     "metadata": {},
     "output_type": "execute_result"
    }
   ],
   "source": [
    "user_cf_recommendations = similar_users_items[\"item_id\"].head(5).values\n",
    "user_cf_recommendations"
   ]
  }
 ],
 "metadata": {
  "kernelspec": {
   "display_name": "Python 3 (ipykernel)",
   "language": "python",
   "name": "python3"
  },
  "language_info": {
   "codemirror_mode": {
    "name": "ipython",
    "version": 3
   },
   "file_extension": ".py",
   "mimetype": "text/x-python",
   "name": "python",
   "nbconvert_exporter": "python",
   "pygments_lexer": "ipython3",
   "version": "3.11.5"
  }
 },
 "nbformat": 4,
 "nbformat_minor": 5
}
