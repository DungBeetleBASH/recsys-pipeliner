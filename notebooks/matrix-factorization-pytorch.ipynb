{
 "cells": [
  {
   "cell_type": "code",
   "execution_count": 81,
   "metadata": {},
   "outputs": [
    {
     "data": {
      "text/plain": [
       "device(type='cuda')"
      ]
     },
     "execution_count": 81,
     "metadata": {},
     "output_type": "execute_result"
    }
   ],
   "source": [
    "import pandas as pd\n",
    "import numpy as np\n",
    "from IPython.display import display\n",
    "import matplotlib.pyplot as plt\n",
    "import sklearn\n",
    "\n",
    "import torch\n",
    "from torch import nn, optim\n",
    "from torch.utils.data import Dataset, DataLoader\n",
    "device = torch.device('cuda' if torch.cuda.is_available() else 'cpu')\n",
    "device"
   ]
  },
  {
   "cell_type": "code",
   "execution_count": 82,
   "metadata": {},
   "outputs": [
    {
     "data": {
      "text/html": [
       "<div>\n",
       "<style scoped>\n",
       "    .dataframe tbody tr th:only-of-type {\n",
       "        vertical-align: middle;\n",
       "    }\n",
       "\n",
       "    .dataframe tbody tr th {\n",
       "        vertical-align: top;\n",
       "    }\n",
       "\n",
       "    .dataframe thead th {\n",
       "        text-align: right;\n",
       "    }\n",
       "</style>\n",
       "<table border=\"1\" class=\"dataframe\">\n",
       "  <thead>\n",
       "    <tr style=\"text-align: right;\">\n",
       "      <th></th>\n",
       "      <th>user_id</th>\n",
       "      <th>item_id</th>\n",
       "      <th>date</th>\n",
       "      <th>count</th>\n",
       "    </tr>\n",
       "  </thead>\n",
       "  <tbody>\n",
       "    <tr>\n",
       "      <th>0</th>\n",
       "      <td>U002120</td>\n",
       "      <td>I00006767</td>\n",
       "      <td>2024-07-02</td>\n",
       "      <td>1.0</td>\n",
       "    </tr>\n",
       "    <tr>\n",
       "      <th>1</th>\n",
       "      <td>U000748</td>\n",
       "      <td>I00001418</td>\n",
       "      <td>2024-07-02</td>\n",
       "      <td>1.0</td>\n",
       "    </tr>\n",
       "    <tr>\n",
       "      <th>2</th>\n",
       "      <td>U004334</td>\n",
       "      <td>I00002579</td>\n",
       "      <td>2024-07-02</td>\n",
       "      <td>1.0</td>\n",
       "    </tr>\n",
       "    <tr>\n",
       "      <th>3</th>\n",
       "      <td>U002062</td>\n",
       "      <td>I00000098</td>\n",
       "      <td>2024-07-02</td>\n",
       "      <td>1.0</td>\n",
       "    </tr>\n",
       "    <tr>\n",
       "      <th>4</th>\n",
       "      <td>U001214</td>\n",
       "      <td>I00009416</td>\n",
       "      <td>2024-07-02</td>\n",
       "      <td>1.0</td>\n",
       "    </tr>\n",
       "  </tbody>\n",
       "</table>\n",
       "</div>"
      ],
      "text/plain": [
       "   user_id    item_id       date  count\n",
       "0  U002120  I00006767 2024-07-02    1.0\n",
       "1  U000748  I00001418 2024-07-02    1.0\n",
       "2  U004334  I00002579 2024-07-02    1.0\n",
       "3  U002062  I00000098 2024-07-02    1.0\n",
       "4  U001214  I00009416 2024-07-02    1.0"
      ]
     },
     "execution_count": 82,
     "metadata": {},
     "output_type": "execute_result"
    }
   ],
   "source": [
    "user_item_interactions_df = pd.read_csv('../tests/test_data/user_item_interactions.csv', parse_dates=['date'])\n",
    "\n",
    "user_item_interactions_df.head()"
   ]
  },
  {
   "cell_type": "code",
   "execution_count": 83,
   "metadata": {},
   "outputs": [
    {
     "name": "stdout",
     "output_type": "stream",
     "text": [
      "(58,) (1711,) (1714, 3)\n"
     ]
    },
    {
     "data": {
      "text/html": [
       "<div>\n",
       "<style scoped>\n",
       "    .dataframe tbody tr th:only-of-type {\n",
       "        vertical-align: middle;\n",
       "    }\n",
       "\n",
       "    .dataframe tbody tr th {\n",
       "        vertical-align: top;\n",
       "    }\n",
       "\n",
       "    .dataframe thead th {\n",
       "        text-align: right;\n",
       "    }\n",
       "</style>\n",
       "<table border=\"1\" class=\"dataframe\">\n",
       "  <thead>\n",
       "    <tr style=\"text-align: right;\">\n",
       "      <th></th>\n",
       "      <th>user_id</th>\n",
       "      <th>item_id</th>\n",
       "      <th>rating</th>\n",
       "    </tr>\n",
       "  </thead>\n",
       "  <tbody>\n",
       "    <tr>\n",
       "      <th>0</th>\n",
       "      <td>0</td>\n",
       "      <td>637</td>\n",
       "      <td>0.333333</td>\n",
       "    </tr>\n",
       "    <tr>\n",
       "      <th>1</th>\n",
       "      <td>0</td>\n",
       "      <td>185</td>\n",
       "      <td>0.333333</td>\n",
       "    </tr>\n",
       "    <tr>\n",
       "      <th>2</th>\n",
       "      <td>0</td>\n",
       "      <td>76</td>\n",
       "      <td>0.333333</td>\n",
       "    </tr>\n",
       "    <tr>\n",
       "      <th>3</th>\n",
       "      <td>0</td>\n",
       "      <td>1362</td>\n",
       "      <td>0.333333</td>\n",
       "    </tr>\n",
       "    <tr>\n",
       "      <th>4</th>\n",
       "      <td>0</td>\n",
       "      <td>202</td>\n",
       "      <td>0.333333</td>\n",
       "    </tr>\n",
       "  </tbody>\n",
       "</table>\n",
       "</div>"
      ],
      "text/plain": [
       "   user_id  item_id    rating\n",
       "0        0      637  0.333333\n",
       "1        0      185  0.333333\n",
       "2        0       76  0.333333\n",
       "3        0     1362  0.333333\n",
       "4        0      202  0.333333"
      ]
     },
     "execution_count": 83,
     "metadata": {},
     "output_type": "execute_result"
    }
   ],
   "source": [
    "from sklearn.preprocessing import LabelEncoder\n",
    "\n",
    "# filter interactions to include only users with >= 15 interactions\n",
    "\n",
    "interactions = user_item_interactions_df.groupby('user_id').filter(lambda x: len(x) >= 15)\n",
    "\n",
    "# sort for train test split\n",
    "interactions = interactions.sort_values(['user_id', 'date'], ascending=[True, True]).reset_index(drop=True)\n",
    "\n",
    "# create ratings column\n",
    "interactions['rating'] = np.clip(interactions['count'], a_max=3, a_min=1) / 3\n",
    "interactions.drop(['count', 'date'], axis=1, inplace=True)\n",
    "\n",
    "unique_users = interactions.user_id.drop_duplicates()\n",
    "unique_items = interactions.item_id.drop_duplicates()\n",
    "\n",
    "user_encoder = LabelEncoder()\n",
    "item_encoder = LabelEncoder()\n",
    "\n",
    "interactions['user_id'] = user_encoder.fit_transform(interactions['user_id'])\n",
    "interactions['item_id'] = item_encoder.fit_transform(interactions['item_id'])\n",
    "\n",
    "print(unique_users.shape, unique_items.shape, interactions.shape)\n",
    "\n",
    "interactions.head()"
   ]
  },
  {
   "cell_type": "code",
   "execution_count": 84,
   "metadata": {},
   "outputs": [
    {
     "data": {
      "text/plain": [
       "((1424, 3), (290, 3))"
      ]
     },
     "execution_count": 84,
     "metadata": {},
     "output_type": "execute_result"
    }
   ],
   "source": [
    "df_train = interactions.groupby('user_id').head(-5).reset_index(drop=True)\n",
    "df_val = interactions.groupby('user_id').tail(5).reset_index(drop=True)\n",
    "df_train.shape, df_val.shape"
   ]
  },
  {
   "cell_type": "code",
   "execution_count": 85,
   "metadata": {},
   "outputs": [],
   "source": [
    "class UserItemDataset(Dataset):\n",
    "    def __init__(self, df):\n",
    "        super().__init__()\n",
    "        self.df = df[['user_id', 'item_id', 'rating']]\n",
    "        self.X = list(zip(df.user_id.values, df.item_id.values))\n",
    "        self.y = self.df.rating.values\n",
    "    def __len__(self):\n",
    "        return len(self.df)\n",
    "    def __getitem__(self, idx):\n",
    "        return self.X[idx], self.y[idx]"
   ]
  },
  {
   "cell_type": "code",
   "execution_count": 86,
   "metadata": {},
   "outputs": [
    {
     "data": {
      "text/plain": [
       "([tensor([ 8,  2, 13,  3, 23, 55, 44, 34, 48,  3, 43, 27,  3, 23, 20, 33, 34, 47,\n",
       "           9, 44,  1, 36, 35, 41, 31, 19, 13, 42, 54, 54, 40,  1, 11, 57, 43,  2,\n",
       "          43, 10, 38, 47, 12, 39,  0, 15, 18, 45, 57, 13, 56,  8, 56, 45, 13, 23,\n",
       "          36, 33, 13, 26, 36, 46, 52, 49, 27, 51,  7, 20,  4, 56, 13, 13, 13, 44,\n",
       "          44, 39, 14, 42,  8, 44, 31, 24, 36, 36, 42, 15,  2,  0, 13, 44, 24, 45,\n",
       "          57, 27, 56, 18, 51, 22, 41, 44, 22, 13, 57, 13, 44, 13, 21, 26, 36, 28,\n",
       "          13, 36, 14, 39,  4, 51, 29, 13, 46,  1, 44, 44, 49, 44, 38,  4, 44, 13,\n",
       "          53, 30]),\n",
       "  tensor([ 234,  304,  552,   78,   63, 1577,  417,  114,  198,  457,  374,  620,\n",
       "           183,  141, 1549, 1699,  700, 1403, 1321, 1117,   87,  972,  945,  676,\n",
       "           781, 1111,  470,  610,  553,  522, 1061,  323,  513, 1628,  841,  273,\n",
       "           584, 1464,  480, 1272,   27,  663, 1071, 1438, 1583,  547, 1581, 1298,\n",
       "          1611,  406,  528,  511, 1680,  360, 1042,  955, 1471,  475,  943,   20,\n",
       "          1393,  864,  831, 1449, 1672,  495,  275, 1513, 1485,  134,  399,  564,\n",
       "           578,  701,  609,  774,   31, 1474,  220,  750, 1709,  949,  297, 1655,\n",
       "            96,   23,  508, 1346,  779,  207,  996, 1242, 1304, 1697, 1462, 1008,\n",
       "           318,  243, 1366,  661,  780,   98,  287,   85,  764,  575, 1041,  541,\n",
       "           157, 1043,  913,   38,  327,  443, 1640, 1425, 1213,  822,  313,  607,\n",
       "          1291,  486,  517,  441,  300,  813,  233,  968])],\n",
       " tensor([0.3333, 0.3333, 0.3333, 0.3333, 0.6667, 0.3333, 0.3333, 0.3333, 0.3333,\n",
       "         0.3333, 0.3333, 0.3333, 0.3333, 0.6667, 0.3333, 0.3333, 0.3333, 0.3333,\n",
       "         0.3333, 0.3333, 0.3333, 0.3333, 0.3333, 0.3333, 0.3333, 0.3333, 0.3333,\n",
       "         1.0000, 0.3333, 0.3333, 0.3333, 0.3333, 0.3333, 0.3333, 0.6667, 0.3333,\n",
       "         0.3333, 0.3333, 0.3333, 0.3333, 0.6667, 0.3333, 0.3333, 0.3333, 0.3333,\n",
       "         0.3333, 0.3333, 0.3333, 0.3333, 0.6667, 0.3333, 0.3333, 0.3333, 0.6667,\n",
       "         0.3333, 0.3333, 0.3333, 0.3333, 0.3333, 0.3333, 0.3333, 0.3333, 0.3333,\n",
       "         0.3333, 0.3333, 0.3333, 0.3333, 0.3333, 0.3333, 0.3333, 0.3333, 0.3333,\n",
       "         0.3333, 0.3333, 0.3333, 0.3333, 0.3333, 0.3333, 0.6667, 0.3333, 0.3333,\n",
       "         0.3333, 1.0000, 0.3333, 0.3333, 0.3333, 0.3333, 0.3333, 0.3333, 0.3333,\n",
       "         0.3333, 0.6667, 0.3333, 0.6667, 0.3333, 0.3333, 0.3333, 0.3333, 0.3333,\n",
       "         0.3333, 0.3333, 0.3333, 0.3333, 0.3333, 0.3333, 0.3333, 0.3333, 0.3333,\n",
       "         0.3333, 0.3333, 0.3333, 0.6667, 1.0000, 0.3333, 0.3333, 0.3333, 0.3333,\n",
       "         0.3333, 0.3333, 0.3333, 0.3333, 0.3333, 0.3333, 0.3333, 0.3333, 0.3333,\n",
       "         0.3333, 0.3333], dtype=torch.float64))"
      ]
     },
     "execution_count": 86,
     "metadata": {},
     "output_type": "execute_result"
    }
   ],
   "source": [
    "batch_size = 128\n",
    "ds_train = UserItemDataset(df_train)\n",
    "ds_val = UserItemDataset(df_val)\n",
    "dl_train = DataLoader(ds_train, batch_size=batch_size, shuffle=True, num_workers=4)\n",
    "dl_val = DataLoader(ds_val, batch_size=batch_size, shuffle=True, num_workers=4)\n",
    "\n",
    "xb, yb = next(iter(dl_train))\n",
    "xb, yb"
   ]
  },
  {
   "cell_type": "code",
   "execution_count": 87,
   "metadata": {},
   "outputs": [],
   "source": [
    "class MF(nn.Module):\n",
    "    \"\"\" Matrix factorization model \"\"\"\n",
    "    def __init__(self, n_users, n_items, embedding_dim):\n",
    "        super().__init__()\n",
    "        self.user_embedding = nn.Embedding(num_embeddings=n_users, embedding_dim=embedding_dim)\n",
    "        self.item_embedding = nn.Embedding(num_embeddings=n_items, embedding_dim=embedding_dim)\n",
    "    def forward(self, user, item):\n",
    "        user_embedding = self.user_embedding(user)\n",
    "        item_embedding = self.item_embedding(item)\n",
    "        return (user_embedding*item_embedding).sum(1)"
   ]
  },
  {
   "cell_type": "code",
   "execution_count": 101,
   "metadata": {},
   "outputs": [
    {
     "data": {
      "text/plain": [
       "MF(\n",
       "  (user_embedding): Embedding(58, 32)\n",
       "  (item_embedding): Embedding(1711, 32)\n",
       ")"
      ]
     },
     "execution_count": 101,
     "metadata": {},
     "output_type": "execute_result"
    }
   ],
   "source": [
    "n_users = len(unique_users)\n",
    "n_items = len(unique_items)\n",
    "\n",
    "model = MF(n_users, n_items, embedding_dim=32)\n",
    "model.to(device)\n",
    "model"
   ]
  },
  {
   "cell_type": "code",
   "execution_count": 102,
   "metadata": {},
   "outputs": [
    {
     "name": "stdout",
     "output_type": "stream",
     "text": [
      "Epoch: 0, Train Loss: 25.1, Val Loss:22.4\n",
      "Epoch: 1, Train Loss: 56.0, Val Loss:10.7\n",
      "Epoch: 2, Train Loss: 44.8, Val Loss:5.6\n",
      "Epoch: 3, Train Loss: 17.9, Val Loss:4.8\n",
      "Epoch: 4, Train Loss: 8.1, Val Loss:3.2\n",
      "Epoch: 5, Train Loss: 4.0, Val Loss:2.9\n",
      "Epoch: 6, Train Loss: 2.2, Val Loss:1.2\n",
      "Epoch: 7, Train Loss: 0.8, Val Loss:0.8\n",
      "Epoch: 8, Train Loss: 0.7, Val Loss:0.7\n",
      "Epoch: 9, Train Loss: 0.3, Val Loss:0.7\n",
      "Epoch: 10, Train Loss: 0.2, Val Loss:0.5\n",
      "Epoch: 11, Train Loss: 0.1, Val Loss:0.5\n",
      "Epoch: 12, Train Loss: 0.2, Val Loss:0.4\n",
      "Epoch: 13, Train Loss: 0.0, Val Loss:0.5\n",
      "Epoch: 14, Train Loss: 0.0, Val Loss:0.4\n",
      "Epoch: 15, Train Loss: 0.0, Val Loss:0.4\n",
      "Epoch: 16, Train Loss: 0.0, Val Loss:0.3\n",
      "Epoch: 17, Train Loss: 0.0, Val Loss:0.3\n",
      "Epoch: 18, Train Loss: 0.0, Val Loss:0.4\n",
      "Epoch: 19, Train Loss: 0.0, Val Loss:0.4\n"
     ]
    }
   ],
   "source": [
    "LEARNING_RATE = 0.2\n",
    "NUM_EPOCHS = 20\n",
    "\n",
    "opt = optim.AdamW(model.parameters(), lr=LEARNING_RATE)\n",
    "loss_fn = nn.MSELoss()\n",
    "epoch_train_losses, epoch_val_losses = [], []\n",
    "\n",
    "for i in range(NUM_EPOCHS):\n",
    "    train_losses, val_losses = [], []\n",
    "    model.train()\n",
    "    for xb,yb in dl_train:\n",
    "        xUser = xb[0].to(device, dtype=torch.long)\n",
    "        xItem = xb[1].to(device, dtype=torch.long)\n",
    "        yRatings = yb.to(device, dtype=torch.float)\n",
    "        preds = model(xUser, xItem)\n",
    "        loss = loss_fn(preds, yRatings)\n",
    "        train_losses.append(loss.item())\n",
    "        opt.zero_grad()\n",
    "        loss.backward()\n",
    "        opt.step()\n",
    "    model.eval()\n",
    "    for xb,yb in dl_val:\n",
    "        xUser = xb[0].to(device, dtype=torch.long)\n",
    "        xItem = xb[1].to(device, dtype=torch.long)\n",
    "        yRatings = yb.to(device, dtype=torch.float)\n",
    "        preds = model(xUser, xItem)\n",
    "        loss = loss_fn(preds, yRatings)\n",
    "        val_losses.append(loss.item())\n",
    "    # Start logging\n",
    "    epoch_train_loss = np.mean(train_losses)\n",
    "    epoch_val_loss = np.mean(val_losses)\n",
    "    epoch_train_losses.append(epoch_train_loss)\n",
    "    epoch_val_losses.append(epoch_val_loss)\n",
    "    print(f'Epoch: {i}, Train Loss: {epoch_train_loss:0.1f}, Val Loss:{epoch_val_loss:0.1f}')"
   ]
  },
  {
   "cell_type": "code",
   "execution_count": 103,
   "metadata": {},
   "outputs": [
    {
     "data": {
      "text/plain": [
       "<matplotlib.legend.Legend at 0x70b765070490>"
      ]
     },
     "execution_count": 103,
     "metadata": {},
     "output_type": "execute_result"
    },
    {
     "data": {
      "image/png": "[encoded data removed]",
      "text/plain": [
       "<Figure size 800x400 with 1 Axes>"
      ]
     },
     "metadata": {},
     "output_type": "display_data"
    }
   ],
   "source": [
    "plt.figure(figsize=(8, 4))\n",
    "plt.plot(epoch_train_losses, label='Train')\n",
    "plt.plot(epoch_val_losses, label='Val')\n",
    "plt.title('Loss vs Epoch')\n",
    "plt.xlabel('Epoch')\n",
    "plt.ylabel('Loss')\n",
    "plt.grid()\n",
    "plt.legend()"
   ]
  }
 ],
 "metadata": {
  "kernelspec": {
   "display_name": "pipeliner",
   "language": "python",
   "name": "python3"
  },
  "language_info": {
   "codemirror_mode": {
    "name": "ipython",
    "version": 3
   },
   "file_extension": ".py",
   "mimetype": "text/x-python",
   "name": "python",
   "nbconvert_exporter": "python",
   "pygments_lexer": "ipython3",
   "version": "3.11.9"
  }
 },
 "nbformat": 4,
 "nbformat_minor": 2
}
