{
 "cells": [
  {
   "cell_type": "code",
   "execution_count": null,
   "metadata": {},
   "outputs": [
    {
     "data": {
      "text/plain": [
       "device(type='cuda')"
      ]
     },
     "execution_count": 1,
     "metadata": {},
     "output_type": "execute_result"
    }
   ],
   "source": [
    "import pandas as pd\n",
    "import numpy as np\n",
    "from IPython.display import display\n",
    "import matplotlib.pyplot as plt\n",
    "import torch\n",
    "from sklearn.preprocessing import LabelEncoder\n",
    "from sklearn.metrics import precision_score, recall_score, f1_score\n",
    "\n",
    "from torch.utils.data import Dataset, DataLoader\n",
    "device = torch.device('cuda' if torch.cuda.is_available() else 'cpu')\n",
    "device"
   ]
  },
  {
   "cell_type": "markdown",
   "metadata": {},
   "source": [
    "https://medium.com/@datadote/pytorch-matrix-factorization-pictures-code-part-1-abe331317ffb\n",
    "\n",
    "https://github.com/Datadote/matrix-factorization-pytorch/blob/master/01_matrix_fact_simple.ipynb"
   ]
  },
  {
   "cell_type": "code",
   "execution_count": 2,
   "metadata": {},
   "outputs": [
    {
     "data": {
      "text/html": [
       "<div>\n",
       "<style scoped>\n",
       "    .dataframe tbody tr th:only-of-type {\n",
       "        vertical-align: middle;\n",
       "    }\n",
       "\n",
       "    .dataframe tbody tr th {\n",
       "        vertical-align: top;\n",
       "    }\n",
       "\n",
       "    .dataframe thead th {\n",
       "        text-align: right;\n",
       "    }\n",
       "</style>\n",
       "<table border=\"1\" class=\"dataframe\">\n",
       "  <thead>\n",
       "    <tr style=\"text-align: right;\">\n",
       "      <th></th>\n",
       "      <th>user_id</th>\n",
       "      <th>item_id</th>\n",
       "      <th>date</th>\n",
       "      <th>count</th>\n",
       "    </tr>\n",
       "  </thead>\n",
       "  <tbody>\n",
       "    <tr>\n",
       "      <th>0</th>\n",
       "      <td>U002120</td>\n",
       "      <td>I00006767</td>\n",
       "      <td>2024-07-02</td>\n",
       "      <td>1.0</td>\n",
       "    </tr>\n",
       "    <tr>\n",
       "      <th>1</th>\n",
       "      <td>U000748</td>\n",
       "      <td>I00001418</td>\n",
       "      <td>2024-07-02</td>\n",
       "      <td>1.0</td>\n",
       "    </tr>\n",
       "    <tr>\n",
       "      <th>2</th>\n",
       "      <td>U004334</td>\n",
       "      <td>I00002579</td>\n",
       "      <td>2024-07-02</td>\n",
       "      <td>1.0</td>\n",
       "    </tr>\n",
       "    <tr>\n",
       "      <th>3</th>\n",
       "      <td>U002062</td>\n",
       "      <td>I00000098</td>\n",
       "      <td>2024-07-02</td>\n",
       "      <td>1.0</td>\n",
       "    </tr>\n",
       "    <tr>\n",
       "      <th>4</th>\n",
       "      <td>U001214</td>\n",
       "      <td>I00009416</td>\n",
       "      <td>2024-07-02</td>\n",
       "      <td>1.0</td>\n",
       "    </tr>\n",
       "  </tbody>\n",
       "</table>\n",
       "</div>"
      ],
      "text/plain": [
       "   user_id    item_id       date  count\n",
       "0  U002120  I00006767 2024-07-02    1.0\n",
       "1  U000748  I00001418 2024-07-02    1.0\n",
       "2  U004334  I00002579 2024-07-02    1.0\n",
       "3  U002062  I00000098 2024-07-02    1.0\n",
       "4  U001214  I00009416 2024-07-02    1.0"
      ]
     },
     "execution_count": 2,
     "metadata": {},
     "output_type": "execute_result"
    }
   ],
   "source": [
    "user_item_interactions_df = pd.read_csv('../tests/test_data/user_item_interactions.csv', parse_dates=['date'])\n",
    "\n",
    "user_item_interactions_df.head()"
   ]
  },
  {
   "cell_type": "code",
   "execution_count": null,
   "metadata": {},
   "outputs": [
    {
     "name": "stdout",
     "output_type": "stream",
     "text": [
      "(58,) (1711,) (1714, 3)\n"
     ]
    },
    {
     "data": {
      "text/html": [
       "<div>\n",
       "<style scoped>\n",
       "    .dataframe tbody tr th:only-of-type {\n",
       "        vertical-align: middle;\n",
       "    }\n",
       "\n",
       "    .dataframe tbody tr th {\n",
       "        vertical-align: top;\n",
       "    }\n",
       "\n",
       "    .dataframe thead th {\n",
       "        text-align: right;\n",
       "    }\n",
       "</style>\n",
       "<table border=\"1\" class=\"dataframe\">\n",
       "  <thead>\n",
       "    <tr style=\"text-align: right;\">\n",
       "      <th></th>\n",
       "      <th>user_id</th>\n",
       "      <th>item_id</th>\n",
       "      <th>rating</th>\n",
       "    </tr>\n",
       "  </thead>\n",
       "  <tbody>\n",
       "    <tr>\n",
       "      <th>0</th>\n",
       "      <td>0</td>\n",
       "      <td>637</td>\n",
       "      <td>0.2</td>\n",
       "    </tr>\n",
       "    <tr>\n",
       "      <th>1</th>\n",
       "      <td>0</td>\n",
       "      <td>185</td>\n",
       "      <td>0.2</td>\n",
       "    </tr>\n",
       "    <tr>\n",
       "      <th>2</th>\n",
       "      <td>0</td>\n",
       "      <td>76</td>\n",
       "      <td>0.2</td>\n",
       "    </tr>\n",
       "    <tr>\n",
       "      <th>3</th>\n",
       "      <td>0</td>\n",
       "      <td>1362</td>\n",
       "      <td>0.2</td>\n",
       "    </tr>\n",
       "    <tr>\n",
       "      <th>4</th>\n",
       "      <td>0</td>\n",
       "      <td>202</td>\n",
       "      <td>0.2</td>\n",
       "    </tr>\n",
       "  </tbody>\n",
       "</table>\n",
       "</div>"
      ],
      "text/plain": [
       "   user_id  item_id  rating\n",
       "0        0      637     0.2\n",
       "1        0      185     0.2\n",
       "2        0       76     0.2\n",
       "3        0     1362     0.2\n",
       "4        0      202     0.2"
      ]
     },
     "execution_count": 3,
     "metadata": {},
     "output_type": "execute_result"
    }
   ],
   "source": [
    "# filter interactions to include only users with >= 15 interactions\n",
    "\n",
    "interactions = user_item_interactions_df.groupby('user_id').filter(lambda x: len(x) >= 15)\n",
    "\n",
    "# sort for train test split\n",
    "interactions = interactions.sort_values(['user_id', 'date'], ascending=[True, True]).reset_index(drop=True)\n",
    "\n",
    "# create ratings column\n",
    "interactions['rating'] = np.clip(interactions['count'], a_max=5, a_min=1) / 5\n",
    "interactions.drop(['count', 'date'], axis=1, inplace=True)\n",
    "\n",
    "unique_users = interactions.user_id.drop_duplicates()\n",
    "unique_items = interactions.item_id.drop_duplicates()\n",
    "\n",
    "user_encoder = LabelEncoder()\n",
    "item_encoder = LabelEncoder()\n",
    "\n",
    "interactions['user_id'] = user_encoder.fit_transform(interactions['user_id'])\n",
    "interactions['item_id'] = item_encoder.fit_transform(interactions['item_id'])\n",
    "\n",
    "print(unique_users.shape, unique_items.shape, interactions.shape)\n",
    "\n",
    "interactions.head()"
   ]
  },
  {
   "cell_type": "code",
   "execution_count": 4,
   "metadata": {},
   "outputs": [
    {
     "data": {
      "text/plain": [
       "((1424, 3), (290, 3))"
      ]
     },
     "execution_count": 4,
     "metadata": {},
     "output_type": "execute_result"
    }
   ],
   "source": [
    "df_train = interactions.groupby('user_id').head(-5).reset_index(drop=True)\n",
    "df_val = interactions.groupby('user_id').tail(5).reset_index(drop=True)\n",
    "df_train.shape, df_val.shape"
   ]
  },
  {
   "cell_type": "code",
   "execution_count": 5,
   "metadata": {},
   "outputs": [],
   "source": [
    "class UserItemDataset(Dataset):\n",
    "    def __init__(self, df):\n",
    "        super().__init__()\n",
    "        self.df = df[['user_id', 'item_id', 'rating']]\n",
    "        self.X = list(zip(df.user_id.values, df.item_id.values))\n",
    "        self.y = self.df.rating.values\n",
    "    def __len__(self):\n",
    "        return len(self.df)\n",
    "    def __getitem__(self, idx):\n",
    "        return self.X[idx], self.y[idx]"
   ]
  },
  {
   "cell_type": "code",
   "execution_count": 6,
   "metadata": {},
   "outputs": [],
   "source": [
    "batch_size = 128\n",
    "ds_train = UserItemDataset(df_train)\n",
    "ds_val = UserItemDataset(df_val)\n",
    "dl_train = DataLoader(ds_train, batch_size=batch_size, shuffle=True, num_workers=4)\n",
    "dl_val = DataLoader(ds_val, batch_size=batch_size, shuffle=True, num_workers=4)"
   ]
  },
  {
   "cell_type": "code",
   "execution_count": 7,
   "metadata": {},
   "outputs": [],
   "source": [
    "class MF(torch.nn.Module):\n",
    "    \"\"\" Matrix factorization model \"\"\"\n",
    "    def __init__(self, n_users, n_items, embedding_dim):\n",
    "        super().__init__()\n",
    "        self.user_embedding = torch.nn.Embedding(num_embeddings=n_users, embedding_dim=embedding_dim)\n",
    "        self.item_embedding = torch.nn.Embedding(num_embeddings=n_items, embedding_dim=embedding_dim)\n",
    "    def forward(self, user, item):\n",
    "        user_embedding = self.user_embedding(user)\n",
    "        item_embedding = self.item_embedding(item)\n",
    "        return (user_embedding*item_embedding).sum(1)"
   ]
  },
  {
   "cell_type": "code",
   "execution_count": 8,
   "metadata": {},
   "outputs": [
    {
     "data": {
      "text/plain": [
       "MF(\n",
       "  (user_embedding): Embedding(58, 32)\n",
       "  (item_embedding): Embedding(1711, 32)\n",
       ")"
      ]
     },
     "execution_count": 8,
     "metadata": {},
     "output_type": "execute_result"
    }
   ],
   "source": [
    "n_users = len(unique_users)\n",
    "n_items = len(unique_items)\n",
    "\n",
    "model = MF(n_users, n_items, embedding_dim=32)\n",
    "model.to(device)\n",
    "model"
   ]
  },
  {
   "cell_type": "code",
   "execution_count": 9,
   "metadata": {},
   "outputs": [
    {
     "name": "stdout",
     "output_type": "stream",
     "text": [
      "Epoch: 0, Train Loss: 23.2, Val Loss:22.8\n",
      "Epoch: 1, Train Loss: 51.4, Val Loss:10.3\n",
      "Epoch: 2, Train Loss: 46.0, Val Loss:5.8\n",
      "Epoch: 3, Train Loss: 17.3, Val Loss:4.4\n",
      "Epoch: 4, Train Loss: 7.5, Val Loss:3.4\n",
      "Epoch: 5, Train Loss: 4.6, Val Loss:2.2\n",
      "Epoch: 6, Train Loss: 2.3, Val Loss:2.0\n",
      "Epoch: 7, Train Loss: 1.1, Val Loss:1.0\n",
      "Epoch: 8, Train Loss: 0.4, Val Loss:0.7\n",
      "Epoch: 9, Train Loss: 0.3, Val Loss:0.6\n",
      "Epoch: 10, Train Loss: 0.1, Val Loss:0.5\n",
      "Epoch: 11, Train Loss: 0.1, Val Loss:0.5\n",
      "Epoch: 12, Train Loss: 0.0, Val Loss:0.4\n",
      "Epoch: 13, Train Loss: 0.0, Val Loss:0.4\n",
      "Epoch: 14, Train Loss: 0.0, Val Loss:0.4\n",
      "Epoch: 15, Train Loss: 0.0, Val Loss:0.5\n",
      "Epoch: 16, Train Loss: 0.0, Val Loss:0.3\n",
      "Epoch: 17, Train Loss: 0.0, Val Loss:0.3\n",
      "Epoch: 18, Train Loss: 0.0, Val Loss:0.3\n",
      "Epoch: 19, Train Loss: 0.0, Val Loss:0.3\n"
     ]
    }
   ],
   "source": [
    "LEARNING_RATE = 0.2\n",
    "NUM_EPOCHS = 20\n",
    "\n",
    "opt = torch.optim.AdamW(model.parameters(), lr=LEARNING_RATE)\n",
    "loss_fn = torch.nn.MSELoss()\n",
    "epoch_train_losses, epoch_val_losses = [], []\n",
    "\n",
    "for i in range(NUM_EPOCHS):\n",
    "    train_losses, val_losses = [], []\n",
    "    model.train()\n",
    "    for xb,yb in dl_train:\n",
    "        xUser = xb[0].to(device, dtype=torch.long)\n",
    "        xItem = xb[1].to(device, dtype=torch.long)\n",
    "        yRatings = yb.to(device, dtype=torch.float)\n",
    "        preds = model(xUser, xItem)\n",
    "        loss = loss_fn(preds, yRatings)\n",
    "        train_losses.append(loss.item())\n",
    "        opt.zero_grad()\n",
    "        loss.backward()\n",
    "        opt.step()\n",
    "    model.eval()\n",
    "    for xb,yb in dl_val:\n",
    "        xUser = xb[0].to(device, dtype=torch.long)\n",
    "        xItem = xb[1].to(device, dtype=torch.long)\n",
    "        yRatings = yb.to(device, dtype=torch.float)\n",
    "        preds = model(xUser, xItem)\n",
    "        loss = loss_fn(preds, yRatings)\n",
    "        val_losses.append(loss.item())\n",
    "    # Start logging\n",
    "    epoch_train_loss = np.mean(train_losses)\n",
    "    epoch_val_loss = np.mean(val_losses)\n",
    "    epoch_train_losses.append(epoch_train_loss)\n",
    "    epoch_val_losses.append(epoch_val_loss)\n",
    "    print(f'Epoch: {i}, Train Loss: {epoch_train_loss:0.1f}, Val Loss:{epoch_val_loss:0.1f}')"
   ]
  },
  {
   "cell_type": "code",
   "execution_count": 10,
   "metadata": {},
   "outputs": [
    {
     "data": {
      "text/plain": [
       "<matplotlib.legend.Legend at 0x7e771187e5d0>"
      ]
     },
     "execution_count": 10,
     "metadata": {},
     "output_type": "execute_result"
    },
    {
     "data": {
      "image/png": "[encoded data removed]",
      "text/plain": [
       "<Figure size 800x400 with 1 Axes>"
      ]
     },
     "metadata": {},
     "output_type": "display_data"
    }
   ],
   "source": [
    "plt.figure(figsize=(8, 4))\n",
    "plt.plot(epoch_train_losses, label='Train')\n",
    "plt.plot(epoch_val_losses, label='Val')\n",
    "plt.title('Loss vs Epoch')\n",
    "plt.xlabel('Epoch')\n",
    "plt.ylabel('Loss')\n",
    "plt.grid()\n",
    "plt.legend()"
   ]
  },
  {
   "cell_type": "code",
   "execution_count": 11,
   "metadata": {},
   "outputs": [
    {
     "name": "stdout",
     "output_type": "stream",
     "text": [
      "User embedding min/max weight: -0.542 / 0.599\n",
      "Item embedding min/max weight: -2.948 / 3.432\n",
      "Predictions min/max: -0.89 / 0.68\n",
      "Rating min/max: 0.20 / 0.60\n",
      "[-0.08785623 -0.88764054  0.00539791  0.29495484  0.26938397  0.6845105 ]\n",
      "[0.2 0.2 0.2 0.2 0.2 0.2]\n"
     ]
    }
   ],
   "source": [
    "user_embedding_min_weight = model.user_embedding.weight.min().item()\n",
    "user_embedding_max_weight = model.user_embedding.weight.max().item()\n",
    "item_embedding_min_weight = model.item_embedding.weight.min().item()\n",
    "item_embedding_max_weight = model.item_embedding.weight.max().item()\n",
    "print(f'User embedding min/max weight: {user_embedding_min_weight:0.3f} / {user_embedding_max_weight:0.3f}')\n",
    "print(f'Item embedding min/max weight: {item_embedding_min_weight:0.3f} / {item_embedding_max_weight:0.3f}')\n",
    "print(f'Predictions min/max: {preds.min().item():0.2f} / {preds.max().item():0.2f}')\n",
    "print(f'Rating min/max: {yRatings.min().item():0.2f} / {yRatings.max().item():0.2f}')\n",
    "print(preds.detach().cpu().numpy()[:6])\n",
    "print(yRatings.detach().cpu().numpy()[:6])"
   ]
  },
  {
   "cell_type": "code",
   "execution_count": null,
   "metadata": {},
   "outputs": [],
   "source": [
    "class MF2(torch.nn.Module):\n",
    "    \"\"\" Matrix factorization model \"\"\"\n",
    "    def __init__(self, n_users, n_items, embedding_dim, init_weights = False, use_bias = False, sigmoid_high = None, sigmoid_low = 0):\n",
    "        super().__init__()\n",
    "        self.use_bias = use_bias\n",
    "        self.sigmoid_high = sigmoid_high\n",
    "        self.sigmoid_low = sigmoid_low\n",
    "        self.user_embedding = torch.nn.Embedding(num_embeddings=n_users, embedding_dim=embedding_dim)\n",
    "        self.item_embedding = torch.nn.Embedding(num_embeddings=n_items, embedding_dim=embedding_dim)\n",
    "        if use_bias:\n",
    "            self.user_bias = torch.nn.Parameter(torch.zeros(n_users))\n",
    "            self.item_bias = torch.nn.Parameter(torch.zeros(n_items))\n",
    "            self.offset = torch.nn.Parameter(torch.zeros(1))\n",
    "        if init_weights:\n",
    "            self.user_embedding.weight.data.uniform_(0., 0.05)\n",
    "            self.item_embedding.weight.data.uniform_(0., 0.05)\n",
    "\n",
    "    def forward(self, user, item):\n",
    "        user_embedding = self.user_embedding(user)\n",
    "        item_embedding = self.item_embedding(item)\n",
    "        product = (user_embedding*item_embedding).sum(1)\n",
    "        if self.use_bias:\n",
    "            product = self.apply_bias(product, user, item)\n",
    "        if self.sigmoid_high is not None:\n",
    "            product = self.apply_sigmoid_range(product)\n",
    "        return product\n",
    "    \n",
    "    def apply_bias(self, x, user, item):\n",
    "        return x + self.user_bias[user] + self.item_bias[item] + self.offset\n",
    "    \n",
    "    def apply_sigmoid_range(self, x):\n",
    "        return torch.sigmoid(x) * (self.sigmoid_high - self.sigmoid_low) + self.sigmoid_low"
   ]
  },
  {
   "cell_type": "code",
   "execution_count": null,
   "metadata": {},
   "outputs": [],
   "source": [
    "LEARNING_RATE = 0.2\n",
    "NUM_EPOCHS = 20\n",
    "INIT_WEIGHTS = True\n",
    "USE_BIAS = True\n",
    "SIGMOID_HIGH = 5.5"
   ]
  }
 ],
 "metadata": {
  "kernelspec": {
   "display_name": "pipeliner",
   "language": "python",
   "name": "python3"
  },
  "language_info": {
   "codemirror_mode": {
    "name": "ipython",
    "version": 3
   },
   "file_extension": ".py",
   "mimetype": "text/x-python",
   "name": "python",
   "nbconvert_exporter": "python",
   "pygments_lexer": "ipython3",
   "version": "3.11.9"
  }
 },
 "nbformat": 4,
 "nbformat_minor": 2
}
