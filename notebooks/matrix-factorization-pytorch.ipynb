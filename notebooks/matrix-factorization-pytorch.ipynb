{
 "cells": [
  {
   "cell_type": "code",
   "execution_count": 114,
   "metadata": {},
   "outputs": [
    {
     "data": {
      "text/plain": [
       "device(type='cuda')"
      ]
     },
     "execution_count": 114,
     "metadata": {},
     "output_type": "execute_result"
    }
   ],
   "source": [
    "import pandas as pd\n",
    "import numpy as np\n",
    "from IPython.display import display\n",
    "import matplotlib.pyplot as plt\n",
    "import sklearn\n",
    "\n",
    "import torch\n",
    "from torch import nn, optim\n",
    "from torch.utils.data import Dataset, DataLoader\n",
    "device = torch.device('cuda' if torch.cuda.is_available() else 'cpu')\n",
    "device"
   ]
  },
  {
   "cell_type": "markdown",
   "metadata": {},
   "source": [
    "https://medium.com/@datadote/pytorch-matrix-factorization-pictures-code-part-1-abe331317ffb\n",
    "\n",
    "https://github.com/Datadote/matrix-factorization-pytorch/blob/master/01_matrix_fact_simple.ipynb"
   ]
  },
  {
   "cell_type": "code",
   "execution_count": 115,
   "metadata": {},
   "outputs": [
    {
     "data": {
      "text/html": [
       "<div>\n",
       "<style scoped>\n",
       "    .dataframe tbody tr th:only-of-type {\n",
       "        vertical-align: middle;\n",
       "    }\n",
       "\n",
       "    .dataframe tbody tr th {\n",
       "        vertical-align: top;\n",
       "    }\n",
       "\n",
       "    .dataframe thead th {\n",
       "        text-align: right;\n",
       "    }\n",
       "</style>\n",
       "<table border=\"1\" class=\"dataframe\">\n",
       "  <thead>\n",
       "    <tr style=\"text-align: right;\">\n",
       "      <th></th>\n",
       "      <th>user_id</th>\n",
       "      <th>item_id</th>\n",
       "      <th>date</th>\n",
       "      <th>count</th>\n",
       "    </tr>\n",
       "  </thead>\n",
       "  <tbody>\n",
       "    <tr>\n",
       "      <th>0</th>\n",
       "      <td>U002120</td>\n",
       "      <td>I00006767</td>\n",
       "      <td>2024-07-02</td>\n",
       "      <td>1.0</td>\n",
       "    </tr>\n",
       "    <tr>\n",
       "      <th>1</th>\n",
       "      <td>U000748</td>\n",
       "      <td>I00001418</td>\n",
       "      <td>2024-07-02</td>\n",
       "      <td>1.0</td>\n",
       "    </tr>\n",
       "    <tr>\n",
       "      <th>2</th>\n",
       "      <td>U004334</td>\n",
       "      <td>I00002579</td>\n",
       "      <td>2024-07-02</td>\n",
       "      <td>1.0</td>\n",
       "    </tr>\n",
       "    <tr>\n",
       "      <th>3</th>\n",
       "      <td>U002062</td>\n",
       "      <td>I00000098</td>\n",
       "      <td>2024-07-02</td>\n",
       "      <td>1.0</td>\n",
       "    </tr>\n",
       "    <tr>\n",
       "      <th>4</th>\n",
       "      <td>U001214</td>\n",
       "      <td>I00009416</td>\n",
       "      <td>2024-07-02</td>\n",
       "      <td>1.0</td>\n",
       "    </tr>\n",
       "  </tbody>\n",
       "</table>\n",
       "</div>"
      ],
      "text/plain": [
       "   user_id    item_id       date  count\n",
       "0  U002120  I00006767 2024-07-02    1.0\n",
       "1  U000748  I00001418 2024-07-02    1.0\n",
       "2  U004334  I00002579 2024-07-02    1.0\n",
       "3  U002062  I00000098 2024-07-02    1.0\n",
       "4  U001214  I00009416 2024-07-02    1.0"
      ]
     },
     "execution_count": 115,
     "metadata": {},
     "output_type": "execute_result"
    }
   ],
   "source": [
    "user_item_interactions_df = pd.read_csv('../tests/test_data/user_item_interactions.csv', parse_dates=['date'])\n",
    "\n",
    "user_item_interactions_df.head()"
   ]
  },
  {
   "cell_type": "code",
   "execution_count": 116,
   "metadata": {},
   "outputs": [
    {
     "name": "stdout",
     "output_type": "stream",
     "text": [
      "(58,) (1711,) (1714, 3)\n"
     ]
    },
    {
     "data": {
      "text/html": [
       "<div>\n",
       "<style scoped>\n",
       "    .dataframe tbody tr th:only-of-type {\n",
       "        vertical-align: middle;\n",
       "    }\n",
       "\n",
       "    .dataframe tbody tr th {\n",
       "        vertical-align: top;\n",
       "    }\n",
       "\n",
       "    .dataframe thead th {\n",
       "        text-align: right;\n",
       "    }\n",
       "</style>\n",
       "<table border=\"1\" class=\"dataframe\">\n",
       "  <thead>\n",
       "    <tr style=\"text-align: right;\">\n",
       "      <th></th>\n",
       "      <th>user_id</th>\n",
       "      <th>item_id</th>\n",
       "      <th>rating</th>\n",
       "    </tr>\n",
       "  </thead>\n",
       "  <tbody>\n",
       "    <tr>\n",
       "      <th>0</th>\n",
       "      <td>0</td>\n",
       "      <td>637</td>\n",
       "      <td>0.2</td>\n",
       "    </tr>\n",
       "    <tr>\n",
       "      <th>1</th>\n",
       "      <td>0</td>\n",
       "      <td>185</td>\n",
       "      <td>0.2</td>\n",
       "    </tr>\n",
       "    <tr>\n",
       "      <th>2</th>\n",
       "      <td>0</td>\n",
       "      <td>76</td>\n",
       "      <td>0.2</td>\n",
       "    </tr>\n",
       "    <tr>\n",
       "      <th>3</th>\n",
       "      <td>0</td>\n",
       "      <td>1362</td>\n",
       "      <td>0.2</td>\n",
       "    </tr>\n",
       "    <tr>\n",
       "      <th>4</th>\n",
       "      <td>0</td>\n",
       "      <td>202</td>\n",
       "      <td>0.2</td>\n",
       "    </tr>\n",
       "  </tbody>\n",
       "</table>\n",
       "</div>"
      ],
      "text/plain": [
       "   user_id  item_id  rating\n",
       "0        0      637     0.2\n",
       "1        0      185     0.2\n",
       "2        0       76     0.2\n",
       "3        0     1362     0.2\n",
       "4        0      202     0.2"
      ]
     },
     "execution_count": 116,
     "metadata": {},
     "output_type": "execute_result"
    }
   ],
   "source": [
    "from sklearn.preprocessing import LabelEncoder\n",
    "\n",
    "# filter interactions to include only users with >= 15 interactions\n",
    "\n",
    "interactions = user_item_interactions_df.groupby('user_id').filter(lambda x: len(x) >= 15)\n",
    "\n",
    "# sort for train test split\n",
    "interactions = interactions.sort_values(['user_id', 'date'], ascending=[True, True]).reset_index(drop=True)\n",
    "\n",
    "# create ratings column\n",
    "interactions['rating'] = np.clip(interactions['count'], a_max=5, a_min=1) / 5\n",
    "interactions.drop(['count', 'date'], axis=1, inplace=True)\n",
    "\n",
    "unique_users = interactions.user_id.drop_duplicates()\n",
    "unique_items = interactions.item_id.drop_duplicates()\n",
    "\n",
    "user_encoder = LabelEncoder()\n",
    "item_encoder = LabelEncoder()\n",
    "\n",
    "interactions['user_id'] = user_encoder.fit_transform(interactions['user_id'])\n",
    "interactions['item_id'] = item_encoder.fit_transform(interactions['item_id'])\n",
    "\n",
    "print(unique_users.shape, unique_items.shape, interactions.shape)\n",
    "\n",
    "interactions.head()"
   ]
  },
  {
   "cell_type": "code",
   "execution_count": 117,
   "metadata": {},
   "outputs": [
    {
     "data": {
      "text/plain": [
       "((1424, 3), (290, 3))"
      ]
     },
     "execution_count": 117,
     "metadata": {},
     "output_type": "execute_result"
    }
   ],
   "source": [
    "df_train = interactions.groupby('user_id').head(-5).reset_index(drop=True)\n",
    "df_val = interactions.groupby('user_id').tail(5).reset_index(drop=True)\n",
    "df_train.shape, df_val.shape"
   ]
  },
  {
   "cell_type": "code",
   "execution_count": 118,
   "metadata": {},
   "outputs": [],
   "source": [
    "class UserItemDataset(Dataset):\n",
    "    def __init__(self, df):\n",
    "        super().__init__()\n",
    "        self.df = df[['user_id', 'item_id', 'rating']]\n",
    "        self.X = list(zip(df.user_id.values, df.item_id.values))\n",
    "        self.y = self.df.rating.values\n",
    "    def __len__(self):\n",
    "        return len(self.df)\n",
    "    def __getitem__(self, idx):\n",
    "        return self.X[idx], self.y[idx]"
   ]
  },
  {
   "cell_type": "code",
   "execution_count": 119,
   "metadata": {},
   "outputs": [
    {
     "data": {
      "text/plain": [
       "([tensor([53, 44, 50, 13, 46, 26,  3, 45, 48, 54, 46,  8,  3, 35, 50, 47,  6, 26,\n",
       "          44, 13, 21, 24, 46, 57,  0,  5, 43, 44, 13,  7, 12, 24, 23, 13, 56,  6,\n",
       "          44,  0, 44,  2, 36, 49, 45, 22, 19, 45, 15, 50, 23,  6, 13, 15, 56, 16,\n",
       "          21, 11, 33, 49, 18, 13,  1, 56, 44, 11, 57,  9,  2, 56, 44, 37, 23, 40,\n",
       "          34, 16, 56, 38, 44, 13, 34, 51, 41, 33,  4, 24,  6, 33, 44, 16, 48, 50,\n",
       "          36, 13, 30,  9,  3, 44, 16, 13, 57, 19, 42, 20,  0, 46, 44, 55, 46,  9,\n",
       "          44, 52, 46, 23, 20, 57,  5, 48, 24,  9, 24, 55, 44,  0, 56, 37, 52, 15,\n",
       "          45, 24]),\n",
       "  tensor([ 638, 1408,  132,  413, 1092,  392,  183,  138, 1607,  147, 1176, 1629,\n",
       "          1364, 1026, 1635,  867,  899, 1339,  140,   74,  308, 1055,   20,  996,\n",
       "           322,  108,  292,   79,  769, 1512,   37,  765,  295,  730, 1606,  336,\n",
       "           607,  464,  411,    4, 1454, 1511, 1489, 1036, 1623,  904,  837, 1182,\n",
       "           141,  317, 1662,  490,  528, 1482,  966, 1206, 1013,  934,  614,   92,\n",
       "           894, 1275,  868,  807, 1357, 1569,  289, 1523,  421, 1057,  167, 1441,\n",
       "           162,  706,  104,  468,  179,  239,   52, 1462,  318, 1638, 1100,  900,\n",
       "          1448, 1034, 1062, 1678,  286,  896,  351, 1670,  870, 1402, 1359,  229,\n",
       "          1676, 1439,  994, 1324,  297, 1685,  535, 1160,  559, 1214, 1186, 1475,\n",
       "          1141, 1179,  117,  344,  708, 1025,  920,  334,  381,  826, 1077,  630,\n",
       "          1161,  637, 1304,  976, 1219,  213,  561, 1136])],\n",
       " tensor([0.2000, 0.2000, 0.2000, 0.2000, 0.4000, 0.2000, 0.2000, 0.2000, 0.2000,\n",
       "         0.2000, 0.2000, 0.2000, 0.2000, 0.2000, 0.2000, 0.2000, 0.2000, 0.2000,\n",
       "         0.2000, 0.2000, 0.2000, 0.2000, 0.2000, 0.2000, 0.4000, 0.2000, 0.2000,\n",
       "         0.2000, 0.2000, 0.4000, 0.2000, 0.2000, 0.2000, 0.2000, 0.2000, 0.2000,\n",
       "         0.2000, 0.2000, 0.2000, 0.2000, 0.2000, 0.2000, 0.2000, 0.2000, 0.2000,\n",
       "         0.2000, 0.2000, 0.2000, 0.4000, 0.2000, 0.2000, 0.2000, 0.2000, 0.6000,\n",
       "         0.2000, 0.2000, 0.2000, 0.2000, 0.2000, 0.2000, 0.2000, 0.2000, 0.2000,\n",
       "         0.2000, 0.2000, 0.2000, 0.2000, 0.2000, 0.2000, 0.2000, 0.2000, 0.2000,\n",
       "         0.2000, 0.4000, 0.2000, 0.2000, 0.2000, 0.2000, 0.2000, 0.2000, 0.2000,\n",
       "         0.2000, 0.2000, 0.2000, 0.2000, 0.2000, 0.2000, 0.2000, 0.2000, 0.2000,\n",
       "         0.2000, 0.2000, 0.2000, 0.2000, 0.2000, 0.2000, 0.2000, 0.2000, 0.4000,\n",
       "         0.4000, 0.8000, 0.2000, 0.2000, 0.2000, 0.2000, 0.2000, 0.2000, 0.2000,\n",
       "         0.2000, 0.2000, 0.2000, 0.2000, 0.2000, 0.2000, 0.2000, 0.2000, 0.2000,\n",
       "         0.2000, 0.2000, 0.2000, 0.2000, 0.2000, 0.2000, 0.2000, 0.2000, 0.2000,\n",
       "         0.2000, 0.2000], dtype=torch.float64))"
      ]
     },
     "execution_count": 119,
     "metadata": {},
     "output_type": "execute_result"
    }
   ],
   "source": [
    "batch_size = 128\n",
    "ds_train = UserItemDataset(df_train)\n",
    "ds_val = UserItemDataset(df_val)\n",
    "dl_train = DataLoader(ds_train, batch_size=batch_size, shuffle=True, num_workers=4)\n",
    "dl_val = DataLoader(ds_val, batch_size=batch_size, shuffle=True, num_workers=4)\n",
    "\n",
    "xb, yb = next(iter(dl_train))\n",
    "xb, yb"
   ]
  },
  {
   "cell_type": "code",
   "execution_count": 120,
   "metadata": {},
   "outputs": [],
   "source": [
    "class MF(nn.Module):\n",
    "    \"\"\" Matrix factorization model \"\"\"\n",
    "    def __init__(self, n_users, n_items, embedding_dim):\n",
    "        super().__init__()\n",
    "        self.user_embedding = nn.Embedding(num_embeddings=n_users, embedding_dim=embedding_dim)\n",
    "        self.item_embedding = nn.Embedding(num_embeddings=n_items, embedding_dim=embedding_dim)\n",
    "    def forward(self, user, item):\n",
    "        user_embedding = self.user_embedding(user)\n",
    "        item_embedding = self.item_embedding(item)\n",
    "        return (user_embedding*item_embedding).sum(1)"
   ]
  },
  {
   "cell_type": "code",
   "execution_count": 121,
   "metadata": {},
   "outputs": [
    {
     "data": {
      "text/plain": [
       "MF(\n",
       "  (user_embedding): Embedding(58, 32)\n",
       "  (item_embedding): Embedding(1711, 32)\n",
       ")"
      ]
     },
     "execution_count": 121,
     "metadata": {},
     "output_type": "execute_result"
    }
   ],
   "source": [
    "n_users = len(unique_users)\n",
    "n_items = len(unique_items)\n",
    "\n",
    "model = MF(n_users, n_items, embedding_dim=32)\n",
    "model.to(device)\n",
    "model"
   ]
  },
  {
   "cell_type": "code",
   "execution_count": 122,
   "metadata": {},
   "outputs": [
    {
     "name": "stdout",
     "output_type": "stream",
     "text": [
      "Epoch: 0, Train Loss: 23.9, Val Loss:18.6\n",
      "Epoch: 1, Train Loss: 56.0, Val Loss:12.0\n",
      "Epoch: 2, Train Loss: 45.3, Val Loss:5.0\n",
      "Epoch: 3, Train Loss: 17.7, Val Loss:3.9\n",
      "Epoch: 4, Train Loss: 9.0, Val Loss:3.1\n",
      "Epoch: 5, Train Loss: 3.9, Val Loss:2.3\n",
      "Epoch: 6, Train Loss: 2.9, Val Loss:1.4\n",
      "Epoch: 7, Train Loss: 1.4, Val Loss:1.0\n",
      "Epoch: 8, Train Loss: 0.8, Val Loss:0.8\n",
      "Epoch: 9, Train Loss: 0.9, Val Loss:1.0\n",
      "Epoch: 10, Train Loss: 0.5, Val Loss:0.6\n",
      "Epoch: 11, Train Loss: 0.4, Val Loss:0.6\n",
      "Epoch: 12, Train Loss: 0.1, Val Loss:0.5\n",
      "Epoch: 13, Train Loss: 0.1, Val Loss:0.4\n",
      "Epoch: 14, Train Loss: 0.0, Val Loss:0.3\n",
      "Epoch: 15, Train Loss: 0.0, Val Loss:0.3\n",
      "Epoch: 16, Train Loss: 0.0, Val Loss:0.3\n",
      "Epoch: 17, Train Loss: 0.0, Val Loss:0.3\n",
      "Epoch: 18, Train Loss: 0.0, Val Loss:0.3\n",
      "Epoch: 19, Train Loss: 0.0, Val Loss:0.2\n"
     ]
    }
   ],
   "source": [
    "LEARNING_RATE = 0.2\n",
    "NUM_EPOCHS = 20\n",
    "\n",
    "opt = optim.AdamW(model.parameters(), lr=LEARNING_RATE)\n",
    "loss_fn = nn.MSELoss()\n",
    "epoch_train_losses, epoch_val_losses = [], []\n",
    "\n",
    "for i in range(NUM_EPOCHS):\n",
    "    train_losses, val_losses = [], []\n",
    "    model.train()\n",
    "    for xb,yb in dl_train:\n",
    "        xUser = xb[0].to(device, dtype=torch.long)\n",
    "        xItem = xb[1].to(device, dtype=torch.long)\n",
    "        yRatings = yb.to(device, dtype=torch.float)\n",
    "        preds = model(xUser, xItem)\n",
    "        loss = loss_fn(preds, yRatings)\n",
    "        train_losses.append(loss.item())\n",
    "        opt.zero_grad()\n",
    "        loss.backward()\n",
    "        opt.step()\n",
    "    model.eval()\n",
    "    for xb,yb in dl_val:\n",
    "        xUser = xb[0].to(device, dtype=torch.long)\n",
    "        xItem = xb[1].to(device, dtype=torch.long)\n",
    "        yRatings = yb.to(device, dtype=torch.float)\n",
    "        preds = model(xUser, xItem)\n",
    "        loss = loss_fn(preds, yRatings)\n",
    "        val_losses.append(loss.item())\n",
    "    # Start logging\n",
    "    epoch_train_loss = np.mean(train_losses)\n",
    "    epoch_val_loss = np.mean(val_losses)\n",
    "    epoch_train_losses.append(epoch_train_loss)\n",
    "    epoch_val_losses.append(epoch_val_loss)\n",
    "    print(f'Epoch: {i}, Train Loss: {epoch_train_loss:0.1f}, Val Loss:{epoch_val_loss:0.1f}')"
   ]
  },
  {
   "cell_type": "code",
   "execution_count": 123,
   "metadata": {},
   "outputs": [
    {
     "data": {
      "text/plain": [
       "<matplotlib.legend.Legend at 0x70b764c10490>"
      ]
     },
     "execution_count": 123,
     "metadata": {},
     "output_type": "execute_result"
    },
    {
     "data": {
      "image/png": "[encoded data removed]",
      "text/plain": [
       "<Figure size 800x400 with 1 Axes>"
      ]
     },
     "metadata": {},
     "output_type": "display_data"
    }
   ],
   "source": [
    "plt.figure(figsize=(8, 4))\n",
    "plt.plot(epoch_train_losses, label='Train')\n",
    "plt.plot(epoch_val_losses, label='Val')\n",
    "plt.title('Loss vs Epoch')\n",
    "plt.xlabel('Epoch')\n",
    "plt.ylabel('Loss')\n",
    "plt.grid()\n",
    "plt.legend()"
   ]
  }
 ],
 "metadata": {
  "kernelspec": {
   "display_name": "pipeliner",
   "language": "python",
   "name": "python3"
  },
  "language_info": {
   "codemirror_mode": {
    "name": "ipython",
    "version": 3
   },
   "file_extension": ".py",
   "mimetype": "text/x-python",
   "name": "python",
   "nbconvert_exporter": "python",
   "pygments_lexer": "ipython3",
   "version": "3.11.9"
  }
 },
 "nbformat": 4,
 "nbformat_minor": 2
}
