{
 "cells": [
  {
   "cell_type": "code",
   "execution_count": 1,
   "metadata": {},
   "outputs": [
    {
     "name": "stdout",
     "output_type": "stream",
     "text": [
      "sagemaker.config INFO - Not applying SDK defaults from location: /etc/xdg/xdg-ubuntu/sagemaker/config.yaml\n",
      "sagemaker.config INFO - Not applying SDK defaults from location: /home/pappa/.config/sagemaker/config.yaml\n"
     ]
    }
   ],
   "source": [
    "from sagemaker.amazon.record_pb2 import Record\n",
    "import io\n",
    "import numpy as np\n",
    "import struct\n"
   ]
  },
  {
   "cell_type": "code",
   "execution_count": 3,
   "metadata": {},
   "outputs": [
    {
     "data": {
      "text/plain": [
       "((5000, 10), (5000, 5), dtype('int32'), dtype('int32'))"
      ]
     },
     "execution_count": 3,
     "metadata": {},
     "output_type": "execute_result"
    }
   ],
   "source": [
    "sources = (np.random.random((5000, 10)) * 100).astype(np.int32)\n",
    "targets = (np.random.random((5000, 5)) * 100).astype(np.int32)\n",
    "\n",
    "sources.shape, targets.shape, sources.dtype, targets.dtype"
   ]
  },
  {
   "cell_type": "code",
   "execution_count": 8,
   "metadata": {},
   "outputs": [],
   "source": [
    "def write_recordio(f, data):\n",
    "    kmagic = 0xced7230a\n",
    "    length = len(data)\n",
    "    f.write(struct.pack('I', kmagic))\n",
    "    f.write(struct.pack('I', length))\n",
    "    upper_align = ((length + 3) >> 2) << 2\n",
    "    padding = bytes([0x00 for _ in range(upper_align - length)])\n",
    "    f.write(data)\n",
    "    f.write(padding)\n",
    "\n",
    "\n",
    "def list_to_record_bytes(source: list[int] = None, target: list[int] = None):\n",
    "    record = Record()\n",
    "    record.features['source'].int32_tensor.values.extend(source)\n",
    "    record.features['target'].int32_tensor.values.extend(target)\n",
    "    return record.SerializeToString()\n",
    "\n",
    "def to_proto(f, sources, targets):\n",
    "    for source, target in zip(sources, targets):\n",
    "        record = list_to_record_bytes(source, target)\n",
    "        write_recordio(f, record)"
   ]
  },
  {
   "cell_type": "code",
   "execution_count": 9,
   "metadata": {},
   "outputs": [
    {
     "data": {
      "text/plain": [
       "0"
      ]
     },
     "execution_count": 9,
     "metadata": {},
     "output_type": "execute_result"
    }
   ],
   "source": [
    "\n",
    "f = io.BytesIO()\n",
    "to_proto(f, sources, targets)\n",
    "f.seek(0)"
   ]
  }
 ],
 "metadata": {
  "kernelspec": {
   "display_name": "pipeliner",
   "language": "python",
   "name": "python3"
  },
  "language_info": {
   "codemirror_mode": {
    "name": "ipython",
    "version": 3
   },
   "file_extension": ".py",
   "mimetype": "text/x-python",
   "name": "python",
   "nbconvert_exporter": "python",
   "pygments_lexer": "ipython3",
   "version": "3.11.9"
  }
 },
 "nbformat": 4,
 "nbformat_minor": 2
}
