{
  "cells": [
    {
      "cell_type": "code",
      "execution_count": 1,
      "id": "96396887-ac6a-45a1-8017-589c37f9e34b",
      "metadata": {},
      "outputs": [],
      "source": [
        "%%capture\n",
        "%load_ext autoreload\n",
        "%autoreload 2"
      ]
    },
    {
      "cell_type": "code",
      "execution_count": 2,
      "id": "ba1ba79c-4ebb-4338-9c98-583b120d4e35",
      "metadata": {},
      "outputs": [],
      "source": [
        "import pandas as pd\n",
        "import numpy as np\n",
        "import scipy as sp\n",
        "from sklearn.preprocessing import LabelEncoder\n",
        "from recsys_pipeliner.recommendations.transformer import (\n",
        "    SimilarityTransformer,\n",
        "    UserItemMatrixTransformer,\n",
        ")\n",
        "from recsys_pipeliner.recommenders import (\n",
        "    ItemBasedCFRecommender,\n",
        ")"
      ]
    },
    {
      "cell_type": "code",
      "execution_count": 3,
      "id": "be63daed-c28f-49a6-8fe5-8f29782187cf",
      "metadata": {},
      "outputs": [
        {
          "data": {
            "text/html": [
              "<div>\n",
              "<style scoped>\n",
              "    .dataframe tbody tr th:only-of-type {\n",
              "        vertical-align: middle;\n",
              "    }\n",
              "\n",
              "    .dataframe tbody tr th {\n",
              "        vertical-align: top;\n",
              "    }\n",
              "\n",
              "    .dataframe thead th {\n",
              "        text-align: right;\n",
              "    }\n",
              "</style>\n",
              "<table border=\"1\" class=\"dataframe\">\n",
              "  <thead>\n",
              "    <tr style=\"text-align: right;\">\n",
              "      <th></th>\n",
              "      <th>user_id</th>\n",
              "      <th>item_id</th>\n",
              "      <th>rating</th>\n",
              "    </tr>\n",
              "  </thead>\n",
              "  <tbody>\n",
              "    <tr>\n",
              "      <th>0</th>\n",
              "      <td>U00001</td>\n",
              "      <td>I00024</td>\n",
              "      <td>0.8</td>\n",
              "    </tr>\n",
              "    <tr>\n",
              "      <th>1</th>\n",
              "      <td>U00001</td>\n",
              "      <td>I00013</td>\n",
              "      <td>0.6</td>\n",
              "    </tr>\n",
              "    <tr>\n",
              "      <th>2</th>\n",
              "      <td>U00001</td>\n",
              "      <td>I00005</td>\n",
              "      <td>1.0</td>\n",
              "    </tr>\n",
              "  </tbody>\n",
              "</table>\n",
              "</div>"
            ],
            "text/plain": [
              "  user_id item_id  rating\n",
              "0  U00001  I00024     0.8\n",
              "1  U00001  I00013     0.6\n",
              "2  U00001  I00005     1.0"
            ]
          },
          "execution_count": 3,
          "metadata": {},
          "output_type": "execute_result"
        }
      ],
      "source": [
        "data_types = {\"user_id\": str, \"item_id\": str, \"rating\": np.float64}\n",
        "user_item_ratings = pd.read_csv(\"../../tests/test_data/user_item_ratings_toy.csv\", dtype=data_types)\n",
        "user_item_ratings.head(3)"
      ]
    },
    {
      "cell_type": "code",
      "execution_count": 4,
      "id": "e39a65fd",
      "metadata": {},
      "outputs": [
        {
          "name": "stdout",
          "output_type": "stream",
          "text": [
            "(12,) (24,)\n"
          ]
        },
        {
          "data": {
            "text/html": [
              "<div>\n",
              "<style scoped>\n",
              "    .dataframe tbody tr th:only-of-type {\n",
              "        vertical-align: middle;\n",
              "    }\n",
              "\n",
              "    .dataframe tbody tr th {\n",
              "        vertical-align: top;\n",
              "    }\n",
              "\n",
              "    .dataframe thead th {\n",
              "        text-align: right;\n",
              "    }\n",
              "</style>\n",
              "<table border=\"1\" class=\"dataframe\">\n",
              "  <thead>\n",
              "    <tr style=\"text-align: right;\">\n",
              "      <th></th>\n",
              "      <th>user_id</th>\n",
              "      <th>item_id</th>\n",
              "      <th>rating</th>\n",
              "    </tr>\n",
              "  </thead>\n",
              "  <tbody>\n",
              "    <tr>\n",
              "      <th>0</th>\n",
              "      <td>0</td>\n",
              "      <td>23</td>\n",
              "      <td>0.8</td>\n",
              "    </tr>\n",
              "    <tr>\n",
              "      <th>1</th>\n",
              "      <td>0</td>\n",
              "      <td>12</td>\n",
              "      <td>0.6</td>\n",
              "    </tr>\n",
              "    <tr>\n",
              "      <th>2</th>\n",
              "      <td>0</td>\n",
              "      <td>4</td>\n",
              "      <td>1.0</td>\n",
              "    </tr>\n",
              "  </tbody>\n",
              "</table>\n",
              "</div>"
            ],
            "text/plain": [
              "   user_id  item_id  rating\n",
              "0        0       23     0.8\n",
              "1        0       12     0.6\n",
              "2        0        4     1.0"
            ]
          },
          "execution_count": 4,
          "metadata": {},
          "output_type": "execute_result"
        }
      ],
      "source": [
        "# encode the item ids\n",
        "item_encoder = LabelEncoder()\n",
        "user_encoder = LabelEncoder()\n",
        "\n",
        "user_item_ratings[\"item_id\"] = item_encoder.fit_transform(\n",
        "    user_item_ratings[\"item_id\"]\n",
        ")\n",
        "user_item_ratings[\"user_id\"] = user_encoder.fit_transform(\n",
        "    user_item_ratings[\"user_id\"]\n",
        ")\n",
        "\n",
        "unique_users = pd.Series(user_encoder.classes_)\n",
        "unique_items = pd.Series(item_encoder.classes_)\n",
        "\n",
        "print(unique_users.shape, unique_items.shape)\n",
        "\n",
        "user_item_ratings.head(3)\n"
      ]
    },
    {
      "cell_type": "code",
      "execution_count": 5,
      "id": "9b8aa7c2",
      "metadata": {},
      "outputs": [
        {
          "data": {
            "text/plain": [
              "(12, 24)"
            ]
          },
          "execution_count": 5,
          "metadata": {},
          "output_type": "execute_result"
        }
      ],
      "source": [
        "user_item_matrix_transformer = UserItemMatrixTransformer()\n",
        "\n",
        "user_item_matrix = user_item_matrix_transformer.transform(\n",
        "    user_item_ratings.to_numpy(),\n",
        ")\n",
        "\n",
        "# check ratings from matrix are correct\n",
        "users = user_item_ratings[\"user_id\"].to_numpy().astype(int)\n",
        "items = user_item_ratings[\"item_id\"].to_numpy().astype(int)\n",
        "ratings = user_item_ratings[\"rating\"].to_numpy().astype(np.float32)\n",
        "for user, item, rating in zip(users, items, ratings):\n",
        "    assert user_item_matrix[user, item] == rating\n",
        "\n",
        "user_item_matrix.shape"
      ]
    },
    {
      "cell_type": "code",
      "execution_count": 6,
      "id": "ab9217ef",
      "metadata": {},
      "outputs": [
        {
          "data": {
            "text/plain": [
              "((24, 24), (12, 12))"
            ]
          },
          "execution_count": 6,
          "metadata": {},
          "output_type": "execute_result"
        }
      ],
      "source": [
        "item_similarity_matrix_transformer = SimilarityTransformer()\n",
        "item_similarity_matrix = item_similarity_matrix_transformer.transform(\n",
        "    user_item_matrix.T\n",
        ")\n",
        "\n",
        "user_similarity_matrix_transformer = SimilarityTransformer()\n",
        "user_similarity_matrix = user_similarity_matrix_transformer.transform(\n",
        "    user_item_matrix\n",
        ")\n",
        "\n",
        "item_similarity_matrix.shape, user_similarity_matrix.shape"
      ]
    },
    {
      "cell_type": "markdown",
      "id": "cd7c194a",
      "metadata": {},
      "source": [
        "### User-based collaborative filtering (with optional item_id)"
      ]
    },
    {
      "cell_type": "code",
      "execution_count": null,
      "id": "27dea8f2",
      "metadata": {},
      "outputs": [],
      "source": [
        "# with item_id\n",
        "\n",
        "# 1. get all users (that have rated item i)\n",
        "# 2. rank by similarity to user u\n",
        "# 3. filter users (by k or similarity threshold)\n",
        "# 4a. for rating prediction - calculate mean rating of item i (weighted by user similarity)\n",
        "# 4b. for item recommendation -get all items that the filtered users have rated\n",
        "# 5. exclude items that user u has already rated\n",
        "# 6. rank by mean rating (weighted by user similarity)\n",
        "# 7. return top n items"
      ]
    },
    {
      "cell_type": "code",
      "execution_count": 38,
      "id": "139d014d",
      "metadata": {},
      "outputs": [
        {
          "data": {
            "text/html": [
              "<div>\n",
              "<style scoped>\n",
              "    .dataframe tbody tr th:only-of-type {\n",
              "        vertical-align: middle;\n",
              "    }\n",
              "\n",
              "    .dataframe tbody tr th {\n",
              "        vertical-align: top;\n",
              "    }\n",
              "\n",
              "    .dataframe thead th {\n",
              "        text-align: right;\n",
              "    }\n",
              "</style>\n",
              "<table border=\"1\" class=\"dataframe\">\n",
              "  <thead>\n",
              "    <tr style=\"text-align: right;\">\n",
              "      <th></th>\n",
              "      <th>user_id</th>\n",
              "      <th>item_id</th>\n",
              "      <th>rating</th>\n",
              "    </tr>\n",
              "  </thead>\n",
              "  <tbody>\n",
              "    <tr>\n",
              "      <th>40</th>\n",
              "      <td>5</td>\n",
              "      <td>12</td>\n",
              "      <td>0.85</td>\n",
              "    </tr>\n",
              "    <tr>\n",
              "      <th>41</th>\n",
              "      <td>5</td>\n",
              "      <td>9</td>\n",
              "      <td>0.25</td>\n",
              "    </tr>\n",
              "    <tr>\n",
              "      <th>42</th>\n",
              "      <td>5</td>\n",
              "      <td>7</td>\n",
              "      <td>0.65</td>\n",
              "    </tr>\n",
              "    <tr>\n",
              "      <th>43</th>\n",
              "      <td>5</td>\n",
              "      <td>13</td>\n",
              "      <td>0.25</td>\n",
              "    </tr>\n",
              "    <tr>\n",
              "      <th>44</th>\n",
              "      <td>5</td>\n",
              "      <td>18</td>\n",
              "      <td>0.85</td>\n",
              "    </tr>\n",
              "    <tr>\n",
              "      <th>45</th>\n",
              "      <td>5</td>\n",
              "      <td>19</td>\n",
              "      <td>0.85</td>\n",
              "    </tr>\n",
              "    <tr>\n",
              "      <th>46</th>\n",
              "      <td>5</td>\n",
              "      <td>22</td>\n",
              "      <td>0.65</td>\n",
              "    </tr>\n",
              "    <tr>\n",
              "      <th>47</th>\n",
              "      <td>5</td>\n",
              "      <td>11</td>\n",
              "      <td>0.65</td>\n",
              "    </tr>\n",
              "  </tbody>\n",
              "</table>\n",
              "</div>"
            ],
            "text/plain": [
              "    user_id  item_id  rating\n",
              "40        5       12    0.85\n",
              "41        5        9    0.25\n",
              "42        5        7    0.65\n",
              "43        5       13    0.25\n",
              "44        5       18    0.85\n",
              "45        5       19    0.85\n",
              "46        5       22    0.65\n",
              "47        5       11    0.65"
            ]
          },
          "metadata": {},
          "output_type": "display_data"
        },
        {
          "data": {
            "text/html": [
              "<div>\n",
              "<style scoped>\n",
              "    .dataframe tbody tr th:only-of-type {\n",
              "        vertical-align: middle;\n",
              "    }\n",
              "\n",
              "    .dataframe tbody tr th {\n",
              "        vertical-align: top;\n",
              "    }\n",
              "\n",
              "    .dataframe thead th {\n",
              "        text-align: right;\n",
              "    }\n",
              "</style>\n",
              "<table border=\"1\" class=\"dataframe\">\n",
              "  <thead>\n",
              "    <tr style=\"text-align: right;\">\n",
              "      <th></th>\n",
              "      <th>user_id</th>\n",
              "      <th>item_id</th>\n",
              "      <th>rating</th>\n",
              "    </tr>\n",
              "  </thead>\n",
              "  <tbody>\n",
              "    <tr>\n",
              "      <th>38</th>\n",
              "      <td>4</td>\n",
              "      <td>9</td>\n",
              "      <td>0.44</td>\n",
              "    </tr>\n",
              "    <tr>\n",
              "      <th>41</th>\n",
              "      <td>5</td>\n",
              "      <td>9</td>\n",
              "      <td>0.25</td>\n",
              "    </tr>\n",
              "    <tr>\n",
              "      <th>71</th>\n",
              "      <td>8</td>\n",
              "      <td>9</td>\n",
              "      <td>0.28</td>\n",
              "    </tr>\n",
              "    <tr>\n",
              "      <th>73</th>\n",
              "      <td>9</td>\n",
              "      <td>9</td>\n",
              "      <td>0.89</td>\n",
              "    </tr>\n",
              "  </tbody>\n",
              "</table>\n",
              "</div>"
            ],
            "text/plain": [
              "    user_id  item_id  rating\n",
              "38        4        9    0.44\n",
              "41        5        9    0.25\n",
              "71        8        9    0.28\n",
              "73        9        9    0.89"
            ]
          },
          "metadata": {},
          "output_type": "display_data"
        }
      ],
      "source": [
        "user_id = 5\n",
        "item_id = 9\n",
        "k = 10\n",
        "\n",
        "# sense check\n",
        "\n",
        "display(user_item_ratings[user_item_ratings[\"user_id\"] == user_id])\n",
        "display(user_item_ratings[user_item_ratings[\"item_id\"] == item_id])"
      ]
    },
    {
      "cell_type": "code",
      "execution_count": 44,
      "id": "3dbf80cc",
      "metadata": {},
      "outputs": [
        {
          "data": {
            "text/plain": [
              "(array([4, 8, 9]), array([0.44, 0.28, 0.89], dtype=float32))"
            ]
          },
          "execution_count": 44,
          "metadata": {},
          "output_type": "execute_result"
        }
      ],
      "source": [
        "\n",
        "# 1. get all users (that have rated item i)\n",
        "\n",
        "_, users, ratings = sp.sparse.find(user_item_matrix[:, item_id])\n",
        "\n",
        "user_mask = users != user_id\n",
        "\n",
        "users = users[user_mask]\n",
        "ratings = ratings[user_mask]\n",
        "\n",
        "users, ratings"
      ]
    },
    {
      "cell_type": "code",
      "execution_count": 45,
      "id": "c26488e9",
      "metadata": {},
      "outputs": [
        {
          "name": "stdout",
          "output_type": "stream",
          "text": [
            "similar_users: [9 4 8]\n",
            "user_similarities: [0.322963 0.158928 0.155166]\n",
            "similar_users_ratings: [0.89 0.44 0.28]\n"
          ]
        }
      ],
      "source": [
        "\n",
        "user_similarity_to_u = user_similarity_matrix[user_id, users].toarray()\n",
        "\n",
        "user_sorter = np.argsort(1 - user_similarity_to_u, kind=\"stable\")[:k]\n",
        "\n",
        "similar_users = users[user_sorter]\n",
        "user_similarities = user_similarity_to_u[user_sorter]\n",
        "similar_users_ratings = ratings[user_sorter]\n",
        "\n",
        "print(f\"similar_users: {similar_users}\")\n",
        "print(f\"user_similarities: {user_similarities}\")\n",
        "print(f\"similar_users_ratings: {similar_users_ratings}\")"
      ]
    },
    {
      "cell_type": "code",
      "execution_count": 50,
      "id": "f78a0ccc",
      "metadata": {},
      "outputs": [
        {
          "name": "stdout",
          "output_type": "stream",
          "text": [
            "predicted_rating: 0.6291620135307312\n"
          ]
        }
      ],
      "source": [
        "# for prediction\n",
        "\n",
        "predicted_rating = (\n",
        "    np.average(similar_users_ratings, weights=user_similarities)\n",
        "    .astype(np.float32)\n",
        "    .round(6)\n",
        ")\n",
        "\n",
        "print(f\"predicted_rating: {predicted_rating}\")"
      ]
    },
    {
      "cell_type": "code",
      "execution_count": 51,
      "id": "ac09fb5b",
      "metadata": {},
      "outputs": [
        {
          "name": "stdout",
          "output_type": "stream",
          "text": [
            "items_rated_by_u: [ 7  9 11 12 13 18 19 22]\n",
            "items_ratings_by_u: [0.65 0.25 0.65 0.85 0.25 0.85 0.85 0.65]\n",
            "items: [ 2  5  9 10 11 16 17 22  1  9 13 14 15 19 20 21  0  1  4  9 12 15 22 23]\n",
            "item_ratings: [0.69 0.29 0.89 0.49 0.89 0.29 0.29 0.29 0.64 0.44 1.   1.   0.64 0.24\n",
            " 0.24 0.64 0.88 1.   0.88 0.28 0.28 0.88 0.48 0.88]\n"
          ]
        }
      ],
      "source": [
        "# for recommendation\n",
        "\n",
        "_, items_rated_by_u, items_ratings_by_u = sp.sparse.find(user_item_matrix[user_id, :])\n",
        "\n",
        "print(f\"items_rated_by_u: {items_rated_by_u}\")\n",
        "print(f\"items_ratings_by_u: {items_ratings_by_u}\")\n",
        "\n",
        "_, items, item_ratings = sp.sparse.find(user_item_matrix[similar_users, :])\n",
        "print(f\"items: {items}\")\n",
        "print(f\"item_ratings: {item_ratings}\")"
      ]
    },
    {
      "cell_type": "code",
      "execution_count": 9,
      "id": "c2d5e500",
      "metadata": {},
      "outputs": [],
      "source": [
        "# user_ids = user_encoder.transform([\"U00003\", \"U00004\", \"U00005\"])\n",
        "# item_ids = item_encoder.transform([\"I00010\", \"I00011\", \"I00012\"])\n",
        "\n",
        "# X = np.stack([user_ids, item_ids], axis=1)\n",
        "\n",
        "# print(\"X\", X)\n",
        "\n",
        "# n=5\n",
        "# k=10\n",
        "\n",
        "# for u, i in X:\n",
        "#     print(\"u\", u)\n",
        "#     print(\"i\", i)\n",
        "\n",
        "#     idx, users_rated_items, users_ratings = sp.sparse.find(user_item_matrix[u, :])\n",
        "\n",
        "#     print(\"users_rated_items\", users_rated_items)\n",
        "#     print(\"users_ratings\", users_ratings)\n",
        "\n",
        "#     # get the similarities to item_id\n",
        "#     item_similarities = item_similarity_matrix[:, users_rated_items][i].toarray().astype(np.float32).round(6)\n",
        "#     print(\"item_similarities\", item_similarities)\n",
        "\n",
        "#     # sort by similarity (desc) and get top k\n",
        "#     top_k_mask = np.argsort(1 - item_similarities)[1:k+1]\n",
        "#     print(\"top_k_mask\", top_k_mask)\n",
        "\n",
        "#     top_k_users_rated_items = users_rated_items[top_k_mask]\n",
        "#     top_k_user_ratings = users_ratings[top_k_mask]\n",
        "#     top_k_rated_item_similarities = item_similarities[top_k_mask]\n",
        "\n",
        "#     print(\"top_k_users_rated_items\", top_k_users_rated_items)\n",
        "#     print(\"top_k_user_ratings\", top_k_user_ratings)\n",
        "#     print(\"top_k_rated_item_similarities\", top_k_rated_item_similarities)\n",
        "\n",
        "#     # weighted average rating\n",
        "#     predicted_rating = np.average(top_k_user_ratings, axis=0, weights=top_k_rated_item_similarities).astype(np.float32).round(6)\n",
        "#     print(\"predicted_rating\", predicted_rating)"
      ]
    }
  ],
  "metadata": {
    "kernelspec": {
      "display_name": ".venv",
      "language": "python",
      "name": "python3"
    },
    "language_info": {
      "codemirror_mode": {
        "name": "ipython",
        "version": 3
      },
      "file_extension": ".py",
      "mimetype": "text/x-python",
      "name": "python",
      "nbconvert_exporter": "python",
      "pygments_lexer": "ipython3",
      "version": "3.11.12"
    }
  },
  "nbformat": 4,
  "nbformat_minor": 5
}
