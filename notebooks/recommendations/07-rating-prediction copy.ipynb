{
  "cells": [
    {
      "cell_type": "code",
      "execution_count": 12,
      "id": "96396887-ac6a-45a1-8017-589c37f9e34b",
      "metadata": {},
      "outputs": [],
      "source": [
        "%%capture\n",
        "%load_ext autoreload\n",
        "%autoreload 2"
      ]
    },
    {
      "cell_type": "code",
      "execution_count": null,
      "id": "ba1ba79c-4ebb-4338-9c98-583b120d4e35",
      "metadata": {},
      "outputs": [],
      "source": [
        "import pandas as pd\n",
        "import numpy as np\n",
        "import scipy as sp\n",
        "from sklearn.preprocessing import LabelEncoder\n",
        "from recsys_pipeliner.recommendations.transformer import (\n",
        "    SimilarityTransformer,\n",
        "    UserItemMatrixTransformer,\n",
        ")\n",
        "from recsys_pipeliner.recommenders import (\n",
        "    ItemBasedCFRecommender,\n",
        ")"
      ]
    },
    {
      "cell_type": "code",
      "execution_count": 14,
      "id": "be63daed-c28f-49a6-8fe5-8f29782187cf",
      "metadata": {},
      "outputs": [
        {
          "data": {
            "text/html": [
              "<div>\n",
              "<style scoped>\n",
              "    .dataframe tbody tr th:only-of-type {\n",
              "        vertical-align: middle;\n",
              "    }\n",
              "\n",
              "    .dataframe tbody tr th {\n",
              "        vertical-align: top;\n",
              "    }\n",
              "\n",
              "    .dataframe thead th {\n",
              "        text-align: right;\n",
              "    }\n",
              "</style>\n",
              "<table border=\"1\" class=\"dataframe\">\n",
              "  <thead>\n",
              "    <tr style=\"text-align: right;\">\n",
              "      <th></th>\n",
              "      <th>user_id</th>\n",
              "      <th>item_id</th>\n",
              "      <th>rating</th>\n",
              "    </tr>\n",
              "  </thead>\n",
              "  <tbody>\n",
              "    <tr>\n",
              "      <th>0</th>\n",
              "      <td>U00001</td>\n",
              "      <td>I00024</td>\n",
              "      <td>0.8</td>\n",
              "    </tr>\n",
              "    <tr>\n",
              "      <th>1</th>\n",
              "      <td>U00001</td>\n",
              "      <td>I00013</td>\n",
              "      <td>0.6</td>\n",
              "    </tr>\n",
              "    <tr>\n",
              "      <th>2</th>\n",
              "      <td>U00001</td>\n",
              "      <td>I00005</td>\n",
              "      <td>1.0</td>\n",
              "    </tr>\n",
              "  </tbody>\n",
              "</table>\n",
              "</div>"
            ],
            "text/plain": [
              "  user_id item_id  rating\n",
              "0  U00001  I00024     0.8\n",
              "1  U00001  I00013     0.6\n",
              "2  U00001  I00005     1.0"
            ]
          },
          "execution_count": 14,
          "metadata": {},
          "output_type": "execute_result"
        }
      ],
      "source": [
        "data_types = {\"user_id\": str, \"item_id\": str, \"rating\": np.float64}\n",
        "user_item_ratings = pd.read_csv(\"../../tests/test_data/user_item_ratings_toy.csv\", dtype=data_types)\n",
        "user_item_ratings.head(3)"
      ]
    },
    {
      "cell_type": "code",
      "execution_count": 15,
      "id": "e39a65fd",
      "metadata": {},
      "outputs": [
        {
          "name": "stdout",
          "output_type": "stream",
          "text": [
            "(12,) (24,)\n"
          ]
        },
        {
          "data": {
            "text/html": [
              "<div>\n",
              "<style scoped>\n",
              "    .dataframe tbody tr th:only-of-type {\n",
              "        vertical-align: middle;\n",
              "    }\n",
              "\n",
              "    .dataframe tbody tr th {\n",
              "        vertical-align: top;\n",
              "    }\n",
              "\n",
              "    .dataframe thead th {\n",
              "        text-align: right;\n",
              "    }\n",
              "</style>\n",
              "<table border=\"1\" class=\"dataframe\">\n",
              "  <thead>\n",
              "    <tr style=\"text-align: right;\">\n",
              "      <th></th>\n",
              "      <th>user_id</th>\n",
              "      <th>item_id</th>\n",
              "      <th>rating</th>\n",
              "    </tr>\n",
              "  </thead>\n",
              "  <tbody>\n",
              "    <tr>\n",
              "      <th>0</th>\n",
              "      <td>0</td>\n",
              "      <td>23</td>\n",
              "      <td>0.8</td>\n",
              "    </tr>\n",
              "    <tr>\n",
              "      <th>1</th>\n",
              "      <td>0</td>\n",
              "      <td>12</td>\n",
              "      <td>0.6</td>\n",
              "    </tr>\n",
              "    <tr>\n",
              "      <th>2</th>\n",
              "      <td>0</td>\n",
              "      <td>4</td>\n",
              "      <td>1.0</td>\n",
              "    </tr>\n",
              "  </tbody>\n",
              "</table>\n",
              "</div>"
            ],
            "text/plain": [
              "   user_id  item_id  rating\n",
              "0        0       23     0.8\n",
              "1        0       12     0.6\n",
              "2        0        4     1.0"
            ]
          },
          "execution_count": 15,
          "metadata": {},
          "output_type": "execute_result"
        }
      ],
      "source": [
        "# encode the item ids\n",
        "item_encoder = LabelEncoder()\n",
        "user_encoder = LabelEncoder()\n",
        "\n",
        "user_item_ratings[\"item_id\"] = item_encoder.fit_transform(\n",
        "    user_item_ratings[\"item_id\"]\n",
        ")\n",
        "user_item_ratings[\"user_id\"] = user_encoder.fit_transform(\n",
        "    user_item_ratings[\"user_id\"]\n",
        ")\n",
        "\n",
        "unique_users = pd.Series(user_encoder.classes_)\n",
        "unique_items = pd.Series(item_encoder.classes_)\n",
        "\n",
        "print(unique_users.shape, unique_items.shape)\n",
        "\n",
        "user_item_ratings.head(3)\n"
      ]
    },
    {
      "cell_type": "code",
      "execution_count": 16,
      "id": "9b8aa7c2",
      "metadata": {},
      "outputs": [
        {
          "data": {
            "text/plain": [
              "(12, 24)"
            ]
          },
          "execution_count": 16,
          "metadata": {},
          "output_type": "execute_result"
        }
      ],
      "source": [
        "user_item_matrix_transformer = UserItemMatrixTransformer()\n",
        "\n",
        "user_item_matrix = user_item_matrix_transformer.transform(\n",
        "    user_item_ratings.to_numpy(),\n",
        ")\n",
        "\n",
        "# check ratings from matrix are correct\n",
        "users = user_item_ratings[\"user_id\"].to_numpy().astype(int)\n",
        "items = user_item_ratings[\"item_id\"].to_numpy().astype(int)\n",
        "ratings = user_item_ratings[\"rating\"].to_numpy().astype(np.float32)\n",
        "for user, item, rating in zip(users, items, ratings):\n",
        "    assert user_item_matrix[user, item] == rating\n",
        "\n",
        "user_item_matrix.shape"
      ]
    },
    {
      "cell_type": "code",
      "execution_count": 17,
      "id": "ab9217ef",
      "metadata": {},
      "outputs": [
        {
          "data": {
            "text/plain": [
              "((24, 24), (12, 12))"
            ]
          },
          "execution_count": 17,
          "metadata": {},
          "output_type": "execute_result"
        }
      ],
      "source": [
        "item_similarity_matrix_transformer = SimilarityTransformer()\n",
        "item_similarity_matrix = item_similarity_matrix_transformer.transform(\n",
        "    user_item_matrix.T\n",
        ")\n",
        "\n",
        "user_similarity_matrix_transformer = SimilarityTransformer()\n",
        "user_similarity_matrix = user_similarity_matrix_transformer.transform(\n",
        "    user_item_matrix\n",
        ")\n",
        "\n",
        "item_similarity_matrix.shape, user_similarity_matrix.shape"
      ]
    },
    {
      "cell_type": "markdown",
      "id": "cd7c194a",
      "metadata": {},
      "source": [
        "### Predict ratings with ItemBasedCFRecommender"
      ]
    },
    {
      "cell_type": "code",
      "execution_count": null,
      "id": "c2d5e500",
      "metadata": {},
      "outputs": [
        {
          "name": "stdout",
          "output_type": "stream",
          "text": [
            "rated [1 5 2 0 3 4 6 7]\n",
            "unrated [ 8  9 10 11 12 13 14 15 16 17 18 19 20 21 22 23]\n",
            "mean_similarity [0.24191025 0.18034162 0.32327137 0.1931685  0.22459275 0.25758125\n",
            " 0.282926   0.433498   0.12282975 0.247516   0.31360625 0.0620775\n",
            " 0.15356425 0.15041012 0.3026765  0.40872875]\n"
          ]
        },
        {
          "data": {
            "text/plain": [
              "array(['I00016', 'I00024', 'I00011', 'I00019', 'I00023'], dtype=object)"
            ]
          },
          "execution_count": 18,
          "metadata": {},
          "output_type": "execute_result"
        }
      ],
      "source": [
        "user_id = \"U00003\"\n",
        "user_ids = user_encoder.transform([user_id])\n",
        "item_id = \"I00010\"\n",
        "item_ids = item_encoder.transform([item_id])\n",
        "n=5\n",
        "k=10\n",
        "\n",
        "_, users_rated_items, users_ratings = sp.sparse.find(user_item_matrix[user_ids, :])\n",
        "\n",
        "# get the top k rated items\n",
        "top_k_users_rated_items = np.argsort(1 - users_ratings)[:k]\n",
        "# and all items not rated by the user\n",
        "users_unrated_items = np.setdiff1d(np.arange(item_similarity_matrix.shape[0]), top_k_users_rated_items)\n",
        "\n",
        "print(\"rated\", top_k_users_rated_items)\n",
        "print(\"unrated\", users_unrated_items)\n"
      ]
    },
    {
      "cell_type": "code",
      "execution_count": null,
      "id": "ac69e143",
      "metadata": {},
      "outputs": [
        {
          "name": "stdout",
          "output_type": "stream",
          "text": [
            "I00009 0.820002\n",
            "I00010 0.836961\n",
            "I00011 0.891748\n",
            "I00012 0.721764\n",
            "I00013 0.849971\n",
            "I00014 0.817382\n",
            "I00015 0.761754\n",
            "I00016 0.812887\n",
            "I00017 0.732683\n",
            "I00018 0.742017\n"
          ]
        }
      ],
      "source": [
        "item_based_recommender = ItemBasedCFRecommender(k=5, n=10)\n",
        "item_based_recommender.fit(user_item_matrix)\n",
        "\n",
        "X = np.vstack([np.repeat(user_ids[0], users_unrated_items.shape[0]).T, users_unrated_items.T])\n",
        "\n",
        "predictions = item_based_recommender.predict(X)\n",
        "\n",
        "predictions"
      ]
    }
  ],
  "metadata": {
    "kernelspec": {
      "display_name": ".venv",
      "language": "python",
      "name": "python3"
    },
    "language_info": {
      "codemirror_mode": {
        "name": "ipython",
        "version": 3
      },
      "file_extension": ".py",
      "mimetype": "text/x-python",
      "name": "python",
      "nbconvert_exporter": "python",
      "pygments_lexer": "ipython3",
      "version": "3.11.12"
    }
  },
  "nbformat": 4,
  "nbformat_minor": 5
}
