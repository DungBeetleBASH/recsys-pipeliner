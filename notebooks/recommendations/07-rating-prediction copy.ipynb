{
  "cells": [
    {
      "cell_type": "code",
      "execution_count": 1,
      "id": "96396887-ac6a-45a1-8017-589c37f9e34b",
      "metadata": {},
      "outputs": [],
      "source": [
        "%%capture\n",
        "%load_ext autoreload\n",
        "%autoreload 2"
      ]
    },
    {
      "cell_type": "code",
      "execution_count": 2,
      "id": "ba1ba79c-4ebb-4338-9c98-583b120d4e35",
      "metadata": {},
      "outputs": [],
      "source": [
        "import pandas as pd\n",
        "import numpy as np\n",
        "import scipy as sp\n",
        "from sklearn.preprocessing import LabelEncoder\n",
        "from recsys_pipeliner.recommendations.transformer import (\n",
        "    SimilarityTransformer,\n",
        "    UserItemMatrixTransformer,\n",
        ")\n",
        "from recsys_pipeliner.recommenders import (\n",
        "    ItemBasedCFRecommender,\n",
        ")"
      ]
    },
    {
      "cell_type": "code",
      "execution_count": 3,
      "id": "be63daed-c28f-49a6-8fe5-8f29782187cf",
      "metadata": {},
      "outputs": [
        {
          "data": {
            "text/html": [
              "<div>\n",
              "<style scoped>\n",
              "    .dataframe tbody tr th:only-of-type {\n",
              "        vertical-align: middle;\n",
              "    }\n",
              "\n",
              "    .dataframe tbody tr th {\n",
              "        vertical-align: top;\n",
              "    }\n",
              "\n",
              "    .dataframe thead th {\n",
              "        text-align: right;\n",
              "    }\n",
              "</style>\n",
              "<table border=\"1\" class=\"dataframe\">\n",
              "  <thead>\n",
              "    <tr style=\"text-align: right;\">\n",
              "      <th></th>\n",
              "      <th>user_id</th>\n",
              "      <th>item_id</th>\n",
              "      <th>rating</th>\n",
              "    </tr>\n",
              "  </thead>\n",
              "  <tbody>\n",
              "    <tr>\n",
              "      <th>0</th>\n",
              "      <td>U00001</td>\n",
              "      <td>I00024</td>\n",
              "      <td>0.8</td>\n",
              "    </tr>\n",
              "    <tr>\n",
              "      <th>1</th>\n",
              "      <td>U00001</td>\n",
              "      <td>I00013</td>\n",
              "      <td>0.6</td>\n",
              "    </tr>\n",
              "    <tr>\n",
              "      <th>2</th>\n",
              "      <td>U00001</td>\n",
              "      <td>I00005</td>\n",
              "      <td>1.0</td>\n",
              "    </tr>\n",
              "  </tbody>\n",
              "</table>\n",
              "</div>"
            ],
            "text/plain": [
              "  user_id item_id  rating\n",
              "0  U00001  I00024     0.8\n",
              "1  U00001  I00013     0.6\n",
              "2  U00001  I00005     1.0"
            ]
          },
          "execution_count": 3,
          "metadata": {},
          "output_type": "execute_result"
        }
      ],
      "source": [
        "data_types = {\"user_id\": str, \"item_id\": str, \"rating\": np.float64}\n",
        "user_item_ratings = pd.read_csv(\"../../tests/test_data/user_item_ratings_toy.csv\", dtype=data_types)\n",
        "user_item_ratings.head(3)"
      ]
    },
    {
      "cell_type": "code",
      "execution_count": 4,
      "id": "e39a65fd",
      "metadata": {},
      "outputs": [
        {
          "name": "stdout",
          "output_type": "stream",
          "text": [
            "(12,) (24,)\n"
          ]
        },
        {
          "data": {
            "text/html": [
              "<div>\n",
              "<style scoped>\n",
              "    .dataframe tbody tr th:only-of-type {\n",
              "        vertical-align: middle;\n",
              "    }\n",
              "\n",
              "    .dataframe tbody tr th {\n",
              "        vertical-align: top;\n",
              "    }\n",
              "\n",
              "    .dataframe thead th {\n",
              "        text-align: right;\n",
              "    }\n",
              "</style>\n",
              "<table border=\"1\" class=\"dataframe\">\n",
              "  <thead>\n",
              "    <tr style=\"text-align: right;\">\n",
              "      <th></th>\n",
              "      <th>user_id</th>\n",
              "      <th>item_id</th>\n",
              "      <th>rating</th>\n",
              "    </tr>\n",
              "  </thead>\n",
              "  <tbody>\n",
              "    <tr>\n",
              "      <th>0</th>\n",
              "      <td>0</td>\n",
              "      <td>23</td>\n",
              "      <td>0.8</td>\n",
              "    </tr>\n",
              "    <tr>\n",
              "      <th>1</th>\n",
              "      <td>0</td>\n",
              "      <td>12</td>\n",
              "      <td>0.6</td>\n",
              "    </tr>\n",
              "    <tr>\n",
              "      <th>2</th>\n",
              "      <td>0</td>\n",
              "      <td>4</td>\n",
              "      <td>1.0</td>\n",
              "    </tr>\n",
              "  </tbody>\n",
              "</table>\n",
              "</div>"
            ],
            "text/plain": [
              "   user_id  item_id  rating\n",
              "0        0       23     0.8\n",
              "1        0       12     0.6\n",
              "2        0        4     1.0"
            ]
          },
          "execution_count": 4,
          "metadata": {},
          "output_type": "execute_result"
        }
      ],
      "source": [
        "# encode the item ids\n",
        "item_encoder = LabelEncoder()\n",
        "user_encoder = LabelEncoder()\n",
        "\n",
        "user_item_ratings[\"item_id\"] = item_encoder.fit_transform(\n",
        "    user_item_ratings[\"item_id\"]\n",
        ")\n",
        "user_item_ratings[\"user_id\"] = user_encoder.fit_transform(\n",
        "    user_item_ratings[\"user_id\"]\n",
        ")\n",
        "\n",
        "unique_users = pd.Series(user_encoder.classes_)\n",
        "unique_items = pd.Series(item_encoder.classes_)\n",
        "\n",
        "print(unique_users.shape, unique_items.shape)\n",
        "\n",
        "user_item_ratings.head(3)\n"
      ]
    },
    {
      "cell_type": "code",
      "execution_count": 5,
      "id": "9b8aa7c2",
      "metadata": {},
      "outputs": [
        {
          "data": {
            "text/plain": [
              "(12, 24)"
            ]
          },
          "execution_count": 5,
          "metadata": {},
          "output_type": "execute_result"
        }
      ],
      "source": [
        "user_item_matrix_transformer = UserItemMatrixTransformer()\n",
        "\n",
        "user_item_matrix = user_item_matrix_transformer.transform(\n",
        "    user_item_ratings.to_numpy(),\n",
        ")\n",
        "\n",
        "# check ratings from matrix are correct\n",
        "users = user_item_ratings[\"user_id\"].to_numpy().astype(int)\n",
        "items = user_item_ratings[\"item_id\"].to_numpy().astype(int)\n",
        "ratings = user_item_ratings[\"rating\"].to_numpy().astype(np.float32)\n",
        "for user, item, rating in zip(users, items, ratings):\n",
        "    assert user_item_matrix[user, item] == rating\n",
        "\n",
        "user_item_matrix.shape"
      ]
    },
    {
      "cell_type": "code",
      "execution_count": 6,
      "id": "ab9217ef",
      "metadata": {},
      "outputs": [
        {
          "data": {
            "text/plain": [
              "((24, 24), (12, 12))"
            ]
          },
          "execution_count": 6,
          "metadata": {},
          "output_type": "execute_result"
        }
      ],
      "source": [
        "item_similarity_matrix_transformer = SimilarityTransformer()\n",
        "item_similarity_matrix = item_similarity_matrix_transformer.transform(\n",
        "    user_item_matrix.T\n",
        ")\n",
        "\n",
        "user_similarity_matrix_transformer = SimilarityTransformer()\n",
        "user_similarity_matrix = user_similarity_matrix_transformer.transform(\n",
        "    user_item_matrix\n",
        ")\n",
        "\n",
        "item_similarity_matrix.shape, user_similarity_matrix.shape"
      ]
    },
    {
      "cell_type": "markdown",
      "id": "cd7c194a",
      "metadata": {},
      "source": [
        "### Predict ratings with ItemBasedCFRecommender"
      ]
    },
    {
      "cell_type": "code",
      "execution_count": 17,
      "id": "c2d5e500",
      "metadata": {},
      "outputs": [
        {
          "name": "stdout",
          "output_type": "stream",
          "text": [
            "X [[ 2  9]\n",
            " [ 3 10]\n",
            " [ 4 11]]\n",
            "u 2\n",
            "i 9\n",
            "users_rated_items [ 2  3  5 10 13 15 18 23]\n",
            "users_ratings [0.82 1.   0.82 0.82 0.82 1.   0.62 0.62]\n",
            "item_similarities [0.345477 0.       0.279575 0.285752 0.277952 0.260534 0.110629 0.129859]\n",
            "top_k_mask [3 2 4 5 7 6 1]\n",
            "top_k_users_rated_items [10  5 13 15 23 18  3]\n",
            "top_k_user_ratings [0.82 0.82 0.82 1.   0.62 0.62 1.  ]\n",
            "top_k_rated_item_similarities [0.285752 0.279575 0.277952 0.260534 0.129859 0.110629 0.      ]\n",
            "predicted_score 0.819106\n",
            "u 3\n",
            "i 10\n",
            "users_rated_items [ 0  3  7 10 12 14 15 23]\n",
            "users_ratings [0.63 0.43 0.63 0.43 0.63 0.43 1.   0.63]\n",
            "item_similarities [0.174086 0.642051 0.116487 1.       0.284687 0.103483 0.61923  0.427682]\n",
            "top_k_mask [1 6 7 4 0 2 5]\n",
            "top_k_users_rated_items [ 3 15 23 12  0  7 14]\n",
            "top_k_user_ratings [0.43 1.   0.63 0.63 0.63 0.63 0.43]\n",
            "top_k_rated_item_similarities [0.642051 0.61923  0.427682 0.284687 0.174086 0.116487 0.103483]\n",
            "predicted_score 0.663791\n",
            "u 4\n",
            "i 11\n",
            "users_rated_items [ 1  9 13 14 15 19 20 21]\n",
            "users_ratings [0.64 0.44 1.   1.   0.64 0.24 0.24 0.64]\n",
            "item_similarities [0.034535 0.511607 0.377596 0.483657 0.117861 0.355842 0.331865 0.469689]\n",
            "top_k_mask [3 7 2 5 6 4 0]\n",
            "top_k_users_rated_items [14 21 13 19 20 15  1]\n",
            "top_k_user_ratings [1.   0.64 1.   0.24 0.24 0.64 0.64]\n",
            "top_k_rated_item_similarities [0.483657 0.469689 0.377596 0.355842 0.331865 0.117861 0.034535]\n",
            "predicted_score 0.656107\n"
          ]
        }
      ],
      "source": [
        "user_ids = user_encoder.transform([\"U00003\", \"U00004\", \"U00005\"])\n",
        "item_ids = item_encoder.transform([\"I00010\", \"I00011\", \"I00012\"])\n",
        "\n",
        "X = np.stack([user_ids, item_ids], axis=1)\n",
        "\n",
        "print(\"X\", X)\n",
        "\n",
        "n=5\n",
        "k=10\n",
        "\n",
        "for u, i in X:\n",
        "    print(\"u\", u)\n",
        "    print(\"i\", i)\n",
        "\n",
        "    idx, users_rated_items, users_ratings = sp.sparse.find(user_item_matrix[u, :])\n",
        "\n",
        "    print(\"users_rated_items\", users_rated_items)\n",
        "    print(\"users_ratings\", users_ratings)\n",
        "\n",
        "    # get the similarities to item_id\n",
        "    item_similarities = item_similarity_matrix[:, users_rated_items][i].toarray().astype(np.float32).round(6)\n",
        "    print(\"item_similarities\", item_similarities)\n",
        "\n",
        "    # sort by similarity (desc) and get top k\n",
        "    top_k_mask = np.argsort(1 - item_similarities)[1:k+1]\n",
        "    print(\"top_k_mask\", top_k_mask)\n",
        "\n",
        "    top_k_users_rated_items = users_rated_items[top_k_mask]\n",
        "    top_k_user_ratings = users_ratings[top_k_mask]\n",
        "    top_k_rated_item_similarities = item_similarities[top_k_mask]\n",
        "\n",
        "    print(\"top_k_users_rated_items\", top_k_users_rated_items)\n",
        "    print(\"top_k_user_ratings\", top_k_user_ratings)\n",
        "    print(\"top_k_rated_item_similarities\", top_k_rated_item_similarities)\n",
        "\n",
        "    # weighted average rating\n",
        "    predicted_score = np.average(top_k_user_ratings, axis=0, weights=top_k_rated_item_similarities).astype(np.float32).round(6)\n",
        "    print(\"predicted_score\", predicted_score)"
      ]
    },
    {
      "cell_type": "code",
      "execution_count": null,
      "id": "ac69e143",
      "metadata": {},
      "outputs": [],
      "source": [
        "# item_based_recommender = ItemBasedCFRecommender(k=5, n=10)\n",
        "# item_based_recommender.fit(user_item_matrix)\n",
        "\n",
        "# X = np.vstack([np.repeat(user_ids[0], users_unrated_items.shape[0]).T, users_unrated_items.T])\n",
        "\n",
        "# predictions = item_based_recommender.predict(X)\n",
        "\n",
        "# predictions"
      ]
    }
  ],
  "metadata": {
    "kernelspec": {
      "display_name": ".venv",
      "language": "python",
      "name": "python3"
    },
    "language_info": {
      "codemirror_mode": {
        "name": "ipython",
        "version": 3
      },
      "file_extension": ".py",
      "mimetype": "text/x-python",
      "name": "python",
      "nbconvert_exporter": "python",
      "pygments_lexer": "ipython3",
      "version": "3.11.12"
    }
  },
  "nbformat": 4,
  "nbformat_minor": 5
}
