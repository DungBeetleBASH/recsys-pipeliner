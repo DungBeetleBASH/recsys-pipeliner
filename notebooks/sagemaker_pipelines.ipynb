{
 "cells": [
  {
   "cell_type": "code",
   "execution_count": 21,
   "metadata": {},
   "outputs": [],
   "source": [
    "!mkdir -p pipelines/code"
   ]
  },
  {
   "cell_type": "code",
   "execution_count": 22,
   "metadata": {},
   "outputs": [],
   "source": [
    "import os\n",
    "import sys\n",
    "\n",
    "module_path = os.path.abspath(os.path.join(\"..\"))\n",
    "if module_path not in sys.path:\n",
    "    sys.path.append(module_path)"
   ]
  },
  {
   "cell_type": "code",
   "execution_count": 23,
   "metadata": {},
   "outputs": [
    {
     "name": "stdout",
     "output_type": "stream",
     "text": [
      "Writing pipelines/code/user_item_matrix_transformer.py\n"
     ]
    }
   ],
   "source": [
    "%%writefile pipelines/code/user_item_matrix_transformer.py\n",
    "\n",
    "import numpy as np\n",
    "import pandas as pd\n",
    "\n",
    "from pipeliner.recommendations.transformer import UserItemMatrixTransformer\n",
    "\n",
    "data_types = {\"user_id\": str, \"item_id\": str, \"rating\": np.float64}\n",
    "\n",
    "if __name__ == \"__main__\":\n",
    "    base_dir = \"/opt/ml/processing\"\n",
    "    input_file = \"user_item_ratings.csv\"\n",
    "    output_file = \"user_item_matrix.csv\"\n",
    "\n",
    "    user_item_ratings = pd.read_csv(f\"{base_dir}/{input_file}\", dtype=data_types)\n",
    "    transformer = UserItemMatrixTransformer()\n",
    "    user_item_matrix = transformer.transform(user_item_ratings)\n",
    "\n",
    "    user_item_matrix.to_csv(f\"{base_dir}/{output_file}\", header=True, index=False)"
   ]
  },
  {
   "cell_type": "code",
   "execution_count": 24,
   "metadata": {},
   "outputs": [
    {
     "name": "stdout",
     "output_type": "stream",
     "text": [
      "Writing pipelines/code/similarity_matrix_transformer.py\n"
     ]
    }
   ],
   "source": [
    "%%writefile pipelines/code/similarity_matrix_transformer.py\n",
    "\n",
    "import numpy as np\n",
    "import pandas as pd\n",
    "\n",
    "from pipeliner.recommendations.transformer import SimilarityTransformer\n",
    "\n",
    "import argparse\n",
    "\n",
    "parser = argparse.ArgumentParser()\n",
    "parser.add_argument(\"--kind\", type=str, default=\"user\")\n",
    "parser.add_argument(\"--metric\", type=str, default=\"cosine\")\n",
    "args = parser.parse_args()\n",
    "\n",
    "if __name__ == \"__main__\":\n",
    "    base_dir = \"/opt/ml/processing\"\n",
    "    input_file = \"user_item_matrix.csv\"\n",
    "    output_file = \"item_similarity_matrix.csv\"\n",
    "\n",
    "    user_item_matrix = pd.read_csv(f\"{base_dir}/{input_file}\", dtype=np.float64)\n",
    "    transformer = SimilarityTransformer(kind=args.kind, metric=args.metric)\n",
    "    similarity_matrix = transformer.transform(user_item_matrix)\n",
    "\n",
    "    similarity_matrix.to_csv(f\"{base_dir}/{output_file}\", header=True, index=False)"
   ]
  },
  {
   "cell_type": "code",
   "execution_count": null,
   "metadata": {},
   "outputs": [],
   "source": [
    "%%writefile pipelines/code/item_recommender_train.py\n",
    "\n"
   ]
  },
  {
   "cell_type": "code",
   "execution_count": 25,
   "metadata": {},
   "outputs": [
    {
     "name": "stdout",
     "output_type": "stream",
     "text": [
      "Writing pipelines/code/item_recommender_pipeline.py\n"
     ]
    }
   ],
   "source": [
    "%%writefile pipelines/code/item_recommender_pipeline.py\n",
    "import sagemaker\n",
    "from sagemaker import ScriptProcessor\n",
    "from sagemaker.workflow.pipeline_context import LocalPipelineSession\n",
    "from sagemaker.workflow.parameters import ParameterString\n",
    "from sagemaker.workflow.pipeline import Pipeline\n",
    "from sagemaker.sklearn.estimator import SKLearn\n",
    "from sagemaker.workflow.steps import CacheConfig, ProcessingStep, TrainingStep\n",
    "\n",
    "from pipeliner.factory import SagemakerPipelineFactory\n",
    "\n",
    "\n",
    "class RecommenderPipeline(SagemakerPipelineFactory):\n",
    "    local: bool\n",
    "\n",
    "    def create(\n",
    "        self,\n",
    "        role: str,\n",
    "        name: str,\n",
    "        session: sagemaker.Session,\n",
    "    ) -> Pipeline:\n",
    "        self.local = isinstance(session, LocalPipelineSession)\n",
    "\n",
    "        instance_type = ParameterString(\n",
    "            name=\"InstanceType\",\n",
    "            default_value=\"local\" if self.local else \"ml.m5.large\",\n",
    "        )\n",
    "\n",
    "        image_uri = sagemaker.image_uris.retrieve(\n",
    "            framework=\"sklearn\",\n",
    "            region=session.boto_region_name,\n",
    "            version=\"1.2-1\",\n",
    "        )\n",
    "\n",
    "        cache_config = CacheConfig(\n",
    "            enable_caching=True,\n",
    "            expire_after=\"P30d\" # 30 days\n",
    "        )\n",
    "\n",
    "        processor = ScriptProcessor(\n",
    "            image_uri=image_uri,\n",
    "            command=[\"python3\"],\n",
    "            instance_type=instance_type,\n",
    "            instance_count=1,\n",
    "            role=role,\n",
    "            sagemaker_session=session,\n",
    "        )\n",
    "\n",
    "        user_item_matrix_step = ProcessingStep(\n",
    "            name=\"user_item_matrix_transformer\",\n",
    "            step_args=processor.run(\n",
    "                code=\"pipelines/code/user_item_matrix_transformer.py\",\n",
    "            ),\n",
    "        )\n",
    "\n",
    "        item_similarity_matrix_step = ProcessingStep(\n",
    "            name=\"similarity_matrix_transformer\",\n",
    "            step_args=processor.run(\n",
    "                code=\"pipelines/code/similarity_matrix_transformer.py\",\n",
    "            ),  \n",
    "            job_arguments=[  \n",
    "                \"--kind\", \"item\"  \n",
    "            ],\n",
    "        )\n",
    "\n",
    "        sklearn_estimator = SKLearn(\n",
    "            entry_point=\"pipelines/code/item_recommender_train.py\",\n",
    "            role=role,\n",
    "            image_uri=image_uri,\n",
    "            instance_type=instance_type,\n",
    "            sagemaker_session=session,\n",
    "            base_job_name=\"training_job\",\n",
    "            # hyperparameters=hyperparameters,\n",
    "            enable_sagemaker_metrics=True,\n",
    "        )\n",
    "\n",
    "        training_step = TrainingStep(\n",
    "            name=\"Train\",\n",
    "            estimator=sklearn_estimator,\n",
    "            cache_config=cache_config\n",
    "        )\n",
    "\n",
    "        return Pipeline(\n",
    "            name=name,\n",
    "            steps=[\n",
    "                user_item_matrix_step, \n",
    "                item_similarity_matrix_step,\n",
    "                training_step\n",
    "            ],\n",
    "            sagemaker_session=session,\n",
    "            parameters=[instance_type],\n",
    "        )"
   ]
  }
 ],
 "metadata": {
  "kernelspec": {
   "display_name": "Python 3 (ipykernel)",
   "language": "python",
   "name": "python3"
  },
  "language_info": {
   "codemirror_mode": {
    "name": "ipython",
    "version": 3
   },
   "file_extension": ".py",
   "mimetype": "text/x-python",
   "name": "python",
   "nbconvert_exporter": "python",
   "pygments_lexer": "ipython3",
   "version": "3.11.9"
  }
 },
 "nbformat": 4,
 "nbformat_minor": 4
}
