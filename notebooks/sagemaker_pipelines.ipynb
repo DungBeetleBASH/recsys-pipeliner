{
 "cells": [
  {
   "cell_type": "code",
   "execution_count": null,
   "metadata": {},
   "outputs": [],
   "source": [
    "%load_ext autoreload\n",
    "%autoreload 1"
   ]
  },
  {
   "cell_type": "code",
   "execution_count": null,
   "metadata": {},
   "outputs": [],
   "source": [
    "!mkdir -p pipelines/code"
   ]
  },
  {
   "cell_type": "code",
   "execution_count": null,
   "metadata": {},
   "outputs": [],
   "source": [
    "import os\n",
    "import sys\n",
    "\n",
    "module_path = os.path.abspath(os.path.join(\"..\"))\n",
    "if module_path not in sys.path:\n",
    "    sys.path.append(module_path)"
   ]
  },
  {
   "cell_type": "code",
   "execution_count": null,
   "metadata": {},
   "outputs": [],
   "source": [
    "%%writefile pipelines/code/user_item_matrix_transformer.py\n",
    "\n",
    "import numpy as np\n",
    "import pandas as pd\n",
    "\n",
    "from pipeliner.recommendations.transformer import UserItemMatrixTransformer\n",
    "\n",
    "data_types = {\"user_id\": str, \"item_id\": str, \"rating\": np.float64}\n",
    "\n",
    "if __name__ == \"__main__\":\n",
    "    base_dir = \"/opt/ml/processing\"\n",
    "    input_file = \"user_item_ratings.csv\"\n",
    "    output_file = \"user_item_matrix.csv\"\n",
    "\n",
    "    user_item_ratings = pd.read_csv(f\"{base_dir}/{input_file}\", dtype=data_types)\n",
    "    transformer = UserItemMatrixTransformer()\n",
    "    user_item_matrix = transformer.transform(user_item_ratings)\n",
    "\n",
    "    user_item_matrix.to_csv(f\"{base_dir}/{output_file}\", header=True, index=False)"
   ]
  },
  {
   "cell_type": "code",
   "execution_count": null,
   "metadata": {},
   "outputs": [],
   "source": [
    "%%writefile pipelines/code/similarity_matrix_transformer.py\n",
    "\n",
    "import numpy as np\n",
    "import pandas as pd\n",
    "\n",
    "from pipeliner.recommendations.transformer import SimilarityTransformer\n",
    "\n",
    "import argparse\n",
    "\n",
    "parser = argparse.ArgumentParser()\n",
    "parser.add_argument(\"--kind\", type=str, default=\"user\")\n",
    "parser.add_argument(\"--metric\", type=str, default=\"cosine\")\n",
    "args = parser.parse_args()\n",
    "\n",
    "if __name__ == \"__main__\":\n",
    "    base_dir = \"/opt/ml/processing\"\n",
    "    input_file = \"user_item_matrix.csv\"\n",
    "    output_file = \"item_similarity_matrix.csv\"\n",
    "\n",
    "    user_item_matrix = pd.read_csv(f\"{base_dir}/{input_file}\", dtype=np.float64)\n",
    "    transformer = SimilarityTransformer(kind=args.kind, metric=args.metric)\n",
    "    similarity_matrix = transformer.transform(user_item_matrix)\n",
    "\n",
    "    similarity_matrix.to_csv(f\"{base_dir}/{output_file}\", header=True, index=False)"
   ]
  },
  {
   "cell_type": "code",
   "execution_count": null,
   "metadata": {},
   "outputs": [],
   "source": [
    "%%writefile pipelines/code/item_recommender_train.py\n",
    "\n"
   ]
  },
  {
   "cell_type": "code",
   "execution_count": null,
   "metadata": {},
   "outputs": [],
   "source": [
    "from sagemaker.workflow.pipeline_context import LocalPipelineSession\n",
    "from pipeliner.recommendations.pipelines import RecommenderPipeline\n",
    "\n",
    "session = LocalPipelineSession()\n",
    "pipeline = RecommenderPipeline().create(\n",
    "    role=\"local\", name=\"recommender\", session=session\n",
    ")\n",
    "\n",
    "pipeline.start()"
   ]
  }
 ],
 "metadata": {
  "kernelspec": {
   "display_name": "Python 3 (ipykernel)",
   "language": "python",
   "name": "python3"
  },
  "language_info": {
   "codemirror_mode": {
    "name": "ipython",
    "version": 3
   },
   "file_extension": ".py",
   "mimetype": "text/x-python",
   "name": "python",
   "nbconvert_exporter": "python",
   "pygments_lexer": "ipython3",
   "version": "3.11.9"
  }
 },
 "nbformat": 4,
 "nbformat_minor": 4
}
