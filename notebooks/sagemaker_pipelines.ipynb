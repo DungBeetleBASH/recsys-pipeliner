{
 "cells": [
  {
   "cell_type": "markdown",
   "metadata": {},
   "source": [
    "Create/update a `.env` file in the project root including the following environment variables.\n",
    "\n",
    "AWS_DEFAULT_SAGEMAKER_BUCKET\n",
    "\n",
    "AWS_PROFILE"
   ]
  },
  {
   "cell_type": "code",
   "execution_count": null,
   "metadata": {},
   "outputs": [],
   "source": [
    "%load_ext autoreload\n",
    "%autoreload 1"
   ]
  },
  {
   "cell_type": "code",
   "execution_count": null,
   "metadata": {},
   "outputs": [],
   "source": [
    "%pip install -e ../ --quiet"
   ]
  },
  {
   "cell_type": "code",
   "execution_count": null,
   "metadata": {},
   "outputs": [],
   "source": [
    "!python -m build ../"
   ]
  },
  {
   "cell_type": "code",
   "execution_count": null,
   "metadata": {},
   "outputs": [],
   "source": [
    "import os\n",
    "\n",
    "dist_path = \"../dist\"\n",
    "package_path = os.path.join(dist_path, [f for f in os.listdir(dist_path) if f.endswith(\".tar.gz\")][0])\n",
    "package_path"
   ]
  },
  {
   "cell_type": "code",
   "execution_count": null,
   "metadata": {},
   "outputs": [],
   "source": [
    "import os\n",
    "AWS_DEFAULT_SAGEMAKER_BUCKET = os.environ.get(\"AWS_DEFAULT_SAGEMAKER_BUCKET\", None)\n",
    "DEFAULT_BUCKET_PREFIX = \"pipelines\"\n",
    "if AWS_DEFAULT_SAGEMAKER_BUCKET is None:\n",
    "    raise ValueError(\"AWS_DEFAULT_SAGEMAKER_BUCKET is not set\")"
   ]
  },
  {
   "cell_type": "markdown",
   "metadata": {},
   "source": [
    "Log into Docker registry with ECR credentials"
   ]
  },
  {
   "cell_type": "code",
   "execution_count": null,
   "metadata": {},
   "outputs": [],
   "source": [
    "!aws ecr get-login-password --region eu-west-1 | docker login --username AWS --password-stdin 141502667606.dkr.ecr.eu-west-1.amazonaws.com"
   ]
  },
  {
   "cell_type": "code",
   "execution_count": null,
   "metadata": {},
   "outputs": [],
   "source": [
    "!mkdir -p pipelines/recommendations/code"
   ]
  },
  {
   "cell_type": "code",
   "execution_count": null,
   "metadata": {},
   "outputs": [],
   "source": [
    "import os\n",
    "import sys\n",
    "\n",
    "module_path = os.path.abspath(os.path.join(\"..\"))\n",
    "if module_path not in sys.path:\n",
    "    sys.path.append(module_path)"
   ]
  },
  {
   "cell_type": "code",
   "execution_count": null,
   "metadata": {},
   "outputs": [],
   "source": [
    "import sagemaker\n",
    "import boto3\n",
    "\n",
    "try:\n",
    "    role = sagemaker.get_execution_role()\n",
    "except ValueError:\n",
    "    iam = boto3.client(\"iam\")\n",
    "    role = iam.get_role(RoleName=\"pipeliner\")[\"Role\"][\"Arn\"]\n",
    "\n",
    "role"
   ]
  },
  {
   "cell_type": "code",
   "execution_count": null,
   "metadata": {},
   "outputs": [],
   "source": [
    "from sagemaker.workflow.pipeline_context import LocalPipelineSession\n",
    "\n",
    "session = LocalPipelineSession(\n",
    "    default_bucket=AWS_DEFAULT_SAGEMAKER_BUCKET,\n",
    "    default_bucket_prefix=DEFAULT_BUCKET_PREFIX,\n",
    ")\n",
    "session.config = {\"local\": {\"local_code\": True}}\n",
    "\n",
    "region = session.boto_region_name\n",
    "default_bucket = session.default_bucket()"
   ]
  },
  {
   "cell_type": "code",
   "execution_count": null,
   "metadata": {},
   "outputs": [],
   "source": [
    "import pandas as pd\n",
    "import numpy as np\n",
    "\n",
    "ratings_data_path = \"../tests/test_data/user_item_ratings.csv\"\n",
    "data_types = {\"user_id\": str, \"item_id\": str, \"rating\": np.float64}\n",
    "\n",
    "user_item_ratings = pd.read_csv(ratings_data_path, dtype=data_types, engine='python')\n",
    "user_item_ratings.head(5)"
   ]
  },
  {
   "cell_type": "code",
   "execution_count": null,
   "metadata": {},
   "outputs": [],
   "source": [
    "input_data_uri = sagemaker.s3.S3Uploader.upload(\n",
    "    local_path=ratings_data_path,\n",
    "    desired_s3_uri=f\"s3://{default_bucket}/{DEFAULT_BUCKET_PREFIX}/recommender/data\",\n",
    ")\n",
    "input_data_uri"
   ]
  },
  {
   "cell_type": "code",
   "execution_count": null,
   "metadata": {},
   "outputs": [],
   "source": [
    "import sagemaker\n",
    "from sagemaker.inputs import TrainingInput\n",
    "from sagemaker.processing import ProcessingInput, ProcessingOutput\n",
    "from sagemaker.sklearn.estimator import SKLearn\n",
    "from sagemaker.sklearn.processing import SKLearnProcessor\n",
    "from sagemaker.workflow.parameters import ParameterString\n",
    "from sagemaker.workflow.pipeline import Pipeline\n",
    "from sagemaker.workflow.pipeline_context import LocalPipelineSession\n",
    "from sagemaker.workflow.steps import CacheConfig, ProcessingStep, TrainingStep\n",
    "\n",
    "\n",
    "class RecommenderPipeline:\n",
    "    def create(\n",
    "        self,\n",
    "        role: str,\n",
    "        name: str,\n",
    "        session: sagemaker.Session,\n",
    "        framework_version=\"1.2-1\",\n",
    "    ) -> Pipeline:\n",
    "        self.local = isinstance(session, LocalPipelineSession)\n",
    "        self.framework_version = framework_version\n",
    "\n",
    "        instance_type = ParameterString(\n",
    "            name=\"InstanceType\",\n",
    "            default_value=\"local\" if self.local else \"ml.m5.large\",\n",
    "        )\n",
    "\n",
    "        input_data = ParameterString(\n",
    "            name=\"user_item_ratings\",\n",
    "            default_value=input_data_uri,\n",
    "        )\n",
    "\n",
    "        image_uri = sagemaker.image_uris.retrieve(\n",
    "            framework=\"sklearn\",\n",
    "            region=session.boto_region_name,\n",
    "            version=\"1.2-1\",\n",
    "        )\n",
    "\n",
    "        cache_config = CacheConfig(\n",
    "            enable_caching=True,\n",
    "            expire_after=\"P30d\",  # 30 days\n",
    "        )\n",
    "\n",
    "        processor = SKLearnProcessor(\n",
    "            framework_version=framework_version,\n",
    "            instance_type=instance_type,\n",
    "            instance_count=1,\n",
    "            base_job_name=\"sklearn-preprocess\",\n",
    "            role=role,\n",
    "            sagemaker_session=session,\n",
    "        )\n",
    "\n",
    "        user_item_ratings_input = ProcessingInput(\n",
    "            source=input_data,\n",
    "            input_name=\"user_item_ratings\",\n",
    "            destination=\"/opt/ml/processing/input/data\",\n",
    "        )\n",
    "\n",
    "        pipeliner_input = ProcessingInput(\n",
    "            source=\"../src/pipeliner\",\n",
    "            input_name=\"pipeliner\",\n",
    "            destination=\"/opt/ml/processing/input/code/pipeliner\",\n",
    "        )\n",
    "\n",
    "        user_item_matrix_step = ProcessingStep(\n",
    "            name=\"user_item_matrix_transformer\",\n",
    "            step_args=processor.run(\n",
    "                inputs=[\n",
    "                    user_item_ratings_input,\n",
    "                    pipeliner_input,\n",
    "                ],\n",
    "                outputs=[\n",
    "                    ProcessingOutput(\n",
    "                        output_name=\"user_item_matrix\",\n",
    "                        source=\"/opt/ml/processing/output/data\",\n",
    "                    ),\n",
    "                ],\n",
    "                code=\"pipelines/recommendations/code/user_item_matrix_transformer.py\",\n",
    "            ),\n",
    "        )\n",
    "\n",
    "        user_similarity_matrix_step = ProcessingStep(\n",
    "            name=\"user_similarity_matrix_transformer\",\n",
    "            step_args=processor.run(\n",
    "                inputs=[\n",
    "                    ProcessingInput(\n",
    "                        source=user_item_matrix_step.properties.ProcessingOutputConfig.Outputs[\n",
    "                            \"user_item_matrix\"\n",
    "                        ].S3Output.S3Uri,\n",
    "                        input_name=\"user_item_matrix\",\n",
    "                        destination=\"/opt/ml/processing/input/data\",\n",
    "                    ),\n",
    "                    pipeliner_input,\n",
    "                ],\n",
    "                outputs=[\n",
    "                    ProcessingOutput(\n",
    "                        output_name=\"user_similarity_matrix\",\n",
    "                        source=\"/opt/ml/processing/output/data\",\n",
    "                    ),\n",
    "                ],\n",
    "                code=\"pipelines/recommendations/code/similarity_matrix_transformer.py\",\n",
    "            ),\n",
    "            job_arguments=[\"--kind\", \"user\"],\n",
    "        )\n",
    "\n",
    "        item_similarity_matrix_step = ProcessingStep(\n",
    "            name=\"item_similarity_matrix_transformer\",\n",
    "            step_args=processor.run(\n",
    "                inputs=[\n",
    "                    ProcessingInput(\n",
    "                        source=user_item_matrix_step.properties.ProcessingOutputConfig.Outputs[\n",
    "                            \"user_item_matrix\"\n",
    "                        ].S3Output.S3Uri,\n",
    "                        input_name=\"user_item_matrix\",\n",
    "                        destination=\"/opt/ml/processing/input/data\",\n",
    "                    ),\n",
    "                    pipeliner_input,\n",
    "                ],\n",
    "                outputs=[\n",
    "                    ProcessingOutput(\n",
    "                        output_name=\"item_similarity_matrix\",\n",
    "                        source=\"/opt/ml/processing/output/data\",\n",
    "                    ),\n",
    "                ],\n",
    "                code=\"pipelines/recommendations/code/similarity_matrix_transformer.py\",\n",
    "            ),\n",
    "            job_arguments=[\"--kind\", \"item\"],\n",
    "        )\n",
    "\n",
    "        sklearn_estimator = SKLearn(\n",
    "            entry_point=\"pipelines/recommendations/code/user_based_recommender.py\",\n",
    "            role=role,\n",
    "            image_uri=image_uri,\n",
    "            instance_type=instance_type,\n",
    "            sagemaker_session=session,\n",
    "            base_job_name=\"training_job\",\n",
    "            # hyperparameters=hyperparameters,\n",
    "            enable_sagemaker_metrics=True,\n",
    "        )\n",
    "\n",
    "        training_step = TrainingStep(\n",
    "            name=\"Train\",\n",
    "            estimator=sklearn_estimator,\n",
    "            cache_config=cache_config,\n",
    "            inputs={\n",
    "                \"user_item_matrix\": TrainingInput(\n",
    "                    s3_data=user_item_matrix_step.properties.ProcessingOutputConfig.Outputs[\n",
    "                        \"user_item_matrix\"\n",
    "                    ].S3Output.S3Uri,\n",
    "                    content_type=\"text/csv\",\n",
    "                ),\n",
    "                \"similarity_matrix\": TrainingInput(\n",
    "                    s3_data=user_similarity_matrix_step.properties.ProcessingOutputConfig.Outputs[\n",
    "                        \"user_similarity_matrix\"\n",
    "                    ].S3Output.S3Uri,\n",
    "                    content_type=\"text/csv\",\n",
    "                ),\n",
    "            },\n",
    "        )\n",
    "\n",
    "        return Pipeline(\n",
    "            name=name,\n",
    "            steps=[\n",
    "                user_item_matrix_step,\n",
    "                user_similarity_matrix_step,\n",
    "                item_similarity_matrix_step,\n",
    "                training_step,\n",
    "            ],\n",
    "            sagemaker_session=session,\n",
    "            parameters=[input_data, instance_type],\n",
    "        )"
   ]
  },
  {
   "cell_type": "code",
   "execution_count": null,
   "metadata": {},
   "outputs": [],
   "source": [
    "pipeline = RecommenderPipeline().create(role=role, name=\"recommender\", session=session)"
   ]
  },
  {
   "cell_type": "code",
   "execution_count": null,
   "metadata": {},
   "outputs": [],
   "source": [
    "import json\n",
    "\n",
    "definition = json.loads(pipeline.definition())\n",
    "definition"
   ]
  },
  {
   "cell_type": "code",
   "execution_count": null,
   "metadata": {},
   "outputs": [],
   "source": [
    "pipeline.upsert(role_arn=role)"
   ]
  },
  {
   "cell_type": "code",
   "execution_count": null,
   "metadata": {},
   "outputs": [],
   "source": [
    "execution = pipeline.start()"
   ]
  },
  {
   "cell_type": "code",
   "execution_count": null,
   "metadata": {},
   "outputs": [],
   "source": [
    "steps = execution.list_steps()\n",
    "steps"
   ]
  }
 ],
 "metadata": {
  "kernelspec": {
   "display_name": "Python 3 (ipykernel)",
   "language": "python",
   "name": "python3"
  },
  "language_info": {
   "codemirror_mode": {
    "name": "ipython",
    "version": 3
   },
   "file_extension": ".py",
   "mimetype": "text/x-python",
   "name": "python",
   "nbconvert_exporter": "python",
   "pygments_lexer": "ipython3",
   "version": "3.11.9"
  }
 },
 "nbformat": 4,
 "nbformat_minor": 4
}
