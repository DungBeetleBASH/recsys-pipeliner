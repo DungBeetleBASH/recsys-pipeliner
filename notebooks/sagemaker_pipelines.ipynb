{
 "cells": [
  {
   "cell_type": "code",
   "execution_count": 692,
   "metadata": {},
   "outputs": [
    {
     "name": "stdout",
     "output_type": "stream",
     "text": [
      "The autoreload extension is already loaded. To reload it, use:\n",
      "  %reload_ext autoreload\n"
     ]
    }
   ],
   "source": [
    "%load_ext autoreload\n",
    "%autoreload 1"
   ]
  },
  {
   "cell_type": "code",
   "execution_count": 693,
   "metadata": {},
   "outputs": [
    {
     "name": "stdout",
     "output_type": "stream",
     "text": [
      "Note: you may need to restart the kernel to use updated packages.\n"
     ]
    }
   ],
   "source": [
    "%pip install -e ../ --quiet"
   ]
  },
  {
   "cell_type": "markdown",
   "metadata": {},
   "source": [
    "Log into Docker registry with ECR credentials"
   ]
  },
  {
   "cell_type": "code",
   "execution_count": 694,
   "metadata": {},
   "outputs": [
    {
     "name": "stdout",
     "output_type": "stream",
     "text": [
      "Login Succeeded\n"
     ]
    }
   ],
   "source": [
    "!aws ecr get-login-password --region eu-west-1 | docker login --username AWS --password-stdin 141502667606.dkr.ecr.eu-west-1.amazonaws.com"
   ]
  },
  {
   "cell_type": "code",
   "execution_count": 695,
   "metadata": {},
   "outputs": [],
   "source": [
    "!mkdir -p pipelines/recommendations/code"
   ]
  },
  {
   "cell_type": "code",
   "execution_count": 696,
   "metadata": {},
   "outputs": [],
   "source": [
    "import os\n",
    "import sys\n",
    "\n",
    "module_path = os.path.abspath(os.path.join(\"..\"))\n",
    "if module_path not in sys.path:\n",
    "    sys.path.append(module_path)"
   ]
  },
  {
   "cell_type": "code",
   "execution_count": 697,
   "metadata": {},
   "outputs": [
    {
     "name": "stdout",
     "output_type": "stream",
     "text": [
      "Overwriting pipelines/recommendations/code/user_item_matrix_transformer.py\n"
     ]
    }
   ],
   "source": [
    "%%writefile pipelines/recommendations/code/user_item_matrix_transformer.py\n",
    "\n",
    "import numpy as np\n",
    "import pandas as pd\n",
    "import logging\n",
    "import os\n",
    "from sklearn.base import BaseEstimator, TransformerMixin\n",
    "from sklearn.metrics.pairwise import cosine_similarity\n",
    "\n",
    "logging.basicConfig(level=logging.INFO)\n",
    "\n",
    "\n",
    "class UserItemMatrixTransformer(TransformerMixin, BaseEstimator):\n",
    "    \"\"\"\n",
    "    This class is a custom scikit-learn transformer\n",
    "    that accepts a pandas dataframe of user/item interactions\n",
    "    and returns a user/item matrix.\n",
    "\n",
    "    :param user (str): Column name for user id\n",
    "    :param item (str): Column name for item id\n",
    "    :param rating (float): Column name for user/item rating\n",
    "    :param agg (str): Panadas aggregation function to use when combining duplicate user/item interactions\n",
    "    :param binary (bool): If True, user/item interactions are converted to binary values in the user/item output matrix\n",
    "    \"\"\"\n",
    "\n",
    "    def __init__(\n",
    "        self, user=\"user_id\", item=\"item_id\", rating=\"rating\", agg=\"max\", binary=False\n",
    "    ):\n",
    "        self.user = user\n",
    "        self.item = item\n",
    "        self.rating = rating\n",
    "        self.agg = agg\n",
    "        self.binary = binary\n",
    "\n",
    "    def fit(self, X, y=None):\n",
    "        return self\n",
    "\n",
    "    def transform(self, X: pd.DataFrame):\n",
    "        matrix = X.groupby([self.user, self.item])[self.rating].agg(self.agg).unstack()\n",
    "        if self.binary:\n",
    "            return matrix.notnull().astype(int)\n",
    "        else:\n",
    "            return matrix.fillna(0)\n",
    "\n",
    "\n",
    "if __name__ == \"__main__\":\n",
    "    base_dir = \"/opt/ml/processing\"\n",
    "    data_types = {\"user_id\": str, \"item_id\": str, \"rating\": np.float64}\n",
    "\n",
    "    logging.info(os.listdir(base_dir))\n",
    "    logging.info(os.listdir(f\"{base_dir}/input\"))\n",
    "\n",
    "    user_item_ratings = pd.read_csv(f\"{base_dir}/input/data/user_item_ratings.csv\", dtype=data_types, engine='python')\n",
    "    \n",
    "    transformer = UserItemMatrixTransformer()\n",
    "    user_item_matrix = transformer.transform(user_item_ratings)\n",
    "\n",
    "    user_item_matrix.to_csv(f\"{base_dir}/output/data/user_item_matrix.csv\", header=True, index=False)"
   ]
  },
  {
   "cell_type": "code",
   "execution_count": 698,
   "metadata": {},
   "outputs": [
    {
     "name": "stdout",
     "output_type": "stream",
     "text": [
      "Overwriting pipelines/recommendations/code/similarity_matrix_transformer.py\n"
     ]
    }
   ],
   "source": [
    "%%writefile pipelines/recommendations/code/similarity_matrix_transformer.py\n",
    "\n",
    "import numpy as np\n",
    "import pandas as pd\n",
    "from sklearn.base import BaseEstimator, TransformerMixin\n",
    "from sklearn.metrics.pairwise import cosine_similarity\n",
    "import argparse\n",
    "\n",
    "class SimilarityTransformer(TransformerMixin, BaseEstimator):\n",
    "    \"\"\"\n",
    "    This class is a custom scikit-learn transformer\n",
    "    that accepts a user/item matrix where user ids are\n",
    "    the index and item ids are the columns and returns\n",
    "    a similarity matrix. It can be used to calculate\n",
    "    user-user or item-item similarity.\n",
    "    \"\"\"\n",
    "\n",
    "    def __init__(self, kind=\"user\", metric=\"cosine\", normalise=False):\n",
    "        if kind not in [\"user\", \"item\"]:\n",
    "            raise ValueError(\"kind must be 'user' or 'item'\")\n",
    "        if metric not in [\"cosine\", \"dot\", \"euclidean\"]:\n",
    "            raise ValueError(\"metric must be 'cosine', 'dot', or 'euclidean'\")\n",
    "        self.kind = kind\n",
    "        self.metric = metric\n",
    "        self.normalise = normalise\n",
    "\n",
    "    def fit(self, X, y=None):\n",
    "        return self\n",
    "\n",
    "    def transform(self, X: pd.DataFrame):\n",
    "        matrix = X\n",
    "        if self.kind == \"item\":\n",
    "            matrix = X.T\n",
    "\n",
    "        if self.metric == \"cosine\":\n",
    "            df = pd.DataFrame(\n",
    "                cosine_similarity(matrix), index=matrix.index, columns=matrix.index\n",
    "            )\n",
    "        else:\n",
    "            raise NotImplementedError(\"Only cosine similarity is currently supported\")\n",
    "\n",
    "        if self.normalise:\n",
    "            df = (df - df.min()) / (df.max() - df.min())\n",
    "\n",
    "        return df\n",
    "\n",
    "\n",
    "\n",
    "parser = argparse.ArgumentParser()\n",
    "parser.add_argument(\"--kind\", type=str, default=\"user\")\n",
    "parser.add_argument(\"--metric\", type=str, default=\"cosine\")\n",
    "args = parser.parse_args()\n",
    "\n",
    "if __name__ == \"__main__\":\n",
    "    base_dir = \"/opt/ml/processing\"\n",
    "\n",
    "    user_item_matrix = pd.read_csv(f\"{base_dir}/input/data/user_item_matrix.csv\", dtype=np.float64)\n",
    "    \n",
    "    transformer = SimilarityTransformer(kind=args.kind, metric=args.metric)\n",
    "    similarity_matrix = transformer.transform(user_item_matrix)\n",
    "\n",
    "    similarity_matrix.to_csv(f\"{base_dir}/output/data/{args.kind}_similarity_matrix.csv\", header=True, index=False)"
   ]
  },
  {
   "cell_type": "code",
   "execution_count": 699,
   "metadata": {},
   "outputs": [
    {
     "name": "stdout",
     "output_type": "stream",
     "text": [
      "Overwriting pipelines/recommendations/code/item_recommender_train.py\n"
     ]
    }
   ],
   "source": [
    "%%writefile pipelines/recommendations/code/item_recommender_train.py\n",
    "\n"
   ]
  },
  {
   "cell_type": "code",
   "execution_count": 700,
   "metadata": {},
   "outputs": [
    {
     "name": "stderr",
     "output_type": "stream",
     "text": [
      "WARNING:sagemaker:Couldn't call 'get_role' to get Role ARN from role name pappa to get Role path.\n"
     ]
    },
    {
     "data": {
      "text/plain": [
       "'arn:aws:iam::477807511636:role/pipeliner'"
      ]
     },
     "execution_count": 700,
     "metadata": {},
     "output_type": "execute_result"
    }
   ],
   "source": [
    "import sagemaker\n",
    "import boto3\n",
    "\n",
    "try:\n",
    "    role = sagemaker.get_execution_role()\n",
    "except ValueError:\n",
    "    iam = boto3.client(\"iam\")\n",
    "    role = iam.get_role(RoleName=\"pipeliner\")[\"Role\"][\"Arn\"]\n",
    "\n",
    "role"
   ]
  },
  {
   "cell_type": "code",
   "execution_count": 701,
   "metadata": {},
   "outputs": [
    {
     "name": "stderr",
     "output_type": "stream",
     "text": [
      "INFO:botocore.credentials:Found credentials in shared credentials file: ~/.aws/credentials\n"
     ]
    }
   ],
   "source": [
    "session = LocalPipelineSession()\n",
    "session.config = {\"local\": {\"local_code\": True}}\n",
    "\n",
    "region = session.boto_region_name\n",
    "default_bucket = session.default_bucket()"
   ]
  },
  {
   "cell_type": "code",
   "execution_count": 702,
   "metadata": {},
   "outputs": [
    {
     "data": {
      "text/html": [
       "<div>\n",
       "<style scoped>\n",
       "    .dataframe tbody tr th:only-of-type {\n",
       "        vertical-align: middle;\n",
       "    }\n",
       "\n",
       "    .dataframe tbody tr th {\n",
       "        vertical-align: top;\n",
       "    }\n",
       "\n",
       "    .dataframe thead th {\n",
       "        text-align: right;\n",
       "    }\n",
       "</style>\n",
       "<table border=\"1\" class=\"dataframe\">\n",
       "  <thead>\n",
       "    <tr style=\"text-align: right;\">\n",
       "      <th></th>\n",
       "      <th>user_id</th>\n",
       "      <th>item_id</th>\n",
       "      <th>rating</th>\n",
       "    </tr>\n",
       "  </thead>\n",
       "  <tbody>\n",
       "    <tr>\n",
       "      <th>0</th>\n",
       "      <td>U1000</td>\n",
       "      <td>I1063</td>\n",
       "      <td>0.36</td>\n",
       "    </tr>\n",
       "    <tr>\n",
       "      <th>1</th>\n",
       "      <td>U1001</td>\n",
       "      <td>I1062</td>\n",
       "      <td>0.79</td>\n",
       "    </tr>\n",
       "    <tr>\n",
       "      <th>2</th>\n",
       "      <td>U1001</td>\n",
       "      <td>I1099</td>\n",
       "      <td>0.43</td>\n",
       "    </tr>\n",
       "    <tr>\n",
       "      <th>3</th>\n",
       "      <td>U1002</td>\n",
       "      <td>I1043</td>\n",
       "      <td>0.64</td>\n",
       "    </tr>\n",
       "    <tr>\n",
       "      <th>4</th>\n",
       "      <td>U1002</td>\n",
       "      <td>I1013</td>\n",
       "      <td>0.43</td>\n",
       "    </tr>\n",
       "  </tbody>\n",
       "</table>\n",
       "</div>"
      ],
      "text/plain": [
       "  user_id item_id  rating\n",
       "0   U1000   I1063    0.36\n",
       "1   U1001   I1062    0.79\n",
       "2   U1001   I1099    0.43\n",
       "3   U1002   I1043    0.64\n",
       "4   U1002   I1013    0.43"
      ]
     },
     "execution_count": 702,
     "metadata": {},
     "output_type": "execute_result"
    }
   ],
   "source": [
    "import pandas as pd\n",
    "import numpy as np\n",
    "\n",
    "ratings_data_path = \"../tests/test_data/user_item_ratings.csv\"\n",
    "data_types = {\"user_id\": str, \"item_id\": str, \"rating\": np.float64}\n",
    "\n",
    "user_item_ratings = pd.read_csv(ratings_data_path, dtype=data_types, engine='python')\n",
    "user_item_ratings.head(5)"
   ]
  },
  {
   "cell_type": "code",
   "execution_count": 703,
   "metadata": {},
   "outputs": [
    {
     "data": {
      "text/plain": [
       "'s3://sagemaker-eu-west-1-477807511636/recommendations/data/user_item_ratings.csv'"
      ]
     },
     "execution_count": 703,
     "metadata": {},
     "output_type": "execute_result"
    }
   ],
   "source": [
    "input_data_uri = sagemaker.s3.S3Uploader.upload(\n",
    "    local_path=ratings_data_path,\n",
    "    desired_s3_uri=f\"s3://{default_bucket}/recommendations/data\",\n",
    ")\n",
    "input_data_uri"
   ]
  },
  {
   "cell_type": "code",
   "execution_count": 704,
   "metadata": {},
   "outputs": [],
   "source": [
    "from sagemaker.workflow.pipeline_context import LocalPipelineSession\n",
    "import sagemaker\n",
    "from sagemaker import ScriptProcessor\n",
    "from sagemaker.workflow.pipeline_context import LocalPipelineSession\n",
    "from sagemaker.workflow.parameters import ParameterString\n",
    "from sagemaker.workflow.pipeline import Pipeline\n",
    "from sagemaker.sklearn.estimator import SKLearn\n",
    "from sagemaker.sklearn.processing import SKLearnProcessor\n",
    "from sagemaker.processing import ProcessingInput, ProcessingOutput\n",
    "from sagemaker.workflow.steps import CacheConfig, ProcessingStep, TrainingStep\n",
    "\n",
    "\n",
    "class RecommenderPipeline:\n",
    "    def create(\n",
    "        self,\n",
    "        role: str,\n",
    "        name: str,\n",
    "        session: sagemaker.Session,\n",
    "        framework_version = \"1.2-1\",\n",
    "    ) -> Pipeline:\n",
    "        self.local = isinstance(session, LocalPipelineSession)\n",
    "        self.framework_version = framework_version\n",
    "\n",
    "        instance_type = ParameterString(\n",
    "            name=\"InstanceType\",\n",
    "            default_value=\"local\" if self.local else \"ml.m5.large\",\n",
    "        )\n",
    "        \n",
    "        input_data = ParameterString(\n",
    "            name=\"user_item_ratings\",\n",
    "            default_value=input_data_uri,\n",
    "        )\n",
    "\n",
    "        image_uri = sagemaker.image_uris.retrieve(\n",
    "            framework=\"sklearn\",\n",
    "            region=session.boto_region_name,\n",
    "            version=\"1.2-1\",\n",
    "        )\n",
    "\n",
    "        cache_config = CacheConfig(\n",
    "            enable_caching=True,\n",
    "            expire_after=\"P30d\",  # 30 days\n",
    "        )\n",
    "\n",
    "        processor = SKLearnProcessor(\n",
    "            framework_version=framework_version,\n",
    "            instance_type=instance_type,\n",
    "            instance_count=1,\n",
    "            base_job_name=\"sklearn-preprocess\",\n",
    "            role=role,\n",
    "            sagemaker_session=session,\n",
    "        )\n",
    "\n",
    "        user_item_matrix_step = ProcessingStep(\n",
    "            name=\"user_item_matrix_transformer\",\n",
    "            step_args=processor.run(\n",
    "                inputs=[\n",
    "                    ProcessingInput(\n",
    "                        source=input_data, \n",
    "                        input_name=\"user_item_ratings\", \n",
    "                        destination=\"/opt/ml/processing/input/data\"),\n",
    "                ],\n",
    "                outputs=[\n",
    "                    ProcessingOutput(\n",
    "                        output_name=\"user_item_matrix\", \n",
    "                        source=\"/opt/ml/processing/output/data\"),\n",
    "                ],\n",
    "                code=\"pipelines/recommendations/code/user_item_matrix_transformer.py\",\n",
    "            ),\n",
    "        )\n",
    "\n",
    "        user_similarity_matrix_step = ProcessingStep(\n",
    "            name=\"user_similarity_matrix_transformer\",\n",
    "            step_args=processor.run(\n",
    "                inputs=[\n",
    "                    ProcessingInput(\n",
    "                        source=user_item_matrix_step.properties.ProcessingOutputConfig.Outputs[\"user_item_matrix\"].S3Output.S3Uri,\n",
    "                        input_name=\"user_item_matrix\",\n",
    "                        destination=\"/opt/ml/processing/input/data\"),\n",
    "                ],\n",
    "                outputs=[\n",
    "                    ProcessingOutput(\n",
    "                        output_name=\"user_similarity_matrix\", \n",
    "                        source=\"/opt/ml/processing/output/data\"),\n",
    "                ],\n",
    "                code=\"pipelines/recommendations/code/similarity_matrix_transformer.py\",\n",
    "            ),\n",
    "            job_arguments=[\"--kind\", \"user\"],\n",
    "        )\n",
    "\n",
    "        item_similarity_matrix_step = ProcessingStep(\n",
    "            name=\"item_similarity_matrix_transformer\",\n",
    "            step_args=processor.run(\n",
    "                inputs=[\n",
    "                    ProcessingInput(\n",
    "                        source=user_item_matrix_step.properties.ProcessingOutputConfig.Outputs[\"user_item_matrix\"].S3Output.S3Uri,\n",
    "                        input_name=\"user_item_matrix\",\n",
    "                        destination=\"/opt/ml/processing/input/data\"),\n",
    "                ],\n",
    "                outputs=[\n",
    "                    ProcessingOutput(\n",
    "                        output_name=\"item_similarity_matrix\", \n",
    "                        source=\"/opt/ml/processing/output/data\"),\n",
    "                ],\n",
    "                code=\"pipelines/recommendations/code/similarity_matrix_transformer.py\",\n",
    "            ),\n",
    "            job_arguments=[\"--kind\", \"item\"],\n",
    "        )\n",
    "\n",
    "        # sklearn_estimator = SKLearn(\n",
    "        #     entry_point=\"pipelines/recommendations/code/item_recommender_train.py\",\n",
    "        #     role=role,\n",
    "        #     image_uri=image_uri,\n",
    "        #     instance_type=instance_type,\n",
    "        #     sagemaker_session=session,\n",
    "        #     base_job_name=\"training_job\",\n",
    "        #     # hyperparameters=hyperparameters,\n",
    "        #     enable_sagemaker_metrics=True,\n",
    "        # )\n",
    "\n",
    "        # training_step = TrainingStep(\n",
    "        #     name=\"Train\", estimator=sklearn_estimator, cache_config=cache_config\n",
    "        # )\n",
    "\n",
    "        return Pipeline(\n",
    "            name=name,\n",
    "            # steps=[user_item_matrix_step, item_similarity_matrix_step, training_step],\n",
    "            steps=[\n",
    "                user_item_matrix_step, \n",
    "                user_similarity_matrix_step, \n",
    "                item_similarity_matrix_step\n",
    "            ],\n",
    "            sagemaker_session=session,\n",
    "            parameters=[input_data, instance_type],\n",
    "        )"
   ]
  },
  {
   "cell_type": "code",
   "execution_count": 705,
   "metadata": {},
   "outputs": [
    {
     "name": "stderr",
     "output_type": "stream",
     "text": [
      "INFO:sagemaker.image_uris:Defaulting to only available Python version: py3\n",
      "INFO:sagemaker.image_uris:Defaulting to only supported image scope: cpu.\n",
      "WARNING:sagemaker.workflow.utilities:The input argument instance_type of function (sagemaker.image_uris.retrieve) is a pipeline variable (<class 'sagemaker.workflow.parameters.ParameterString'>), which is interpreted in pipeline execution time only. As the function needs to evaluate the argument value in SDK compile time, the default_value of this Parameter object will be used to override it. Please make sure the default_value is valid.\n",
      "INFO:sagemaker.image_uris:Defaulting to only available Python version: py3\n",
      "/Users/robhill/miniconda3/envs/pipeliner/lib/python3.12/site-packages/sagemaker/workflow/pipeline_context.py:332: UserWarning: Running within a PipelineSession, there will be No Wait, No Logs, and No Job being started.\n",
      "  warnings.warn(\n"
     ]
    }
   ],
   "source": [
    "pipeline = RecommenderPipeline().create(role=role, name=\"recommender\", session=session)"
   ]
  },
  {
   "cell_type": "code",
   "execution_count": 706,
   "metadata": {},
   "outputs": [
    {
     "name": "stderr",
     "output_type": "stream",
     "text": [
      "WARNING:sagemaker.workflow.utilities:Popping out 'ProcessingJobName' from the pipeline definition by default since it will be overridden at pipeline execution time. Please utilize the PipelineDefinitionConfig to persist this field in the pipeline definition if desired.\n",
      "WARNING:sagemaker.workflow.utilities:Popping out 'ProcessingJobName' from the pipeline definition by default since it will be overridden at pipeline execution time. Please utilize the PipelineDefinitionConfig to persist this field in the pipeline definition if desired.\n",
      "WARNING:sagemaker.workflow.utilities:Popping out 'ProcessingJobName' from the pipeline definition by default since it will be overridden at pipeline execution time. Please utilize the PipelineDefinitionConfig to persist this field in the pipeline definition if desired.\n"
     ]
    },
    {
     "data": {
      "text/plain": [
       "{'Version': '2020-12-01',\n",
       " 'Metadata': {},\n",
       " 'Parameters': [{'Name': 'user_item_ratings',\n",
       "   'Type': 'String',\n",
       "   'DefaultValue': 's3://sagemaker-eu-west-1-477807511636/recommendations/data/user_item_ratings.csv'},\n",
       "  {'Name': 'InstanceType', 'Type': 'String', 'DefaultValue': 'local'}],\n",
       " 'PipelineExperimentConfig': {'ExperimentName': {'Get': 'Execution.PipelineName'},\n",
       "  'TrialName': {'Get': 'Execution.PipelineExecutionId'}},\n",
       " 'Steps': [{'Name': 'user_item_matrix_transformer',\n",
       "   'Type': 'Processing',\n",
       "   'Arguments': {'ProcessingResources': {'ClusterConfig': {'InstanceType': {'Get': 'Parameters.InstanceType'},\n",
       "      'InstanceCount': 1,\n",
       "      'VolumeSizeInGB': 30}},\n",
       "    'AppSpecification': {'ImageUri': '141502667606.dkr.ecr.eu-west-1.amazonaws.com/sagemaker-scikit-learn:1.2-1-cpu-py3',\n",
       "     'ContainerEntrypoint': ['python3',\n",
       "      '/opt/ml/processing/input/code/user_item_matrix_transformer.py']},\n",
       "    'RoleArn': 'arn:aws:iam::477807511636:role/pipeliner',\n",
       "    'ProcessingInputs': [{'InputName': 'user_item_ratings',\n",
       "      'AppManaged': False,\n",
       "      'S3Input': {'S3Uri': {'Get': 'Parameters.user_item_ratings'},\n",
       "       'LocalPath': '/opt/ml/processing/input/data',\n",
       "       'S3DataType': 'S3Prefix',\n",
       "       'S3InputMode': 'File',\n",
       "       'S3DataDistributionType': 'FullyReplicated',\n",
       "       'S3CompressionType': 'None'}},\n",
       "     {'InputName': 'code',\n",
       "      'AppManaged': False,\n",
       "      'S3Input': {'S3Uri': 's3://sagemaker-eu-west-1-477807511636/recommender/code/2e6ebc759978bf97fca21b87c6aa943e/user_item_matrix_transformer.py',\n",
       "       'LocalPath': '/opt/ml/processing/input/code',\n",
       "       'S3DataType': 'S3Prefix',\n",
       "       'S3InputMode': 'File',\n",
       "       'S3DataDistributionType': 'FullyReplicated',\n",
       "       'S3CompressionType': 'None'}}],\n",
       "    'ProcessingOutputConfig': {'Outputs': [{'OutputName': 'user_item_matrix',\n",
       "       'AppManaged': False,\n",
       "       'S3Output': {'S3Uri': {'Std:Join': {'On': '/',\n",
       "          'Values': ['s3:/',\n",
       "           'sagemaker-eu-west-1-477807511636',\n",
       "           'recommender',\n",
       "           {'Get': 'Execution.PipelineExecutionId'},\n",
       "           'user_item_matrix_transformer',\n",
       "           'output',\n",
       "           'user_item_matrix']}},\n",
       "        'LocalPath': '/opt/ml/processing/output/data',\n",
       "        'S3UploadMode': 'EndOfJob'}}]}}},\n",
       "  {'Name': 'user_similarity_matrix_transformer',\n",
       "   'Type': 'Processing',\n",
       "   'Arguments': {'ProcessingResources': {'ClusterConfig': {'InstanceType': {'Get': 'Parameters.InstanceType'},\n",
       "      'InstanceCount': 1,\n",
       "      'VolumeSizeInGB': 30}},\n",
       "    'AppSpecification': {'ImageUri': '141502667606.dkr.ecr.eu-west-1.amazonaws.com/sagemaker-scikit-learn:1.2-1-cpu-py3',\n",
       "     'ContainerEntrypoint': ['python3',\n",
       "      '/opt/ml/processing/input/code/similarity_matrix_transformer.py']},\n",
       "    'RoleArn': 'arn:aws:iam::477807511636:role/pipeliner',\n",
       "    'ProcessingInputs': [{'InputName': 'user_item_matrix',\n",
       "      'AppManaged': False,\n",
       "      'S3Input': {'S3Uri': {'Get': \"Steps.user_item_matrix_transformer.ProcessingOutputConfig.Outputs['user_item_matrix'].S3Output.S3Uri\"},\n",
       "       'LocalPath': '/opt/ml/processing/input/data',\n",
       "       'S3DataType': 'S3Prefix',\n",
       "       'S3InputMode': 'File',\n",
       "       'S3DataDistributionType': 'FullyReplicated',\n",
       "       'S3CompressionType': 'None'}},\n",
       "     {'InputName': 'code',\n",
       "      'AppManaged': False,\n",
       "      'S3Input': {'S3Uri': 's3://sagemaker-eu-west-1-477807511636/recommender/code/7470d28152664ee41adb2db8b930b3f7/similarity_matrix_transformer.py',\n",
       "       'LocalPath': '/opt/ml/processing/input/code',\n",
       "       'S3DataType': 'S3Prefix',\n",
       "       'S3InputMode': 'File',\n",
       "       'S3DataDistributionType': 'FullyReplicated',\n",
       "       'S3CompressionType': 'None'}}],\n",
       "    'ProcessingOutputConfig': {'Outputs': [{'OutputName': 'user_similarity_matrix',\n",
       "       'AppManaged': False,\n",
       "       'S3Output': {'S3Uri': {'Std:Join': {'On': '/',\n",
       "          'Values': ['s3:/',\n",
       "           'sagemaker-eu-west-1-477807511636',\n",
       "           'recommender',\n",
       "           {'Get': 'Execution.PipelineExecutionId'},\n",
       "           'user_similarity_matrix_transformer',\n",
       "           'output',\n",
       "           'user_similarity_matrix']}},\n",
       "        'LocalPath': '/opt/ml/processing/output/data',\n",
       "        'S3UploadMode': 'EndOfJob'}}]}}},\n",
       "  {'Name': 'item_similarity_matrix_transformer',\n",
       "   'Type': 'Processing',\n",
       "   'Arguments': {'ProcessingResources': {'ClusterConfig': {'InstanceType': {'Get': 'Parameters.InstanceType'},\n",
       "      'InstanceCount': 1,\n",
       "      'VolumeSizeInGB': 30}},\n",
       "    'AppSpecification': {'ImageUri': '141502667606.dkr.ecr.eu-west-1.amazonaws.com/sagemaker-scikit-learn:1.2-1-cpu-py3',\n",
       "     'ContainerEntrypoint': ['python3',\n",
       "      '/opt/ml/processing/input/code/similarity_matrix_transformer.py']},\n",
       "    'RoleArn': 'arn:aws:iam::477807511636:role/pipeliner',\n",
       "    'ProcessingInputs': [{'InputName': 'user_item_matrix',\n",
       "      'AppManaged': False,\n",
       "      'S3Input': {'S3Uri': {'Get': \"Steps.user_item_matrix_transformer.ProcessingOutputConfig.Outputs['user_item_matrix'].S3Output.S3Uri\"},\n",
       "       'LocalPath': '/opt/ml/processing/input/data',\n",
       "       'S3DataType': 'S3Prefix',\n",
       "       'S3InputMode': 'File',\n",
       "       'S3DataDistributionType': 'FullyReplicated',\n",
       "       'S3CompressionType': 'None'}},\n",
       "     {'InputName': 'code',\n",
       "      'AppManaged': False,\n",
       "      'S3Input': {'S3Uri': 's3://sagemaker-eu-west-1-477807511636/recommender/code/7470d28152664ee41adb2db8b930b3f7/similarity_matrix_transformer.py',\n",
       "       'LocalPath': '/opt/ml/processing/input/code',\n",
       "       'S3DataType': 'S3Prefix',\n",
       "       'S3InputMode': 'File',\n",
       "       'S3DataDistributionType': 'FullyReplicated',\n",
       "       'S3CompressionType': 'None'}}],\n",
       "    'ProcessingOutputConfig': {'Outputs': [{'OutputName': 'item_similarity_matrix',\n",
       "       'AppManaged': False,\n",
       "       'S3Output': {'S3Uri': {'Std:Join': {'On': '/',\n",
       "          'Values': ['s3:/',\n",
       "           'sagemaker-eu-west-1-477807511636',\n",
       "           'recommender',\n",
       "           {'Get': 'Execution.PipelineExecutionId'},\n",
       "           'item_similarity_matrix_transformer',\n",
       "           'output',\n",
       "           'item_similarity_matrix']}},\n",
       "        'LocalPath': '/opt/ml/processing/output/data',\n",
       "        'S3UploadMode': 'EndOfJob'}}]}}}]}"
      ]
     },
     "execution_count": 706,
     "metadata": {},
     "output_type": "execute_result"
    }
   ],
   "source": [
    "import json\n",
    "\n",
    "definition = json.loads(pipeline.definition())\n",
    "definition"
   ]
  },
  {
   "cell_type": "code",
   "execution_count": 707,
   "metadata": {},
   "outputs": [
    {
     "name": "stderr",
     "output_type": "stream",
     "text": [
      "INFO:sagemaker.telemetry.telemetry_logging:SageMaker Python SDK will collect telemetry to help us better understand our user's needs, diagnose issues, and deliver additional features.\n",
      "To opt out of telemetry, please disable via TelemetryOptOut parameter in SDK defaults config. For more information, refer to https://sagemaker.readthedocs.io/en/stable/overview.html#configuring-and-using-defaults-with-the-sagemaker-python-sdk.\n"
     ]
    },
    {
     "data": {
      "text/plain": [
       "{'PipelineArn': 'recommender'}"
      ]
     },
     "execution_count": 707,
     "metadata": {},
     "output_type": "execute_result"
    }
   ],
   "source": [
    "pipeline.upsert(role_arn=role)"
   ]
  },
  {
   "cell_type": "code",
   "execution_count": 708,
   "metadata": {},
   "outputs": [
    {
     "name": "stderr",
     "output_type": "stream",
     "text": [
      "WARNING:sagemaker.workflow.utilities:Popping out 'ProcessingJobName' from the pipeline definition by default since it will be overridden at pipeline execution time. Please utilize the PipelineDefinitionConfig to persist this field in the pipeline definition if desired.\n",
      "WARNING:sagemaker.workflow.utilities:Popping out 'ProcessingJobName' from the pipeline definition by default since it will be overridden at pipeline execution time. Please utilize the PipelineDefinitionConfig to persist this field in the pipeline definition if desired.\n",
      "WARNING:sagemaker.workflow.utilities:Popping out 'ProcessingJobName' from the pipeline definition by default since it will be overridden at pipeline execution time. Please utilize the PipelineDefinitionConfig to persist this field in the pipeline definition if desired.\n",
      "INFO:sagemaker.local.entities:Starting execution for pipeline recommender. Execution ID is 55497159-63ff-4182-a491-c3a80d9387db\n",
      "WARNING:sagemaker.workflow.utilities:Popping out 'ProcessingJobName' from the pipeline definition by default since it will be overridden at pipeline execution time. Please utilize the PipelineDefinitionConfig to persist this field in the pipeline definition if desired.\n",
      "WARNING:sagemaker.workflow.utilities:Popping out 'ProcessingJobName' from the pipeline definition by default since it will be overridden at pipeline execution time. Please utilize the PipelineDefinitionConfig to persist this field in the pipeline definition if desired.\n",
      "WARNING:sagemaker.workflow.utilities:Popping out 'ProcessingJobName' from the pipeline definition by default since it will be overridden at pipeline execution time. Please utilize the PipelineDefinitionConfig to persist this field in the pipeline definition if desired.\n",
      "INFO:sagemaker.local.entities:Starting pipeline step: 'user_item_matrix_transformer'\n",
      "INFO:sagemaker.telemetry.telemetry_logging:SageMaker Python SDK will collect telemetry to help us better understand our user's needs, diagnose issues, and deliver additional features.\n",
      "To opt out of telemetry, please disable via TelemetryOptOut parameter in SDK defaults config. For more information, refer to https://sagemaker.readthedocs.io/en/stable/overview.html#configuring-and-using-defaults-with-the-sagemaker-python-sdk.\n",
      "INFO:sagemaker.local.image:'Docker Compose' found using Docker CLI.\n",
      "INFO:sagemaker.local.local_session:Starting processing job\n",
      "INFO:sagemaker.local.image:Using the long-lived AWS credentials found in session\n",
      "INFO:sagemaker.local.image:docker compose file: \n",
      "networks:\n",
      "  sagemaker-local:\n",
      "    name: sagemaker-local\n",
      "services:\n",
      "  algo-1-zyuqd:\n",
      "    container_name: 2403kcscc9-algo-1-zyuqd\n",
      "    entrypoint:\n",
      "    - python3\n",
      "    - /opt/ml/processing/input/code/user_item_matrix_transformer.py\n",
      "    environment:\n",
      "    - '[Masked]'\n",
      "    - '[Masked]'\n",
      "    image: 141502667606.dkr.ecr.eu-west-1.amazonaws.com/sagemaker-scikit-learn:1.2-1-cpu-py3\n",
      "    networks:\n",
      "      sagemaker-local:\n",
      "        aliases:\n",
      "        - algo-1-zyuqd\n",
      "    stdin_open: true\n",
      "    tty: true\n",
      "    volumes:\n",
      "    - /private/var/folders/w1/813808f13m14dv7gd5ystxbc0000gn/T/tmpt8p5zqi_/algo-1-zyuqd/output:/opt/ml/output\n",
      "    - /private/var/folders/w1/813808f13m14dv7gd5ystxbc0000gn/T/tmpt8p5zqi_/algo-1-zyuqd/config:/opt/ml/config\n",
      "    - /private/var/folders/w1/813808f13m14dv7gd5ystxbc0000gn/T/tmpwwq4nnu4:/opt/ml/processing/input/data\n",
      "    - /private/var/folders/w1/813808f13m14dv7gd5ystxbc0000gn/T/tmpyslycn5i:/opt/ml/processing/input/code\n",
      "    - /private/var/folders/w1/813808f13m14dv7gd5ystxbc0000gn/T/tmpj9p_qvyr/output/user_item_matrix:/opt/ml/processing/output/data\n",
      "    - /private/var/folders/w1/813808f13m14dv7gd5ystxbc0000gn/T/tmpt8p5zqi_/shared:/opt/ml/shared\n",
      "version: '2.3'\n",
      "\n",
      "INFO:sagemaker.local.image:docker command: docker compose -f /private/var/folders/w1/813808f13m14dv7gd5ystxbc0000gn/T/tmpt8p5zqi_/docker-compose.yaml up --build --abort-on-container-exit\n"
     ]
    },
    {
     "name": "stdout",
     "output_type": "stream",
     "text": [
      "time=\"2024-07-24T20:16:26+01:00\" level=warning msg=\"/private/var/folders/w1/813808f13m14dv7gd5ystxbc0000gn/T/tmpt8p5zqi_/docker-compose.yaml: `version` is obsolete\"\n",
      "time=\"2024-07-24T20:16:26+01:00\" level=warning msg=\"a network with name sagemaker-local exists but was not created for project \\\"tmpt8p5zqi_\\\".\\nSet `external: true` to use an existing network\"\n",
      " Container 2403kcscc9-algo-1-zyuqd  Creating\n",
      " Container 2403kcscc9-algo-1-zyuqd  Created\n",
      "Attaching to 2403kcscc9-algo-1-zyuqd\n",
      "2403kcscc9-algo-1-zyuqd  | INFO:root:['output', 'input']\n",
      "2403kcscc9-algo-1-zyuqd  | INFO:root:['data', 'code']\n"
     ]
    },
    {
     "name": "stderr",
     "output_type": "stream",
     "text": [
      "INFO:sagemaker.local.image:===== Job Complete =====\n"
     ]
    },
    {
     "name": "stdout",
     "output_type": "stream",
     "text": [
      "\u001b[K2403kcscc9-algo-1-zyuqd exited with code 0\n",
      "Aborting on container exit...\n",
      " Container 2403kcscc9-algo-1-zyuqd  Stopping\n",
      " Container 2403kcscc9-algo-1-zyuqd  Stopped\n"
     ]
    },
    {
     "name": "stderr",
     "output_type": "stream",
     "text": [
      "INFO:sagemaker.local.entities:Pipeline step 'user_item_matrix_transformer' SUCCEEDED.\n",
      "INFO:sagemaker.local.entities:Starting pipeline step: 'item_similarity_matrix_transformer'\n",
      "INFO:sagemaker.telemetry.telemetry_logging:SageMaker Python SDK will collect telemetry to help us better understand our user's needs, diagnose issues, and deliver additional features.\n",
      "To opt out of telemetry, please disable via TelemetryOptOut parameter in SDK defaults config. For more information, refer to https://sagemaker.readthedocs.io/en/stable/overview.html#configuring-and-using-defaults-with-the-sagemaker-python-sdk.\n",
      "INFO:sagemaker.local.image:'Docker Compose' found using Docker CLI.\n",
      "INFO:sagemaker.local.local_session:Starting processing job\n",
      "INFO:sagemaker.local.image:Using the long-lived AWS credentials found in session\n",
      "INFO:sagemaker.local.image:docker compose file: \n",
      "networks:\n",
      "  sagemaker-local:\n",
      "    name: sagemaker-local\n",
      "services:\n",
      "  algo-1-n17pa:\n",
      "    container_name: p8n4w63qi7-algo-1-n17pa\n",
      "    entrypoint:\n",
      "    - python3\n",
      "    - /opt/ml/processing/input/code/similarity_matrix_transformer.py\n",
      "    environment:\n",
      "    - '[Masked]'\n",
      "    - '[Masked]'\n",
      "    image: 141502667606.dkr.ecr.eu-west-1.amazonaws.com/sagemaker-scikit-learn:1.2-1-cpu-py3\n",
      "    networks:\n",
      "      sagemaker-local:\n",
      "        aliases:\n",
      "        - algo-1-n17pa\n",
      "    stdin_open: true\n",
      "    tty: true\n",
      "    volumes:\n",
      "    - /private/var/folders/w1/813808f13m14dv7gd5ystxbc0000gn/T/tmpwq1pqmiz/algo-1-n17pa/output:/opt/ml/output\n",
      "    - /private/var/folders/w1/813808f13m14dv7gd5ystxbc0000gn/T/tmpwq1pqmiz/algo-1-n17pa/config:/opt/ml/config\n",
      "    - /private/var/folders/w1/813808f13m14dv7gd5ystxbc0000gn/T/tmp5er5j7uj:/opt/ml/processing/input/data\n",
      "    - /private/var/folders/w1/813808f13m14dv7gd5ystxbc0000gn/T/tmpp1jfc448:/opt/ml/processing/input/code\n",
      "    - /private/var/folders/w1/813808f13m14dv7gd5ystxbc0000gn/T/tmpiu4454ih/output/item_similarity_matrix:/opt/ml/processing/output/data\n",
      "    - /private/var/folders/w1/813808f13m14dv7gd5ystxbc0000gn/T/tmpwq1pqmiz/shared:/opt/ml/shared\n",
      "version: '2.3'\n",
      "\n",
      "INFO:sagemaker.local.image:docker command: docker compose -f /private/var/folders/w1/813808f13m14dv7gd5ystxbc0000gn/T/tmpwq1pqmiz/docker-compose.yaml up --build --abort-on-container-exit\n"
     ]
    },
    {
     "name": "stdout",
     "output_type": "stream",
     "text": [
      "time=\"2024-07-24T20:16:29+01:00\" level=warning msg=\"/private/var/folders/w1/813808f13m14dv7gd5ystxbc0000gn/T/tmpwq1pqmiz/docker-compose.yaml: `version` is obsolete\"\n",
      "time=\"2024-07-24T20:16:29+01:00\" level=warning msg=\"a network with name sagemaker-local exists but was not created for project \\\"tmpwq1pqmiz\\\".\\nSet `external: true` to use an existing network\"\n",
      " Container p8n4w63qi7-algo-1-n17pa  Creating\n",
      " Container p8n4w63qi7-algo-1-n17pa  Created\n",
      "Attaching to p8n4w63qi7-algo-1-n17pa\n"
     ]
    },
    {
     "name": "stderr",
     "output_type": "stream",
     "text": [
      "INFO:sagemaker.local.image:===== Job Complete =====\n"
     ]
    },
    {
     "name": "stdout",
     "output_type": "stream",
     "text": [
      "\u001b[Kp8n4w63qi7-algo-1-n17pa exited with code 0\n",
      "Aborting on container exit...\n",
      " Container p8n4w63qi7-algo-1-n17pa  Stopping\n",
      " Container p8n4w63qi7-algo-1-n17pa  Stopped\n"
     ]
    },
    {
     "name": "stderr",
     "output_type": "stream",
     "text": [
      "INFO:sagemaker.local.entities:Pipeline step 'item_similarity_matrix_transformer' SUCCEEDED.\n",
      "INFO:sagemaker.local.entities:Starting pipeline step: 'user_similarity_matrix_transformer'\n",
      "INFO:sagemaker.telemetry.telemetry_logging:SageMaker Python SDK will collect telemetry to help us better understand our user's needs, diagnose issues, and deliver additional features.\n",
      "To opt out of telemetry, please disable via TelemetryOptOut parameter in SDK defaults config. For more information, refer to https://sagemaker.readthedocs.io/en/stable/overview.html#configuring-and-using-defaults-with-the-sagemaker-python-sdk.\n",
      "INFO:sagemaker.local.image:'Docker Compose' found using Docker CLI.\n",
      "INFO:sagemaker.local.local_session:Starting processing job\n",
      "INFO:sagemaker.local.image:Using the long-lived AWS credentials found in session\n",
      "INFO:sagemaker.local.image:docker compose file: \n",
      "networks:\n",
      "  sagemaker-local:\n",
      "    name: sagemaker-local\n",
      "services:\n",
      "  algo-1-t1gzp:\n",
      "    container_name: jw67adc1ir-algo-1-t1gzp\n",
      "    entrypoint:\n",
      "    - python3\n",
      "    - /opt/ml/processing/input/code/similarity_matrix_transformer.py\n",
      "    environment:\n",
      "    - '[Masked]'\n",
      "    - '[Masked]'\n",
      "    image: 141502667606.dkr.ecr.eu-west-1.amazonaws.com/sagemaker-scikit-learn:1.2-1-cpu-py3\n",
      "    networks:\n",
      "      sagemaker-local:\n",
      "        aliases:\n",
      "        - algo-1-t1gzp\n",
      "    stdin_open: true\n",
      "    tty: true\n",
      "    volumes:\n",
      "    - /private/var/folders/w1/813808f13m14dv7gd5ystxbc0000gn/T/tmp0uopatez/algo-1-t1gzp/output:/opt/ml/output\n",
      "    - /private/var/folders/w1/813808f13m14dv7gd5ystxbc0000gn/T/tmp0uopatez/algo-1-t1gzp/config:/opt/ml/config\n",
      "    - /private/var/folders/w1/813808f13m14dv7gd5ystxbc0000gn/T/tmpz30xtm6z:/opt/ml/processing/input/data\n",
      "    - /private/var/folders/w1/813808f13m14dv7gd5ystxbc0000gn/T/tmpr5b7qf7s:/opt/ml/processing/input/code\n",
      "    - /private/var/folders/w1/813808f13m14dv7gd5ystxbc0000gn/T/tmpr5raddwl/output/user_similarity_matrix:/opt/ml/processing/output/data\n",
      "    - /private/var/folders/w1/813808f13m14dv7gd5ystxbc0000gn/T/tmp0uopatez/shared:/opt/ml/shared\n",
      "version: '2.3'\n",
      "\n",
      "INFO:sagemaker.local.image:docker command: docker compose -f /private/var/folders/w1/813808f13m14dv7gd5ystxbc0000gn/T/tmp0uopatez/docker-compose.yaml up --build --abort-on-container-exit\n"
     ]
    },
    {
     "name": "stdout",
     "output_type": "stream",
     "text": [
      "time=\"2024-07-24T20:16:33+01:00\" level=warning msg=\"/private/var/folders/w1/813808f13m14dv7gd5ystxbc0000gn/T/tmp0uopatez/docker-compose.yaml: `version` is obsolete\"\n",
      "time=\"2024-07-24T20:16:33+01:00\" level=warning msg=\"a network with name sagemaker-local exists but was not created for project \\\"tmp0uopatez\\\".\\nSet `external: true` to use an existing network\"\n",
      " Container jw67adc1ir-algo-1-t1gzp  Creating\n",
      " Container jw67adc1ir-algo-1-t1gzp  Created\n",
      "Attaching to jw67adc1ir-algo-1-t1gzp\n"
     ]
    },
    {
     "name": "stderr",
     "output_type": "stream",
     "text": [
      "INFO:sagemaker.local.image:===== Job Complete =====\n"
     ]
    },
    {
     "name": "stdout",
     "output_type": "stream",
     "text": [
      "\u001b[Kjw67adc1ir-algo-1-t1gzp exited with code 0\n",
      "Aborting on container exit...\n",
      " Container jw67adc1ir-algo-1-t1gzp  Stopping\n",
      " Container jw67adc1ir-algo-1-t1gzp  Stopped\n"
     ]
    },
    {
     "name": "stderr",
     "output_type": "stream",
     "text": [
      "INFO:sagemaker.local.entities:Pipeline step 'user_similarity_matrix_transformer' SUCCEEDED.\n",
      "INFO:sagemaker.local.entities:Pipeline execution 55497159-63ff-4182-a491-c3a80d9387db SUCCEEDED\n"
     ]
    }
   ],
   "source": [
    "execution = pipeline.start()"
   ]
  },
  {
   "cell_type": "code",
   "execution_count": 709,
   "metadata": {},
   "outputs": [
    {
     "data": {
      "text/plain": [
       "{'PipelineExecutionSteps': [{'EndTime': 1721848588.968956,\n",
       "   'Metadata': {'ProcessingJob': {'Arn': 'user_item_matrix_transformer-1721848585-2b7b'}},\n",
       "   'StartTime': 1721848585.223544,\n",
       "   'StepName': 'user_item_matrix_transformer',\n",
       "   'StepStatus': 'Succeeded'},\n",
       "  {'EndTime': 1721848596.133906,\n",
       "   'Metadata': {'ProcessingJob': {'Arn': 'user_similarity_matrix_transformer-1721848592-3dc1'}},\n",
       "   'StartTime': 1721848592.548224,\n",
       "   'StepName': 'user_similarity_matrix_transformer',\n",
       "   'StepStatus': 'Succeeded'},\n",
       "  {'EndTime': 1721848592.546102,\n",
       "   'Metadata': {'ProcessingJob': {'Arn': 'item_similarity_matrix_transformer-1721848588-3b85'}},\n",
       "   'StartTime': 1721848588.971316,\n",
       "   'StepName': 'item_similarity_matrix_transformer',\n",
       "   'StepStatus': 'Succeeded'}]}"
      ]
     },
     "execution_count": 709,
     "metadata": {},
     "output_type": "execute_result"
    }
   ],
   "source": [
    "steps = execution.list_steps()\n",
    "steps"
   ]
  }
 ],
 "metadata": {
  "kernelspec": {
   "display_name": "Python 3 (ipykernel)",
   "language": "python",
   "name": "python3"
  },
  "language_info": {
   "codemirror_mode": {
    "name": "ipython",
    "version": 3
   },
   "file_extension": ".py",
   "mimetype": "text/x-python",
   "name": "python",
   "nbconvert_exporter": "python",
   "pygments_lexer": "ipython3",
   "version": "3.12.4"
  }
 },
 "nbformat": 4,
 "nbformat_minor": 4
}
