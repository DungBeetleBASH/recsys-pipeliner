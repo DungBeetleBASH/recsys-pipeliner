{
 "cells": [
  {
   "cell_type": "code",
   "execution_count": 457,
   "metadata": {},
   "outputs": [
    {
     "name": "stdout",
     "output_type": "stream",
     "text": [
      "The autoreload extension is already loaded. To reload it, use:\n",
      "  %reload_ext autoreload\n"
     ]
    }
   ],
   "source": [
    "%load_ext autoreload\n",
    "%autoreload 1"
   ]
  },
  {
   "cell_type": "code",
   "execution_count": 458,
   "metadata": {},
   "outputs": [
    {
     "name": "stdout",
     "output_type": "stream",
     "text": [
      "Note: you may need to restart the kernel to use updated packages.\n"
     ]
    }
   ],
   "source": [
    "%pip install -e ../ --quiet"
   ]
  },
  {
   "cell_type": "markdown",
   "metadata": {},
   "source": [
    "Log into Docker registry with ECR credentials"
   ]
  },
  {
   "cell_type": "code",
   "execution_count": 459,
   "metadata": {},
   "outputs": [
    {
     "name": "stdout",
     "output_type": "stream",
     "text": [
      "Login Succeeded\n"
     ]
    }
   ],
   "source": [
    "!aws ecr get-login-password --region eu-west-1 | docker login --username AWS --password-stdin 141502667606.dkr.ecr.eu-west-1.amazonaws.com"
   ]
  },
  {
   "cell_type": "code",
   "execution_count": 460,
   "metadata": {},
   "outputs": [],
   "source": [
    "!mkdir -p pipelines/recommendations/code"
   ]
  },
  {
   "cell_type": "code",
   "execution_count": 461,
   "metadata": {},
   "outputs": [],
   "source": [
    "import os\n",
    "import sys\n",
    "\n",
    "module_path = os.path.abspath(os.path.join(\"..\"))\n",
    "if module_path not in sys.path:\n",
    "    sys.path.append(module_path)"
   ]
  },
  {
   "cell_type": "code",
   "execution_count": 462,
   "metadata": {},
   "outputs": [
    {
     "name": "stdout",
     "output_type": "stream",
     "text": [
      "Overwriting pipelines/recommendations/code/user_item_matrix_transformer.py\n"
     ]
    }
   ],
   "source": [
    "%%writefile pipelines/recommendations/code/user_item_matrix_transformer.py\n",
    "\n",
    "import numpy as np\n",
    "import pandas as pd\n",
    "import logging\n",
    "import os\n",
    "from sklearn.base import BaseEstimator, TransformerMixin\n",
    "from sklearn.metrics.pairwise import cosine_similarity\n",
    "\n",
    "logging.basicConfig(level=logging.INFO)\n",
    "\n",
    "\n",
    "class UserItemMatrixTransformer(TransformerMixin, BaseEstimator):\n",
    "    \"\"\"\n",
    "    This class is a custom scikit-learn transformer\n",
    "    that accepts a pandas dataframe of user/item interactions\n",
    "    and returns a user/item matrix.\n",
    "\n",
    "    :param user (str): Column name for user id\n",
    "    :param item (str): Column name for item id\n",
    "    :param rating (float): Column name for user/item rating\n",
    "    :param agg (str): Panadas aggregation function to use when combining duplicate user/item interactions\n",
    "    :param binary (bool): If True, user/item interactions are converted to binary values in the user/item output matrix\n",
    "    \"\"\"\n",
    "\n",
    "    def __init__(\n",
    "        self, user=\"user_id\", item=\"item_id\", rating=\"rating\", agg=\"max\", binary=False\n",
    "    ):\n",
    "        self.user = user\n",
    "        self.item = item\n",
    "        self.rating = rating\n",
    "        self.agg = agg\n",
    "        self.binary = binary\n",
    "\n",
    "    def fit(self, X, y=None):\n",
    "        return self\n",
    "\n",
    "    def transform(self, X: pd.DataFrame):\n",
    "        matrix = X.groupby([self.user, self.item])[self.rating].agg(self.agg).unstack()\n",
    "        if self.binary:\n",
    "            return matrix.notnull().astype(int)\n",
    "        else:\n",
    "            return matrix.fillna(0)\n",
    "\n",
    "\n",
    "if __name__ == \"__main__\":\n",
    "    base_dir = \"/opt/ml/processing\"\n",
    "    input_file = \"test_user_item_ratings.csv\"\n",
    "    output_file = \"user_item_matrix.csv\"\n",
    "    data_types = {\"user_id\": str, \"item_id\": str, \"rating\": np.float64}\n",
    "\n",
    "    logging.info(os.listdir(base_dir))\n",
    "    logging.info(os.listdir(base_dir + \"/input\"))\n",
    "\n",
    "    user_item_ratings = pd.read_csv(f\"{base_dir}/{input_file}\", dtype=data_types, engine='python')\n",
    "    transformer = UserItemMatrixTransformer()\n",
    "    user_item_matrix = transformer.transform(user_item_ratings)\n",
    "\n",
    "    user_item_matrix.to_csv(f\"{base_dir}/{output_file}\", header=True, index=False)"
   ]
  },
  {
   "cell_type": "code",
   "execution_count": 463,
   "metadata": {},
   "outputs": [
    {
     "name": "stdout",
     "output_type": "stream",
     "text": [
      "Overwriting pipelines/recommendations/code/similarity_matrix_transformer.py\n"
     ]
    }
   ],
   "source": [
    "%%writefile pipelines/recommendations/code/similarity_matrix_transformer.py\n",
    "\n",
    "import numpy as np\n",
    "import pandas as pd\n",
    "from sklearn.base import BaseEstimator, TransformerMixin\n",
    "from sklearn.metrics.pairwise import cosine_similarity\n",
    "import argparse\n",
    "\n",
    "class SimilarityTransformer(TransformerMixin, BaseEstimator):\n",
    "    \"\"\"\n",
    "    This class is a custom scikit-learn transformer\n",
    "    that accepts a user/item matrix where user ids are\n",
    "    the index and item ids are the columns and returns\n",
    "    a similarity matrix. It can be used to calculate\n",
    "    user-user or item-item similarity.\n",
    "    \"\"\"\n",
    "\n",
    "    def __init__(self, kind=\"user\", metric=\"cosine\", normalise=False):\n",
    "        if kind not in [\"user\", \"item\"]:\n",
    "            raise ValueError(\"kind must be 'user' or 'item'\")\n",
    "        if metric not in [\"cosine\", \"dot\", \"euclidean\"]:\n",
    "            raise ValueError(\"metric must be 'cosine', 'dot', or 'euclidean'\")\n",
    "        self.kind = kind\n",
    "        self.metric = metric\n",
    "        self.normalise = normalise\n",
    "\n",
    "    def fit(self, X, y=None):\n",
    "        return self\n",
    "\n",
    "    def transform(self, X: pd.DataFrame):\n",
    "        matrix = X\n",
    "        if self.kind == \"item\":\n",
    "            matrix = X.T\n",
    "\n",
    "        if self.metric == \"cosine\":\n",
    "            df = pd.DataFrame(\n",
    "                cosine_similarity(matrix), index=matrix.index, columns=matrix.index\n",
    "            )\n",
    "        else:\n",
    "            raise NotImplementedError(\"Only cosine similarity is currently supported\")\n",
    "\n",
    "        if self.normalise:\n",
    "            df = (df - df.min()) / (df.max() - df.min())\n",
    "\n",
    "        return df\n",
    "\n",
    "\n",
    "\n",
    "parser = argparse.ArgumentParser()\n",
    "parser.add_argument(\"--kind\", type=str, default=\"user\")\n",
    "parser.add_argument(\"--metric\", type=str, default=\"cosine\")\n",
    "args = parser.parse_args()\n",
    "\n",
    "if __name__ == \"__main__\":\n",
    "    base_dir = \"/opt/ml/processing\"\n",
    "    input_file = \"user_item_matrix.csv\"\n",
    "    output_file = f\"{args.kind}_similarity_matrix.csv\"\n",
    "\n",
    "    user_item_matrix = pd.read_csv(f\"{base_dir}/{input_file}\", dtype=np.float64)\n",
    "    transformer = SimilarityTransformer(kind=args.kind, metric=args.metric)\n",
    "    similarity_matrix = transformer.transform(user_item_matrix)\n",
    "\n",
    "    similarity_matrix.to_csv(f\"{base_dir}/{output_file}\", header=True, index=False)"
   ]
  },
  {
   "cell_type": "code",
   "execution_count": 464,
   "metadata": {},
   "outputs": [
    {
     "name": "stdout",
     "output_type": "stream",
     "text": [
      "Overwriting pipelines/recommendations/code/item_recommender_train.py\n"
     ]
    }
   ],
   "source": [
    "%%writefile pipelines/recommendations/code/item_recommender_train.py\n",
    "\n"
   ]
  },
  {
   "cell_type": "code",
   "execution_count": 465,
   "metadata": {},
   "outputs": [
    {
     "name": "stderr",
     "output_type": "stream",
     "text": [
      "WARNING:sagemaker:Couldn't call 'get_role' to get Role ARN from role name pappa to get Role path.\n"
     ]
    },
    {
     "data": {
      "text/plain": [
       "'arn:aws:iam::477807511636:role/pipeliner'"
      ]
     },
     "execution_count": 465,
     "metadata": {},
     "output_type": "execute_result"
    }
   ],
   "source": [
    "import sagemaker\n",
    "import boto3\n",
    "\n",
    "try:\n",
    "    role = sagemaker.get_execution_role()\n",
    "except ValueError:\n",
    "    iam = boto3.client(\"iam\")\n",
    "    role = iam.get_role(RoleName=\"pipeliner\")[\"Role\"][\"Arn\"]\n",
    "\n",
    "role"
   ]
  },
  {
   "cell_type": "code",
   "execution_count": 466,
   "metadata": {},
   "outputs": [
    {
     "name": "stderr",
     "output_type": "stream",
     "text": [
      "INFO:botocore.credentials:Found credentials in shared credentials file: ~/.aws/credentials\n"
     ]
    }
   ],
   "source": [
    "session = LocalPipelineSession()\n",
    "session.config = {\"local\": {\"local_code\": True}}\n",
    "\n",
    "region = session.boto_region_name\n",
    "default_bucket = session.default_bucket()\n",
    "prefix = \"recommendations\"\n",
    "base_uri = f\"s3://{default_bucket}/{prefix}/user_item\"\n",
    "\n"
   ]
  },
  {
   "cell_type": "code",
   "execution_count": 467,
   "metadata": {},
   "outputs": [
    {
     "data": {
      "text/plain": [
       "'s3://sagemaker-eu-west-1-477807511636/recommendations/user_item/test_user_item_ratings.csv'"
      ]
     },
     "execution_count": 467,
     "metadata": {},
     "output_type": "execute_result"
    }
   ],
   "source": [
    "ratings_data_path = \"../tests/test_data/test_user_item_ratings.csv\"\n",
    "\n",
    "input_data_uri = sagemaker.s3.S3Uploader.upload(\n",
    "    local_path=ratings_data_path,\n",
    "    desired_s3_uri=base_uri,\n",
    ")\n",
    "input_data_uri"
   ]
  },
  {
   "cell_type": "code",
   "execution_count": 468,
   "metadata": {},
   "outputs": [],
   "source": [
    "from sagemaker.workflow.pipeline_context import LocalPipelineSession\n",
    "import sagemaker\n",
    "from sagemaker import ScriptProcessor\n",
    "from sagemaker.workflow.pipeline_context import LocalPipelineSession\n",
    "from sagemaker.workflow.parameters import ParameterString\n",
    "from sagemaker.workflow.pipeline import Pipeline\n",
    "from sagemaker.sklearn.estimator import SKLearn\n",
    "from sagemaker.sklearn.processing import SKLearnProcessor\n",
    "from sagemaker.processing import ProcessingInput, ProcessingOutput\n",
    "from sagemaker.workflow.steps import CacheConfig, ProcessingStep, TrainingStep\n",
    "\n",
    "\n",
    "class RecommenderPipeline:\n",
    "    def create(\n",
    "        self,\n",
    "        role: str,\n",
    "        name: str,\n",
    "        session: sagemaker.Session,\n",
    "        framework_version = \"1.2-1\",\n",
    "    ) -> Pipeline:\n",
    "        self.local = isinstance(session, LocalPipelineSession)\n",
    "        self.framework_version = framework_version\n",
    "\n",
    "        instance_type = ParameterString(\n",
    "            name=\"InstanceType\",\n",
    "            default_value=\"local\" if self.local else \"ml.m5.large\",\n",
    "        )\n",
    "        \n",
    "        input_data = ParameterString(\n",
    "            name=\"user_item_ratings\",\n",
    "            default_value=input_data_uri,\n",
    "        )\n",
    "\n",
    "        image_uri = sagemaker.image_uris.retrieve(\n",
    "            framework=\"sklearn\",\n",
    "            region=session.boto_region_name,\n",
    "            version=\"1.2-1\",\n",
    "        )\n",
    "\n",
    "        cache_config = CacheConfig(\n",
    "            enable_caching=True,\n",
    "            expire_after=\"P30d\",  # 30 days\n",
    "        )\n",
    "\n",
    "        processor = SKLearnProcessor(\n",
    "            framework_version=framework_version,\n",
    "            instance_type=instance_type,\n",
    "            instance_count=1,\n",
    "            base_job_name=\"sklearn-preprocess\",\n",
    "            role=role,\n",
    "            sagemaker_session=session,\n",
    "        )\n",
    "\n",
    "        user_item_matrix_step = ProcessingStep(\n",
    "            name=\"user_item_matrix_transformer\",\n",
    "            step_args=processor.run(\n",
    "                inputs=[\n",
    "                    ProcessingInput(source=input_data, input_name=\"user_item_ratings\", destination=\"/opt/ml/processing\"),\n",
    "                ],\n",
    "                outputs=[\n",
    "                    ProcessingOutput(output_name=\"user_item_matrix\", source=\"/opt/ml/processing\"),\n",
    "                ],\n",
    "                code=\"pipelines/recommendations/code/user_item_matrix_transformer.py\",\n",
    "            ),\n",
    "        )\n",
    "\n",
    "        user_similarity_matrix_step = ProcessingStep(\n",
    "            name=\"user_similarity_matrix_transformer\",\n",
    "            step_args=processor.run(\n",
    "                inputs=[\n",
    "                    ProcessingInput(\n",
    "                        source=user_item_matrix_step.properties.ProcessingOutputConfig.Outputs[\"user_item_matrix\"].S3Output.S3Uri,\n",
    "                        destination=\"/opt/ml/processing\"),\n",
    "                ],\n",
    "                outputs=[\n",
    "                    ProcessingOutput(output_name=\"user_similarity_matrix\", source=\"/opt/ml/processing\"),\n",
    "                ],\n",
    "                code=\"pipelines/recommendations/code/similarity_matrix_transformer.py\",\n",
    "            ),\n",
    "            job_arguments=[\"--kind\", \"user\"],\n",
    "        )\n",
    "\n",
    "        item_similarity_matrix_step = ProcessingStep(\n",
    "            name=\"item_similarity_matrix_transformer\",\n",
    "            step_args=processor.run(\n",
    "                inputs=[\n",
    "                    ProcessingInput(\n",
    "                        source=user_item_matrix_step.properties.ProcessingOutputConfig.Outputs[\"user_item_matrix\"].S3Output.S3Uri,\n",
    "                        destination=\"/opt/ml/processing\"),\n",
    "                ],\n",
    "                outputs=[\n",
    "                    ProcessingOutput(output_name=\"item_similarity_matrix\", source=\"/opt/ml/processing\"),\n",
    "                ],\n",
    "                code=\"pipelines/recommendations/code/similarity_matrix_transformer.py\",\n",
    "            ),\n",
    "            job_arguments=[\"--kind\", \"item\"],\n",
    "        )\n",
    "\n",
    "        # sklearn_estimator = SKLearn(\n",
    "        #     entry_point=\"pipelines/recommendations/code/item_recommender_train.py\",\n",
    "        #     role=role,\n",
    "        #     image_uri=image_uri,\n",
    "        #     instance_type=instance_type,\n",
    "        #     sagemaker_session=session,\n",
    "        #     base_job_name=\"training_job\",\n",
    "        #     # hyperparameters=hyperparameters,\n",
    "        #     enable_sagemaker_metrics=True,\n",
    "        # )\n",
    "\n",
    "        # training_step = TrainingStep(\n",
    "        #     name=\"Train\", estimator=sklearn_estimator, cache_config=cache_config\n",
    "        # )\n",
    "\n",
    "        return Pipeline(\n",
    "            name=name,\n",
    "            # steps=[user_item_matrix_step, item_similarity_matrix_step, training_step],\n",
    "            steps=[\n",
    "                user_item_matrix_step, \n",
    "                user_similarity_matrix_step, \n",
    "                item_similarity_matrix_step\n",
    "            ],\n",
    "            sagemaker_session=session,\n",
    "            parameters=[input_data, instance_type],\n",
    "        )"
   ]
  },
  {
   "cell_type": "code",
   "execution_count": 469,
   "metadata": {},
   "outputs": [
    {
     "name": "stderr",
     "output_type": "stream",
     "text": [
      "INFO:sagemaker.image_uris:Defaulting to only available Python version: py3\n",
      "INFO:sagemaker.image_uris:Defaulting to only supported image scope: cpu.\n",
      "WARNING:sagemaker.workflow.utilities:The input argument instance_type of function (sagemaker.image_uris.retrieve) is a pipeline variable (<class 'sagemaker.workflow.parameters.ParameterString'>), which is interpreted in pipeline execution time only. As the function needs to evaluate the argument value in SDK compile time, the default_value of this Parameter object will be used to override it. Please make sure the default_value is valid.\n",
      "INFO:sagemaker.image_uris:Defaulting to only available Python version: py3\n"
     ]
    }
   ],
   "source": [
    "pipeline = RecommenderPipeline().create(role=role, name=\"recommender\", session=session)"
   ]
  },
  {
   "cell_type": "code",
   "execution_count": 470,
   "metadata": {},
   "outputs": [
    {
     "name": "stderr",
     "output_type": "stream",
     "text": [
      "WARNING:sagemaker.workflow.utilities:Popping out 'ProcessingJobName' from the pipeline definition by default since it will be overridden at pipeline execution time. Please utilize the PipelineDefinitionConfig to persist this field in the pipeline definition if desired.\n",
      "WARNING:sagemaker.workflow.utilities:Popping out 'ProcessingJobName' from the pipeline definition by default since it will be overridden at pipeline execution time. Please utilize the PipelineDefinitionConfig to persist this field in the pipeline definition if desired.\n",
      "WARNING:sagemaker.workflow.utilities:Popping out 'ProcessingJobName' from the pipeline definition by default since it will be overridden at pipeline execution time. Please utilize the PipelineDefinitionConfig to persist this field in the pipeline definition if desired.\n"
     ]
    },
    {
     "data": {
      "text/plain": [
       "{'Version': '2020-12-01',\n",
       " 'Metadata': {},\n",
       " 'Parameters': [{'Name': 'user_item_ratings',\n",
       "   'Type': 'String',\n",
       "   'DefaultValue': 's3://sagemaker-eu-west-1-477807511636/recommendations/user_item/test_user_item_ratings.csv'},\n",
       "  {'Name': 'InstanceType', 'Type': 'String', 'DefaultValue': 'local'}],\n",
       " 'PipelineExperimentConfig': {'ExperimentName': {'Get': 'Execution.PipelineName'},\n",
       "  'TrialName': {'Get': 'Execution.PipelineExecutionId'}},\n",
       " 'Steps': [{'Name': 'user_item_matrix_transformer',\n",
       "   'Type': 'Processing',\n",
       "   'Arguments': {'ProcessingResources': {'ClusterConfig': {'InstanceType': {'Get': 'Parameters.InstanceType'},\n",
       "      'InstanceCount': 1,\n",
       "      'VolumeSizeInGB': 30}},\n",
       "    'AppSpecification': {'ImageUri': '141502667606.dkr.ecr.eu-west-1.amazonaws.com/sagemaker-scikit-learn:1.2-1-cpu-py3',\n",
       "     'ContainerEntrypoint': ['python3',\n",
       "      '/opt/ml/processing/input/code/user_item_matrix_transformer.py']},\n",
       "    'RoleArn': 'arn:aws:iam::477807511636:role/pipeliner',\n",
       "    'ProcessingInputs': [{'InputName': 'user_item_ratings',\n",
       "      'AppManaged': False,\n",
       "      'S3Input': {'S3Uri': {'Get': 'Parameters.user_item_ratings'},\n",
       "       'LocalPath': '/opt/ml/processing',\n",
       "       'S3DataType': 'S3Prefix',\n",
       "       'S3InputMode': 'File',\n",
       "       'S3DataDistributionType': 'FullyReplicated',\n",
       "       'S3CompressionType': 'None'}},\n",
       "     {'InputName': 'code',\n",
       "      'AppManaged': False,\n",
       "      'S3Input': {'S3Uri': 's3://sagemaker-eu-west-1-477807511636/recommender/code/02a6de97ec28a86d838cd3beb85ef815/user_item_matrix_transformer.py',\n",
       "       'LocalPath': '/opt/ml/processing/input/code',\n",
       "       'S3DataType': 'S3Prefix',\n",
       "       'S3InputMode': 'File',\n",
       "       'S3DataDistributionType': 'FullyReplicated',\n",
       "       'S3CompressionType': 'None'}}],\n",
       "    'ProcessingOutputConfig': {'Outputs': [{'OutputName': 'user_item_matrix',\n",
       "       'AppManaged': False,\n",
       "       'S3Output': {'S3Uri': {'Std:Join': {'On': '/',\n",
       "          'Values': ['s3:/',\n",
       "           'sagemaker-eu-west-1-477807511636',\n",
       "           'recommender',\n",
       "           {'Get': 'Execution.PipelineExecutionId'},\n",
       "           'user_item_matrix_transformer',\n",
       "           'output',\n",
       "           'user_item_matrix']}},\n",
       "        'LocalPath': '/opt/ml/processing',\n",
       "        'S3UploadMode': 'EndOfJob'}}]}}},\n",
       "  {'Name': 'user_similarity_matrix_transformer',\n",
       "   'Type': 'Processing',\n",
       "   'Arguments': {'ProcessingResources': {'ClusterConfig': {'InstanceType': {'Get': 'Parameters.InstanceType'},\n",
       "      'InstanceCount': 1,\n",
       "      'VolumeSizeInGB': 30}},\n",
       "    'AppSpecification': {'ImageUri': '141502667606.dkr.ecr.eu-west-1.amazonaws.com/sagemaker-scikit-learn:1.2-1-cpu-py3',\n",
       "     'ContainerEntrypoint': ['python3',\n",
       "      '/opt/ml/processing/input/code/similarity_matrix_transformer.py']},\n",
       "    'RoleArn': 'arn:aws:iam::477807511636:role/pipeliner',\n",
       "    'ProcessingInputs': [{'InputName': 'input-1',\n",
       "      'AppManaged': False,\n",
       "      'S3Input': {'S3Uri': {'Get': \"Steps.user_item_matrix_transformer.ProcessingOutputConfig.Outputs['user_item_matrix'].S3Output.S3Uri\"},\n",
       "       'LocalPath': '/opt/ml/processing',\n",
       "       'S3DataType': 'S3Prefix',\n",
       "       'S3InputMode': 'File',\n",
       "       'S3DataDistributionType': 'FullyReplicated',\n",
       "       'S3CompressionType': 'None'}},\n",
       "     {'InputName': 'code',\n",
       "      'AppManaged': False,\n",
       "      'S3Input': {'S3Uri': 's3://sagemaker-eu-west-1-477807511636/recommender/code/2031aab47655eef22aab59e23a89cfbd/similarity_matrix_transformer.py',\n",
       "       'LocalPath': '/opt/ml/processing/input/code',\n",
       "       'S3DataType': 'S3Prefix',\n",
       "       'S3InputMode': 'File',\n",
       "       'S3DataDistributionType': 'FullyReplicated',\n",
       "       'S3CompressionType': 'None'}}],\n",
       "    'ProcessingOutputConfig': {'Outputs': [{'OutputName': 'user_similarity_matrix',\n",
       "       'AppManaged': False,\n",
       "       'S3Output': {'S3Uri': {'Std:Join': {'On': '/',\n",
       "          'Values': ['s3:/',\n",
       "           'sagemaker-eu-west-1-477807511636',\n",
       "           'recommender',\n",
       "           {'Get': 'Execution.PipelineExecutionId'},\n",
       "           'user_similarity_matrix_transformer',\n",
       "           'output',\n",
       "           'user_similarity_matrix']}},\n",
       "        'LocalPath': '/opt/ml/processing',\n",
       "        'S3UploadMode': 'EndOfJob'}}]}}},\n",
       "  {'Name': 'item_similarity_matrix_transformer',\n",
       "   'Type': 'Processing',\n",
       "   'Arguments': {'ProcessingResources': {'ClusterConfig': {'InstanceType': {'Get': 'Parameters.InstanceType'},\n",
       "      'InstanceCount': 1,\n",
       "      'VolumeSizeInGB': 30}},\n",
       "    'AppSpecification': {'ImageUri': '141502667606.dkr.ecr.eu-west-1.amazonaws.com/sagemaker-scikit-learn:1.2-1-cpu-py3',\n",
       "     'ContainerEntrypoint': ['python3',\n",
       "      '/opt/ml/processing/input/code/similarity_matrix_transformer.py']},\n",
       "    'RoleArn': 'arn:aws:iam::477807511636:role/pipeliner',\n",
       "    'ProcessingInputs': [{'InputName': 'input-1',\n",
       "      'AppManaged': False,\n",
       "      'S3Input': {'S3Uri': {'Get': \"Steps.user_item_matrix_transformer.ProcessingOutputConfig.Outputs['user_item_matrix'].S3Output.S3Uri\"},\n",
       "       'LocalPath': '/opt/ml/processing',\n",
       "       'S3DataType': 'S3Prefix',\n",
       "       'S3InputMode': 'File',\n",
       "       'S3DataDistributionType': 'FullyReplicated',\n",
       "       'S3CompressionType': 'None'}},\n",
       "     {'InputName': 'code',\n",
       "      'AppManaged': False,\n",
       "      'S3Input': {'S3Uri': 's3://sagemaker-eu-west-1-477807511636/recommender/code/2031aab47655eef22aab59e23a89cfbd/similarity_matrix_transformer.py',\n",
       "       'LocalPath': '/opt/ml/processing/input/code',\n",
       "       'S3DataType': 'S3Prefix',\n",
       "       'S3InputMode': 'File',\n",
       "       'S3DataDistributionType': 'FullyReplicated',\n",
       "       'S3CompressionType': 'None'}}],\n",
       "    'ProcessingOutputConfig': {'Outputs': [{'OutputName': 'item_similarity_matrix',\n",
       "       'AppManaged': False,\n",
       "       'S3Output': {'S3Uri': {'Std:Join': {'On': '/',\n",
       "          'Values': ['s3:/',\n",
       "           'sagemaker-eu-west-1-477807511636',\n",
       "           'recommender',\n",
       "           {'Get': 'Execution.PipelineExecutionId'},\n",
       "           'item_similarity_matrix_transformer',\n",
       "           'output',\n",
       "           'item_similarity_matrix']}},\n",
       "        'LocalPath': '/opt/ml/processing',\n",
       "        'S3UploadMode': 'EndOfJob'}}]}}}]}"
      ]
     },
     "execution_count": 470,
     "metadata": {},
     "output_type": "execute_result"
    }
   ],
   "source": [
    "import json\n",
    "\n",
    "definition = json.loads(pipeline.definition())\n",
    "definition"
   ]
  },
  {
   "cell_type": "code",
   "execution_count": 471,
   "metadata": {},
   "outputs": [
    {
     "name": "stderr",
     "output_type": "stream",
     "text": [
      "INFO:sagemaker.telemetry.telemetry_logging:SageMaker Python SDK will collect telemetry to help us better understand our user's needs, diagnose issues, and deliver additional features.\n",
      "To opt out of telemetry, please disable via TelemetryOptOut parameter in SDK defaults config. For more information, refer to https://sagemaker.readthedocs.io/en/stable/overview.html#configuring-and-using-defaults-with-the-sagemaker-python-sdk.\n"
     ]
    },
    {
     "data": {
      "text/plain": [
       "{'PipelineArn': 'recommender'}"
      ]
     },
     "execution_count": 471,
     "metadata": {},
     "output_type": "execute_result"
    }
   ],
   "source": [
    "pipeline.upsert(role_arn=role)"
   ]
  },
  {
   "cell_type": "code",
   "execution_count": 472,
   "metadata": {},
   "outputs": [
    {
     "name": "stderr",
     "output_type": "stream",
     "text": [
      "WARNING:sagemaker.workflow.utilities:Popping out 'ProcessingJobName' from the pipeline definition by default since it will be overridden at pipeline execution time. Please utilize the PipelineDefinitionConfig to persist this field in the pipeline definition if desired.\n",
      "WARNING:sagemaker.workflow.utilities:Popping out 'ProcessingJobName' from the pipeline definition by default since it will be overridden at pipeline execution time. Please utilize the PipelineDefinitionConfig to persist this field in the pipeline definition if desired.\n",
      "WARNING:sagemaker.workflow.utilities:Popping out 'ProcessingJobName' from the pipeline definition by default since it will be overridden at pipeline execution time. Please utilize the PipelineDefinitionConfig to persist this field in the pipeline definition if desired.\n",
      "INFO:sagemaker.local.entities:Starting execution for pipeline recommender. Execution ID is c8705c30-491f-471a-af02-5feb576f1667\n",
      "WARNING:sagemaker.workflow.utilities:Popping out 'ProcessingJobName' from the pipeline definition by default since it will be overridden at pipeline execution time. Please utilize the PipelineDefinitionConfig to persist this field in the pipeline definition if desired.\n",
      "WARNING:sagemaker.workflow.utilities:Popping out 'ProcessingJobName' from the pipeline definition by default since it will be overridden at pipeline execution time. Please utilize the PipelineDefinitionConfig to persist this field in the pipeline definition if desired.\n",
      "WARNING:sagemaker.workflow.utilities:Popping out 'ProcessingJobName' from the pipeline definition by default since it will be overridden at pipeline execution time. Please utilize the PipelineDefinitionConfig to persist this field in the pipeline definition if desired.\n",
      "INFO:sagemaker.local.entities:Starting pipeline step: 'user_item_matrix_transformer'\n",
      "INFO:sagemaker.telemetry.telemetry_logging:SageMaker Python SDK will collect telemetry to help us better understand our user's needs, diagnose issues, and deliver additional features.\n",
      "To opt out of telemetry, please disable via TelemetryOptOut parameter in SDK defaults config. For more information, refer to https://sagemaker.readthedocs.io/en/stable/overview.html#configuring-and-using-defaults-with-the-sagemaker-python-sdk.\n",
      "INFO:sagemaker.local.image:'Docker Compose' found using Docker CLI.\n",
      "INFO:sagemaker.local.local_session:Starting processing job\n",
      "INFO:sagemaker.local.image:Using the long-lived AWS credentials found in session\n",
      "INFO:sagemaker.local.image:docker compose file: \n",
      "networks:\n",
      "  sagemaker-local:\n",
      "    name: sagemaker-local\n",
      "services:\n",
      "  algo-1-hvz2m:\n",
      "    container_name: xvpg1pwt7f-algo-1-hvz2m\n",
      "    entrypoint:\n",
      "    - python3\n",
      "    - /opt/ml/processing/input/code/user_item_matrix_transformer.py\n",
      "    environment:\n",
      "    - '[Masked]'\n",
      "    - '[Masked]'\n",
      "    image: 141502667606.dkr.ecr.eu-west-1.amazonaws.com/sagemaker-scikit-learn:1.2-1-cpu-py3\n",
      "    networks:\n",
      "      sagemaker-local:\n",
      "        aliases:\n",
      "        - algo-1-hvz2m\n",
      "    stdin_open: true\n",
      "    tty: true\n",
      "    volumes:\n",
      "    - /private/var/folders/w1/813808f13m14dv7gd5ystxbc0000gn/T/tmpqq2j092p/algo-1-hvz2m/output:/opt/ml/output\n",
      "    - /private/var/folders/w1/813808f13m14dv7gd5ystxbc0000gn/T/tmpqq2j092p/algo-1-hvz2m/config:/opt/ml/config\n",
      "    - /private/var/folders/w1/813808f13m14dv7gd5ystxbc0000gn/T/tmp9uf0das2:/opt/ml/processing\n",
      "    - /private/var/folders/w1/813808f13m14dv7gd5ystxbc0000gn/T/tmpoctvk_ct:/opt/ml/processing/input/code\n",
      "    - /private/var/folders/w1/813808f13m14dv7gd5ystxbc0000gn/T/tmpa3detsm9/output/user_item_matrix:/opt/ml/processing\n",
      "    - /private/var/folders/w1/813808f13m14dv7gd5ystxbc0000gn/T/tmpqq2j092p/shared:/opt/ml/shared\n",
      "version: '2.3'\n",
      "\n",
      "INFO:sagemaker.local.image:docker command: docker compose -f /private/var/folders/w1/813808f13m14dv7gd5ystxbc0000gn/T/tmpqq2j092p/docker-compose.yaml up --build --abort-on-container-exit\n"
     ]
    },
    {
     "name": "stdout",
     "output_type": "stream",
     "text": [
      "time=\"2024-07-23T23:04:12+01:00\" level=warning msg=\"/private/var/folders/w1/813808f13m14dv7gd5ystxbc0000gn/T/tmpqq2j092p/docker-compose.yaml: `version` is obsolete\"\n",
      "time=\"2024-07-23T23:04:12+01:00\" level=warning msg=\"a network with name sagemaker-local exists but was not created for project \\\"tmpqq2j092p\\\".\\nSet `external: true` to use an existing network\"\n",
      " Container xvpg1pwt7f-algo-1-hvz2m  Creating\n",
      " Container xvpg1pwt7f-algo-1-hvz2m  Created\n",
      "Attaching to xvpg1pwt7f-algo-1-hvz2m\n",
      "xvpg1pwt7f-algo-1-hvz2m  | INFO:root:['input']\n",
      "xvpg1pwt7f-algo-1-hvz2m  | INFO:root:['code']\n",
      "xvpg1pwt7f-algo-1-hvz2m  | Traceback (most recent call last):\n",
      "xvpg1pwt7f-algo-1-hvz2m  |   File \"/opt/ml/processing/input/code/user_item_matrix_transformer.py\", line 54, in <module>\n",
      "xvpg1pwt7f-algo-1-hvz2m  |     user_item_ratings = pd.read_csv(f\"{base_dir}/{input_file}\", dtype=data_types, engine='python')\n",
      "xvpg1pwt7f-algo-1-hvz2m  |   File \"/miniconda3/lib/python3.8/site-packages/pandas/io/parsers.py\", line 686, in read_csv\n",
      "xvpg1pwt7f-algo-1-hvz2m  |     return _read(filepath_or_buffer, kwds)\n",
      "xvpg1pwt7f-algo-1-hvz2m  |   File \"/miniconda3/lib/python3.8/site-packages/pandas/io/parsers.py\", line 452, in _read\n",
      "xvpg1pwt7f-algo-1-hvz2m  |     parser = TextFileReader(fp_or_buf, **kwds)\n",
      "xvpg1pwt7f-algo-1-hvz2m  |   File \"/miniconda3/lib/python3.8/site-packages/pandas/io/parsers.py\", line 946, in __init__\n",
      "xvpg1pwt7f-algo-1-hvz2m  |     self._make_engine(self.engine)\n",
      "xvpg1pwt7f-algo-1-hvz2m  |   File \"/miniconda3/lib/python3.8/site-packages/pandas/io/parsers.py\", line 1189, in _make_engine\n",
      "xvpg1pwt7f-algo-1-hvz2m  |     self._engine = klass(self.f, **self.options)\n",
      "xvpg1pwt7f-algo-1-hvz2m  |   File \"/miniconda3/lib/python3.8/site-packages/pandas/io/parsers.py\", line 2382, in __init__\n",
      "xvpg1pwt7f-algo-1-hvz2m  |     f, handles = get_handle(\n",
      "xvpg1pwt7f-algo-1-hvz2m  |   File \"/miniconda3/lib/python3.8/site-packages/pandas/io/common.py\", line 496, in get_handle\n",
      "xvpg1pwt7f-algo-1-hvz2m  |     f = open(path_or_buf, mode, errors=\"replace\", newline=\"\")\n",
      "xvpg1pwt7f-algo-1-hvz2m  | FileNotFoundError: [Errno 2] No such file or directory: '/opt/ml/processing/test_user_item_ratings.csv'\n",
      "\u001b[Kxvpg1pwt7f-algo-1-hvz2m exited with code 1\n",
      "Aborting on container exit...\n",
      " Container xvpg1pwt7f-algo-1-hvz2m  Stopping\n",
      " Container xvpg1pwt7f-algo-1-hvz2m  Stopped\n"
     ]
    },
    {
     "name": "stderr",
     "output_type": "stream",
     "text": [
      "INFO:sagemaker.local.entities:Pipeline step 'user_item_matrix_transformer' FAILED. Failure message is: RuntimeError: Failed to run: ['docker', 'compose', '-f', '/private/var/folders/w1/813808f13m14dv7gd5ystxbc0000gn/T/tmpqq2j092p/docker-compose.yaml', 'up', '--build', '--abort-on-container-exit']. Process exited with code: 1\n",
      "INFO:sagemaker.local.entities:Pipeline execution c8705c30-491f-471a-af02-5feb576f1667 FAILED because step 'user_item_matrix_transformer' failed.\n"
     ]
    }
   ],
   "source": [
    "execution = pipeline.start()"
   ]
  },
  {
   "cell_type": "code",
   "execution_count": 473,
   "metadata": {},
   "outputs": [
    {
     "data": {
      "text/plain": [
       "{'PipelineExecutionSteps': [{'EndTime': 1721772258.914985,\n",
       "   'FailureReason': \"RuntimeError: Failed to run: ['docker', 'compose', '-f', '/private/var/folders/w1/813808f13m14dv7gd5ystxbc0000gn/T/tmpqq2j092p/docker-compose.yaml', 'up', '--build', '--abort-on-container-exit']. Process exited with code: 1\",\n",
       "   'StartTime': 1721772251.837451,\n",
       "   'StepName': 'user_item_matrix_transformer',\n",
       "   'StepStatus': 'Failed'}]}"
      ]
     },
     "execution_count": 473,
     "metadata": {},
     "output_type": "execute_result"
    }
   ],
   "source": [
    "steps = execution.list_steps()\n",
    "steps"
   ]
  }
 ],
 "metadata": {
  "kernelspec": {
   "display_name": "Python 3 (ipykernel)",
   "language": "python",
   "name": "python3"
  },
  "language_info": {
   "codemirror_mode": {
    "name": "ipython",
    "version": 3
   },
   "file_extension": ".py",
   "mimetype": "text/x-python",
   "name": "python",
   "nbconvert_exporter": "python",
   "pygments_lexer": "ipython3",
   "version": "3.12.4"
  }
 },
 "nbformat": 4,
 "nbformat_minor": 4
}
