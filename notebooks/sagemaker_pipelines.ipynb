{
 "cells": [
  {
   "cell_type": "code",
   "execution_count": 41,
   "metadata": {},
   "outputs": [],
   "source": [
    "!mkdir -p pipelines/code"
   ]
  },
  {
   "cell_type": "code",
   "execution_count": 42,
   "metadata": {},
   "outputs": [],
   "source": [
    "import os\n",
    "import sys\n",
    "from sagemaker import Session\n",
    "\n",
    "module_path = os.path.abspath(os.path.join(\"..\"))\n",
    "if module_path not in sys.path:\n",
    "    sys.path.append(module_path)\n",
    "\n",
    "from pipeliner.exceptions import SagemakerSessionException\n",
    "from pipeliner.sagemaker.session import create_pipeline_session\n",
    "from pipeliner.sagemaker.pipeline import PipelineFactory"
   ]
  },
  {
   "cell_type": "code",
   "execution_count": 43,
   "metadata": {},
   "outputs": [
    {
     "name": "stdout",
     "output_type": "stream",
     "text": [
      "Overwriting pipelines/code/user_item_similarity_matrix_transformer.py\n"
     ]
    }
   ],
   "source": [
    "%%writefile pipelines/code/user_item_similarity_matrix_transformer.py\n",
    "\n",
    "import numpy as np\n",
    "import pandas as pd\n",
    "\n",
    "from pipeliner.recommendations.transformer import (\n",
    "    UserItemMatrixTransformer,\n",
    "    SimilarityTransformer,\n",
    ")\n",
    "from sklearn.pipeline import Pipeline as SKPipeline\n",
    "\n",
    "data_types = {\"user_id\": str, \"item_id\": str, \"rating\": np.float64}\n",
    "\n",
    "if __name__ == \"__main__\":\n",
    "    base_dir = \"/opt/ml/processing\"\n",
    "    data_path = \"user_item_ratings.csv\"\n",
    "\n",
    "    user_item_ratings = pd.read_csv(f\"{base_dir}/{data_path}\", dtype=data_types)\n",
    "\n",
    "    transformer = SKPipeline(\n",
    "        [\n",
    "            (\"user_item\", UserItemMatrixTransformer()),\n",
    "            (\"similarity\", SimilarityTransformer(kind=kind, metric=metric)),\n",
    "        ]\n",
    "    )\n",
    "\n",
    "    similarity_matrix = transformer.transform(user_item_ratings)\n",
    "\n",
    "    similarity_matrix.to_csv(f\"{base_dir}/user_item_similarity_matrix.csv\", header=True, index=False)"
   ]
  },
  {
   "cell_type": "code",
   "execution_count": 44,
   "metadata": {},
   "outputs": [
    {
     "name": "stdout",
     "output_type": "stream",
     "text": [
      "Overwriting pipelines/code/recommender_pipeline.py\n"
     ]
    }
   ],
   "source": [
    "%%writefile pipelines/code/recommender_pipeline.py\n",
    "import sagemaker\n",
    "from sagemaker import ScriptProcessor\n",
    "from sagemaker.workflow.pipeline_context import LocalPipelineSession\n",
    "from sagemaker.workflow.parameters import ParameterString\n",
    "from sagemaker.workflow.pipeline import Pipeline\n",
    "from sagemaker.workflow.steps import ProcessingStep\n",
    "\n",
    "from pipeliner.factory import SagemakerPipelineFactory\n",
    "\n",
    "\n",
    "class RecommenderPipeline(SagemakerPipelineFactory):\n",
    "    local: bool\n",
    "\n",
    "    def create(\n",
    "        self,\n",
    "        role: str,\n",
    "        name: str,\n",
    "        session: sagemaker.Session,\n",
    "    ) -> Pipeline:\n",
    "        self.local = isinstance(session, LocalPipelineSession)\n",
    "\n",
    "        instance_type = ParameterString(\n",
    "            name=\"InstanceType\",\n",
    "            default_value=\"local\" if self.local else \"ml.m5.large\",\n",
    "        )\n",
    "\n",
    "        image_uri = sagemaker.image_uris.retrieve(\n",
    "            framework=\"sklearn\",\n",
    "            region=session.boto_region_name,\n",
    "            version=\"1.2-1\",\n",
    "        )\n",
    "\n",
    "        processor = ScriptProcessor(\n",
    "            image_uri=image_uri,\n",
    "            command=[\"python3\"],\n",
    "            instance_type=instance_type,\n",
    "            instance_count=1,\n",
    "            role=role,\n",
    "            sagemaker_session=session,\n",
    "        )\n",
    "\n",
    "        processing_step = ProcessingStep(\n",
    "            name=\"user-item-transformer\",\n",
    "            step_args=processor.run(\n",
    "                code=\"pipelines/code/transform.py\",\n",
    "            ),\n",
    "        )\n",
    "\n",
    "        return Pipeline(\n",
    "            name=name,\n",
    "            steps=[processing_step],\n",
    "            sagemaker_session=session,\n",
    "            parameters=[instance_type],\n",
    "        )"
   ]
  }
 ],
 "metadata": {
  "kernelspec": {
   "display_name": "Python 3 (ipykernel)",
   "language": "python",
   "name": "python3"
  },
  "language_info": {
   "codemirror_mode": {
    "name": "ipython",
    "version": 3
   },
   "file_extension": ".py",
   "mimetype": "text/x-python",
   "name": "python",
   "nbconvert_exporter": "python",
   "pygments_lexer": "ipython3",
   "version": "3.11.5"
  }
 },
 "nbformat": 4,
 "nbformat_minor": 4
}
